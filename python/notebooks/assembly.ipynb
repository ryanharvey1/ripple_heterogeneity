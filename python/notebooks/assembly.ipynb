{
 "cells": [
  {
   "cell_type": "code",
   "execution_count": 4,
   "metadata": {},
   "outputs": [
    {
     "name": "stdout",
     "output_type": "stream",
     "text": [
      "d:\\github\\ripple_heterogeneity\n"
     ]
    }
   ],
   "source": [
    "sys.path.append(r'D:\\github\\neurocode\\reactivation\\assemblies')\n",
    "import assembly\n",
    "\n",
    "%cd ..\n",
    "import pandas as pd\n",
    "import numpy as np \n",
    "import matplotlib.pyplot as plt\n",
    "\n",
    "import sys\n",
    "import seaborn as sns\n",
    "\n",
    "import functions,loading\n",
    "\n",
    "import nelpy as nel \n",
    "\n",
    "import itertools\n",
    "import numpy as np\n",
    "import os\n",
    "import pandas as pd\n",
    "import nelpy as nel\n",
    "import multiprocessing\n",
    "from joblib import Parallel, delayed\n",
    "import pickle\n",
    "from scipy import stats"
   ]
  },
  {
   "cell_type": "code",
   "execution_count": 5,
   "metadata": {},
   "outputs": [
    {
     "name": "stderr",
     "output_type": "stream",
     "text": [
      "C:\\Users\\Cornell\\anaconda3\\envs\\ripple_diversity\\lib\\site-packages\\nelpy\\core\\_eventarray.py:709: VisibleDeprecationWarning: Creating an ndarray from ragged nested sequences (which is a list-or-tuple of lists-or-tuples-or ndarrays with different lengths or shapes) is deprecated. If you meant to do this, you must specify 'dtype=object' when creating the ndarray.\n"
     ]
    }
   ],
   "source": [
    "def load_basic_data(basepath):\n",
    "    nChannels, fs, fs_dat, shank_to_channel = functions.loadXML(basepath)\n",
    "    ripples = loading.load_ripples_events(basepath)\n",
    "    cell_metrics,data = loading.load_cell_metrics(basepath)\n",
    "    return cell_metrics,data,ripples,fs_dat\n",
    "\n",
    "df = pd.read_csv(r'Z:\\home\\ryanh\\projects\\ripple_heterogeneity\\sessions.csv')\n",
    "df = df.loc[df['basepath'].str.contains(\"grosmark\", case=False)]\n",
    "basepath = df.basepath.iloc[0]\n",
    "\n",
    "cell_metrics,data,ripples,fs_dat = load_basic_data(basepath)\n",
    "restrict_idx = ((cell_metrics.putativeCellType == \"Pyramidal Cell\") &\n",
    "                    ((cell_metrics.brainRegion==\"CA1\") |\n",
    "                    (cell_metrics.brainRegion==\"rCA1\") |\n",
    "                    (cell_metrics.brainRegion==\"lCA1\")) &\n",
    "                     (cell_metrics.bad_unit==False))\n",
    "\n",
    "# restrict cell metrics                      \n",
    "cell_metrics = cell_metrics[restrict_idx]\n",
    "\n",
    "# get ripple epochs\n",
    "ripple_epochs = nel.EpochArray([np.array([ripples.start,ripples.stop]).T])\n",
    "st = nel.SpikeTrainArray(timestamps=np.array(data['spikes'],dtype=object)[restrict_idx], fs=fs_dat)\n",
    "\n",
    "# behavioral epochs\n",
    "behavioral_epochs = nel.EpochArray([np.array([data['epochs'].startTime,\n",
    "                                                    data['epochs'].stopTime]).T])\n",
    "\n",
    "\n",
    "# create spike train object with ripple epochs\n",
    "st_unit_rip = st[ripple_epochs]"
   ]
  },
  {
   "cell_type": "code",
   "execution_count": 6,
   "metadata": {},
   "outputs": [],
   "source": [
    "def get_z_t(st):\n",
    "    '''\n",
    "    To increase the temporal resolution beyond the bin-size used to identify the assembly patterns,\n",
    "    z(t) was obtained by convolving the spike-train of each neuron with a kernel-function\n",
    "    '''\n",
    "    # bin to 1ms\n",
    "    z_t = st.bin(ds=0.001)\n",
    "    # make binary\n",
    "    z_t.data[z_t.data > 1] = 1\n",
    "    # gaussian kernel to match the bin-size used to identify the assembly patterns\n",
    "    z_t.smooth(sigma=0.025/np.sqrt(12),inplace=True)\n",
    "    # zscore\n",
    "    return stats.zscore(z_t.data,axis=1), z_t.bin_centers\n",
    "    \n",
    "# bin spike data at 25ms (optimal co-activity timescale Harris et al. 2003)\n",
    "dt = 0.025\n",
    "binned_st = st.bin(ds=dt)\n",
    "\n",
    "# get smooth vector-function containing each neuron's z-scored instantaneous FR\n",
    "z_t, ts = get_z_t(st)"
   ]
  },
  {
   "cell_type": "code",
   "execution_count": null,
   "metadata": {},
   "outputs": [],
   "source": [
    "patterns, significance, zactmat = assembly.runPatterns(binned_st.data)\n",
    "assemblyAct = assembly.computeAssemblyActivity(patterns, z_t)\n"
   ]
  },
  {
   "cell_type": "code",
   "execution_count": null,
   "metadata": {},
   "outputs": [],
   "source": [
    "assembl_strength = []\n",
    "assembl_frac = []\n",
    "for ripple in ripples.itertuples():\n",
    "    # pull out current assembly based on ripple width\n",
    "    curr_assembl = assemblyAct[:,(ts >= ripple.start_time) & (ts <= ripple.end_time)]\n",
    "    # Assembly strength during SPW-R periods\n",
    "    assembl_strength.append(np.median(curr_assembl.max(axis=0)[curr_assembl.max(axis=0) > 5]))\n",
    "    \n",
    "    # fraction of active assemblies active during SPW-R \n",
    "    assembl_frac.append(sum(np.any(curr_assembl > 5,axis=1)) / curr_assembl.shape[0])"
   ]
  }
 ],
 "metadata": {
  "interpreter": {
   "hash": "ffa2754c1b82fec79a5ff19d01b566ca2d972e2a45659a47f2333afb0dda4c30"
  },
  "kernelspec": {
   "display_name": "Python 3.8.10 64-bit ('ripple_diversity': conda)",
   "language": "python",
   "name": "python3"
  },
  "language_info": {
   "codemirror_mode": {
    "name": "ipython",
    "version": 3
   },
   "file_extension": ".py",
   "mimetype": "text/x-python",
   "name": "python",
   "nbconvert_exporter": "python",
   "pygments_lexer": "ipython3",
   "version": "3.8.10"
  },
  "orig_nbformat": 4
 },
 "nbformat": 4,
 "nbformat_minor": 2
}
