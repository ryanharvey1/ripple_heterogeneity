{
 "cells": [
  {
   "cell_type": "code",
   "execution_count": 5,
   "metadata": {},
   "outputs": [],
   "source": [
    "sys.path.append(r'D:\\github\\ripple_heterogeneity\\python')\n",
    "\n",
    "import nelpy as nel  # main nelpy imports\n",
    "import loading\n",
    "import matplotlib.pyplot as plt\n",
    "import numpy as np"
   ]
  },
  {
   "cell_type": "code",
   "execution_count": 2,
   "metadata": {},
   "outputs": [
    {
     "name": "stdout",
     "output_type": "stream",
     "text": [
      "dict_keys(['wake_id', 'rem_id', 'nrem_id', 'states', 'timestamps', 'WAKEstate', 'NREMstate', 'REMstate', 'WAKEtheta', 'WAKEnontheta', 'THETA', 'nonTHETA'])\n"
     ]
    }
   ],
   "source": [
    "basepath = r'Z:\\\\Data\\\\Kenji\\\\nlx_070329'\n",
    "dict_ = loading.load_SleepState_states(basepath)\n",
    "print(dict_.keys())\n",
    "epoch_df = loading.load_epoch(basepath)"
   ]
  },
  {
   "cell_type": "code",
   "execution_count": 3,
   "metadata": {},
   "outputs": [
    {
     "data": {
      "text/html": [
       "<div>\n",
       "<style scoped>\n",
       "    .dataframe tbody tr th:only-of-type {\n",
       "        vertical-align: middle;\n",
       "    }\n",
       "\n",
       "    .dataframe tbody tr th {\n",
       "        vertical-align: top;\n",
       "    }\n",
       "\n",
       "    .dataframe thead th {\n",
       "        text-align: right;\n",
       "    }\n",
       "</style>\n",
       "<table border=\"1\" class=\"dataframe\">\n",
       "  <thead>\n",
       "    <tr style=\"text-align: right;\">\n",
       "      <th></th>\n",
       "      <th>name</th>\n",
       "      <th>startTime</th>\n",
       "      <th>stopTime</th>\n",
       "      <th>environment</th>\n",
       "      <th>behavioralParadigm</th>\n",
       "    </tr>\n",
       "  </thead>\n",
       "  <tbody>\n",
       "    <tr>\n",
       "      <th>0</th>\n",
       "      <td>2007-3-29_12-11-20_sleep</td>\n",
       "      <td>0</td>\n",
       "      <td>10048.2</td>\n",
       "      <td>sleep</td>\n",
       "      <td>10</td>\n",
       "    </tr>\n",
       "    <tr>\n",
       "      <th>1</th>\n",
       "      <td>2007-3-29_16-06-46_ZigZag</td>\n",
       "      <td>10048.2</td>\n",
       "      <td>15573.9</td>\n",
       "      <td>ZigZag</td>\n",
       "      <td>1</td>\n",
       "    </tr>\n",
       "    <tr>\n",
       "      <th>2</th>\n",
       "      <td>2007-3-29_17-42-25_sleep</td>\n",
       "      <td>15573.9</td>\n",
       "      <td>31147.3</td>\n",
       "      <td>sleep</td>\n",
       "      <td>10</td>\n",
       "    </tr>\n",
       "  </tbody>\n",
       "</table>\n",
       "</div>"
      ],
      "text/plain": [
       "                        name startTime stopTime environment behavioralParadigm\n",
       "0   2007-3-29_12-11-20_sleep         0  10048.2       sleep                 10\n",
       "1  2007-3-29_16-06-46_ZigZag   10048.2  15573.9      ZigZag                  1\n",
       "2   2007-3-29_17-42-25_sleep   15573.9  31147.3       sleep                 10"
      ]
     },
     "execution_count": 3,
     "metadata": {},
     "output_type": "execute_result"
    }
   ],
   "source": [
    "import compress_repeated_epochs\n",
    "epoch_df = compress_repeated_epochs.compress_repeated_epochs(epoch_df)\n",
    "epoch_df"
   ]
  },
  {
   "cell_type": "code",
   "execution_count": 6,
   "metadata": {},
   "outputs": [
    {
     "data": {
      "text/plain": [
       "[Text(0, 0.05, 'WAKEstate'),\n",
       " Text(0, 0.15000000000000002, 'NREMstate'),\n",
       " Text(0, 0.25, 'REMstate'),\n",
       " Text(0, 0.35000000000000003, 'WAKEtheta'),\n",
       " Text(0, 0.45, 'WAKEnontheta'),\n",
       " Text(0, 0.55, 'THETA'),\n",
       " Text(0, 0.6500000000000001, 'nonTHETA'),\n",
       " Text(0, 0.7500000000000001, 'sleep'),\n",
       " Text(0, 0.8500000000000001, 'zigzag'),\n",
       " Text(0, 0.9500000000000001, 'sleep')]"
      ]
     },
     "execution_count": 6,
     "metadata": {},
     "output_type": "execute_result"
    },
    {
     "data": {
      "image/png": "[encoded data removed]",
      "text/plain": [
       "<Figure size 1440x288 with 1 Axes>"
      ]
     },
     "metadata": {
      "needs_background": "light"
     },
     "output_type": "display_data"
    }
   ],
   "source": [
    "plt.figure(figsize=(20,4))\n",
    "for pair in dict_['WAKEstate']:\n",
    "    plt.axvspan(pair[0], pair[1],0,.1, alpha=0.5,color='r')\n",
    "for pair in dict_['NREMstate']:\n",
    "    plt.axvspan(pair[0], pair[1],.1,.2, alpha=0.5,color='g')\n",
    "for pair in dict_['REMstate']:\n",
    "    plt.axvspan(pair[0], pair[1],.2,.3, alpha=0.5,color='b')\n",
    "for pair in dict_['WAKEtheta']:\n",
    "    plt.axvspan(pair[0], pair[1],.3,.4, alpha=0.5,color='y')\n",
    "for pair in dict_['WAKEnontheta']:\n",
    "    plt.axvspan(pair[0], pair[1],.4,.5, alpha=0.5,color='orange')\n",
    "for pair in dict_['THETA']:\n",
    "    plt.axvspan(pair[0], pair[1],.5,.6, alpha=0.5,color='teal')\n",
    "for pair in dict_['nonTHETA']:\n",
    "    plt.axvspan(pair[0], pair[1],.6,.7, alpha=0.5,color='magenta')\n",
    "\n",
    "for i,ep in enumerate(epoch_df.itertuples()):\n",
    "    plt.axvspan(ep.startTime, ep.stopTime,.7+i*.1,.8+i*.1, alpha=0.5)\n",
    "plt.xlabel('time (sec)')\n",
    "ax = plt.gca()\n",
    "ax.set_yticks(np.arange(0,1,.1)+.05)\n",
    "\n",
    "ax.set_yticklabels(['WAKEstate','NREMstate','REMstate','WAKEtheta','WAKEnontheta','THETA','nonTHETA','sleep','zigzag','sleep'])"
   ]
  },
  {
   "cell_type": "code",
   "execution_count": 7,
   "metadata": {},
   "outputs": [
    {
     "name": "stdout",
     "output_type": "stream",
     "text": [
      "<EpochArray at 0x1cc0cdc6970: 77 epochs> of length 3:53:04 hours\n",
      "<EpochArray at 0x1cc0cdc69a0: 83 epochs> of length 4:12:36 hours\n",
      "<EpochArray at 0x1cc0cdcf4f0: 3 epochs> of length 8:39:07:321 hours\n",
      "\n",
      "pre-sleep + nrem <EpochArray at 0x1cc0be4eca0: 40 epochs> of length 1:55:10 hours\n",
      "pre-sleep + wake <EpochArray at 0x1cc0cdcfa60: 42 epochs> of length 34:44:239 minutes\n",
      "\n",
      "task + nrem <empty EpochArray at 0x1cc09dd9bb0>\n",
      "task + wake <EpochArray at 0x1cc0cdc8760: 1 epoch> of length 1:32:05:674 hours\n",
      "\n",
      "post-task + nrem <EpochArray at 0x1cc0cb9b220: 37 epochs> of length 1:57:54 hours\n",
      "post-task + wake <EpochArray at 0x1cc0cdcfdf0: 42 epochs> of length 2:05:46:086 hours\n"
     ]
    }
   ],
   "source": [
    "nrem_epochs = nel.EpochArray(dict_['NREMstate'])\n",
    "print(nrem_epochs)\n",
    "wake_epochs = nel.EpochArray(dict_['WAKEstate'])\n",
    "print(wake_epochs)\n",
    "\n",
    "behavioral_epochs = nel.EpochArray([np.array([epoch_df.startTime,\n",
    "                                                epoch_df.stopTime]).T])\n",
    "print(behavioral_epochs)\n",
    "print('')\n",
    "print('pre-sleep + nrem',behavioral_epochs[0][nrem_epochs])\n",
    "print('pre-sleep + wake',behavioral_epochs[0][wake_epochs])\n",
    "\n",
    "print('')\n",
    "print('task + nrem',behavioral_epochs[1][nrem_epochs])\n",
    "print('task + wake',behavioral_epochs[1][wake_epochs])\n",
    "\n",
    "print('')\n",
    "print('post-task + nrem',behavioral_epochs[2][nrem_epochs])\n",
    "print('post-task + wake',behavioral_epochs[2][wake_epochs])"
   ]
  }
 ],
 "metadata": {
  "interpreter": {
   "hash": "ffa2754c1b82fec79a5ff19d01b566ca2d972e2a45659a47f2333afb0dda4c30"
  },
  "kernelspec": {
   "display_name": "Python 3.8.10 64-bit ('ripple_diversity': conda)",
   "language": "python",
   "name": "python3"
  },
  "language_info": {
   "codemirror_mode": {
    "name": "ipython",
    "version": 3
   },
   "file_extension": ".py",
   "mimetype": "text/x-python",
   "name": "python",
   "nbconvert_exporter": "python",
   "pygments_lexer": "ipython3",
   "version": "3.8.10"
  },
  "orig_nbformat": 4
 },
 "nbformat": 4,
 "nbformat_minor": 2
}
