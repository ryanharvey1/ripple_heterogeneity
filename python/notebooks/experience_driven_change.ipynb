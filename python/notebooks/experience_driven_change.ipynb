{
 "cells": [
  {
   "cell_type": "code",
   "execution_count": 2,
   "metadata": {},
   "outputs": [],
   "source": [
    "sys.path.append(r'D:\\github\\ripple_heterogeneity\\python')\n",
    "\n",
    "import pandas as pd\n",
    "import numpy as np \n",
    "import glob\n",
    "import matplotlib.pyplot as plt\n",
    "\n",
    "import sys,os\n",
    "import seaborn as sns\n",
    "\n",
    "import functions,loading\n",
    "import ripple_participation_run\n",
    "\n",
    "import nelpy as nel  # main nelpy imports\n",
    "\n",
    "import math\n",
    "import itertools\n",
    "from scipy import stats\n",
    "import multiprocessing\n",
    "from joblib import Parallel, delayed\n",
    "from scipy.ndimage import gaussian_filter1d\n",
    "from sklearn.linear_model import LinearRegression\n",
    "from sklearn.linear_model import RANSACRegressor\n",
    "import matplotlib\n",
    "from matplotlib.ticker import AutoMinorLocator\n",
    "\n",
    "import importlib"
   ]
  },
  {
   "cell_type": "code",
   "execution_count": null,
   "metadata": {},
   "outputs": [],
   "source": [
    "def session_loop(basepath,save_path):\n",
    "    save_file = os.path.join(save_path,basepath.replace(os.sep, \"_\").replace(\":\", \"_\")  + '.npy')\n",
    "    if os.path.exists(save_file):\n",
    "        return\n",
    "\n",
    "    cell_metrics,data,ripples,fs_dat = loading.load_basic_data(basepath)\n",
    "\n",
    "    restrict_idx = ((cell_metrics.putativeCellType == \"Pyramidal Cell\") &\n",
    "                        ((cell_metrics.brainRegion==\"CA1\") |\n",
    "                        (cell_metrics.brainRegion==\"rCA1\") |\n",
    "                        (cell_metrics.brainRegion==\"lCA1\")) &\n",
    "                        cell_metrics.bad_unit == False)\n",
    "\n",
    "    # restrict cell metrics                      \n",
    "    cell_metrics = cell_metrics[restrict_idx]\n",
    "\n",
    "    ripple_epochs = nel.EpochArray([np.array([ripples.start,ripples.stop]).T])\n",
    "    st_unit = nel.SpikeTrainArray(timestamps=np.array(data['spikes'],dtype=object)[restrict_idx], fs=fs_dat)\n",
    "\n",
    "    unit_mat = get_participation(st_unit[ripple_epochs],ripple_epochs)\n",
    "\n",
    "    np.save(save_file,unit_mat)\n",
    "\n",
    "\n",
    "save_path = r'Z:\\home\\ryanh\\projects\\ripple_heterogeneity\\participation_mats'\n",
    "parallel = True \n",
    "df = pd.read_csv(r'Z:\\home\\ryanh\\projects\\ripple_heterogeneity\\sessions.csv')\n",
    "\n",
    "if parallel:\n",
    "    num_cores = multiprocessing.cpu_count()         \n",
    "    processed_list = Parallel(n_jobs=num_cores)(delayed(session_loop)(basepath,save_path) for basepath in df.basepath.unique())\n",
    "else:    \n",
    "    for basepath in df.basepath.unique():\n",
    "        print(basepath)\n",
    "        session_loop(basepath,save_path) "
   ]
  },
  {
   "cell_type": "code",
   "execution_count": null,
   "metadata": {},
   "outputs": [],
   "source": [
    "def load_in_everything(save_path):\n",
    "    \n",
    "    sessions = glob.glob(save_path + os.sep + '*.npy')\n",
    "    prop_particip = []\n",
    "    for session in sessions:\n",
    "        unit_mat = np.load(session)\n",
    "        prop_particip.append(np.sum(unit_mat,axis=0) / unit_mat.shape[0])\n",
    "\n",
    "    return prop_particip\n",
    "    \n",
    "save_path = r'Z:\\home\\ryanh\\projects\\ripple_heterogeneity\\participation_mats'\n",
    "prop_particip = load_in_everything(save_path)   "
   ]
  },
  {
   "cell_type": "code",
   "execution_count": 3,
   "metadata": {},
   "outputs": [
    {
     "name": "stderr",
     "output_type": "stream",
     "text": [
      "C:\\Users\\Cornell\\anaconda3\\envs\\ripple_diversity\\lib\\site-packages\\nelpy\\core\\_eventarray.py:709: VisibleDeprecationWarning: Creating an ndarray from ragged nested sequences (which is a list-or-tuple of lists-or-tuples-or ndarrays with different lengths or shapes) is deprecated. If you meant to do this, you must specify 'dtype=object' when creating the ndarray.\n"
     ]
    }
   ],
   "source": [
    "\n",
    "df = pd.read_csv(r'Z:\\home\\ryanh\\projects\\ripple_heterogeneity\\sessions.csv')\n",
    "df = df[df.basepath.str.contains('GrosmarkAD')]\n",
    "basepath = df.basepath.iloc[0]\n",
    "\n",
    "cell_metrics,data,ripples,fs_dat = loading.load_basic_data(basepath)\n",
    "\n",
    "restrict_idx = ((cell_metrics.putativeCellType == \"Pyramidal Cell\") &\n",
    "                    ((cell_metrics.brainRegion==\"CA1\") |\n",
    "                    (cell_metrics.brainRegion==\"rCA1\") |\n",
    "                    (cell_metrics.brainRegion==\"lCA1\")) &\n",
    "                    (cell_metrics.bad_unit==False))\n",
    "\n",
    "# restrict cell metrics                      \n",
    "cell_metrics = cell_metrics[restrict_idx]\n",
    "\n",
    "# if cell_metrics.shape[0] == 0:\n",
    "#     return\n",
    "    \n",
    "# get ripple epochs\n",
    "ripple_epochs = nel.EpochArray([np.array([ripples.start,ripples.stop]).T])\n",
    "try:\n",
    "    st = nel.SpikeTrainArray(timestamps=np.array(data['spikes'],dtype=object)[restrict_idx], fs=fs_dat)\n",
    "except:\n",
    "    st = nel.SpikeTrainArray(timestamps=np.array(data['spikes'],dtype=object)[restrict_idx][0], fs=fs_dat)\n"
   ]
  },
  {
   "cell_type": "code",
   "execution_count": 5,
   "metadata": {},
   "outputs": [],
   "source": [
    "st_rip = st[ripple_epochs]"
   ]
  },
  {
   "cell_type": "code",
   "execution_count": 7,
   "metadata": {},
   "outputs": [
    {
     "name": "stdout",
     "output_type": "stream",
     "text": [
      "Wall time: 0 ns\n"
     ]
    },
    {
     "name": "stderr",
     "output_type": "stream",
     "text": [
      "C:\\Users\\Cornell\\anaconda3\\envs\\ripple_diversity\\lib\\site-packages\\nelpy\\core\\_eventarray.py:996: UserWarning: ignoring events outside of eventarray support\n"
     ]
    }
   ],
   "source": [
    "%time\n",
    "unit_mat = functions.get_participation(st_rip,ripple_epochs)"
   ]
  },
  {
   "cell_type": "code",
   "execution_count": 28,
   "metadata": {},
   "outputs": [
    {
     "data": {
      "text/plain": [
       "<module 'functions' from 'D:\\\\github\\\\ripple_heterogeneity\\\\python\\\\functions.py'>"
      ]
     },
     "execution_count": 28,
     "metadata": {},
     "output_type": "execute_result"
    }
   ],
   "source": [
    "importlib.reload(functions)"
   ]
  },
  {
   "cell_type": "code",
   "execution_count": 29,
   "metadata": {},
   "outputs": [
    {
     "ename": "AttributeError",
     "evalue": "module 'functions' has no attribute 'get_participations'",
     "output_type": "error",
     "traceback": [
      "\u001b[1;31m---------------------------------------------------------------------------\u001b[0m",
      "\u001b[1;31mAttributeError\u001b[0m                            Traceback (most recent call last)",
      "\u001b[1;32m~\\AppData\\Local\\Temp/ipykernel_17276/2974886896.py\u001b[0m in \u001b[0;36m<module>\u001b[1;34m\u001b[0m\n\u001b[1;32m----> 1\u001b[1;33m unit_mat_2 = functions.get_participations(st_rip.data,\n\u001b[0m\u001b[0;32m      2\u001b[0m                                         \u001b[0mripple_epochs\u001b[0m\u001b[1;33m.\u001b[0m\u001b[0mstarts\u001b[0m\u001b[1;33m,\u001b[0m\u001b[1;33m\u001b[0m\u001b[1;33m\u001b[0m\u001b[0m\n\u001b[0;32m      3\u001b[0m                                         ripple_epochs.stops)\n",
      "\u001b[1;31mAttributeError\u001b[0m: module 'functions' has no attribute 'get_participations'"
     ]
    }
   ],
   "source": [
    "unit_mat_2 = functions.get_participations2(st_rip.data,\n",
    "                                        ripple_epochs.starts,\n",
    "                                        ripple_epochs.stops)\n"
   ]
  }
 ],
 "metadata": {
  "interpreter": {
   "hash": "ffa2754c1b82fec79a5ff19d01b566ca2d972e2a45659a47f2333afb0dda4c30"
  },
  "kernelspec": {
   "display_name": "Python 3.8.10 64-bit ('ripple_diversity': conda)",
   "language": "python",
   "name": "python3"
  },
  "language_info": {
   "codemirror_mode": {
    "name": "ipython",
    "version": 3
   },
   "file_extension": ".py",
   "mimetype": "text/x-python",
   "name": "python",
   "nbconvert_exporter": "python",
   "pygments_lexer": "ipython3",
   "version": "3.8.10"
  },
  "orig_nbformat": 4
 },
 "nbformat": 4,
 "nbformat_minor": 2
}
