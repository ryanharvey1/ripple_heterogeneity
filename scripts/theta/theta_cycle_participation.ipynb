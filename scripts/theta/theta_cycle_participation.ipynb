{
 "cells": [
  {
   "cell_type": "code",
   "execution_count": 1,
   "metadata": {},
   "outputs": [
    {
     "name": "stderr",
     "output_type": "stream",
     "text": [
      "<frozen importlib._bootstrap>:219: RuntimeWarning: scipy._lib.messagestream.MessageStream size changed, may indicate binary incompatibility. Expected 56 from C header, got 64 from PyObject\n"
     ]
    }
   ],
   "source": [
    "%reload_ext autoreload\n",
    "%autoreload 2\n",
    "\n",
    "from ripple_heterogeneity.utils import (\n",
    "    functions,\n",
    "    loading,\n",
    "    batch_analysis,\n",
    "    add_new_deep_sup,\n",
    "    custom_plots,\n",
    "    compress_repeated_epochs\n",
    ")\n",
    "from ripple_heterogeneity.theta import theta_cycle_participation\n",
    "import pandas as pd\n",
    "import numpy as np\n",
    "import matplotlib.pyplot as plt\n",
    "import seaborn as sns\n",
    "from matplotlib.ticker import AutoMinorLocator\n",
    "import os\n",
    "from statannot import add_stat_annotation\n",
    "from statannotations.Annotator import Annotator\n",
    "\n",
    "functions.set_plotting_defaults()\n",
    "%matplotlib inline\n",
    "%config InlineBackend.figure_format = 'retina'\n",
    "fig_save_path = r'Z:\\home\\ryanh\\projects\\ripple_heterogeneity\\figures\\panels'"
   ]
  },
  {
   "cell_type": "code",
   "execution_count": 2,
   "metadata": {},
   "outputs": [],
   "source": [
    "df = pd.read_csv(r\"Z:\\home\\ryanh\\projects\\ripple_heterogeneity\\sessions.csv\")"
   ]
  },
  {
   "cell_type": "code",
   "execution_count": 3,
   "metadata": {},
   "outputs": [
    {
     "name": "stderr",
     "output_type": "stream",
     "text": [
      "100%|██████████| 302/302 [43:32<00:00,  8.65s/it]\n"
     ]
    }
   ],
   "source": [
    "save_path = (r\"Z:\\home\\ryanh\\projects\\ripple_heterogeneity\\theta_cycle_participation_v1\")\n",
    "\n",
    "batch_analysis.run(\n",
    "    df,\n",
    "    save_path,\n",
    "    theta_cycle_participation.run,\n",
    "    parallel=True,\n",
    "    overwrite=False,\n",
    "    verbose=True,\n",
    "    skip_if_error=False,\n",
    ")\n",
    "# load results\n",
    "results_df = theta_cycle_participation.load_results(save_path)"
   ]
  },
  {
   "cell_type": "code",
   "execution_count": 10,
   "metadata": {},
   "outputs": [
    {
     "data": {
      "text/html": [
       "<div>\n",
       "<style scoped>\n",
       "    .dataframe tbody tr th:only-of-type {\n",
       "        vertical-align: middle;\n",
       "    }\n",
       "\n",
       "    .dataframe tbody tr th {\n",
       "        vertical-align: top;\n",
       "    }\n",
       "\n",
       "    .dataframe thead th {\n",
       "        text-align: right;\n",
       "    }\n",
       "</style>\n",
       "<table border=\"1\" class=\"dataframe\">\n",
       "  <thead>\n",
       "    <tr style=\"text-align: right;\">\n",
       "      <th></th>\n",
       "      <th>partici_prob</th>\n",
       "      <th>firing_rate</th>\n",
       "      <th>UID</th>\n",
       "      <th>deepSuperficial</th>\n",
       "      <th>deepSuperficialDistance</th>\n",
       "      <th>basepath</th>\n",
       "      <th>constant</th>\n",
       "    </tr>\n",
       "  </thead>\n",
       "  <tbody>\n",
       "    <tr>\n",
       "      <th>0</th>\n",
       "      <td>0.028965</td>\n",
       "      <td>0.205863</td>\n",
       "      <td>1</td>\n",
       "      <td>Deep</td>\n",
       "      <td>-178.457275</td>\n",
       "      <td>Z:\\Data\\AYAold\\AB1\\day1</td>\n",
       "      <td>1</td>\n",
       "    </tr>\n",
       "    <tr>\n",
       "      <th>1</th>\n",
       "      <td>0.006933</td>\n",
       "      <td>0.053588</td>\n",
       "      <td>2</td>\n",
       "      <td>Superficial</td>\n",
       "      <td>171.542725</td>\n",
       "      <td>Z:\\Data\\AYAold\\AB1\\day1</td>\n",
       "      <td>1</td>\n",
       "    </tr>\n",
       "    <tr>\n",
       "      <th>2</th>\n",
       "      <td>0.083661</td>\n",
       "      <td>0.855286</td>\n",
       "      <td>9</td>\n",
       "      <td>middle</td>\n",
       "      <td>-28.457275</td>\n",
       "      <td>Z:\\Data\\AYAold\\AB1\\day1</td>\n",
       "      <td>1</td>\n",
       "    </tr>\n",
       "    <tr>\n",
       "      <th>3</th>\n",
       "      <td>0.053001</td>\n",
       "      <td>0.495557</td>\n",
       "      <td>10</td>\n",
       "      <td>Superficial</td>\n",
       "      <td>121.542725</td>\n",
       "      <td>Z:\\Data\\AYAold\\AB1\\day1</td>\n",
       "      <td>1</td>\n",
       "    </tr>\n",
       "    <tr>\n",
       "      <th>4</th>\n",
       "      <td>0.399661</td>\n",
       "      <td>9.013403</td>\n",
       "      <td>12</td>\n",
       "      <td>middle</td>\n",
       "      <td>-28.457275</td>\n",
       "      <td>Z:\\Data\\AYAold\\AB1\\day1</td>\n",
       "      <td>1</td>\n",
       "    </tr>\n",
       "    <tr>\n",
       "      <th>...</th>\n",
       "      <td>...</td>\n",
       "      <td>...</td>\n",
       "      <td>...</td>\n",
       "      <td>...</td>\n",
       "      <td>...</td>\n",
       "      <td>...</td>\n",
       "      <td>...</td>\n",
       "    </tr>\n",
       "    <tr>\n",
       "      <th>8260</th>\n",
       "      <td>0.038356</td>\n",
       "      <td>0.470860</td>\n",
       "      <td>112</td>\n",
       "      <td>Deep</td>\n",
       "      <td>-178.470382</td>\n",
       "      <td>Z:\\Data\\ORproject\\OR23\\day5</td>\n",
       "      <td>1</td>\n",
       "    </tr>\n",
       "    <tr>\n",
       "      <th>8261</th>\n",
       "      <td>0.043653</td>\n",
       "      <td>0.470860</td>\n",
       "      <td>113</td>\n",
       "      <td>Deep</td>\n",
       "      <td>-88.470382</td>\n",
       "      <td>Z:\\Data\\ORproject\\OR23\\day5</td>\n",
       "      <td>1</td>\n",
       "    </tr>\n",
       "    <tr>\n",
       "      <th>8262</th>\n",
       "      <td>0.030989</td>\n",
       "      <td>0.348477</td>\n",
       "      <td>114</td>\n",
       "      <td>Deep</td>\n",
       "      <td>-78.470382</td>\n",
       "      <td>Z:\\Data\\ORproject\\OR23\\day5</td>\n",
       "      <td>1</td>\n",
       "    </tr>\n",
       "    <tr>\n",
       "      <th>8263</th>\n",
       "      <td>0.245601</td>\n",
       "      <td>2.276162</td>\n",
       "      <td>115</td>\n",
       "      <td>Superficial</td>\n",
       "      <td>44.599494</td>\n",
       "      <td>Z:\\Data\\ORproject\\OR23\\day5</td>\n",
       "      <td>1</td>\n",
       "    </tr>\n",
       "    <tr>\n",
       "      <th>8264</th>\n",
       "      <td>0.394429</td>\n",
       "      <td>4.109674</td>\n",
       "      <td>116</td>\n",
       "      <td>Deep</td>\n",
       "      <td>-114.239274</td>\n",
       "      <td>Z:\\Data\\ORproject\\OR23\\day5</td>\n",
       "      <td>1</td>\n",
       "    </tr>\n",
       "  </tbody>\n",
       "</table>\n",
       "<p>8265 rows × 7 columns</p>\n",
       "</div>"
      ],
      "text/plain": [
       "      partici_prob  firing_rate  UID deepSuperficial  deepSuperficialDistance  \\\n",
       "0         0.028965     0.205863    1            Deep              -178.457275   \n",
       "1         0.006933     0.053588    2     Superficial               171.542725   \n",
       "2         0.083661     0.855286    9          middle               -28.457275   \n",
       "3         0.053001     0.495557   10     Superficial               121.542725   \n",
       "4         0.399661     9.013403   12          middle               -28.457275   \n",
       "...            ...          ...  ...             ...                      ...   \n",
       "8260      0.038356     0.470860  112            Deep              -178.470382   \n",
       "8261      0.043653     0.470860  113            Deep               -88.470382   \n",
       "8262      0.030989     0.348477  114            Deep               -78.470382   \n",
       "8263      0.245601     2.276162  115     Superficial                44.599494   \n",
       "8264      0.394429     4.109674  116            Deep              -114.239274   \n",
       "\n",
       "                         basepath  constant  \n",
       "0         Z:\\Data\\AYAold\\AB1\\day1         1  \n",
       "1         Z:\\Data\\AYAold\\AB1\\day1         1  \n",
       "2         Z:\\Data\\AYAold\\AB1\\day1         1  \n",
       "3         Z:\\Data\\AYAold\\AB1\\day1         1  \n",
       "4         Z:\\Data\\AYAold\\AB1\\day1         1  \n",
       "...                           ...       ...  \n",
       "8260  Z:\\Data\\ORproject\\OR23\\day5         1  \n",
       "8261  Z:\\Data\\ORproject\\OR23\\day5         1  \n",
       "8262  Z:\\Data\\ORproject\\OR23\\day5         1  \n",
       "8263  Z:\\Data\\ORproject\\OR23\\day5         1  \n",
       "8264  Z:\\Data\\ORproject\\OR23\\day5         1  \n",
       "\n",
       "[8265 rows x 7 columns]"
      ]
     },
     "execution_count": 10,
     "metadata": {},
     "output_type": "execute_result"
    }
   ],
   "source": [
    "results_df"
   ]
  },
  {
   "cell_type": "code",
   "execution_count": 25,
   "metadata": {},
   "outputs": [
    {
     "name": "stdout",
     "output_type": "stream",
     "text": [
      "p-value annotation legend:\n",
      "      ns: p <= 1.00e+00\n",
      "       *: 1.00e-02 < p <= 5.00e-02\n",
      "      **: 1.00e-03 < p <= 1.00e-02\n",
      "     ***: 1.00e-04 < p <= 1.00e-03\n",
      "    ****: p <= 1.00e-04\n",
      "\n",
      "1_Deep vs. 1_Superficial: Mann-Whitney-Wilcoxon test two-sided, P_val:1.928e-25 U_stat=4.034e+06\n"
     ]
    },
    {
     "data": {
      "image/png": "[encoded data removed]",
      "text/plain": [
       "<Figure size 85.0394x157.672 with 1 Axes>"
      ]
     },
     "metadata": {
      "image/png": {
       "height": 153,
       "width": 120
      },
      "needs_background": "light"
     },
     "output_type": "display_data"
    }
   ],
   "source": [
    "fig, ax = plt.subplots(\n",
    "    figsize=functions.set_size(\"thesis\", fraction=0.2, subplots=(3, 1)), edgecolor=None\n",
    ")\n",
    "group_colors = {\"Deep\": \"#7b3294\", \"Superficial\": \"#008837\"}\n",
    "sns.set_palette(sns.color_palette(group_colors.values()))\n",
    "\n",
    "results_df[\"constant\"] = 1\n",
    "sns.boxplot( \n",
    "    data=results_df,\n",
    "    x=\"constant\",\n",
    "    y=\"partici_prob\",\n",
    "    hue=\"deepSuperficial\",\n",
    "    hue_order=group_colors.keys(),\n",
    "    showfliers=False\n",
    ")\n",
    "\n",
    "box_pairs = [\n",
    "    ((1, \"Deep\"), (1, \"Superficial\")),\n",
    "]\n",
    "annotator = Annotator(\n",
    "    plt.gca(),\n",
    "    box_pairs,\n",
    "    data=results_df,\n",
    "    x=\"constant\",\n",
    "    y=\"partici_prob\",\n",
    "    hue=\"deepSuperficial\",\n",
    "    hue_order=group_colors.keys(),\n",
    ")\n",
    "annotator.configure(\n",
    "    test=\"Mann-Whitney\",\n",
    "    text_format=\"star\",\n",
    "    loc=\"outside\",\n",
    "    comparisons_correction=None,\n",
    "    verbose=1,\n",
    ")\n",
    "annotator.apply_and_annotate()\n",
    "\n",
    "plt.ylabel('theta participation prob.')\n",
    "plt.legend(frameon=False)\n",
    "plt.gca().get_legend().remove()\n",
    "plt.xlabel(\"\")\n",
    "plt.gca().axes.get_xaxis().set_visible(False)\n",
    "sns.despine(bottom=True)\n",
    "plt.savefig(os.path.join(fig_save_path,'theta_cycle_participation.svg'),dpi=300,bbox_inches='tight')\n"
   ]
  },
  {
   "cell_type": "code",
   "execution_count": 26,
   "metadata": {},
   "outputs": [
    {
     "name": "stdout",
     "output_type": "stream",
     "text": [
      "p-value annotation legend:\n",
      "      ns: p <= 1.00e+00\n",
      "       *: 1.00e-02 < p <= 5.00e-02\n",
      "      **: 1.00e-03 < p <= 1.00e-02\n",
      "     ***: 1.00e-04 < p <= 1.00e-03\n",
      "    ****: p <= 1.00e-04\n",
      "\n",
      "1_Deep vs. 1_Superficial: Mann-Whitney-Wilcoxon test two-sided, P_val:4.024e-41 U_stat=4.203e+06\n"
     ]
    },
    {
     "data": {
      "image/png": "[encoded data removed]",
      "text/plain": [
       "<Figure size 85.0394x157.672 with 1 Axes>"
      ]
     },
     "metadata": {
      "image/png": {
       "height": 149,
       "width": 116
      },
      "needs_background": "light"
     },
     "output_type": "display_data"
    }
   ],
   "source": [
    "fig, ax = plt.subplots(\n",
    "    figsize=functions.set_size(\"thesis\", fraction=0.2, subplots=(3, 1)), edgecolor=None\n",
    ")\n",
    "group_colors = {\"Deep\": \"#7b3294\", \"Superficial\": \"#008837\"}\n",
    "sns.set_palette(sns.color_palette(group_colors.values()))\n",
    "\n",
    "results_df[\"constant\"] = 1\n",
    "sns.boxplot( \n",
    "    data=results_df,\n",
    "    x=\"constant\",\n",
    "    y=\"firing_rate\",\n",
    "    hue=\"deepSuperficial\",\n",
    "    hue_order=group_colors.keys(),\n",
    "    showfliers=False\n",
    ")\n",
    "\n",
    "box_pairs = [\n",
    "    ((1, \"Deep\"), (1, \"Superficial\")),\n",
    "]\n",
    "annotator = Annotator(\n",
    "    plt.gca(),\n",
    "    box_pairs,\n",
    "    data=results_df,\n",
    "    x=\"constant\",\n",
    "    y=\"firing_rate\",\n",
    "    hue=\"deepSuperficial\",\n",
    "    hue_order=group_colors.keys(),\n",
    ")\n",
    "annotator.configure(\n",
    "    test=\"Mann-Whitney\",\n",
    "    text_format=\"star\",\n",
    "    loc=\"outside\",\n",
    "    comparisons_correction=None,\n",
    "    verbose=1,\n",
    ")\n",
    "annotator.apply_and_annotate()\n",
    "plt.ylabel('theta firing rate (Hz)')\n",
    "\n",
    "plt.legend(frameon=False)\n",
    "plt.gca().get_legend().remove()\n",
    "plt.xlabel(\"\")\n",
    "plt.gca().axes.get_xaxis().set_visible(False)\n",
    "sns.despine(bottom=True)\n",
    "\n",
    "plt.savefig(os.path.join(fig_save_path,'theta_cycle_firing_rate.svg'),dpi=300,bbox_inches='tight')\n"
   ]
  }
 ],
 "metadata": {
  "kernelspec": {
   "display_name": "Python 3.8.10 ('ripple_diversity')",
   "language": "python",
   "name": "python3"
  },
  "language_info": {
   "codemirror_mode": {
    "name": "ipython",
    "version": 3
   },
   "file_extension": ".py",
   "mimetype": "text/x-python",
   "name": "python",
   "nbconvert_exporter": "python",
   "pygments_lexer": "ipython3",
   "version": "3.8.10"
  },
  "orig_nbformat": 4,
  "vscode": {
   "interpreter": {
    "hash": "07484756fddac7bd59393d4118357304c260afb75bd53ff0a49292dc7b401b16"
   }
  }
 },
 "nbformat": 4,
 "nbformat_minor": 2
}
