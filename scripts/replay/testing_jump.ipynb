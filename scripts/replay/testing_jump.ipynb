{
 "cells": [
  {
   "cell_type": "code",
   "execution_count": 1,
   "metadata": {},
   "outputs": [],
   "source": [
    "%reload_ext autoreload\n",
    "%autoreload 2"
   ]
  },
  {
   "cell_type": "code",
   "execution_count": 2,
   "metadata": {},
   "outputs": [
    {
     "name": "stderr",
     "output_type": "stream",
     "text": [
      "C:\\Users\\Cornell\\anaconda3\\envs\\ripple_diversity\\lib\\site-packages\\nelpy\\plotting\\decoding.py:9: MatplotlibDeprecationWarning: \n",
      "The mpl_toolkits.axes_grid module was deprecated in Matplotlib 2.1 and will be removed two minor releases later. Use mpl_toolkits.axes_grid1 and mpl_toolkits.axisartist, which provide the same functionality instead.\n"
     ]
    }
   ],
   "source": [
    "from ripple_heterogeneity.utils import (\n",
    "    functions,\n",
    "    loading,\n",
    "    compress_repeated_epochs,\n",
    "    batch_analysis,\n",
    "    add_new_deep_sup,\n",
    "    custom_plots\n",
    ")\n",
    "from ripple_heterogeneity.replay import replay_run, replay_fig, replay_participation\n",
    "import pandas as pd\n",
    "import numpy as np\n",
    "import matplotlib.pyplot as plt\n",
    "import glob\n",
    "import os\n",
    "import pickle\n",
    "import seaborn as sns\n",
    "import nelpy as nel\n",
    "import nelpy.plotting as npl\n",
    "import random\n",
    "from matplotlib.ticker import AutoMinorLocator\n"
   ]
  },
  {
   "cell_type": "code",
   "execution_count": 3,
   "metadata": {},
   "outputs": [],
   "source": [
    "session = \"Z:\\\\home\\\\ryanh\\\\projects\\\\ripple_heterogeneity\\\\replay\\\\Z__Data_GrosmarkAD_Achilles_Achilles_10252013.pkl\"\n",
    "with open(session, 'rb') as f:\n",
    "    results = pickle.load(f)"
   ]
  },
  {
   "cell_type": "code",
   "execution_count": 4,
   "metadata": {},
   "outputs": [
    {
     "data": {
      "text/plain": [
       "<matplotlib.image.AxesImage at 0x2304fbe6a30>"
      ]
     },
     "execution_count": 4,
     "metadata": {},
     "output_type": "execute_result"
    },
    {
     "data": {
      "image/png": "[encoded data removed]",
      "text/plain": [
       "<Figure size 432x288 with 1 Axes>"
      ]
     },
     "metadata": {
      "needs_background": "light"
     },
     "output_type": "display_data"
    }
   ],
   "source": [
    "bst = results[\"outbound_epochs\"][\"bst_placecells\"]\n",
    "tc = results[\"outbound_epochs\"][\"tc\"]\n",
    "posterior, _, _, _ = nel.decoding.decode1D(\n",
    "    bst=bst[126],\n",
    "    ratemap=tc,\n",
    "    xmin=tc.bins.min(),\n",
    "    xmax=tc.bins.max()\n",
    ")\n",
    "\n",
    "plt.imshow(\n",
    "    posterior,\n",
    "    aspect=\"auto\",\n",
    "    interpolation=\"nearest\",\n",
    "    cmap=\"bone_r\",\n",
    "    vmax=0.1\n",
    ")"
   ]
  },
  {
   "cell_type": "code",
   "execution_count": 5,
   "metadata": {},
   "outputs": [
    {
     "data": {
      "text/plain": [
       "(15.849056603773585, 87.54716981132074)"
      ]
     },
     "execution_count": 5,
     "metadata": {},
     "output_type": "execute_result"
    }
   ],
   "source": [
    "from nelpy.decoding import get_mode_pth_from_array\n",
    "diff_mode_pth = np.diff(get_mode_pth_from_array(posterior, tuningcurve=tc))\n",
    "diff_mode_pth.mean(), diff_mode_pth.max()"
   ]
  },
  {
   "cell_type": "code",
   "execution_count": 6,
   "metadata": {},
   "outputs": [],
   "source": [
    "from ripple_heterogeneity.replay import score"
   ]
  },
  {
   "cell_type": "code",
   "execution_count": 7,
   "metadata": {},
   "outputs": [],
   "source": [
    "(\n",
    "    scores,\n",
    "    avg_jump,\n",
    "    scores_time_swap,\n",
    "    scores_col_cycle,\n",
    "    jump_col_cycle,\n",
    ") = score.trajectory_score_bst(\n",
    "    bst, tc, w=3, n_shuffles=250, weights=None, normalize=True\n",
    ")\n"
   ]
  },
  {
   "cell_type": "code",
   "execution_count": null,
   "metadata": {},
   "outputs": [],
   "source": [
    "plt.hist(jump_col_cycle[:,82],100)\n",
    "plt.axvline(avg_jump[82],color=\"r\")\n",
    "plt.show()\n",
    "# avg_jump.shape"
   ]
  },
  {
   "cell_type": "code",
   "execution_count": null,
   "metadata": {},
   "outputs": [],
   "source": [
    "sig_idx, pval = functions.get_significant_events(scores,scores_time_swap)\n",
    "print(sig_idx)\n",
    "sig_idx, pval = functions.get_significant_events(scores,scores_col_cycle)\n",
    "print(sig_idx)\n",
    "sig_idx, pval = functions.get_significant_events(avg_jump,jump_col_cycle, tail=\"right\")\n",
    "print(sig_idx)"
   ]
  },
  {
   "cell_type": "code",
   "execution_count": null,
   "metadata": {},
   "outputs": [],
   "source": []
  },
  {
   "cell_type": "code",
   "execution_count": null,
   "metadata": {},
   "outputs": [],
   "source": []
  },
  {
   "cell_type": "code",
   "execution_count": null,
   "metadata": {},
   "outputs": [],
   "source": []
  }
 ],
 "metadata": {
  "interpreter": {
   "hash": "ffa2754c1b82fec79a5ff19d01b566ca2d972e2a45659a47f2333afb0dda4c30"
  },
  "kernelspec": {
   "display_name": "Python 3.8.10 ('ripple_diversity')",
   "language": "python",
   "name": "python3"
  },
  "language_info": {
   "codemirror_mode": {
    "name": "ipython",
    "version": 3
   },
   "file_extension": ".py",
   "mimetype": "text/x-python",
   "name": "python",
   "nbconvert_exporter": "python",
   "pygments_lexer": "ipython3",
   "version": "3.8.10"
  },
  "orig_nbformat": 4
 },
 "nbformat": 4,
 "nbformat_minor": 2
}
