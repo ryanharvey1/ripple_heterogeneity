{
 "cells": [
  {
   "cell_type": "code",
   "execution_count": 3,
   "metadata": {},
   "outputs": [],
   "source": [
    "%reload_ext autoreload\n",
    "%autoreload 2\n",
    "\n",
    "from ripple_heterogeneity.utils import (\n",
    "    functions,\n",
    "    loading,\n",
    "    compress_repeated_epochs,\n",
    "    batch_analysis,\n",
    "    add_new_deep_sup,\n",
    "    custom_plots\n",
    ")\n",
    "from ripple_heterogeneity.replay import replay_run, replay_fig, replay_participation\n",
    "import pandas as pd\n",
    "import numpy as np\n",
    "import matplotlib.pyplot as plt\n",
    "import glob\n",
    "import os\n",
    "import pickle\n",
    "import seaborn as sns\n",
    "import nelpy as nel\n",
    "import nelpy.plotting as npl\n",
    "import random\n",
    "from matplotlib.ticker import AutoMinorLocator\n",
    "from nelpy.analysis import time_swap_array, trajectory_score_array\n"
   ]
  },
  {
   "cell_type": "code",
   "execution_count": 18,
   "metadata": {},
   "outputs": [],
   "source": [
    "def run_sim():\n",
    "    pval = []\n",
    "    for _ in range(250):\n",
    "        x = np.array(\n",
    "            [\n",
    "                [0, 0, 0, 0, 0],\n",
    "                [1, 0, 0, 0, 0],\n",
    "                [1, 0, 0, 0, 0],\n",
    "                [0, 1, 0, 0, 0],\n",
    "                [0, 0, 1, 0, 0],\n",
    "                [0, 0, 1, 0, 0],\n",
    "                [0, 0, 0, 1, 0],\n",
    "                [0, 0, 0, 0, 1],\n",
    "                [0, 0, 0, 0, 0],\n",
    "            ]\n",
    "        )\n",
    "        noise = np.random.rand(np.array(x).shape[0], np.array(x).shape[1]) * 0.1\n",
    "        x = x + noise\n",
    "\n",
    "        shuffled_scores = [\n",
    "            trajectory_score_array(time_swap_array(x)) for _ in range(1000)\n",
    "        ]\n",
    "        scores = trajectory_score_array(x)\n",
    "\n",
    "        _, pval_, std = functions.get_significant_events(\n",
    "            scores, np.array(shuffled_scores)\n",
    "        )\n",
    "        pval.append(pval_)\n",
    "    return pval\n",
    "\n",
    "pval = run_sim()\n"
   ]
  },
  {
   "cell_type": "code",
   "execution_count": 5,
   "metadata": {},
   "outputs": [
    {
     "data": {
      "image/png": "[encoded data removed]",
      "text/plain": [
       "<Figure size 432x288 with 1 Axes>"
      ]
     },
     "metadata": {
      "needs_background": "light"
     },
     "output_type": "display_data"
    }
   ],
   "source": [
    "plt.hist(np.vstack(pval),50,density=True)\n",
    "plt.axvline(.05,color=\"k\",linestyle=\"--\")\n",
    "plt.show()"
   ]
  },
  {
   "cell_type": "code",
   "execution_count": 22,
   "metadata": {},
   "outputs": [],
   "source": [
    "def run_sim(n_shuffle=1000):\n",
    "    pval = []\n",
    "    for _ in range(250):\n",
    "        x = np.array(\n",
    "            [\n",
    "                [0, 0, 0, 0],\n",
    "                [1, 0, 0, 0],\n",
    "                [1, 0, 0, 0],\n",
    "                [0, 1, 0, 0],\n",
    "                [0, 0, 1, 0],\n",
    "                [0, 0, 1, 0],\n",
    "                [0, 0, 0, 1],\n",
    "                [0, 0, 0, 1],\n",
    "                [0, 0, 0, 0],\n",
    "            ]\n",
    "        )\n",
    "        noise = np.random.rand(np.array(x).shape[0], np.array(x).shape[1]) * 0.1\n",
    "        x = x + noise\n",
    "\n",
    "        shuffled_scores = [\n",
    "            trajectory_score_array(time_swap_array(x)) for _ in range(n_shuffle)\n",
    "        ]\n",
    "        scores = trajectory_score_array(x)\n",
    "\n",
    "        _, pval_, std = functions.get_significant_events(\n",
    "            scores, np.array(shuffled_scores)\n",
    "        )\n",
    "        pval.append(pval_)\n",
    "\n",
    "    return pval"
   ]
  },
  {
   "cell_type": "code",
   "execution_count": 20,
   "metadata": {},
   "outputs": [
    {
     "data": {
      "image/png": "[encoded data removed]",
      "text/plain": [
       "<Figure size 432x288 with 1 Axes>"
      ]
     },
     "metadata": {
      "needs_background": "light"
     },
     "output_type": "display_data"
    }
   ],
   "source": [
    "pval = run_sim(n_shuffle=1000)\n",
    "plt.hist(np.vstack(pval),50,density=True)\n",
    "plt.axvline(.05,color=\"k\",linestyle=\"--\")\n",
    "plt.show()"
   ]
  },
  {
   "cell_type": "code",
   "execution_count": 23,
   "metadata": {},
   "outputs": [
    {
     "data": {
      "image/png": "[encoded data removed]",
      "text/plain": [
       "<Figure size 432x288 with 1 Axes>"
      ]
     },
     "metadata": {
      "needs_background": "light"
     },
     "output_type": "display_data"
    }
   ],
   "source": [
    "pval = run_sim(n_shuffle=2000)\n",
    "plt.hist(np.vstack(pval),50,density=True)\n",
    "plt.axvline(.05,color=\"k\",linestyle=\"--\")\n",
    "plt.show()"
   ]
  },
  {
   "cell_type": "code",
   "execution_count": 26,
   "metadata": {},
   "outputs": [],
   "source": [
    "def run_sim(n_shuffle=1000):\n",
    "    pval = []\n",
    "    for _ in range(250):\n",
    "        x = np.array(\n",
    "            [\n",
    "                [0, 0, 0, 0],\n",
    "                [1, 0, 0, 0],\n",
    "                [1, 0, 0, 0],\n",
    "                [0, 1, 0, 0],\n",
    "                [0, 0, 1, 0],\n",
    "                [0, 0, 1, 0],\n",
    "                [0, 0, 0, 1],\n",
    "                [0, 0, 0, 1],\n",
    "                [0, 0, 0, 0],\n",
    "            ]\n",
    "        )\n",
    "        noise = np.random.rand(np.array(x).shape[0], np.array(x).shape[1]) * 0.1\n",
    "        x = x + noise\n",
    "\n",
    "        shuffled_scores = [\n",
    "            trajectory_score_array(time_swap_array(x)) for _ in range(n_shuffle)\n",
    "        ]\n",
    "        scores = trajectory_score_array(x)\n",
    "\n",
    "        _, pval, std = functions.get_significant_events(\n",
    "            scores, np.array(shuffled_scores)\n",
    "        )\n",
    "        if np.array(pval) < 0.05:\n",
    "            return x, pval, std, shuffled_scores\n",
    "\n",
    "\n",
    "x, pval, std, shuffled_scores = run_sim(n_shuffle=2000)\n"
   ]
  },
  {
   "cell_type": "code",
   "execution_count": 32,
   "metadata": {},
   "outputs": [
    {
     "data": {
      "image/png": "[encoded data removed]",
      "text/plain": [
       "<Figure size 432x288 with 1 Axes>"
      ]
     },
     "metadata": {
      "needs_background": "light"
     },
     "output_type": "display_data"
    },
    {
     "data": {
      "image/png": "[encoded data removed]",
      "text/plain": [
       "<Figure size 432x288 with 1 Axes>"
      ]
     },
     "metadata": {
      "needs_background": "light"
     },
     "output_type": "display_data"
    }
   ],
   "source": [
    "plt.imshow(x,cmap=\"bone_r\")\n",
    "plt.show()\n",
    "plt.hist(shuffled_scores)\n",
    "plt.axvline(trajectory_score_array(x),color=\"r\")\n",
    "plt.show()"
   ]
  },
  {
   "cell_type": "code",
   "execution_count": 21,
   "metadata": {},
   "outputs": [
    {
     "data": {
      "text/plain": [
       "<matplotlib.image.AxesImage at 0x204f14fd280>"
      ]
     },
     "execution_count": 21,
     "metadata": {},
     "output_type": "execute_result"
    },
    {
     "data": {
      "image/png": "[encoded data removed]",
      "text/plain": [
       "<Figure size 432x288 with 1 Axes>"
      ]
     },
     "metadata": {
      "needs_background": "light"
     },
     "output_type": "display_data"
    }
   ],
   "source": [
    "x = np.array([[0,0,0,0,0], [1,0,0,0,0], [1,0,0,0,0],[0,1,0,0,0],[0,0,1,0,0],[0,0,1,0,0],[0,0,0,1,0],[0,0,0,0,1],[0,0,0,0,0]])\n",
    "noise = np.random.rand(np.array(x).shape[0], np.array(x).shape[1]) * 0.1\n",
    "x = x + noise\n",
    "plt.imshow(x,cmap=\"bone_r\")"
   ]
  }
 ],
 "metadata": {
  "kernelspec": {
   "display_name": "ripple_diversity",
   "language": "python",
   "name": "python3"
  },
  "language_info": {
   "codemirror_mode": {
    "name": "ipython",
    "version": 3
   },
   "file_extension": ".py",
   "mimetype": "text/x-python",
   "name": "python",
   "nbconvert_exporter": "python",
   "pygments_lexer": "ipython3",
   "version": "3.8.10"
  },
  "orig_nbformat": 4,
  "vscode": {
   "interpreter": {
    "hash": "07484756fddac7bd59393d4118357304c260afb75bd53ff0a49292dc7b401b16"
   }
  }
 },
 "nbformat": 4,
 "nbformat_minor": 2
}
