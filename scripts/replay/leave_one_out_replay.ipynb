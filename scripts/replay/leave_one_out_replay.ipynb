{
 "cells": [
  {
   "cell_type": "code",
   "execution_count": 1,
   "metadata": {},
   "outputs": [],
   "source": [
    "%reload_ext autoreload\n",
    "%autoreload 2"
   ]
  },
  {
   "cell_type": "markdown",
   "metadata": {},
   "source": [
    "## import packages"
   ]
  },
  {
   "cell_type": "code",
   "execution_count": 2,
   "metadata": {},
   "outputs": [
    {
     "name": "stderr",
     "output_type": "stream",
     "text": [
      "c:\\Users\\Cornell\\anaconda3\\envs\\ripple_diversity\\lib\\site-packages\\nelpy\\plotting\\decoding.py:9: MatplotlibDeprecationWarning: \n",
      "The mpl_toolkits.axes_grid module was deprecated in Matplotlib 2.1 and will be removed two minor releases later. Use mpl_toolkits.axes_grid1 and mpl_toolkits.axisartist, which provide the same functionality instead.\n"
     ]
    }
   ],
   "source": [
    "from ripple_heterogeneity.utils import (\n",
    "    functions,\n",
    "    loading,\n",
    "    compress_repeated_epochs,\n",
    "    batch_analysis,\n",
    "    add_new_deep_sup,\n",
    "    custom_plots\n",
    ")\n",
    "from ripple_heterogeneity.replay import replay_run, replay_fig, replay_participation\n",
    "import pandas as pd\n",
    "import numpy as np\n",
    "import matplotlib.pyplot as plt\n",
    "import glob\n",
    "import os\n",
    "import pickle\n",
    "import seaborn as sns\n",
    "import nelpy as nel\n",
    "from nelpy.analysis import replay\n",
    "import random\n",
    "from matplotlib.ticker import AutoMinorLocator\n",
    "import copy"
   ]
  },
  {
   "cell_type": "markdown",
   "metadata": {},
   "source": [
    "## plotting defaults"
   ]
  },
  {
   "cell_type": "code",
   "execution_count": 3,
   "metadata": {},
   "outputs": [],
   "source": [
    "functions.set_plotting_defaults()\n",
    "%matplotlib inline\n",
    "%config InlineBackend.figure_format = 'retina'\n",
    "fig_save_path = r'Z:\\home\\ryanh\\projects\\ripple_heterogeneity\\figures\\panels'"
   ]
  },
  {
   "cell_type": "markdown",
   "metadata": {},
   "source": [
    "## load replay data"
   ]
  },
  {
   "cell_type": "code",
   "execution_count": 4,
   "metadata": {},
   "outputs": [],
   "source": [
    "# save_path = r'Z:\\home\\ryanh\\projects\\ripple_heterogeneity\\replay_v7'\n",
    "save_path = r'Z:\\home\\ryanh\\projects\\ripple_heterogeneity\\replay'\n",
    "\n",
    "df = replay_run.load_results(save_path,pre_task_post=True)"
   ]
  },
  {
   "cell_type": "markdown",
   "metadata": {},
   "source": [
    "## run main analysis"
   ]
  },
  {
   "cell_type": "code",
   "execution_count": 5,
   "metadata": {},
   "outputs": [],
   "source": [
    "def leave_one_out_score(results, direction, idx_replay):\n",
    "    \"\"\"\n",
    "    Leave one out score for a given direction.\n",
    "    Inputs:\n",
    "        results: dict of results from replay_run.run_replay\n",
    "        direction: string, 'inbound_epochs' or 'outbound_epochs'\n",
    "    Outputs:\n",
    "        score: float, score (cell x replay) for the given direction\n",
    "    \"\"\"\n",
    "    scores = []\n",
    "    units = np.array(results[direction][\"bst_placecells\"].series_ids).T\n",
    "    for i in units:\n",
    "\n",
    "        bst = copy.deepcopy(results[direction][\"bst_placecells\"])\n",
    "        tc = copy.deepcopy(results[direction][\"tc\"])\n",
    "\n",
    "        tc = tc._unit_subset(units[units != i])\n",
    "        bst = bst._unit_subset(units[units != i])\n",
    "\n",
    "        scores.append(\n",
    "            replay.trajectory_score_bst(\n",
    "                bst[idx_replay], tc, w=3, n_shuffles=0, normalize=True\n",
    "            )\n",
    "        )\n",
    "    return np.array(scores)\n",
    "\n",
    "\n",
    "def get_leave_one_out_score(results, direction):\n",
    "    \"\"\"\n",
    "    Get leave one out score for a given direction.\n",
    "    Inputs:\n",
    "        results: dict of results from replay_run.run_replay\n",
    "        direction: string, 'inbound_epochs' or 'outbound_epochs'\n",
    "    Outputs:\n",
    "        avg_left_out_score: float, score (n cell) for the given direction\n",
    "        avg_left_out_score_cell_count_norm: float, normed score (n cell) for the given direction\n",
    "        len(idx_replay): int, number of replays\n",
    "    \"\"\"\n",
    "    # locate significant replay events\n",
    "    idx_replay = np.where(results[direction][\"df\"].score_pval_time_swap < 0.05)[0]\n",
    "    # find observed score for each replay event\n",
    "    obs_scores = replay.trajectory_score_bst(\n",
    "        results[direction][\"bst_placecells\"][idx_replay],\n",
    "        results[direction][\"tc\"],\n",
    "        w=3,\n",
    "        n_shuffles=0,\n",
    "        normalize=True,\n",
    "    )\n",
    "    # find score for each replay event and leave one cell out for each replay\n",
    "    scores = leave_one_out_score(results, direction, idx_replay)\n",
    "    avg_left_out_score = (scores - obs_scores).mean(axis=1)\n",
    "    # get number of cells in each replay\n",
    "    n_cells_per_replay = [\n",
    "        bst.n_active for bst in results[direction][\"bst_placecells\"][idx_replay]\n",
    "    ]\n",
    "    # normed score by number of cells in each replay\n",
    "    avg_left_out_score_cell_count_norm = (\n",
    "        scores * n_cells_per_replay - obs_scores * n_cells_per_replay\n",
    "    ).mean(axis=1)\n",
    "\n",
    "    return avg_left_out_score, avg_left_out_score_cell_count_norm, len(idx_replay)\n",
    "\n",
    "\n",
    "results_df = pd.DataFrame()\n",
    "for basepath in df.basepath.unique():\n",
    "    # locate saved replay file and load it\n",
    "    save_file = os.path.join(\n",
    "        save_path, basepath.replace(os.sep, \"_\").replace(\":\", \"_\") + \".pkl\"\n",
    "    )\n",
    "\n",
    "    with open(save_file, \"rb\") as f:\n",
    "        results = pickle.load(f)\n",
    "    if results is None:\n",
    "        continue\n",
    "    for direction in [\"inbound_epochs\", \"outbound_epochs\"]:\n",
    "        temp_df = pd.DataFrame()\n",
    "\n",
    "        (\n",
    "            temp_df[\"avg_left_out_score\"],\n",
    "            temp_df[\"avg_left_out_score_cell_count_norm\"],\n",
    "            temp_df[\"n_replay\"]\n",
    "        ) = get_leave_one_out_score(results, direction)\n",
    "\n",
    "        cell_metrics = results[direction][\"cell_metrics\"]\n",
    "        temp_df[\"UID\"] = cell_metrics.UID.values\n",
    "        temp_df[\"deepSuperficialDistance\"] = cell_metrics.deepSuperficialDistance.values\n",
    "        temp_df[\"deepSuperficial\"] = cell_metrics.deepSuperficial.values\n",
    "        temp_df[\"direction\"] = direction\n",
    "        temp_df[\"basepath\"] = basepath\n",
    "        results_df = pd.concat([results_df, temp_df], ignore_index=True)\n"
   ]
  },
  {
   "cell_type": "markdown",
   "metadata": {},
   "source": [
    "## added sublayer and animal id"
   ]
  },
  {
   "cell_type": "code",
   "execution_count": 6,
   "metadata": {},
   "outputs": [
    {
     "data": {
      "text/html": [
       "<div>\n",
       "<style scoped>\n",
       "    .dataframe tbody tr th:only-of-type {\n",
       "        vertical-align: middle;\n",
       "    }\n",
       "\n",
       "    .dataframe tbody tr th {\n",
       "        vertical-align: top;\n",
       "    }\n",
       "\n",
       "    .dataframe thead th {\n",
       "        text-align: right;\n",
       "    }\n",
       "</style>\n",
       "<table border=\"1\" class=\"dataframe\">\n",
       "  <thead>\n",
       "    <tr style=\"text-align: right;\">\n",
       "      <th></th>\n",
       "      <th>avg_left_out_score</th>\n",
       "      <th>avg_left_out_score_cell_count_norm</th>\n",
       "      <th>n_replay</th>\n",
       "      <th>UID</th>\n",
       "      <th>deepSuperficialDistance</th>\n",
       "      <th>deepSuperficial</th>\n",
       "      <th>direction</th>\n",
       "      <th>basepath</th>\n",
       "      <th>animal_id</th>\n",
       "    </tr>\n",
       "  </thead>\n",
       "  <tbody>\n",
       "    <tr>\n",
       "      <th>0</th>\n",
       "      <td>-0.063384</td>\n",
       "      <td>-0.316919</td>\n",
       "      <td>3</td>\n",
       "      <td>1</td>\n",
       "      <td>0.000000</td>\n",
       "      <td>middle</td>\n",
       "      <td>inbound_epochs</td>\n",
       "      <td>Z:\\Data\\AYAold\\AYA4\\day150804</td>\n",
       "      <td>AYA4</td>\n",
       "    </tr>\n",
       "    <tr>\n",
       "      <th>1</th>\n",
       "      <td>-0.088184</td>\n",
       "      <td>-0.440922</td>\n",
       "      <td>3</td>\n",
       "      <td>7</td>\n",
       "      <td>-50.000000</td>\n",
       "      <td>Deep</td>\n",
       "      <td>inbound_epochs</td>\n",
       "      <td>Z:\\Data\\AYAold\\AYA4\\day150804</td>\n",
       "      <td>AYA4</td>\n",
       "    </tr>\n",
       "    <tr>\n",
       "      <th>2</th>\n",
       "      <td>-0.061103</td>\n",
       "      <td>-0.305515</td>\n",
       "      <td>3</td>\n",
       "      <td>12</td>\n",
       "      <td>0.000000</td>\n",
       "      <td>middle</td>\n",
       "      <td>inbound_epochs</td>\n",
       "      <td>Z:\\Data\\AYAold\\AYA4\\day150804</td>\n",
       "      <td>AYA4</td>\n",
       "    </tr>\n",
       "    <tr>\n",
       "      <th>3</th>\n",
       "      <td>-0.021707</td>\n",
       "      <td>-0.108535</td>\n",
       "      <td>3</td>\n",
       "      <td>13</td>\n",
       "      <td>50.000000</td>\n",
       "      <td>Superficial</td>\n",
       "      <td>inbound_epochs</td>\n",
       "      <td>Z:\\Data\\AYAold\\AYA4\\day150804</td>\n",
       "      <td>AYA4</td>\n",
       "    </tr>\n",
       "    <tr>\n",
       "      <th>4</th>\n",
       "      <td>-0.034194</td>\n",
       "      <td>-0.170972</td>\n",
       "      <td>3</td>\n",
       "      <td>20</td>\n",
       "      <td>50.000000</td>\n",
       "      <td>Superficial</td>\n",
       "      <td>inbound_epochs</td>\n",
       "      <td>Z:\\Data\\AYAold\\AYA4\\day150804</td>\n",
       "      <td>AYA4</td>\n",
       "    </tr>\n",
       "    <tr>\n",
       "      <th>...</th>\n",
       "      <td>...</td>\n",
       "      <td>...</td>\n",
       "      <td>...</td>\n",
       "      <td>...</td>\n",
       "      <td>...</td>\n",
       "      <td>...</td>\n",
       "      <td>...</td>\n",
       "      <td>...</td>\n",
       "      <td>...</td>\n",
       "    </tr>\n",
       "    <tr>\n",
       "      <th>2952</th>\n",
       "      <td>-0.011468</td>\n",
       "      <td>-0.067099</td>\n",
       "      <td>2</td>\n",
       "      <td>72</td>\n",
       "      <td>20.000000</td>\n",
       "      <td>middle</td>\n",
       "      <td>outbound_epochs</td>\n",
       "      <td>Z:\\Data\\Kenji\\ec016.267_278</td>\n",
       "      <td>ec016</td>\n",
       "    </tr>\n",
       "    <tr>\n",
       "      <th>2953</th>\n",
       "      <td>0.208000</td>\n",
       "      <td>1.039876</td>\n",
       "      <td>2</td>\n",
       "      <td>77</td>\n",
       "      <td>-44.542208</td>\n",
       "      <td>Deep</td>\n",
       "      <td>outbound_epochs</td>\n",
       "      <td>Z:\\Data\\Kenji\\ec016.267_278</td>\n",
       "      <td>ec016</td>\n",
       "    </tr>\n",
       "    <tr>\n",
       "      <th>2954</th>\n",
       "      <td>0.000123</td>\n",
       "      <td>0.002417</td>\n",
       "      <td>2</td>\n",
       "      <td>78</td>\n",
       "      <td>-44.542208</td>\n",
       "      <td>Deep</td>\n",
       "      <td>outbound_epochs</td>\n",
       "      <td>Z:\\Data\\Kenji\\ec016.267_278</td>\n",
       "      <td>ec016</td>\n",
       "    </tr>\n",
       "    <tr>\n",
       "      <th>2955</th>\n",
       "      <td>-0.000052</td>\n",
       "      <td>-0.000456</td>\n",
       "      <td>2</td>\n",
       "      <td>79</td>\n",
       "      <td>-64.542208</td>\n",
       "      <td>Deep</td>\n",
       "      <td>outbound_epochs</td>\n",
       "      <td>Z:\\Data\\Kenji\\ec016.267_278</td>\n",
       "      <td>ec016</td>\n",
       "    </tr>\n",
       "    <tr>\n",
       "      <th>2956</th>\n",
       "      <td>0.006323</td>\n",
       "      <td>0.034911</td>\n",
       "      <td>2</td>\n",
       "      <td>80</td>\n",
       "      <td>-84.542208</td>\n",
       "      <td>Deep</td>\n",
       "      <td>outbound_epochs</td>\n",
       "      <td>Z:\\Data\\Kenji\\ec016.267_278</td>\n",
       "      <td>ec016</td>\n",
       "    </tr>\n",
       "  </tbody>\n",
       "</table>\n",
       "<p>2957 rows × 9 columns</p>\n",
       "</div>"
      ],
      "text/plain": [
       "      avg_left_out_score  avg_left_out_score_cell_count_norm  n_replay  UID  \\\n",
       "0              -0.063384                           -0.316919         3    1   \n",
       "1              -0.088184                           -0.440922         3    7   \n",
       "2              -0.061103                           -0.305515         3   12   \n",
       "3              -0.021707                           -0.108535         3   13   \n",
       "4              -0.034194                           -0.170972         3   20   \n",
       "...                  ...                                 ...       ...  ...   \n",
       "2952           -0.011468                           -0.067099         2   72   \n",
       "2953            0.208000                            1.039876         2   77   \n",
       "2954            0.000123                            0.002417         2   78   \n",
       "2955           -0.000052                           -0.000456         2   79   \n",
       "2956            0.006323                            0.034911         2   80   \n",
       "\n",
       "      deepSuperficialDistance deepSuperficial        direction  \\\n",
       "0                    0.000000          middle   inbound_epochs   \n",
       "1                  -50.000000            Deep   inbound_epochs   \n",
       "2                    0.000000          middle   inbound_epochs   \n",
       "3                   50.000000     Superficial   inbound_epochs   \n",
       "4                   50.000000     Superficial   inbound_epochs   \n",
       "...                       ...             ...              ...   \n",
       "2952                20.000000          middle  outbound_epochs   \n",
       "2953               -44.542208            Deep  outbound_epochs   \n",
       "2954               -44.542208            Deep  outbound_epochs   \n",
       "2955               -64.542208            Deep  outbound_epochs   \n",
       "2956               -84.542208            Deep  outbound_epochs   \n",
       "\n",
       "                           basepath animal_id  \n",
       "0     Z:\\Data\\AYAold\\AYA4\\day150804      AYA4  \n",
       "1     Z:\\Data\\AYAold\\AYA4\\day150804      AYA4  \n",
       "2     Z:\\Data\\AYAold\\AYA4\\day150804      AYA4  \n",
       "3     Z:\\Data\\AYAold\\AYA4\\day150804      AYA4  \n",
       "4     Z:\\Data\\AYAold\\AYA4\\day150804      AYA4  \n",
       "...                             ...       ...  \n",
       "2952    Z:\\Data\\Kenji\\ec016.267_278     ec016  \n",
       "2953    Z:\\Data\\Kenji\\ec016.267_278     ec016  \n",
       "2954    Z:\\Data\\Kenji\\ec016.267_278     ec016  \n",
       "2955    Z:\\Data\\Kenji\\ec016.267_278     ec016  \n",
       "2956    Z:\\Data\\Kenji\\ec016.267_278     ec016  \n",
       "\n",
       "[2957 rows x 9 columns]"
      ]
     },
     "execution_count": 6,
     "metadata": {},
     "output_type": "execute_result"
    }
   ],
   "source": [
    "results_df = add_new_deep_sup.deep_sup_from_deepSuperficialDistance(results_df)\n",
    "for basepath in results_df.basepath.unique():\n",
    "    results_df.loc[results_df.basepath == basepath, \"animal_id\"] = loading.get_animal_id(basepath)\n",
    "results_df"
   ]
  },
  {
   "cell_type": "markdown",
   "metadata": {},
   "source": [
    "## flip avg_left_out_score_cell_count_norm to make per cell contribution"
   ]
  },
  {
   "cell_type": "code",
   "execution_count": 7,
   "metadata": {},
   "outputs": [],
   "source": [
    "results_df[\"per_cell_contribution\"] = results_df.avg_left_out_score_cell_count_norm * -1"
   ]
  },
  {
   "cell_type": "code",
   "execution_count": 8,
   "metadata": {},
   "outputs": [
    {
     "data": {
      "image/png": "[encoded data removed]",
      "text/plain": [
       "<Figure size 85.0394x157.672 with 1 Axes>"
      ]
     },
     "metadata": {
      "image/png": {
       "height": 133,
       "width": 115
      },
      "needs_background": "light"
     },
     "output_type": "display_data"
    }
   ],
   "source": [
    "fig = plt.figure(\n",
    "    figsize=functions.set_size(\"thesis\", fraction=0.2, subplots=(3, 1)), edgecolor=None\n",
    ")\n",
    "group_colors = {\"Deep\": \"#7b3294\", \"Superficial\": \"#008837\"}\n",
    "sns.set_palette(sns.color_palette(group_colors.values()))\n",
    "\n",
    "\n",
    "keep_idx = (results_df.n_replay > 30) & (results_df.deepSuperficial != \"middle\")\n",
    "\n",
    "sns.boxplot(x=\"deepSuperficial\", y=\"per_cell_contribution\",hue_order=group_colors.keys(),\n",
    "            data=results_df[keep_idx],showfliers=False)\n",
    "\n",
    "# sns.stripplot(x=\"deepSuperficial\", y=\"per_cell_contribution\",hue_order=group_colors.keys(),\n",
    "#             data=results_df[keep_idx],color=\"k\",s=2,alpha=0.5)\n",
    "            \n",
    "plt.ylabel(\"per cell contribution\")\n",
    "# plt.ylim(0.001,2)\n",
    "sns.despine()\n",
    "ax = plt.gca()\n",
    "ax.yaxis.set_minor_locator(AutoMinorLocator())\n",
    "ax.axes.get_xaxis().set_ticks([])\n",
    "ax.spines[\"bottom\"].set_visible(False)\n",
    "# plt.gca().invert_yaxis()\n",
    "# plt.yscale(\"log\")\n",
    "ax.set_xlabel(\"\")\n",
    "\n",
    "plt.savefig(\n",
    "    os.path.join(fig_save_path, \"per_cell_contribution.svg\"),\n",
    "    dpi=300,\n",
    "    bbox_inches=\"tight\",\n",
    ")"
   ]
  },
  {
   "cell_type": "code",
   "execution_count": 9,
   "metadata": {},
   "outputs": [
    {
     "data": {
      "image/png": "[encoded data removed]",
      "text/plain": [
       "<Figure size 85.0394x157.672 with 1 Axes>"
      ]
     },
     "metadata": {
      "image/png": {
       "height": 146,
       "width": 145
      },
      "needs_background": "light"
     },
     "output_type": "display_data"
    }
   ],
   "source": [
    "fig = plt.figure(\n",
    "    figsize=functions.set_size(\"thesis\", fraction=0.2, subplots=(3, 1)), edgecolor=None\n",
    ")\n",
    "group_colors = {\"Deep\": \"#7b3294\", \"Superficial\": \"#008837\"}\n",
    "sns.set_palette(sns.color_palette(group_colors.values()))\n",
    "\n",
    "\n",
    "keep_idx = (results_df.n_replay > 30) & (results_df.deepSuperficial != \"middle\")\n",
    "\n",
    "sns.boxplot(x=\"deepSuperficial\", y=\"avg_left_out_score\",hue_order=group_colors.keys(),\n",
    "            data=results_df[keep_idx],showfliers=False)\n",
    "\n",
    "# sns.stripplot(x=\"deepSuperficial\", y=\"avg_left_out_score\",hue_order=group_colors.keys(),\n",
    "#             data=results_df[keep_idx],color=\"k\",s=2)\n",
    "plt.ylabel(\"leave-one-out \\n replay score reduction\")\n",
    "\n",
    "sns.despine()\n",
    "ax = plt.gca()\n",
    "ax.yaxis.set_minor_locator(AutoMinorLocator())\n",
    "ax.axes.get_xaxis().set_ticks([])\n",
    "ax.spines[\"bottom\"].set_visible(False)"
   ]
  },
  {
   "cell_type": "code",
   "execution_count": 10,
   "metadata": {},
   "outputs": [],
   "source": [
    "results_df.to_csv(r\"Z:\\home\\ryanh\\projects\\ripple_heterogeneity\\replay_score_reduction.csv\")\n"
   ]
  }
 ],
 "metadata": {
  "interpreter": {
   "hash": "07484756fddac7bd59393d4118357304c260afb75bd53ff0a49292dc7b401b16"
  },
  "kernelspec": {
   "display_name": "Python 3.8.10 ('ripple_diversity')",
   "language": "python",
   "name": "python3"
  },
  "language_info": {
   "codemirror_mode": {
    "name": "ipython",
    "version": 3
   },
   "file_extension": ".py",
   "mimetype": "text/x-python",
   "name": "python",
   "nbconvert_exporter": "python",
   "pygments_lexer": "ipython3",
   "version": "3.8.10"
  },
  "orig_nbformat": 4
 },
 "nbformat": 4,
 "nbformat_minor": 2
}
