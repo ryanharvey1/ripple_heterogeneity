{
 "cells": [
  {
   "cell_type": "code",
   "execution_count": 2,
   "metadata": {},
   "outputs": [],
   "source": [
    "%reload_ext autoreload\n",
    "%autoreload 2"
   ]
  },
  {
   "cell_type": "code",
   "execution_count": 34,
   "metadata": {},
   "outputs": [],
   "source": [
    "from ripple_heterogeneity.utils import (\n",
    "    functions,\n",
    "    loading,\n",
    ")\n",
    "import pandas as pd\n",
    "import numpy as np\n",
    "import matplotlib.pyplot as plt\n",
    "import os\n",
    "import glob\n",
    "import warnings\n",
    "import scipy.io as sio\n",
    "import nelpy as nel\n",
    "\n",
    "functions.set_plotting_defaults()\n",
    "%matplotlib inline\n",
    "%config InlineBackend.figure_format = 'retina'\n",
    "fig_save_path = r'Z:\\home\\ryanh\\projects\\ripple_heterogeneity\\figures\\panels'"
   ]
  },
  {
   "cell_type": "code",
   "execution_count": 16,
   "metadata": {},
   "outputs": [],
   "source": [
    "def load_mua(basepath):\n",
    "    \"\"\"\n",
    "    Loads the MUA data from the basepath.\n",
    "    input:\n",
    "        basepath: str\n",
    "            The path to the folder containing the MUA data.\n",
    "    output:\n",
    "        mua_data: pandas.DataFrame\n",
    "            The pandas.DataFrame containing the MUA data\n",
    "\n",
    "    \"\"\"\n",
    "\n",
    "    # locate .mat file\n",
    "    try:\n",
    "        filename = glob.glob(basepath+os.sep+'*mua_ca1_pyr.events.mat')[0]\n",
    "    except:\n",
    "        # warnings.warn(\"file does not exist\")\n",
    "        return pd.DataFrame()\n",
    "\n",
    "    # load matfile\n",
    "    data = sio.loadmat(filename)\n",
    "\n",
    "    # pull out and package data\n",
    "    df = pd.DataFrame()\n",
    "    df[\"start\"] = data['HSE'][\"timestamps\"][0][0][:, 0]\n",
    "    df[\"stop\"] = data['HSE'][\"timestamps\"][0][0][:, 1]\n",
    "    df[\"peaks\"] = data['HSE'][\"peaks\"][0][0]\n",
    "    df[\"center\"] = data['HSE'][\"center\"][0][0]\n",
    "    df[\"duration\"] = data['HSE'][\"duration\"][0][0]\n",
    "    df[\"amplitude\"] = data['HSE'][\"amplitudes\"][0][0]\n",
    "    df[\"amplitudeUnits\"] = data['HSE'][\"amplitudeUnits\"][0][0][0]\n",
    "    df[\"detectorName\"] = data['HSE'][\"detectorinfo\"][0][0][\"detectorname\"][0][0][0]\n",
    "\n",
    "    # get basename and animal\n",
    "    normalized_path = os.path.normpath(filename)\n",
    "    path_components = normalized_path.split(os.sep)\n",
    "    df[\"basepath\"] = basepath\n",
    "    df[\"basename\"] = path_components[-2]\n",
    "    df[\"animal\"] = path_components[-3]\n",
    "\n",
    "    return df"
   ]
  },
  {
   "cell_type": "code",
   "execution_count": 24,
   "metadata": {},
   "outputs": [
    {
     "data": {
      "text/html": [
       "<div>\n",
       "<style scoped>\n",
       "    .dataframe tbody tr th:only-of-type {\n",
       "        vertical-align: middle;\n",
       "    }\n",
       "\n",
       "    .dataframe tbody tr th {\n",
       "        vertical-align: top;\n",
       "    }\n",
       "\n",
       "    .dataframe thead th {\n",
       "        text-align: right;\n",
       "    }\n",
       "</style>\n",
       "<table border=\"1\" class=\"dataframe\">\n",
       "  <thead>\n",
       "    <tr style=\"text-align: right;\">\n",
       "      <th></th>\n",
       "      <th>start</th>\n",
       "      <th>stop</th>\n",
       "      <th>peaks</th>\n",
       "      <th>center</th>\n",
       "      <th>duration</th>\n",
       "      <th>amplitude</th>\n",
       "      <th>amplitudeUnits</th>\n",
       "      <th>detectorName</th>\n",
       "      <th>basepath</th>\n",
       "      <th>basename</th>\n",
       "      <th>animal</th>\n",
       "    </tr>\n",
       "  </thead>\n",
       "  <tbody>\n",
       "    <tr>\n",
       "      <th>0</th>\n",
       "      <td>3.188</td>\n",
       "      <td>3.282</td>\n",
       "      <td>3.236</td>\n",
       "      <td>3.2350</td>\n",
       "      <td>0.094</td>\n",
       "      <td>6.358963</td>\n",
       "      <td>spikes</td>\n",
       "      <td>find_HSE</td>\n",
       "      <td>Z:\\Data\\AYAold\\AB1\\day1</td>\n",
       "      <td>day1</td>\n",
       "      <td>AB1</td>\n",
       "    </tr>\n",
       "    <tr>\n",
       "      <th>1</th>\n",
       "      <td>3.733</td>\n",
       "      <td>3.837</td>\n",
       "      <td>3.788</td>\n",
       "      <td>3.7850</td>\n",
       "      <td>0.104</td>\n",
       "      <td>5.601151</td>\n",
       "      <td>spikes</td>\n",
       "      <td>find_HSE</td>\n",
       "      <td>Z:\\Data\\AYAold\\AB1\\day1</td>\n",
       "      <td>day1</td>\n",
       "      <td>AB1</td>\n",
       "    </tr>\n",
       "    <tr>\n",
       "      <th>2</th>\n",
       "      <td>6.396</td>\n",
       "      <td>6.517</td>\n",
       "      <td>6.449</td>\n",
       "      <td>6.4565</td>\n",
       "      <td>0.121</td>\n",
       "      <td>4.827183</td>\n",
       "      <td>spikes</td>\n",
       "      <td>find_HSE</td>\n",
       "      <td>Z:\\Data\\AYAold\\AB1\\day1</td>\n",
       "      <td>day1</td>\n",
       "      <td>AB1</td>\n",
       "    </tr>\n",
       "    <tr>\n",
       "      <th>3</th>\n",
       "      <td>6.633</td>\n",
       "      <td>6.750</td>\n",
       "      <td>6.709</td>\n",
       "      <td>6.6915</td>\n",
       "      <td>0.117</td>\n",
       "      <td>3.287016</td>\n",
       "      <td>spikes</td>\n",
       "      <td>find_HSE</td>\n",
       "      <td>Z:\\Data\\AYAold\\AB1\\day1</td>\n",
       "      <td>day1</td>\n",
       "      <td>AB1</td>\n",
       "    </tr>\n",
       "    <tr>\n",
       "      <th>4</th>\n",
       "      <td>8.947</td>\n",
       "      <td>9.048</td>\n",
       "      <td>8.982</td>\n",
       "      <td>8.9975</td>\n",
       "      <td>0.101</td>\n",
       "      <td>3.263011</td>\n",
       "      <td>spikes</td>\n",
       "      <td>find_HSE</td>\n",
       "      <td>Z:\\Data\\AYAold\\AB1\\day1</td>\n",
       "      <td>day1</td>\n",
       "      <td>AB1</td>\n",
       "    </tr>\n",
       "    <tr>\n",
       "      <th>...</th>\n",
       "      <td>...</td>\n",
       "      <td>...</td>\n",
       "      <td>...</td>\n",
       "      <td>...</td>\n",
       "      <td>...</td>\n",
       "      <td>...</td>\n",
       "      <td>...</td>\n",
       "      <td>...</td>\n",
       "      <td>...</td>\n",
       "      <td>...</td>\n",
       "      <td>...</td>\n",
       "    </tr>\n",
       "    <tr>\n",
       "      <th>1319</th>\n",
       "      <td>4203.691</td>\n",
       "      <td>4203.767</td>\n",
       "      <td>4203.737</td>\n",
       "      <td>4203.7290</td>\n",
       "      <td>0.076</td>\n",
       "      <td>3.118147</td>\n",
       "      <td>spikes</td>\n",
       "      <td>find_HSE</td>\n",
       "      <td>Z:\\Data\\AYAold\\AB1\\day1</td>\n",
       "      <td>day1</td>\n",
       "      <td>AB1</td>\n",
       "    </tr>\n",
       "    <tr>\n",
       "      <th>1320</th>\n",
       "      <td>4205.262</td>\n",
       "      <td>4205.333</td>\n",
       "      <td>4205.297</td>\n",
       "      <td>4205.2975</td>\n",
       "      <td>0.071</td>\n",
       "      <td>3.012205</td>\n",
       "      <td>spikes</td>\n",
       "      <td>find_HSE</td>\n",
       "      <td>Z:\\Data\\AYAold\\AB1\\day1</td>\n",
       "      <td>day1</td>\n",
       "      <td>AB1</td>\n",
       "    </tr>\n",
       "    <tr>\n",
       "      <th>1321</th>\n",
       "      <td>4206.156</td>\n",
       "      <td>4206.255</td>\n",
       "      <td>4206.218</td>\n",
       "      <td>4206.2055</td>\n",
       "      <td>0.099</td>\n",
       "      <td>4.385864</td>\n",
       "      <td>spikes</td>\n",
       "      <td>find_HSE</td>\n",
       "      <td>Z:\\Data\\AYAold\\AB1\\day1</td>\n",
       "      <td>day1</td>\n",
       "      <td>AB1</td>\n",
       "    </tr>\n",
       "    <tr>\n",
       "      <th>1322</th>\n",
       "      <td>4207.090</td>\n",
       "      <td>4207.356</td>\n",
       "      <td>4207.199</td>\n",
       "      <td>4207.2230</td>\n",
       "      <td>0.266</td>\n",
       "      <td>6.243626</td>\n",
       "      <td>spikes</td>\n",
       "      <td>find_HSE</td>\n",
       "      <td>Z:\\Data\\AYAold\\AB1\\day1</td>\n",
       "      <td>day1</td>\n",
       "      <td>AB1</td>\n",
       "    </tr>\n",
       "    <tr>\n",
       "      <th>1323</th>\n",
       "      <td>4208.114</td>\n",
       "      <td>4208.191</td>\n",
       "      <td>4208.154</td>\n",
       "      <td>4208.1525</td>\n",
       "      <td>0.077</td>\n",
       "      <td>4.777476</td>\n",
       "      <td>spikes</td>\n",
       "      <td>find_HSE</td>\n",
       "      <td>Z:\\Data\\AYAold\\AB1\\day1</td>\n",
       "      <td>day1</td>\n",
       "      <td>AB1</td>\n",
       "    </tr>\n",
       "  </tbody>\n",
       "</table>\n",
       "<p>1324 rows × 11 columns</p>\n",
       "</div>"
      ],
      "text/plain": [
       "         start      stop     peaks     center  duration  amplitude  \\\n",
       "0        3.188     3.282     3.236     3.2350     0.094   6.358963   \n",
       "1        3.733     3.837     3.788     3.7850     0.104   5.601151   \n",
       "2        6.396     6.517     6.449     6.4565     0.121   4.827183   \n",
       "3        6.633     6.750     6.709     6.6915     0.117   3.287016   \n",
       "4        8.947     9.048     8.982     8.9975     0.101   3.263011   \n",
       "...        ...       ...       ...        ...       ...        ...   \n",
       "1319  4203.691  4203.767  4203.737  4203.7290     0.076   3.118147   \n",
       "1320  4205.262  4205.333  4205.297  4205.2975     0.071   3.012205   \n",
       "1321  4206.156  4206.255  4206.218  4206.2055     0.099   4.385864   \n",
       "1322  4207.090  4207.356  4207.199  4207.2230     0.266   6.243626   \n",
       "1323  4208.114  4208.191  4208.154  4208.1525     0.077   4.777476   \n",
       "\n",
       "     amplitudeUnits detectorName                 basepath basename animal  \n",
       "0            spikes     find_HSE  Z:\\Data\\AYAold\\AB1\\day1     day1    AB1  \n",
       "1            spikes     find_HSE  Z:\\Data\\AYAold\\AB1\\day1     day1    AB1  \n",
       "2            spikes     find_HSE  Z:\\Data\\AYAold\\AB1\\day1     day1    AB1  \n",
       "3            spikes     find_HSE  Z:\\Data\\AYAold\\AB1\\day1     day1    AB1  \n",
       "4            spikes     find_HSE  Z:\\Data\\AYAold\\AB1\\day1     day1    AB1  \n",
       "...             ...          ...                      ...      ...    ...  \n",
       "1319         spikes     find_HSE  Z:\\Data\\AYAold\\AB1\\day1     day1    AB1  \n",
       "1320         spikes     find_HSE  Z:\\Data\\AYAold\\AB1\\day1     day1    AB1  \n",
       "1321         spikes     find_HSE  Z:\\Data\\AYAold\\AB1\\day1     day1    AB1  \n",
       "1322         spikes     find_HSE  Z:\\Data\\AYAold\\AB1\\day1     day1    AB1  \n",
       "1323         spikes     find_HSE  Z:\\Data\\AYAold\\AB1\\day1     day1    AB1  \n",
       "\n",
       "[1324 rows x 11 columns]"
      ]
     },
     "execution_count": 24,
     "metadata": {},
     "output_type": "execute_result"
    }
   ],
   "source": [
    "df = load_mua(r\"Z:\\Data\\AYAold\\AB1\\day1\")\n",
    "df"
   ]
  },
  {
   "cell_type": "code",
   "execution_count": 23,
   "metadata": {},
   "outputs": [
    {
     "data": {
      "text/plain": [
       "<AxesSubplot:>"
      ]
     },
     "execution_count": 23,
     "metadata": {},
     "output_type": "execute_result"
    },
    {
     "data": {
      "image/png": "[encoded data removed]",
      "text/plain": [
       "<Figure size 432x288 with 1 Axes>"
      ]
     },
     "metadata": {
      "image/png": {
       "height": 249,
       "width": 373
      },
      "needs_background": "light"
     },
     "output_type": "display_data"
    }
   ],
   "source": [
    "df.peaks.diff().hist(bins=100)"
   ]
  },
  {
   "cell_type": "code",
   "execution_count": null,
   "metadata": {},
   "outputs": [],
   "source": []
  },
  {
   "cell_type": "code",
   "execution_count": 118,
   "metadata": {},
   "outputs": [],
   "source": [
    "mua_df = loading.load_mua_events(r\"Z:\\Data\\AYAold\\AB1\\day1\")\n",
    "ripple_df = loading.load_ripples_events(r\"Z:\\Data\\AYAold\\AB1\\day1\")"
   ]
  },
  {
   "cell_type": "code",
   "execution_count": 71,
   "metadata": {},
   "outputs": [],
   "source": [
    "# mua_df.stop.loc[-1]"
   ]
  },
  {
   "cell_type": "code",
   "execution_count": 119,
   "metadata": {},
   "outputs": [
    {
     "data": {
      "text/plain": [
       "(<EpochArray at 0x22960d745e0: 1,249 epochs> of length 3:14:642 minutes,\n",
       " <EpochArray at 0x22960d74cd0: 1,550 epochs> of length 1:19:056 minutes)"
      ]
     },
     "execution_count": 119,
     "metadata": {},
     "output_type": "execute_result"
    }
   ],
   "source": [
    "mua_epoch = nel.EpochArray(\n",
    "    np.array([mua_df.start, mua_df.stop]).T,\n",
    "    domain=nel.EpochArray([mua_df.start.min(), mua_df.stop.max()]),\n",
    ")\n",
    "ripple_epoch = nel.EpochArray(\n",
    "    np.array([ripple_df.start, ripple_df.stop]).T,\n",
    "    domain=nel.EpochArray([ripple_df.start.min(), ripple_df.stop.max()]),\n",
    ")\n",
    "\n",
    "mua_epoch, ripple_epoch\n"
   ]
  },
  {
   "cell_type": "code",
   "execution_count": 74,
   "metadata": {},
   "outputs": [
    {
     "data": {
      "text/plain": [
       "<EpochArray at 0x22955398ca0: 875 epochs> of length 1:34:478 minutes"
      ]
     },
     "execution_count": 74,
     "metadata": {},
     "output_type": "execute_result"
    }
   ],
   "source": [
    "mua_epoch[ripple_epoch.expand(0.05)]"
   ]
  },
  {
   "cell_type": "code",
   "execution_count": 75,
   "metadata": {},
   "outputs": [
    {
     "data": {
      "text/plain": [
       "<EpochArray at 0x2295bc64d30: 827 epochs> of length 47.6216 seconds"
      ]
     },
     "execution_count": 75,
     "metadata": {},
     "output_type": "execute_result"
    }
   ],
   "source": [
    "ripple_epoch[mua_epoch]"
   ]
  },
  {
   "cell_type": "code",
   "execution_count": 76,
   "metadata": {},
   "outputs": [
    {
     "data": {
      "text/plain": [
       "<EpochArray at 0x2295e5c1520: 827 epochs> of length 47.6216 seconds"
      ]
     },
     "execution_count": 76,
     "metadata": {},
     "output_type": "execute_result"
    }
   ],
   "source": [
    "# (ripple_epoch | mua_epoch).merge()\n",
    "ripple_epoch.intersect(mua_epoch)"
   ]
  },
  {
   "cell_type": "code",
   "execution_count": 123,
   "metadata": {},
   "outputs": [
    {
     "data": {
      "text/plain": [
       "Text(0.5, 1.0, 'MUA epochs with overlap with ripple epochs')"
      ]
     },
     "execution_count": 123,
     "metadata": {},
     "output_type": "execute_result"
    },
    {
     "data": {
      "image/png": "[encoded data removed]",
      "text/plain": [
       "<Figure size 1800x72 with 1 Axes>"
      ]
     },
     "metadata": {
      "image/png": {
       "height": 102,
       "width": 1417
      },
      "needs_background": "light"
     },
     "output_type": "display_data"
    },
    {
     "data": {
      "image/png": "[encoded data removed]",
      "text/plain": [
       "<Figure size 1800x72 with 1 Axes>"
      ]
     },
     "metadata": {
      "image/png": {
       "height": 102,
       "width": 1417
      },
      "needs_background": "light"
     },
     "output_type": "display_data"
    }
   ],
   "source": [
    "def overlap_intersect(epoch,interval,return_indices=True):\n",
    "    \"\"\"\n",
    "    Returns the epochs with overlap with interval\n",
    "    Input:\n",
    "        epoch: nelpy.EpochArray\n",
    "            The epochs to check\n",
    "        interval: nelpy.IntervalArray\n",
    "            The interval to check for overlap\n",
    "        return_indices: bool\n",
    "            If True, returns the indices of the epochs (interval) that overlap    \n",
    "    Output:\n",
    "        epoch: nelpy.EpochArray\n",
    "            The epochs with overlap with interval\n",
    "    \"\"\"\n",
    "    new_intervals = []\n",
    "    indices = []\n",
    "    for epa in (epoch):\n",
    "        if any((interval.starts < epa.stop) & (interval.stops > epa.start)):\n",
    "            new_intervals.append([epa.start, epa.stop])\n",
    "            cand_ep_idx = np.where((interval.starts < epa.stop) & (interval.stops > epa.start))\n",
    "            indices.append(cand_ep_idx[0][0])\n",
    "    out = type(epoch)(new_intervals)\n",
    "    out._domain = epoch.domain\n",
    "    if return_indices:\n",
    "        return out, indices\n",
    "    return out\n",
    "\n",
    "\n",
    "\n",
    "import nelpy.plotting as npl\n",
    "fig = plt.figure(figsize=(25,1))\n",
    "ax = npl.epochplot(mua_epoch)\n",
    "ax.set_xlim(mua_epoch.start, mua_epoch.stop)\n",
    "npl.utils.clear_left_right(ax)\n",
    "npl.utils.clear_top(ax)\n",
    "npl.epochplot(ripple_epoch,color=\"r\")\n",
    "ax.set_xlim(6,20)\n",
    "ax.set_title(\"MUA epochs and ripple epochs\",fontsize=14)\n",
    "\n",
    "\n",
    "fig = plt.figure(figsize=(25,1))\n",
    "new_epoch,indices = overlap_intersect(mua_epoch,ripple_epoch.expand(0.05))\n",
    "ax = npl.epochplot(new_epoch)\n",
    "npl.utils.clear_left_right(ax)\n",
    "npl.utils.clear_top(ax)\n",
    "ax.set_xlim(6,20)\n",
    "ax.set_title(\"MUA epochs with overlap with ripple epochs\",fontsize=14)"
   ]
  },
  {
   "cell_type": "code",
   "execution_count": 129,
   "metadata": {},
   "outputs": [
    {
     "data": {
      "text/plain": [
       "(815,\n",
       " 1547,\n",
       " <EpochArray at 0x2295cd94160: 815 epochs> of length 1:58:985 minutes,\n",
       " <EpochArray at 0x22960d74cd0: 1,550 epochs> of length 1:19:056 minutes,\n",
       " <EpochArray at 0x22962189640: 815 epochs> of length 46.055200000000000006 seconds)"
      ]
     },
     "execution_count": 129,
     "metadata": {},
     "output_type": "execute_result"
    }
   ],
   "source": [
    "len(indices),max(indices),new_epoch,ripple_epoch,ripple_epoch[indices]\n",
    "# ripple_epoch"
   ]
  },
  {
   "cell_type": "code",
   "execution_count": 90,
   "metadata": {},
   "outputs": [
    {
     "data": {
      "text/plain": [
       "<EpochArray at 0x22954734070: 827 epochs> of length 47.6216 seconds"
      ]
     },
     "execution_count": 90,
     "metadata": {},
     "output_type": "execute_result"
    }
   ],
   "source": [
    "import copy\n",
    "def intersect(epoch, interval, *, boundaries=True):\n",
    "    \"\"\"Returns intersection (overlap) between current IntervalArray (epoch) and\n",
    "        other interval array ('interval').\n",
    "    \"\"\"\n",
    "\n",
    "    this = copy.deepcopy(epoch)\n",
    "    new_intervals = []\n",
    "    for epa in this:\n",
    "        cand_ep_idx = np.argwhere((interval.starts < epa.stop) & (interval.stops > epa.start)).squeeze()\n",
    "        if np.size(cand_ep_idx) > 0:\n",
    "            for epb in interval[cand_ep_idx.tolist()]:\n",
    "                new_interval = epoch._intersect(epa, epb, boundaries=boundaries)\n",
    "                if not new_interval.isempty:\n",
    "                    new_intervals.append([new_interval.start, new_interval.stop])\n",
    "    out = type(epoch)(new_intervals)\n",
    "    out._domain = epoch.domain\n",
    "    return out\n",
    "\n",
    "intersect(ripple_epoch, mua_epoch)    "
   ]
  },
  {
   "cell_type": "code",
   "execution_count": 80,
   "metadata": {},
   "outputs": [
    {
     "data": {
      "application/vnd.jupyter.widget-view+json": {
       "model_id": "b1e871b050b24d6ea6e5801f25a691c4",
       "version_major": 2,
       "version_minor": 0
      },
      "text/plain": [
       "interactive(children=(FloatSlider(value=0.0, description='expand', max=2.5, min=-0.5), FloatSlider(value=0.0, …"
      ]
     },
     "metadata": {},
     "output_type": "display_data"
    }
   ],
   "source": [
    "from ipywidgets import interact, interactive, fixed, interact_manual\n",
    "\n",
    "def epplt(epoch, expand=0, rshift=0, lshift=0, merge=False, complement=False):\n",
    "    fig = plt.figure(figsize=(25,1))\n",
    "    ax = fig.add_subplot(111)\n",
    "    \n",
    "    epoch = epoch + expand\n",
    "    epoch = epoch >> rshift\n",
    "    epoch = epoch << lshift\n",
    "    if merge:\n",
    "        epoch = epoch.merge()\n",
    "    if complement:\n",
    "        epoch = ~epoch\n",
    "    ax = npl.epochplot(epoch)\n",
    "    ax.set_xlim(epoch.domain.start, epoch.domain.stop)\n",
    "    npl.utils.clear_left_right(ax)\n",
    "    npl.utils.clear_top(ax)\n",
    "\n",
    "\n",
    "interact(epplt, epoch=fixed(ripple_epoch), expand=(-0.5,2.5,0.1), rshift=(0,12.5,0.5), lshift=(0,12,0.5), merge=False, complement=False);\n"
   ]
  },
  {
   "cell_type": "code",
   "execution_count": 1,
   "metadata": {},
   "outputs": [
    {
     "name": "stderr",
     "output_type": "stream",
     "text": [
      "c:\\Users\\Cornell\\anaconda3\\envs\\ripple_diversity\\lib\\site-packages\\nelpy\\plotting\\decoding.py:9: MatplotlibDeprecationWarning: \n",
      "The mpl_toolkits.axes_grid module was deprecated in Matplotlib 2.1 and will be removed two minor releases later. Use mpl_toolkits.axes_grid1 and mpl_toolkits.axisartist, which provide the same functionality instead.\n"
     ]
    }
   ],
   "source": [
    "from ripple_heterogeneity.replay import replay_run, replay_fig, replay_participation\n"
   ]
  },
  {
   "cell_type": "code",
   "execution_count": 4,
   "metadata": {},
   "outputs": [
    {
     "ename": "ValueError",
     "evalue": "Item wrong length 811 instead of 815.",
     "output_type": "error",
     "traceback": [
      "\u001b[1;31m---------------------------------------------------------------------------\u001b[0m",
      "\u001b[1;31mValueError\u001b[0m                                Traceback (most recent call last)",
      "\u001b[1;32m~\\AppData\\Local\\Temp\\ipykernel_23648\\1963869436.py\u001b[0m in \u001b[0;36m<module>\u001b[1;34m\u001b[0m\n\u001b[0;32m      1\u001b[0m \u001b[0msave_path\u001b[0m \u001b[1;33m=\u001b[0m \u001b[1;34mr\"Z:\\home\\ryanh\\projects\\ripple_heterogeneity\\replay\"\u001b[0m\u001b[1;33m\u001b[0m\u001b[1;33m\u001b[0m\u001b[0m\n\u001b[1;32m----> 2\u001b[1;33m \u001b[0mresults\u001b[0m \u001b[1;33m=\u001b[0m \u001b[0mreplay_run\u001b[0m\u001b[1;33m.\u001b[0m\u001b[0mrun_all\u001b[0m\u001b[1;33m(\u001b[0m\u001b[1;34mr\"Z:\\Data\\AYAold\\AB1\\day1\"\u001b[0m\u001b[1;33m,\u001b[0m\u001b[0mplace_cell_peak_mean_ratio\u001b[0m\u001b[1;33m=\u001b[0m\u001b[1;36m1\u001b[0m\u001b[1;33m,\u001b[0m\u001b[0mtraj_shuff\u001b[0m\u001b[1;33m=\u001b[0m\u001b[1;36m1000\u001b[0m\u001b[1;33m)\u001b[0m\u001b[1;33m\u001b[0m\u001b[1;33m\u001b[0m\u001b[0m\n\u001b[0m\u001b[0;32m      3\u001b[0m \u001b[1;33m\u001b[0m\u001b[0m\n\u001b[0;32m      4\u001b[0m \u001b[1;31m# batch_analysis.run(\u001b[0m\u001b[1;33m\u001b[0m\u001b[1;33m\u001b[0m\u001b[1;33m\u001b[0m\u001b[0m\n\u001b[0;32m      5\u001b[0m \u001b[1;31m#     df,\u001b[0m\u001b[1;33m\u001b[0m\u001b[1;33m\u001b[0m\u001b[1;33m\u001b[0m\u001b[0m\n",
      "\u001b[1;32md:\\github\\ripple_heterogeneity\\ripple_heterogeneity\\replay\\replay_run.py\u001b[0m in \u001b[0;36mrun_all\u001b[1;34m(basepath, traj_shuff, behav_shuff, ds_50ms, s_binsize, speed_thres, min_rip_dur, place_cell_min_rate, place_cell_min_spks, place_cell_peak_mean_ratio, replay_binsize, tuning_curve_sigma, expand_canidate_by_mua)\u001b[0m\n\u001b[0;32m    511\u001b[0m         \u001b[0mn_active\u001b[0m \u001b[1;33m=\u001b[0m \u001b[0mn_active\u001b[0m\u001b[1;33m[\u001b[0m\u001b[0midx\u001b[0m\u001b[1;33m]\u001b[0m\u001b[1;33m\u001b[0m\u001b[1;33m\u001b[0m\u001b[0m\n\u001b[0;32m    512\u001b[0m         \u001b[0minactive_bin_prop\u001b[0m \u001b[1;33m=\u001b[0m \u001b[0minactive_bin_prop\u001b[0m\u001b[1;33m[\u001b[0m\u001b[0midx\u001b[0m\u001b[1;33m]\u001b[0m\u001b[1;33m\u001b[0m\u001b[1;33m\u001b[0m\u001b[0m\n\u001b[1;32m--> 513\u001b[1;33m         \u001b[0mcurrent_ripples\u001b[0m \u001b[1;33m=\u001b[0m \u001b[0mripples\u001b[0m\u001b[1;33m[\u001b[0m\u001b[0midx\u001b[0m\u001b[1;33m]\u001b[0m\u001b[1;33m\u001b[0m\u001b[1;33m\u001b[0m\u001b[0m\n\u001b[0m\u001b[0;32m    514\u001b[0m \u001b[1;33m\u001b[0m\u001b[0m\n\u001b[0;32m    515\u001b[0m         \u001b[1;31m# decode each ripple event\u001b[0m\u001b[1;33m\u001b[0m\u001b[1;33m\u001b[0m\u001b[1;33m\u001b[0m\u001b[0m\n",
      "\u001b[1;32mc:\\Users\\Cornell\\anaconda3\\envs\\ripple_diversity\\lib\\site-packages\\pandas\\core\\frame.py\u001b[0m in \u001b[0;36m__getitem__\u001b[1;34m(self, key)\u001b[0m\n\u001b[0;32m   3494\u001b[0m         \u001b[1;31m# Do we have a (boolean) 1d indexer?\u001b[0m\u001b[1;33m\u001b[0m\u001b[1;33m\u001b[0m\u001b[1;33m\u001b[0m\u001b[0m\n\u001b[0;32m   3495\u001b[0m         \u001b[1;32mif\u001b[0m \u001b[0mcom\u001b[0m\u001b[1;33m.\u001b[0m\u001b[0mis_bool_indexer\u001b[0m\u001b[1;33m(\u001b[0m\u001b[0mkey\u001b[0m\u001b[1;33m)\u001b[0m\u001b[1;33m:\u001b[0m\u001b[1;33m\u001b[0m\u001b[1;33m\u001b[0m\u001b[0m\n\u001b[1;32m-> 3496\u001b[1;33m             \u001b[1;32mreturn\u001b[0m \u001b[0mself\u001b[0m\u001b[1;33m.\u001b[0m\u001b[0m_getitem_bool_array\u001b[0m\u001b[1;33m(\u001b[0m\u001b[0mkey\u001b[0m\u001b[1;33m)\u001b[0m\u001b[1;33m\u001b[0m\u001b[1;33m\u001b[0m\u001b[0m\n\u001b[0m\u001b[0;32m   3497\u001b[0m \u001b[1;33m\u001b[0m\u001b[0m\n\u001b[0;32m   3498\u001b[0m         \u001b[1;31m# We are left with two options: a single key, and a collection of keys,\u001b[0m\u001b[1;33m\u001b[0m\u001b[1;33m\u001b[0m\u001b[1;33m\u001b[0m\u001b[0m\n",
      "\u001b[1;32mc:\\Users\\Cornell\\anaconda3\\envs\\ripple_diversity\\lib\\site-packages\\pandas\\core\\frame.py\u001b[0m in \u001b[0;36m_getitem_bool_array\u001b[1;34m(self, key)\u001b[0m\n\u001b[0;32m   3541\u001b[0m             )\n\u001b[0;32m   3542\u001b[0m         \u001b[1;32melif\u001b[0m \u001b[0mlen\u001b[0m\u001b[1;33m(\u001b[0m\u001b[0mkey\u001b[0m\u001b[1;33m)\u001b[0m \u001b[1;33m!=\u001b[0m \u001b[0mlen\u001b[0m\u001b[1;33m(\u001b[0m\u001b[0mself\u001b[0m\u001b[1;33m.\u001b[0m\u001b[0mindex\u001b[0m\u001b[1;33m)\u001b[0m\u001b[1;33m:\u001b[0m\u001b[1;33m\u001b[0m\u001b[1;33m\u001b[0m\u001b[0m\n\u001b[1;32m-> 3543\u001b[1;33m             raise ValueError(\n\u001b[0m\u001b[0;32m   3544\u001b[0m                 \u001b[1;34mf\"Item wrong length {len(key)} instead of {len(self.index)}.\"\u001b[0m\u001b[1;33m\u001b[0m\u001b[1;33m\u001b[0m\u001b[0m\n\u001b[0;32m   3545\u001b[0m             )\n",
      "\u001b[1;31mValueError\u001b[0m: Item wrong length 811 instead of 815."
     ]
    }
   ],
   "source": [
    "save_path = r\"Z:\\home\\ryanh\\projects\\ripple_heterogeneity\\replay\"\n",
    "results = replay_run.run_all(r\"Z:\\Data\\AYAold\\AB1\\day1\",place_cell_peak_mean_ratio=1,traj_shuff=1000)\n",
    "\n",
    "# batch_analysis.run(\n",
    "#     df,\n",
    "#     save_path,\n",
    "#     replay_run.run_all,\n",
    "#     parallel=True,\n",
    "#     traj_shuff=1000,\n",
    "#     verbose=True,\n",
    "#     place_cell_peak_mean_ratio=1,\n",
    "# )"
   ]
  },
  {
   "cell_type": "code",
   "execution_count": null,
   "metadata": {},
   "outputs": [],
   "source": []
  },
  {
   "cell_type": "code",
   "execution_count": null,
   "metadata": {},
   "outputs": [],
   "source": []
  },
  {
   "cell_type": "code",
   "execution_count": null,
   "metadata": {},
   "outputs": [],
   "source": []
  },
  {
   "cell_type": "code",
   "execution_count": 6,
   "metadata": {},
   "outputs": [
    {
     "data": {
      "text/html": [
       "<div>\n",
       "<style scoped>\n",
       "    .dataframe tbody tr th:only-of-type {\n",
       "        vertical-align: middle;\n",
       "    }\n",
       "\n",
       "    .dataframe tbody tr th {\n",
       "        vertical-align: top;\n",
       "    }\n",
       "\n",
       "    .dataframe thead th {\n",
       "        text-align: right;\n",
       "    }\n",
       "</style>\n",
       "<table border=\"1\" class=\"dataframe\">\n",
       "  <thead>\n",
       "    <tr style=\"text-align: right;\">\n",
       "      <th></th>\n",
       "      <th>basepath</th>\n",
       "    </tr>\n",
       "  </thead>\n",
       "  <tbody>\n",
       "    <tr>\n",
       "      <th>0</th>\n",
       "      <td>Z:\\Data\\Can\\OML22\\day6</td>\n",
       "    </tr>\n",
       "    <tr>\n",
       "      <th>1</th>\n",
       "      <td>Z:\\Data\\Can\\OML22\\day7</td>\n",
       "    </tr>\n",
       "    <tr>\n",
       "      <th>2</th>\n",
       "      <td>Z:\\Data\\Can\\OML22\\day8</td>\n",
       "    </tr>\n",
       "    <tr>\n",
       "      <th>3</th>\n",
       "      <td>Z:\\Data\\Can\\OML22\\day19</td>\n",
       "    </tr>\n",
       "    <tr>\n",
       "      <th>4</th>\n",
       "      <td>Z:\\Data\\Can\\OML22\\day20</td>\n",
       "    </tr>\n",
       "  </tbody>\n",
       "</table>\n",
       "</div>"
      ],
      "text/plain": [
       "                  basepath\n",
       "0   Z:\\Data\\Can\\OML22\\day6\n",
       "1   Z:\\Data\\Can\\OML22\\day7\n",
       "2   Z:\\Data\\Can\\OML22\\day8\n",
       "3  Z:\\Data\\Can\\OML22\\day19\n",
       "4  Z:\\Data\\Can\\OML22\\day20"
      ]
     },
     "execution_count": 6,
     "metadata": {},
     "output_type": "execute_result"
    }
   ],
   "source": [
    "import pandas as pd\n",
    "from ripple_heterogeneity.utils import loading\n",
    "df = pd.DataFrame()\n",
    "df[\"basepath\"] = [\n",
    "    \"Z:\\Data\\Can\\OML22\\day6\",\n",
    "    \"Z:\\Data\\Can\\OML22\\day7\",\n",
    "    \"Z:\\Data\\Can\\OML22\\day8\",\n",
    "    \"Z:\\Data\\Can\\OML22\\day19\",\n",
    "    \"Z:\\Data\\Can\\OML22\\day20\",\n",
    "]\n",
    "df"
   ]
  },
  {
   "cell_type": "code",
   "execution_count": 12,
   "metadata": {},
   "outputs": [
    {
     "data": {
      "text/html": [
       "<div>\n",
       "<style scoped>\n",
       "    .dataframe tbody tr th:only-of-type {\n",
       "        vertical-align: middle;\n",
       "    }\n",
       "\n",
       "    .dataframe tbody tr th {\n",
       "        vertical-align: top;\n",
       "    }\n",
       "\n",
       "    .dataframe thead th {\n",
       "        text-align: right;\n",
       "    }\n",
       "</style>\n",
       "<table border=\"1\" class=\"dataframe\">\n",
       "  <thead>\n",
       "    <tr style=\"text-align: right;\">\n",
       "      <th></th>\n",
       "      <th>name</th>\n",
       "      <th>startTime</th>\n",
       "      <th>stopTime</th>\n",
       "      <th>environment</th>\n",
       "      <th>basepath</th>\n",
       "    </tr>\n",
       "  </thead>\n",
       "  <tbody>\n",
       "    <tr>\n",
       "      <th>0</th>\n",
       "      <td>preSleep</td>\n",
       "      <td>0.0000</td>\n",
       "      <td>3216.78715</td>\n",
       "      <td>home</td>\n",
       "      <td>Z:\\Data\\Can\\OML22\\day6</td>\n",
       "    </tr>\n",
       "    <tr>\n",
       "      <th>1</th>\n",
       "      <td>preSleep2</td>\n",
       "      <td>3216.7872</td>\n",
       "      <td>9206.77755</td>\n",
       "      <td>home</td>\n",
       "      <td>Z:\\Data\\Can\\OML22\\day6</td>\n",
       "    </tr>\n",
       "    <tr>\n",
       "      <th>2</th>\n",
       "      <td>linear</td>\n",
       "      <td>9206.7776</td>\n",
       "      <td>11069.67675</td>\n",
       "      <td>linear</td>\n",
       "      <td>Z:\\Data\\Can\\OML22\\day6</td>\n",
       "    </tr>\n",
       "    <tr>\n",
       "      <th>3</th>\n",
       "      <td>postSleep</td>\n",
       "      <td>11069.6768</td>\n",
       "      <td>19454.13755</td>\n",
       "      <td>home</td>\n",
       "      <td>Z:\\Data\\Can\\OML22\\day6</td>\n",
       "    </tr>\n",
       "    <tr>\n",
       "      <th>4</th>\n",
       "      <td>preSleep</td>\n",
       "      <td>0.0000</td>\n",
       "      <td>6001.17115</td>\n",
       "      <td>home</td>\n",
       "      <td>Z:\\Data\\Can\\OML22\\day7</td>\n",
       "    </tr>\n",
       "    <tr>\n",
       "      <th>5</th>\n",
       "      <td>preSleep2</td>\n",
       "      <td>6001.1712</td>\n",
       "      <td>8852.58235</td>\n",
       "      <td>home</td>\n",
       "      <td>Z:\\Data\\Can\\OML22\\day7</td>\n",
       "    </tr>\n",
       "    <tr>\n",
       "      <th>6</th>\n",
       "      <td>linear</td>\n",
       "      <td>8852.5824</td>\n",
       "      <td>10341.04955</td>\n",
       "      <td>linear</td>\n",
       "      <td>Z:\\Data\\Can\\OML22\\day7</td>\n",
       "    </tr>\n",
       "    <tr>\n",
       "      <th>7</th>\n",
       "      <td>linear2</td>\n",
       "      <td>10341.0496</td>\n",
       "      <td>11071.05275</td>\n",
       "      <td>linear</td>\n",
       "      <td>Z:\\Data\\Can\\OML22\\day7</td>\n",
       "    </tr>\n",
       "    <tr>\n",
       "      <th>8</th>\n",
       "      <td>postSleep</td>\n",
       "      <td>11071.0528</td>\n",
       "      <td>20971.07195</td>\n",
       "      <td>home</td>\n",
       "      <td>Z:\\Data\\Can\\OML22\\day7</td>\n",
       "    </tr>\n",
       "    <tr>\n",
       "      <th>9</th>\n",
       "      <td>preSleep</td>\n",
       "      <td>0.0000</td>\n",
       "      <td>8338.35515</td>\n",
       "      <td>home</td>\n",
       "      <td>Z:\\Data\\Can\\OML22\\day8</td>\n",
       "    </tr>\n",
       "    <tr>\n",
       "      <th>10</th>\n",
       "      <td>linear</td>\n",
       "      <td>8338.3552</td>\n",
       "      <td>10328.87035</td>\n",
       "      <td>linear</td>\n",
       "      <td>Z:\\Data\\Can\\OML22\\day8</td>\n",
       "    </tr>\n",
       "    <tr>\n",
       "      <th>11</th>\n",
       "      <td>postSleep</td>\n",
       "      <td>10328.8704</td>\n",
       "      <td>20973.62555</td>\n",
       "      <td>home</td>\n",
       "      <td>Z:\\Data\\Can\\OML22\\day8</td>\n",
       "    </tr>\n",
       "    <tr>\n",
       "      <th>12</th>\n",
       "      <td>preSleep</td>\n",
       "      <td>0.0000</td>\n",
       "      <td>9961.61915</td>\n",
       "      <td>home</td>\n",
       "      <td>Z:\\Data\\Can\\OML22\\day19</td>\n",
       "    </tr>\n",
       "    <tr>\n",
       "      <th>13</th>\n",
       "      <td>linear</td>\n",
       "      <td>9961.6192</td>\n",
       "      <td>11393.22235</td>\n",
       "      <td>linear</td>\n",
       "      <td>Z:\\Data\\Can\\OML22\\day19</td>\n",
       "    </tr>\n",
       "    <tr>\n",
       "      <th>14</th>\n",
       "      <td>linear</td>\n",
       "      <td>11393.2224</td>\n",
       "      <td>12466.06715</td>\n",
       "      <td>linear</td>\n",
       "      <td>Z:\\Data\\Can\\OML22\\day19</td>\n",
       "    </tr>\n",
       "    <tr>\n",
       "      <th>15</th>\n",
       "      <td>postSleep</td>\n",
       "      <td>12466.0672</td>\n",
       "      <td>20530.71995</td>\n",
       "      <td>home</td>\n",
       "      <td>Z:\\Data\\Can\\OML22\\day19</td>\n",
       "    </tr>\n",
       "    <tr>\n",
       "      <th>16</th>\n",
       "      <td>preSleep</td>\n",
       "      <td>0.0000</td>\n",
       "      <td>10256.33915</td>\n",
       "      <td>home</td>\n",
       "      <td>Z:\\Data\\Can\\OML22\\day20</td>\n",
       "    </tr>\n",
       "    <tr>\n",
       "      <th>17</th>\n",
       "      <td>linear</td>\n",
       "      <td>10256.3392</td>\n",
       "      <td>11775.75035</td>\n",
       "      <td>linear</td>\n",
       "      <td>Z:\\Data\\Can\\OML22\\day20</td>\n",
       "    </tr>\n",
       "    <tr>\n",
       "      <th>18</th>\n",
       "      <td>linear</td>\n",
       "      <td>11775.7504</td>\n",
       "      <td>12572.18555</td>\n",
       "      <td>linear</td>\n",
       "      <td>Z:\\Data\\Can\\OML22\\day20</td>\n",
       "    </tr>\n",
       "    <tr>\n",
       "      <th>19</th>\n",
       "      <td>postSleep</td>\n",
       "      <td>12572.1856</td>\n",
       "      <td>22894.28475</td>\n",
       "      <td>home</td>\n",
       "      <td>Z:\\Data\\Can\\OML22\\day20</td>\n",
       "    </tr>\n",
       "  </tbody>\n",
       "</table>\n",
       "</div>"
      ],
      "text/plain": [
       "         name   startTime     stopTime environment                 basepath\n",
       "0    preSleep      0.0000   3216.78715        home   Z:\\Data\\Can\\OML22\\day6\n",
       "1   preSleep2   3216.7872   9206.77755        home   Z:\\Data\\Can\\OML22\\day6\n",
       "2      linear   9206.7776  11069.67675      linear   Z:\\Data\\Can\\OML22\\day6\n",
       "3   postSleep  11069.6768  19454.13755        home   Z:\\Data\\Can\\OML22\\day6\n",
       "4    preSleep      0.0000   6001.17115        home   Z:\\Data\\Can\\OML22\\day7\n",
       "5   preSleep2   6001.1712   8852.58235        home   Z:\\Data\\Can\\OML22\\day7\n",
       "6      linear   8852.5824  10341.04955      linear   Z:\\Data\\Can\\OML22\\day7\n",
       "7     linear2  10341.0496  11071.05275      linear   Z:\\Data\\Can\\OML22\\day7\n",
       "8   postSleep  11071.0528  20971.07195        home   Z:\\Data\\Can\\OML22\\day7\n",
       "9    preSleep      0.0000   8338.35515        home   Z:\\Data\\Can\\OML22\\day8\n",
       "10     linear   8338.3552  10328.87035      linear   Z:\\Data\\Can\\OML22\\day8\n",
       "11  postSleep  10328.8704  20973.62555        home   Z:\\Data\\Can\\OML22\\day8\n",
       "12   preSleep      0.0000   9961.61915        home  Z:\\Data\\Can\\OML22\\day19\n",
       "13     linear   9961.6192  11393.22235      linear  Z:\\Data\\Can\\OML22\\day19\n",
       "14     linear  11393.2224  12466.06715      linear  Z:\\Data\\Can\\OML22\\day19\n",
       "15  postSleep  12466.0672  20530.71995        home  Z:\\Data\\Can\\OML22\\day19\n",
       "16   preSleep      0.0000  10256.33915        home  Z:\\Data\\Can\\OML22\\day20\n",
       "17     linear  10256.3392  11775.75035      linear  Z:\\Data\\Can\\OML22\\day20\n",
       "18     linear  11775.7504  12572.18555      linear  Z:\\Data\\Can\\OML22\\day20\n",
       "19  postSleep  12572.1856  22894.28475        home  Z:\\Data\\Can\\OML22\\day20"
      ]
     },
     "execution_count": 12,
     "metadata": {},
     "output_type": "execute_result"
    }
   ],
   "source": [
    "ep_df = pd.DataFrame()\n",
    "for basepath in df.basepath:\n",
    "    ep_df_temp = loading.load_epoch(basepath)\n",
    "    ep_df_temp['basepath'] = basepath\n",
    "    ep_df = pd.concat([ep_df, ep_df_temp],ignore_index=True)\n",
    "\n",
    "ep_df"
   ]
  }
 ],
 "metadata": {
  "interpreter": {
   "hash": "07484756fddac7bd59393d4118357304c260afb75bd53ff0a49292dc7b401b16"
  },
  "kernelspec": {
   "display_name": "Python 3.8.10 ('ripple_diversity')",
   "language": "python",
   "name": "python3"
  },
  "language_info": {
   "codemirror_mode": {
    "name": "ipython",
    "version": 3
   },
   "file_extension": ".py",
   "mimetype": "text/x-python",
   "name": "python",
   "nbconvert_exporter": "python",
   "pygments_lexer": "ipython3",
   "version": "3.8.10"
  },
  "orig_nbformat": 4
 },
 "nbformat": 4,
 "nbformat_minor": 2
}
