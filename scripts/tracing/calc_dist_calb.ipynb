{
 "cells": [
  {
   "cell_type": "code",
   "execution_count": 7,
   "metadata": {},
   "outputs": [],
   "source": [
    "%reload_ext autoreload\n",
    "%autoreload 2\n",
    "\n",
    "import pandas as pd\n",
    "import numpy as np\n",
    "import glob\n",
    "import os\n",
    "from ripple_heterogeneity.utils import functions\n",
    "import matplotlib.pyplot as plt\n",
    "import seaborn as sns\n",
    "from scipy.stats import ranksums\n",
    "\n",
    "%matplotlib inline\n",
    "%config InlineBackend.figure_format = 'retina'\n",
    "fig_save_path = r'Z:\\home\\ryanh\\projects\\ripple_heterogeneity\\figures\\panels'\n",
    "functions.set_plotting_defaults()"
   ]
  },
  {
   "cell_type": "markdown",
   "metadata": {},
   "source": [
    "## find data files"
   ]
  },
  {
   "cell_type": "code",
   "execution_count": 8,
   "metadata": {},
   "outputs": [],
   "source": [
    "\n",
    "files = glob.glob(r\"Z:\\home\\Heath\\Viral_tracing\\CTB\\CALB1\\calb1_analysis\\**/*.csv\",recursive=True)\n",
    "\n",
    "dirnames = [os.path.dirname(file) for file in files]\n",
    "dirnames = np.unique(dirnames)"
   ]
  },
  {
   "cell_type": "markdown",
   "metadata": {},
   "source": [
    "## load data"
   ]
  },
  {
   "cell_type": "code",
   "execution_count": 9,
   "metadata": {},
   "outputs": [
    {
     "ename": "AttributeError",
     "evalue": "'DataFrame' object has no attribute 'Y'",
     "output_type": "error",
     "traceback": [
      "\u001b[1;31m---------------------------------------------------------------------------\u001b[0m",
      "\u001b[1;31mAttributeError\u001b[0m                            Traceback (most recent call last)",
      "\u001b[1;32mc:\\Users\\Cornell\\Documents\\GitHub\\ripple_heterogeneity\\scripts\\tracing\\calc_dist_calb.ipynb Cell 5\u001b[0m in \u001b[0;36m<module>\u001b[1;34m\u001b[0m\n\u001b[0;32m     <a href='vscode-notebook-cell:/c%3A/Users/Cornell/Documents/GitHub/ripple_heterogeneity/scripts/tracing/calc_dist_calb.ipynb#W5sZmlsZQ%3D%3D?line=23'>24</a>\u001b[0m         df_temp[\u001b[39m\"\u001b[39m\u001b[39mfolder_name\u001b[39m\u001b[39m\"\u001b[39m] \u001b[39m=\u001b[39m dirname\n\u001b[0;32m     <a href='vscode-notebook-cell:/c%3A/Users/Cornell/Documents/GitHub/ripple_heterogeneity/scripts/tracing/calc_dist_calb.ipynb#W5sZmlsZQ%3D%3D?line=24'>25</a>\u001b[0m         df \u001b[39m=\u001b[39m pd\u001b[39m.\u001b[39mconcat([df,df_temp],ignore_index\u001b[39m=\u001b[39m\u001b[39mTrue\u001b[39;00m)\n\u001b[1;32m---> <a href='vscode-notebook-cell:/c%3A/Users/Cornell/Documents/GitHub/ripple_heterogeneity/scripts/tracing/calc_dist_calb.ipynb#W5sZmlsZQ%3D%3D?line=26'>27</a>\u001b[0m     df\u001b[39m.\u001b[39mloc[df\u001b[39m.\u001b[39mfolder_name \u001b[39m==\u001b[39m dirname,\u001b[39m\"\u001b[39m\u001b[39mlayer_rad_y\u001b[39m\u001b[39m\"\u001b[39m] \u001b[39m=\u001b[39m layer_id\u001b[39m.\u001b[39;49mY\u001b[39m.\u001b[39miloc[\u001b[39m0\u001b[39m]\n\u001b[0;32m     <a href='vscode-notebook-cell:/c%3A/Users/Cornell/Documents/GitHub/ripple_heterogeneity/scripts/tracing/calc_dist_calb.ipynb#W5sZmlsZQ%3D%3D?line=27'>28</a>\u001b[0m     df\u001b[39m.\u001b[39mloc[df\u001b[39m.\u001b[39mfolder_name \u001b[39m==\u001b[39m dirname,\u001b[39m\"\u001b[39m\u001b[39mlayer_or_y\u001b[39m\u001b[39m\"\u001b[39m] \u001b[39m=\u001b[39m layer_id\u001b[39m.\u001b[39mY\u001b[39m.\u001b[39miloc[\u001b[39m1\u001b[39m]\n\u001b[0;32m     <a href='vscode-notebook-cell:/c%3A/Users/Cornell/Documents/GitHub/ripple_heterogeneity/scripts/tracing/calc_dist_calb.ipynb#W5sZmlsZQ%3D%3D?line=29'>30</a>\u001b[0m df[\u001b[39m\"\u001b[39m\u001b[39mnormalized_dist\u001b[39m\u001b[39m\"\u001b[39m] \u001b[39m=\u001b[39m np\u001b[39m.\u001b[39mabs(df\u001b[39m.\u001b[39mY \u001b[39m-\u001b[39m df\u001b[39m.\u001b[39mlayer_rad_y) \u001b[39m/\u001b[39m \u001b[39mabs\u001b[39m(df\u001b[39m.\u001b[39mlayer_rad_y \u001b[39m-\u001b[39m df\u001b[39m.\u001b[39mlayer_or_y)\n",
      "File \u001b[1;32mc:\\Users\\Cornell\\anaconda3\\envs\\heath_OJR\\lib\\site-packages\\pandas\\core\\generic.py:5575\u001b[0m, in \u001b[0;36mNDFrame.__getattr__\u001b[1;34m(self, name)\u001b[0m\n\u001b[0;32m   5568\u001b[0m \u001b[39mif\u001b[39;00m (\n\u001b[0;32m   5569\u001b[0m     name \u001b[39mnot\u001b[39;00m \u001b[39min\u001b[39;00m \u001b[39mself\u001b[39m\u001b[39m.\u001b[39m_internal_names_set\n\u001b[0;32m   5570\u001b[0m     \u001b[39mand\u001b[39;00m name \u001b[39mnot\u001b[39;00m \u001b[39min\u001b[39;00m \u001b[39mself\u001b[39m\u001b[39m.\u001b[39m_metadata\n\u001b[0;32m   5571\u001b[0m     \u001b[39mand\u001b[39;00m name \u001b[39mnot\u001b[39;00m \u001b[39min\u001b[39;00m \u001b[39mself\u001b[39m\u001b[39m.\u001b[39m_accessors\n\u001b[0;32m   5572\u001b[0m     \u001b[39mand\u001b[39;00m \u001b[39mself\u001b[39m\u001b[39m.\u001b[39m_info_axis\u001b[39m.\u001b[39m_can_hold_identifiers_and_holds_name(name)\n\u001b[0;32m   5573\u001b[0m ):\n\u001b[0;32m   5574\u001b[0m     \u001b[39mreturn\u001b[39;00m \u001b[39mself\u001b[39m[name]\n\u001b[1;32m-> 5575\u001b[0m \u001b[39mreturn\u001b[39;00m \u001b[39mobject\u001b[39;49m\u001b[39m.\u001b[39;49m\u001b[39m__getattribute__\u001b[39;49m(\u001b[39mself\u001b[39;49m, name)\n",
      "\u001b[1;31mAttributeError\u001b[0m: 'DataFrame' object has no attribute 'Y'"
     ]
    }
   ],
   "source": [
    "df = pd.DataFrame()\n",
    "for dirname in dirnames:\n",
    "    layer_id = pd.read_csv(glob.glob(os.path.join(dirname,\"*layerID.csv\"))[0])\n",
    "\n",
    "    red_cells_file = glob.glob(os.path.join(dirname,\"*redcells.csv\"))\n",
    "    green_cells_file = glob.glob(os.path.join(dirname,\"*greencells.csv\"))\n",
    "    colabel_cells_file = glob.glob(os.path.join(dirname,\"*colabel.csv\"))\n",
    "\n",
    "    if len(red_cells_file) > 0:\n",
    "        df_temp = pd.read_csv(red_cells_file[0])\n",
    "        df_temp[\"color\"] = \"red\"\n",
    "        df_temp[\"folder_name\"] = dirname\n",
    "        df = pd.concat([df,df_temp],ignore_index=True)\n",
    "\n",
    "    if len(green_cells_file) > 0:\n",
    "        df_temp = pd.read_csv(green_cells_file[0])\n",
    "        df_temp[\"color\"] = \"green\"\n",
    "        df_temp[\"folder_name\"] = dirname\n",
    "        df = pd.concat([df,df_temp],ignore_index=True)\n",
    "\n",
    "    if len(colabel_cells_file) > 0:\n",
    "        df_temp = pd.read_csv(colabel_cells_file[0])\n",
    "        df_temp[\"color\"] = \"co_label\"\n",
    "        df_temp[\"folder_name\"] = dirname\n",
    "        df = pd.concat([df,df_temp],ignore_index=True)\n",
    "\n",
    "    df.loc[df.folder_name == dirname,\"layer_rad_y\"] = layer_id.Y.iloc[0]\n",
    "    df.loc[df.folder_name == dirname,\"layer_or_y\"] = layer_id.Y.iloc[1]\n",
    "\n",
    "df[\"normalized_dist\"] = np.abs(df.Y - df.layer_rad_y) / abs(df.layer_rad_y - df.layer_or_y)\n",
    "df"
   ]
  },
  {
   "cell_type": "markdown",
   "metadata": {},
   "source": [
    "## plot smoothed distribution of distances per projection type"
   ]
  },
  {
   "cell_type": "code",
   "execution_count": null,
   "metadata": {},
   "outputs": [],
   "source": [
    "h,w = functions.set_size(\"thesis\", fraction=.55, subplots=(1, 1))\n",
    "\n",
    "group_colors = {\"red\": \"#f9021a\", \"green\": \"#18ff5e\",\"co_label\":\"#f7e400\"}\n",
    "sns.set_palette(sns.color_palette(group_colors.values()))\n",
    "\n",
    "sns.displot(df, y=\"normalized_dist\", hue=\"color\",hue_order=group_colors, kind=\"kde\", fill=False,common_norm=False,height=h,aspect=w/h,alpha=1)\n",
    "plt.axhline(0,color=\"k\",linestyle=\"--\")\n",
    "plt.axhline(1,color=\"k\",linestyle=\"--\")\n",
    "plt.xlabel(\"density of labelled CA1 cells\")\n",
    "plt.ylabel(\"normalized depth\")\n",
    "\n",
    "plt.savefig(os.path.join(fig_save_path,'normalized_depth_labelled_ca1_cells.svg'),dpi=300,bbox_inches='tight')\n"
   ]
  },
  {
   "cell_type": "markdown",
   "metadata": {},
   "source": [
    "## rank sum test between green and red distance"
   ]
  },
  {
   "cell_type": "code",
   "execution_count": null,
   "metadata": {},
   "outputs": [],
   "source": [
    "ranksums(df.query(\"color=='red'\").normalized_dist,df.query(\"color=='green'\").normalized_dist)"
   ]
  },
  {
   "cell_type": "markdown",
   "metadata": {},
   "source": [
    "## get proportions of cells "
   ]
  },
  {
   "cell_type": "code",
   "execution_count": null,
   "metadata": {},
   "outputs": [],
   "source": [
    "prop_df = df.groupby(\"color\").apply(lambda x: pd.Series({\"n_cells\":len(x)})).reset_index()\n",
    "prop_df[\"prop\"] = prop_df.n_cells / prop_df.n_cells.sum()\n",
    "prop_df[\"constant\"] = 1"
   ]
  },
  {
   "cell_type": "code",
   "execution_count": null,
   "metadata": {},
   "outputs": [],
   "source": [
    "plt.figure(figsize = functions.set_size(\"thesis\", fraction=.15, subplots=(2.5, 1)))\n",
    "\n",
    "sns.barplot(data=prop_df,x=\"constant\", hue=\"color\", y=\"prop\",hue_order=group_colors,edgecolor=\"k\",saturation=1)\n",
    "sns.despine(bottom=True)\n",
    "plt.ylabel(\"proportion of \\n labelled cells\")\n",
    "plt.xlabel(\"\")\n",
    "plt.savefig(os.path.join(fig_save_path,'prop_of_labelled_cells.svg'),dpi=300,bbox_inches='tight')\n"
   ]
  },
  {
   "cell_type": "markdown",
   "metadata": {},
   "source": [
    "## make distribution plot for each animal"
   ]
  },
  {
   "cell_type": "code",
   "execution_count": null,
   "metadata": {},
   "outputs": [],
   "source": [
    "h,w = functions.set_size(\"thesis\", fraction=.55, subplots=(1, 1))\n",
    "group_colors = {\"red\": \"#f9021a\", \"green\": \"#18ff5e\",\"co_label\":\"#f7e400\"}\n",
    "sns.set_palette(sns.color_palette(group_colors.values()))\n",
    "sns.displot(df.query(\"rat_id=='CTBR1'\"), y=\"normalized_dist\", hue=\"color\",hue_order=group_colors, kind=\"kde\", fill=False,common_norm=False,height=h,aspect=w/h,alpha=1)\n",
    "plt.axhline(0,color=\"k\",linestyle=\"--\")\n",
    "plt.axhline(1,color=\"k\",linestyle=\"--\")\n",
    "plt.xlabel(\"density of labeled CA1 cells\")\n",
    "plt.ylabel(\"normalized depth\")\n",
    "plt.ylim(-0.5,2.25)\n",
    "plt.xlim(0,2.75)\n",
    "plt.savefig(os.path.join(fig_save_path,'normalized_depth_labelled_ca1_cells_CTBR1.svg'),dpi=300,bbox_inches='tight')\n",
    "\n",
    "h,w = functions.set_size(\"thesis\", fraction=.55, subplots=(1, 1))\n",
    "group_colors = {\"red\": \"#f9021a\", \"green\": \"#18ff5e\",\"co_label\":\"#f7e400\"}\n",
    "sns.set_palette(sns.color_palette(group_colors.values()))\n",
    "sns.displot(df.query(\"rat_id=='CTBR2'\"), y=\"normalized_dist\", hue=\"color\",hue_order=group_colors, kind=\"kde\", fill=False,common_norm=False,height=h,aspect=w/h,alpha=1)\n",
    "plt.axhline(0,color=\"k\",linestyle=\"--\")\n",
    "plt.axhline(1,color=\"k\",linestyle=\"--\")\n",
    "plt.xlabel(\"density of labeled CA1 cells\")\n",
    "plt.ylabel(\"normalized depth\")\n",
    "plt.ylim(-0.5,2.25)\n",
    "plt.xlim(0,2.75)\n",
    "plt.savefig(os.path.join(fig_save_path,'normalized_depth_labelled_ca1_cells_CTBR2.svg'),dpi=300,bbox_inches='tight')\n",
    "\n",
    "h,w = functions.set_size(\"thesis\", fraction=.55, subplots=(1, 1))\n",
    "group_colors = {\"red\": \"#f9021a\", \"green\": \"#18ff5e\",\"co_label\":\"#f7e400\"}\n",
    "sns.set_palette(sns.color_palette(group_colors.values()))\n",
    "sns.displot(df.query(\"rat_id=='CTBR3'\"), y=\"normalized_dist\", hue=\"color\",hue_order=group_colors, kind=\"kde\", fill=False,common_norm=False,height=h,aspect=w/h,alpha=1)\n",
    "plt.axhline(0,color=\"k\",linestyle=\"--\")\n",
    "plt.axhline(1,color=\"k\",linestyle=\"--\")\n",
    "plt.xlabel(\"density of labeled CA1 cells\")\n",
    "plt.ylabel(\"normalized depth\")\n",
    "plt.ylim(-0.5,2.25)\n",
    "plt.xlim(0,2.75)\n",
    "plt.savefig(os.path.join(fig_save_path,'normalized_depth_labelled_ca1_cells_CTBR3.svg'),dpi=300,bbox_inches='tight')\n"
   ]
  },
  {
   "cell_type": "code",
   "execution_count": null,
   "metadata": {},
   "outputs": [],
   "source": [
    "ranksums(df.query(\"rat_id=='CTBR1' & color=='red'\").normalized_dist,df.query(\"rat_id=='CTBR1' & color=='green'\").normalized_dist)"
   ]
  },
  {
   "cell_type": "code",
   "execution_count": null,
   "metadata": {},
   "outputs": [],
   "source": [
    "ranksums(df.query(\"rat_id=='CTBR2' & color=='red'\").normalized_dist,df.query(\"rat_id=='CTBR2' & color=='green'\").normalized_dist)"
   ]
  }
 ],
 "metadata": {
  "kernelspec": {
   "display_name": "heath_OJR",
   "language": "python",
   "name": "python3"
  },
  "language_info": {
   "codemirror_mode": {
    "name": "ipython",
    "version": 3
   },
   "file_extension": ".py",
   "mimetype": "text/x-python",
   "name": "python",
   "nbconvert_exporter": "python",
   "pygments_lexer": "ipython3",
   "version": "3.10.0"
  },
  "orig_nbformat": 4,
  "vscode": {
   "interpreter": {
    "hash": "90c80b994fe31bbbbd3f1b6a736324203a637a51cf74a6e2e2a17b8dd990879f"
   }
  }
 },
 "nbformat": 4,
 "nbformat_minor": 2
}
