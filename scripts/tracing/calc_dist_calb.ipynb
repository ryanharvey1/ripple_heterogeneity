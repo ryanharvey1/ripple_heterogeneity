{
 "cells": [
  {
   "cell_type": "code",
   "execution_count": null,
   "metadata": {},
   "outputs": [],
   "source": [
    "%reload_ext autoreload\n",
    "%autoreload 2\n",
    "\n",
    "import pandas as pd\n",
    "import numpy as np\n",
    "import glob\n",
    "import os\n",
    "from ripple_heterogeneity.utils import functions\n",
    "import matplotlib.pyplot as plt\n",
    "import seaborn as sns\n",
    "from scipy.stats import ranksums\n",
    "from statsmodels.stats.proportion import proportions_ztest\n",
    "from statannotations.Annotator import Annotator\n",
    "\n",
    "%matplotlib inline\n",
    "%config InlineBackend.figure_format = 'retina'\n",
    "fig_save_path = r'Z:\\home\\ryanh\\projects\\ripple_heterogeneity\\figures\\panels' #change to v7\n",
    "functions.set_plotting_defaults()"
   ]
  },
  {
   "cell_type": "markdown",
   "metadata": {},
   "source": [
    "## find data files"
   ]
  },
  {
   "cell_type": "code",
   "execution_count": null,
   "metadata": {},
   "outputs": [],
   "source": [
    "\n",
    "files = glob.glob(r\"Z:\\home\\Heath\\Viral_tracing\\CTB\\CALB1\\calb1_analysis\\**/*.csv\",recursive=True)\n",
    "\n",
    "dirnames = [os.path.dirname(file) for file in files]\n",
    "dirnames = np.unique(dirnames)"
   ]
  },
  {
   "cell_type": "markdown",
   "metadata": {},
   "source": [
    "## load data"
   ]
  },
  {
   "cell_type": "code",
   "execution_count": null,
   "metadata": {},
   "outputs": [],
   "source": [
    "df = pd.DataFrame()\n",
    "for dirname in dirnames:\n",
    "    layer_id = pd.read_csv(glob.glob(os.path.join(dirname,\"*layerID.csv\"))[0])\n",
    "\n",
    "    red_cells_file = glob.glob(os.path.join(dirname,\"*redcells.csv\"))\n",
    "    green_cells_file = glob.glob(os.path.join(dirname,\"*greencells.csv\"))\n",
    "    colabel_cells_file = glob.glob(os.path.join(dirname,\"*colabel.csv\"))\n",
    "\n",
    "\n",
    "\n",
    "    if len(red_cells_file) > 0:\n",
    "        df_temp = pd.read_csv(red_cells_file[0])\n",
    "        df_temp[\"color\"] = \"red\"\n",
    "        df_temp[\"folder_name\"] = dirname\n",
    "        df = pd.concat([df,df_temp],ignore_index=True)\n",
    "\n",
    "    if len(green_cells_file) > 0:\n",
    "        df_temp = pd.read_csv(green_cells_file[0])\n",
    "        df_temp[\"color\"] = \"green\"\n",
    "        df_temp[\"folder_name\"] = dirname\n",
    "        df = pd.concat([df,df_temp],ignore_index=True)\n",
    "\n",
    "    if len(colabel_cells_file) > 0:\n",
    "        df_temp = pd.read_csv(colabel_cells_file[0])\n",
    "        df_temp[\"color\"] = \"co_label\"\n",
    "        df_temp[\"folder_name\"] = dirname\n",
    "        df = pd.concat([df,df_temp],ignore_index=True)\n",
    "\n",
    "\n",
    "\n",
    "    df.loc[df.folder_name == dirname,\"layer_rad_y\"] = layer_id.Y.iloc[0]\n",
    "    df.loc[df.folder_name == dirname,\"layer_or_y\"] = layer_id.Y.iloc[1]\n",
    "\n",
    "df[\"normalized_dist\"] = np.abs(df.Y - df.layer_rad_y) / abs(df.layer_rad_y - df.layer_or_y)\n",
    "df\n",
    "#df.to_csv(r\"C:\\Users\\Cornell\\Downloads\\df.csv\",index=False)"
   ]
  },
  {
   "cell_type": "code",
   "execution_count": null,
   "metadata": {},
   "outputs": [],
   "source": [
    "df_ind = pd.DataFrame()\n",
    "for dirname in dirnames:\n",
    "    layer_id = pd.read_csv(glob.glob(os.path.join(dirname,\"*layerID.csv\"))[0])\n",
    "\n",
    "\n",
    "    redalone_cells_file = glob.glob(os.path.join(dirname,\"*redalone.csv\"))\n",
    "    greenalone_cells_file = glob.glob(os.path.join(dirname,\"*greenalone.csv\"))\n",
    "\n",
    "    if len(redalone_cells_file) > 0:\n",
    "        df_temp = pd.read_csv(redalone_cells_file[0])\n",
    "        df_temp[\"color\"] = \"redalone\"\n",
    "        df_temp[\"folder_name\"] = dirname\n",
    "        df_ind = pd.concat([df_ind,df_temp],ignore_index=True)\n",
    "    if len(greenalone_cells_file) > 0:\n",
    "        df_temp = pd.read_csv(greenalone_cells_file[0])\n",
    "        df_temp[\"color\"] = \"greenalone\"\n",
    "        df_temp[\"folder_name\"] = dirname\n",
    "        df_ind = pd.concat([df_ind,df_temp],ignore_index=True)\n",
    "\n",
    "\n",
    "    df_ind.loc[df_ind.folder_name == dirname,\"layer_rad_y\"] = layer_id.Y.iloc[0]\n",
    "    df_ind.loc[df_ind.folder_name == dirname,\"layer_or_y\"] = layer_id.Y.iloc[1]\n",
    "\n",
    "df_ind[\"normalized_dist\"] = np.abs(df_ind.Y - df_ind.layer_rad_y) / abs(df_ind.layer_rad_y - df_ind.layer_or_y)\n",
    "df_ind"
   ]
  },
  {
   "cell_type": "code",
   "execution_count": null,
   "metadata": {},
   "outputs": [],
   "source": [
    "red_green_ranksums=ranksums(df.query(\"color=='Red-Calb'\").normalized_dist,df.query(\"color=='Green-Calb'\").normalized_dist)\n",
    "red_calb_ranksums=ranksums(df.query(\"color=='Red-Calb'\").normalized_dist,df.query(\"color=='Calb'\").normalized_dist)\n",
    "green_calb_ranksums=ranksums(df.query(\"color=='Green-Calb'\").normalized_dist,df.query(\"color=='Calb'\").normalized_dist)\n",
    "\n",
    "\n",
    "\n",
    "print(red_green_ranksums)\n",
    "print(red_calb_ranksums)\n",
    "print(green_calb_ranksums)\n"
   ]
  },
  {
   "cell_type": "markdown",
   "metadata": {},
   "source": [
    "## plot smoothed distribution of distances per projection type"
   ]
  },
  {
   "cell_type": "code",
   "execution_count": null,
   "metadata": {},
   "outputs": [],
   "source": [
    "h,w = functions.set_size(\"thesis\", fraction=.5, subplots=(1, 1))\n",
    "\n",
    "group_colors = {\"Red-Calb\": \"#f9021a\", \"Green-Calb\": \"#18ff5e\",\"Calb\":\"#00FFFF\"}\n",
    "\n",
    "\n",
    "\n",
    "\n",
    "\n",
    "sns.set_palette(sns.color_palette(group_colors.values()))\n",
    "\n",
    "\n",
    "sns.displot(df, y=\"normalized_dist\", hue=\"color\", hue_order=group_colors, kind=\"kde\", fill=False,common_norm=False,height=h,aspect=w/h,alpha=1)\n",
    "\n",
    "\n",
    "\n",
    "\n",
    "\n",
    "\n",
    "plt.axhline(0,color=\"k\",linestyle=\"--\")\n",
    "plt.axhline(1,color=\"k\",linestyle=\"--\")\n",
    "plt.xlabel(\"Density of labelled CA1 cells\")\n",
    "plt.ylabel(\"Normalized Depth\")\n",
    "\n",
    "plt.savefig(os.path.join(fig_save_path,'Normalized_depth_labelled_CA1_cells_Calb.svg'),dpi=300,bbox_inches='tight')\n"
   ]
  },
  {
   "cell_type": "code",
   "execution_count": null,
   "metadata": {},
   "outputs": [],
   "source": [
    "from scipy.stats import ttest_ind\n",
    "\n",
    "red_green_ind_ttest=ttest_ind(df.query(\"color=='Red-Calb'\").normalized_dist,df.query(\"color=='Green-Calb'\").normalized_dist)\n",
    "red_calb_ind_ttest=ttest_ind(df.query(\"color=='Red-Calb'\").normalized_dist,df.query(\"color=='Calb'\").normalized_dist)\n",
    "green_calb_ind_ttest=ttest_ind(df.query(\"color=='Green-Calb'\").normalized_dist,df.query(\"color=='Calb'\").normalized_dist)\n",
    "\n",
    "\n",
    "print(red_green_ind_ttest)\n",
    "print(red_calb_ind_ttest)\n",
    "print(green_calb_ind_ttest)"
   ]
  },
  {
   "attachments": {},
   "cell_type": "markdown",
   "metadata": {},
   "source": [
    "##Z test between red, green and calb distances\n"
   ]
  },
  {
   "cell_type": "code",
   "execution_count": null,
   "metadata": {},
   "outputs": [],
   "source": [
    "\n",
    "\n",
    "\n",
    "red_green_zscore=zscore(df.query(\"color=='Red-Calb'\").normalized_dist,df.query(\"color=='Green-Calb'\").normalized_dist)\n",
    "\n",
    "\n",
    "\n",
    "red_calb_zscore=zscore(df.query(\"color=='Red-Calb'\").normalized_dist,df.query(\"color=='Calb'\").normalized_dist)\n",
    "\n",
    "\n",
    "\n",
    "green_calb_zscore=zscore(df.query(\"color=='Green-Calb'\").normalized_dist,df.query(\"color=='Calb'\").normalized_dist)\n",
    "\n",
    "print(red_green_zscore)\n",
    "print(red_calb_zscore)\n",
    "print(green_calb_zscore)\n"
   ]
  },
  {
   "attachments": {},
   "cell_type": "markdown",
   "metadata": {},
   "source": [
    "## get proportions of cells based on calb"
   ]
  },
  {
   "cell_type": "code",
   "execution_count": null,
   "metadata": {},
   "outputs": [],
   "source": [
    "prop_df = df.groupby(\"color\").apply(lambda x: pd.Series({\"n_cells\":len(x)})).reset_index()\n",
    "prop_df[\"prop\"] = prop_df.n_cells / prop_df.n_cells.sum()\n",
    "prop_df[\"constant\"] = 1\n",
    "\n",
    "\n",
    "\n",
    "data = [{'color': 'Green-Calb', 'percentage': 6/435}, {'color': 'Red-Calb', 'percentage': 251/435}]\n",
    "prop_calb_df = pd.DataFrame(data)\n",
    "prop_calb_df[\"constant\"] = 1\n"
   ]
  },
  {
   "cell_type": "code",
   "execution_count": null,
   "metadata": {},
   "outputs": [],
   "source": [
    "plt.figure(figsize = functions.set_size(\"thesis\", fraction=.3, subplots=(2, 1)))\n",
    "group_colors_percentage = {\"Red-Calb\": \"#f9021a\", \"Green-Calb\": \"#18ff5e\"}\n",
    "\n",
    "sns.barplot(data=prop_calb_df,x=\"constant\", hue=\"color\", y=\"percentage\",hue_order=group_colors_percentage,edgecolor=\"k\",saturation=1)\n",
    "sns.despine(bottom=True)\n",
    "plt.ylabel(\"Proportion of Calb1 Cells\")\n",
    "plt.xlabel(\"\")\n",
    "# turn x axis labels off\n",
    "plt.xticks([])\n",
    "plt.savefig(os.path.join(fig_save_path,'prop_of_labelled_cells_calb.svg'),dpi=300,bbox_inches='tight')\n",
    "# plt.ylim(0,.75)\n"
   ]
  },
  {
   "cell_type": "markdown",
   "metadata": {},
   "source": [
    "## make distribution plot for each animal"
   ]
  }
 ],
 "metadata": {
  "kernelspec": {
   "display_name": "ripple_heterogeneity",
   "language": "python",
   "name": "python3"
  },
  "language_info": {
   "codemirror_mode": {
    "name": "ipython",
    "version": 3
   },
   "file_extension": ".py",
   "mimetype": "text/x-python",
   "name": "python",
   "nbconvert_exporter": "python",
   "pygments_lexer": "ipython3",
   "version": "3.10.0"
  },
  "orig_nbformat": 4,
  "vscode": {
   "interpreter": {
    "hash": "f6704f659adc3d9f60da031b249d98ab47de090fc9b37376b32fb4164400920d"
   }
  }
 },
 "nbformat": 4,
 "nbformat_minor": 2
}
