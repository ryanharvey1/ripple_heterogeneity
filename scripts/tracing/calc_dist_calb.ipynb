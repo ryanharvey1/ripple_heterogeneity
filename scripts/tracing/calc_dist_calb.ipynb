{
 "cells": [
  {
   "cell_type": "code",
   "execution_count": 4,
   "metadata": {},
   "outputs": [],
   "source": [
    "%reload_ext autoreload\n",
    "%autoreload 2\n",
    "\n",
    "import pandas as pd\n",
    "import numpy as np\n",
    "import glob\n",
    "import os\n",
    "from ripple_heterogeneity.utils import functions\n",
    "import matplotlib.pyplot as plt\n",
    "import seaborn as sns\n",
    "from scipy.stats import ranksums\n",
    "from statsmodels.stats.proportion import proportions_ztest\n",
    "\n",
    "%matplotlib inline\n",
    "%config InlineBackend.figure_format = 'retina'\n",
    "fig_save_path = r'Z:\\home\\ryanh\\projects\\ripple_heterogeneity\\figures\\panels' #change to v7\n",
    "functions.set_plotting_defaults()"
   ]
  },
  {
   "cell_type": "markdown",
   "metadata": {},
   "source": [
    "## find data files"
   ]
  },
  {
   "cell_type": "code",
   "execution_count": 2,
   "metadata": {},
   "outputs": [],
   "source": [
    "\n",
    "files = glob.glob(r\"Z:\\home\\Heath\\Viral_tracing\\CTB\\CALB1\\calb1_analysis\\**/*.csv\",recursive=True)\n",
    "\n",
    "dirnames = [os.path.dirname(file) for file in files]\n",
    "dirnames = np.unique(dirnames)"
   ]
  },
  {
   "cell_type": "markdown",
   "metadata": {},
   "source": [
    "## load data"
   ]
  },
  {
   "cell_type": "code",
   "execution_count": 3,
   "metadata": {},
   "outputs": [
    {
     "data": {
      "text/html": [
       "<div>\n",
       "<style scoped>\n",
       "    .dataframe tbody tr th:only-of-type {\n",
       "        vertical-align: middle;\n",
       "    }\n",
       "\n",
       "    .dataframe tbody tr th {\n",
       "        vertical-align: top;\n",
       "    }\n",
       "\n",
       "    .dataframe thead th {\n",
       "        text-align: right;\n",
       "    }\n",
       "</style>\n",
       "<table border=\"1\" class=\"dataframe\">\n",
       "  <thead>\n",
       "    <tr style=\"text-align: right;\">\n",
       "      <th></th>\n",
       "      <th></th>\n",
       "      <th>Area</th>\n",
       "      <th>Mean</th>\n",
       "      <th>Min</th>\n",
       "      <th>Max</th>\n",
       "      <th>X</th>\n",
       "      <th>Y</th>\n",
       "      <th>Ch</th>\n",
       "      <th>Slice</th>\n",
       "      <th>color</th>\n",
       "      <th>folder_name</th>\n",
       "      <th>layer_rad_y</th>\n",
       "      <th>layer_or_y</th>\n",
       "      <th>normalized_dist</th>\n",
       "    </tr>\n",
       "  </thead>\n",
       "  <tbody>\n",
       "    <tr>\n",
       "      <th>0</th>\n",
       "      <td>1</td>\n",
       "      <td>0.0</td>\n",
       "      <td>392</td>\n",
       "      <td>392</td>\n",
       "      <td>392</td>\n",
       "      <td>229.494</td>\n",
       "      <td>181.153</td>\n",
       "      <td>1</td>\n",
       "      <td>1</td>\n",
       "      <td>Red-Calb</td>\n",
       "      <td>Z:\\home\\Heath\\Viral_tracing\\CTB\\CALB1\\calb1_an...</td>\n",
       "      <td>200.490</td>\n",
       "      <td>113.899</td>\n",
       "      <td>0.223314</td>\n",
       "    </tr>\n",
       "    <tr>\n",
       "      <th>1</th>\n",
       "      <td>2</td>\n",
       "      <td>0.0</td>\n",
       "      <td>488</td>\n",
       "      <td>488</td>\n",
       "      <td>488</td>\n",
       "      <td>131.200</td>\n",
       "      <td>172.926</td>\n",
       "      <td>1</td>\n",
       "      <td>1</td>\n",
       "      <td>Red-Calb</td>\n",
       "      <td>Z:\\home\\Heath\\Viral_tracing\\CTB\\CALB1\\calb1_an...</td>\n",
       "      <td>200.490</td>\n",
       "      <td>113.899</td>\n",
       "      <td>0.318324</td>\n",
       "    </tr>\n",
       "    <tr>\n",
       "      <th>2</th>\n",
       "      <td>3</td>\n",
       "      <td>0.0</td>\n",
       "      <td>310</td>\n",
       "      <td>310</td>\n",
       "      <td>310</td>\n",
       "      <td>94.563</td>\n",
       "      <td>171.400</td>\n",
       "      <td>1</td>\n",
       "      <td>1</td>\n",
       "      <td>Red-Calb</td>\n",
       "      <td>Z:\\home\\Heath\\Viral_tracing\\CTB\\CALB1\\calb1_an...</td>\n",
       "      <td>200.490</td>\n",
       "      <td>113.899</td>\n",
       "      <td>0.335947</td>\n",
       "    </tr>\n",
       "    <tr>\n",
       "      <th>3</th>\n",
       "      <td>4</td>\n",
       "      <td>0.0</td>\n",
       "      <td>438</td>\n",
       "      <td>438</td>\n",
       "      <td>438</td>\n",
       "      <td>260.959</td>\n",
       "      <td>174.453</td>\n",
       "      <td>1</td>\n",
       "      <td>1</td>\n",
       "      <td>Red-Calb</td>\n",
       "      <td>Z:\\home\\Heath\\Viral_tracing\\CTB\\CALB1\\calb1_an...</td>\n",
       "      <td>200.490</td>\n",
       "      <td>113.899</td>\n",
       "      <td>0.300689</td>\n",
       "    </tr>\n",
       "    <tr>\n",
       "      <th>4</th>\n",
       "      <td>5</td>\n",
       "      <td>0.0</td>\n",
       "      <td>394</td>\n",
       "      <td>394</td>\n",
       "      <td>394</td>\n",
       "      <td>38.588</td>\n",
       "      <td>160.205</td>\n",
       "      <td>1</td>\n",
       "      <td>1</td>\n",
       "      <td>Red-Calb</td>\n",
       "      <td>Z:\\home\\Heath\\Viral_tracing\\CTB\\CALB1\\calb1_an...</td>\n",
       "      <td>200.490</td>\n",
       "      <td>113.899</td>\n",
       "      <td>0.465233</td>\n",
       "    </tr>\n",
       "    <tr>\n",
       "      <th>...</th>\n",
       "      <td>...</td>\n",
       "      <td>...</td>\n",
       "      <td>...</td>\n",
       "      <td>...</td>\n",
       "      <td>...</td>\n",
       "      <td>...</td>\n",
       "      <td>...</td>\n",
       "      <td>...</td>\n",
       "      <td>...</td>\n",
       "      <td>...</td>\n",
       "      <td>...</td>\n",
       "      <td>...</td>\n",
       "      <td>...</td>\n",
       "      <td>...</td>\n",
       "    </tr>\n",
       "    <tr>\n",
       "      <th>687</th>\n",
       "      <td>27</td>\n",
       "      <td>0.0</td>\n",
       "      <td>9310</td>\n",
       "      <td>9310</td>\n",
       "      <td>9310</td>\n",
       "      <td>113.844</td>\n",
       "      <td>200.748</td>\n",
       "      <td>1</td>\n",
       "      <td>12</td>\n",
       "      <td>Calb</td>\n",
       "      <td>Z:\\home\\Heath\\Viral_tracing\\CTB\\CALB1\\calb1_an...</td>\n",
       "      <td>224.792</td>\n",
       "      <td>118.479</td>\n",
       "      <td>0.226162</td>\n",
       "    </tr>\n",
       "    <tr>\n",
       "      <th>688</th>\n",
       "      <td>28</td>\n",
       "      <td>0.0</td>\n",
       "      <td>6696</td>\n",
       "      <td>6696</td>\n",
       "      <td>6696</td>\n",
       "      <td>216.970</td>\n",
       "      <td>168.883</td>\n",
       "      <td>1</td>\n",
       "      <td>8</td>\n",
       "      <td>Calb</td>\n",
       "      <td>Z:\\home\\Heath\\Viral_tracing\\CTB\\CALB1\\calb1_an...</td>\n",
       "      <td>224.792</td>\n",
       "      <td>118.479</td>\n",
       "      <td>0.525891</td>\n",
       "    </tr>\n",
       "    <tr>\n",
       "      <th>689</th>\n",
       "      <td>29</td>\n",
       "      <td>0.0</td>\n",
       "      <td>4600</td>\n",
       "      <td>4600</td>\n",
       "      <td>4600</td>\n",
       "      <td>190.899</td>\n",
       "      <td>164.249</td>\n",
       "      <td>1</td>\n",
       "      <td>8</td>\n",
       "      <td>Calb</td>\n",
       "      <td>Z:\\home\\Heath\\Viral_tracing\\CTB\\CALB1\\calb1_an...</td>\n",
       "      <td>224.792</td>\n",
       "      <td>118.479</td>\n",
       "      <td>0.569479</td>\n",
       "    </tr>\n",
       "    <tr>\n",
       "      <th>690</th>\n",
       "      <td>30</td>\n",
       "      <td>0.0</td>\n",
       "      <td>3944</td>\n",
       "      <td>3944</td>\n",
       "      <td>3944</td>\n",
       "      <td>11.877</td>\n",
       "      <td>143.971</td>\n",
       "      <td>1</td>\n",
       "      <td>4</td>\n",
       "      <td>Calb</td>\n",
       "      <td>Z:\\home\\Heath\\Viral_tracing\\CTB\\CALB1\\calb1_an...</td>\n",
       "      <td>224.792</td>\n",
       "      <td>118.479</td>\n",
       "      <td>0.760217</td>\n",
       "    </tr>\n",
       "    <tr>\n",
       "      <th>691</th>\n",
       "      <td>31</td>\n",
       "      <td>0.0</td>\n",
       "      <td>5777</td>\n",
       "      <td>5777</td>\n",
       "      <td>5777</td>\n",
       "      <td>37.948</td>\n",
       "      <td>176.994</td>\n",
       "      <td>1</td>\n",
       "      <td>4</td>\n",
       "      <td>Calb</td>\n",
       "      <td>Z:\\home\\Heath\\Viral_tracing\\CTB\\CALB1\\calb1_an...</td>\n",
       "      <td>224.792</td>\n",
       "      <td>118.479</td>\n",
       "      <td>0.449597</td>\n",
       "    </tr>\n",
       "  </tbody>\n",
       "</table>\n",
       "<p>692 rows × 14 columns</p>\n",
       "</div>"
      ],
      "text/plain": [
       "         Area  Mean   Min   Max        X        Y  Ch  Slice     color  \\\n",
       "0     1   0.0   392   392   392  229.494  181.153   1      1  Red-Calb   \n",
       "1     2   0.0   488   488   488  131.200  172.926   1      1  Red-Calb   \n",
       "2     3   0.0   310   310   310   94.563  171.400   1      1  Red-Calb   \n",
       "3     4   0.0   438   438   438  260.959  174.453   1      1  Red-Calb   \n",
       "4     5   0.0   394   394   394   38.588  160.205   1      1  Red-Calb   \n",
       "..   ..   ...   ...   ...   ...      ...      ...  ..    ...       ...   \n",
       "687  27   0.0  9310  9310  9310  113.844  200.748   1     12      Calb   \n",
       "688  28   0.0  6696  6696  6696  216.970  168.883   1      8      Calb   \n",
       "689  29   0.0  4600  4600  4600  190.899  164.249   1      8      Calb   \n",
       "690  30   0.0  3944  3944  3944   11.877  143.971   1      4      Calb   \n",
       "691  31   0.0  5777  5777  5777   37.948  176.994   1      4      Calb   \n",
       "\n",
       "                                           folder_name  layer_rad_y  \\\n",
       "0    Z:\\home\\Heath\\Viral_tracing\\CTB\\CALB1\\calb1_an...      200.490   \n",
       "1    Z:\\home\\Heath\\Viral_tracing\\CTB\\CALB1\\calb1_an...      200.490   \n",
       "2    Z:\\home\\Heath\\Viral_tracing\\CTB\\CALB1\\calb1_an...      200.490   \n",
       "3    Z:\\home\\Heath\\Viral_tracing\\CTB\\CALB1\\calb1_an...      200.490   \n",
       "4    Z:\\home\\Heath\\Viral_tracing\\CTB\\CALB1\\calb1_an...      200.490   \n",
       "..                                                 ...          ...   \n",
       "687  Z:\\home\\Heath\\Viral_tracing\\CTB\\CALB1\\calb1_an...      224.792   \n",
       "688  Z:\\home\\Heath\\Viral_tracing\\CTB\\CALB1\\calb1_an...      224.792   \n",
       "689  Z:\\home\\Heath\\Viral_tracing\\CTB\\CALB1\\calb1_an...      224.792   \n",
       "690  Z:\\home\\Heath\\Viral_tracing\\CTB\\CALB1\\calb1_an...      224.792   \n",
       "691  Z:\\home\\Heath\\Viral_tracing\\CTB\\CALB1\\calb1_an...      224.792   \n",
       "\n",
       "     layer_or_y  normalized_dist  \n",
       "0       113.899         0.223314  \n",
       "1       113.899         0.318324  \n",
       "2       113.899         0.335947  \n",
       "3       113.899         0.300689  \n",
       "4       113.899         0.465233  \n",
       "..          ...              ...  \n",
       "687     118.479         0.226162  \n",
       "688     118.479         0.525891  \n",
       "689     118.479         0.569479  \n",
       "690     118.479         0.760217  \n",
       "691     118.479         0.449597  \n",
       "\n",
       "[692 rows x 14 columns]"
      ]
     },
     "execution_count": 3,
     "metadata": {},
     "output_type": "execute_result"
    }
   ],
   "source": [
    "df = pd.DataFrame()\n",
    "for dirname in dirnames:\n",
    "    layer_id = pd.read_csv(glob.glob(os.path.join(dirname,\"*layerID.csv\"))[0])\n",
    "\n",
    "    red_cells_file = glob.glob(os.path.join(dirname,\"*redcells.csv\"))\n",
    "    green_cells_file = glob.glob(os.path.join(dirname,\"*greencells.csv\"))\n",
    "    calb_cells_file = glob.glob(os.path.join(dirname,\"*calb.csv\"))\n",
    "\n",
    "    if len(red_cells_file) > 0:\n",
    "        df_temp = pd.read_csv(red_cells_file[0])\n",
    "        df_temp[\"color\"] = \"Red-Calb\"\n",
    "        df_temp[\"folder_name\"] = dirname\n",
    "        df = pd.concat([df,df_temp],ignore_index=True)\n",
    "\n",
    "    if len(green_cells_file) > 0:\n",
    "        df_temp = pd.read_csv(green_cells_file[0])\n",
    "        df_temp[\"color\"] = \"Green-Calb\"\n",
    "        df_temp[\"folder_name\"] = dirname\n",
    "        df = pd.concat([df,df_temp],ignore_index=True)\n",
    "\n",
    "    if len(calb_cells_file) > 0:\n",
    "        df_temp = pd.read_csv(calb_cells_file[0])\n",
    "        df_temp[\"color\"] = \"Calb\"\n",
    "        df_temp[\"folder_name\"] = dirname\n",
    "        df = pd.concat([df,df_temp],ignore_index=True)\n",
    "\n",
    "    df.loc[df.folder_name == dirname,\"layer_rad_y\"] = layer_id.Y.iloc[0]\n",
    "    df.loc[df.folder_name == dirname,\"layer_or_y\"] = layer_id.Y.iloc[1]\n",
    "\n",
    "df[\"normalized_dist\"] = np.abs(df.Y - df.layer_rad_y) / abs(df.layer_rad_y - df.layer_or_y)\n",
    "df"
   ]
  },
  {
   "cell_type": "markdown",
   "metadata": {},
   "source": [
    "## plot smoothed distribution of distances per projection type"
   ]
  },
  {
   "cell_type": "code",
   "execution_count": 18,
   "metadata": {},
   "outputs": [
    {
     "data": {
      "image/png": "[encoded data removed]",
      "text/plain": [
       "<Figure size 286.49x295.276 with 1 Axes>"
      ]
     },
     "metadata": {
      "image/png": {
       "height": 285,
       "width": 284
      }
     },
     "output_type": "display_data"
    }
   ],
   "source": [
    "h,w = functions.set_size(\"thesis\", fraction=.5, subplots=(1, 1))\n",
    "\n",
    "group_colors = {\"Red-Calb\": \"#f9021a\", \"Green-Calb\": \"#18ff5e\",\"Calb\":\"#00FFFF\"}\n",
    "sns.set_palette(sns.color_palette(group_colors.values()))\n",
    "\n",
    "sns.displot(df, y=\"normalized_dist\", hue=\"color\",hue_order=group_colors, kind=\"kde\", fill=False,common_norm=False,height=h,aspect=w/h,alpha=1)\n",
    "plt.axhline(0,color=\"k\",linestyle=\"--\")\n",
    "plt.axhline(1,color=\"k\",linestyle=\"--\")\n",
    "plt.xlabel(\"Density of labelled CA1 cells\")\n",
    "plt.ylabel(\"Normalized Depth\")\n",
    "\n",
    "plt.savefig(os.path.join(fig_save_path,'Normalized_depth_labelled_CA1_cells_Calb.svg'),dpi=300,bbox_inches='tight')\n"
   ]
  },
  {
   "cell_type": "markdown",
   "metadata": {},
   "source": [
    "## rank sum test between green and red distance"
   ]
  },
  {
   "cell_type": "code",
   "execution_count": 7,
   "metadata": {},
   "outputs": [
    {
     "name": "stdout",
     "output_type": "stream",
     "text": [
      "RanksumsResult(statistic=-3.117677188783434, pvalue=0.0018228233820047634)\n",
      "RanksumsResult(statistic=-2.5206303672842307, pvalue=0.011714483543515663)\n",
      "RanksumsResult(statistic=2.6995084589236393, pvalue=0.006944199041847074)\n"
     ]
    }
   ],
   "source": [
    "red_green_ranksums=ranksums(df.query(\"color=='Red-Calb'\").normalized_dist,df.query(\"color=='Green-Calb'\").normalized_dist)\n",
    "red_calb_ranksums=ranksums(df.query(\"color=='Red-Calb'\").normalized_dist,df.query(\"color=='Calb'\").normalized_dist)\n",
    "green_calb_ranksums=ranksums(df.query(\"color=='Green-Calb'\").normalized_dist,df.query(\"color=='Calb'\").normalized_dist)\n",
    "\n",
    "print(red_green_ranksums)\n",
    "print(red_calb_ranksums)\n",
    "print(green_calb_ranksums)\n"
   ]
  },
  {
   "attachments": {},
   "cell_type": "markdown",
   "metadata": {},
   "source": [
    "##Z test between red, green and calb distances\n"
   ]
  },
  {
   "cell_type": "code",
   "execution_count": 6,
   "metadata": {},
   "outputs": [
    {
     "ename": "NameError",
     "evalue": "name 'zscore' is not defined",
     "output_type": "error",
     "traceback": [
      "\u001b[1;31m---------------------------------------------------------------------------\u001b[0m",
      "\u001b[1;31mNameError\u001b[0m                                 Traceback (most recent call last)",
      "Cell \u001b[1;32mIn[6], line 1\u001b[0m\n\u001b[1;32m----> 1\u001b[0m red_green_zscore\u001b[39m=\u001b[39mzscore(df\u001b[39m.\u001b[39mquery(\u001b[39m\"\u001b[39m\u001b[39mcolor==\u001b[39m\u001b[39m'\u001b[39m\u001b[39mRed-Calb\u001b[39m\u001b[39m'\u001b[39m\u001b[39m\"\u001b[39m)\u001b[39m.\u001b[39mnormalized_dist,df\u001b[39m.\u001b[39mquery(\u001b[39m\"\u001b[39m\u001b[39mcolor==\u001b[39m\u001b[39m'\u001b[39m\u001b[39mGreen-Calb\u001b[39m\u001b[39m'\u001b[39m\u001b[39m\"\u001b[39m)\u001b[39m.\u001b[39mnormalized_dist)\n\u001b[0;32m      5\u001b[0m red_calb_zscore\u001b[39m=\u001b[39mzscore(df\u001b[39m.\u001b[39mquery(\u001b[39m\"\u001b[39m\u001b[39mcolor==\u001b[39m\u001b[39m'\u001b[39m\u001b[39mRed-Calb\u001b[39m\u001b[39m'\u001b[39m\u001b[39m\"\u001b[39m)\u001b[39m.\u001b[39mnormalized_dist,df\u001b[39m.\u001b[39mquery(\u001b[39m\"\u001b[39m\u001b[39mcolor==\u001b[39m\u001b[39m'\u001b[39m\u001b[39mCalb\u001b[39m\u001b[39m'\u001b[39m\u001b[39m\"\u001b[39m)\u001b[39m.\u001b[39mnormalized_dist)\n\u001b[0;32m      9\u001b[0m green_calb_zscore\u001b[39m=\u001b[39mzscore(df\u001b[39m.\u001b[39mquery(\u001b[39m\"\u001b[39m\u001b[39mcolor==\u001b[39m\u001b[39m'\u001b[39m\u001b[39mGreen-Calb\u001b[39m\u001b[39m'\u001b[39m\u001b[39m\"\u001b[39m)\u001b[39m.\u001b[39mnormalized_dist,df\u001b[39m.\u001b[39mquery(\u001b[39m\"\u001b[39m\u001b[39mcolor==\u001b[39m\u001b[39m'\u001b[39m\u001b[39mCalb\u001b[39m\u001b[39m'\u001b[39m\u001b[39m\"\u001b[39m)\u001b[39m.\u001b[39mnormalized_dist)\n",
      "\u001b[1;31mNameError\u001b[0m: name 'zscore' is not defined"
     ]
    }
   ],
   "source": [
    "\n",
    "\n",
    "\n",
    "red_green_zscore=zscore(df.query(\"color=='Red-Calb'\").normalized_dist,df.query(\"color=='Green-Calb'\").normalized_dist)\n",
    "\n",
    "\n",
    "\n",
    "red_calb_zscore=zscore(df.query(\"color=='Red-Calb'\").normalized_dist,df.query(\"color=='Calb'\").normalized_dist)\n",
    "\n",
    "\n",
    "\n",
    "green_calb_zscore=zscore(df.query(\"color=='Green-Calb'\").normalized_dist,df.query(\"color=='Calb'\").normalized_dist)\n",
    "\n",
    "print(red_green_zscore)\n",
    "print(red_calb_zscore)\n",
    "print(green_calb_zscore)\n"
   ]
  },
  {
   "cell_type": "markdown",
   "metadata": {},
   "source": [
    "## get proportions of cells "
   ]
  },
  {
   "attachments": {},
   "cell_type": "markdown",
   "metadata": {},
   "source": [
    "## get proportions of cells based on calb"
   ]
  },
  {
   "cell_type": "code",
   "execution_count": 8,
   "metadata": {},
   "outputs": [],
   "source": [
    "prop_df = df.groupby(\"color\").apply(lambda x: pd.Series({\"n_cells\":len(x)})).reset_index()\n",
    "prop_df[\"prop\"] = prop_df.n_cells / prop_df.n_cells.sum()\n",
    "prop_df[\"constant\"] = 1\n",
    "\n",
    "\n",
    "\n",
    "data = [{'color': 'Green-Calb', 'percentage': 6/435}, {'color': 'Red-Calb', 'percentage': 251/435}]\n",
    "prop_calb_df = pd.DataFrame(data)\n",
    "prop_calb_df[\"constant\"] = 1\n"
   ]
  },
  {
   "cell_type": "code",
   "execution_count": 21,
   "metadata": {},
   "outputs": [
    {
     "data": {
      "image/png": "[encoded data removed]",
      "text/plain": [
       "<Figure size 177.165x218.988 with 1 Axes>"
      ]
     },
     "metadata": {
      "image/png": {
       "height": 197,
       "width": 206
      }
     },
     "output_type": "display_data"
    }
   ],
   "source": [
    "plt.figure(figsize = functions.set_size(\"thesis\", fraction=.3, subplots=(2, 1)))\n",
    "group_colors_percentage = {\"Red-Calb\": \"#f9021a\", \"Green-Calb\": \"#18ff5e\"}\n",
    "\n",
    "sns.barplot(data=prop_calb_df,x=\"constant\", hue=\"color\", y=\"percentage\",hue_order=group_colors_percentage,edgecolor=\"k\",saturation=1)\n",
    "sns.despine(bottom=True)\n",
    "plt.ylabel(\"Proportion of Calb1 Cells\")\n",
    "plt.xlabel(\"\")\n",
    "# turn x axis labels off\n",
    "plt.xticks([])\n",
    "plt.savefig(os.path.join(fig_save_path,'prop_of_labelled_cells_calb.svg'),dpi=300,bbox_inches='tight')\n",
    "# plt.ylim(0,.75)\n"
   ]
  },
  {
   "cell_type": "markdown",
   "metadata": {},
   "source": [
    "## make distribution plot for each animal"
   ]
  }
 ],
 "metadata": {
  "kernelspec": {
   "display_name": "ripple_heterogeneity",
   "language": "python",
   "name": "python3"
  },
  "language_info": {
   "codemirror_mode": {
    "name": "ipython",
    "version": 3
   },
   "file_extension": ".py",
   "mimetype": "text/x-python",
   "name": "python",
   "nbconvert_exporter": "python",
   "pygments_lexer": "ipython3",
   "version": "3.9.15"
  },
  "orig_nbformat": 4,
  "vscode": {
   "interpreter": {
    "hash": "f6704f659adc3d9f60da031b249d98ab47de090fc9b37376b32fb4164400920d"
   }
  }
 },
 "nbformat": 4,
 "nbformat_minor": 2
}
