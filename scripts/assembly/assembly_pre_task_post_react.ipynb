{
 "cells": [
  {
   "cell_type": "code",
   "execution_count": 10,
   "metadata": {},
   "outputs": [],
   "source": [
    "%reload_ext autoreload\n",
    "%autoreload 2\n",
    "\n",
    "import pandas as pd\n",
    "import numpy as np\n",
    "import matplotlib.pyplot as plt\n",
    "import seaborn as sns\n",
    "from ripple_heterogeneity.utils import (\n",
    "    functions,\n",
    "    add_new_deep_sup,\n",
    "    custom_plots,\n",
    "    loading,\n",
    "    compress_repeated_epochs,\n",
    "    batch_analysis\n",
    ")\n",
    "from ripple_heterogeneity.assembly import (\n",
    "    assembly_reactivation,\n",
    "    assembly_individual_epochs,\n",
    "    assembly_corrs_deep_sup,\n",
    "    find_sig_assembly\n",
    ")\n",
    "import os\n",
    "import pickle\n",
    "import glob\n",
    "from matplotlib.ticker import AutoMinorLocator\n",
    "from tqdm import tqdm\n",
    "\n",
    "%matplotlib inline\n",
    "%config InlineBackend.figure_format = 'retina'\n",
    "fig_save_path = r'Z:\\home\\ryanh\\projects\\ripple_heterogeneity\\figures\\panels'\n",
    "functions.set_plotting_defaults()"
   ]
  },
  {
   "cell_type": "markdown",
   "metadata": {},
   "source": [
    "## Make pre/task/post assembly activation strength for novel sessions"
   ]
  },
  {
   "cell_type": "code",
   "execution_count": null,
   "metadata": {},
   "outputs": [],
   "source": [
    "# save_path_assembly = r\"Z:\\home\\ryanh\\projects\\ripple_heterogeneity\\cell_assembly\"\n",
    "# sessions = glob.glob(save_path_assembly + os.sep + \"*.pkl\")\n",
    "# sessions = [string for string in sessions if \"GrosmarkAD\" in string]\n",
    "\n",
    "# basepath = []\n",
    "# for session in sessions:\n",
    "#     with open(session, \"rb\") as f:\n",
    "#         results = pickle.load(f)\n",
    "#     basepath.append(results[\"basepath\"])\n",
    "\n",
    "# temp_df = pd.DataFrame()\n",
    "# temp_df[\"basepath\"] = basepath\n",
    "\n",
    "# save_path = r\"Z:\\home\\ryanh\\projects\\ripple_heterogeneity\\assembly_activation\"\n",
    "\n",
    "# assembly_activation.assembly_run_activation(\n",
    "#     temp_df, save_path, save_path_assembly, parallel=False\n",
    "# )\n"
   ]
  },
  {
   "cell_type": "markdown",
   "metadata": {},
   "source": [
    "## Find pre / novel / post sessions"
   ]
  },
  {
   "cell_type": "code",
   "execution_count": 4,
   "metadata": {},
   "outputs": [
    {
     "name": "stderr",
     "output_type": "stream",
     "text": [
      "c:\\Users\\Cornell\\anaconda3\\envs\\ripple_diversity\\lib\\site-packages\\pandas\\core\\ops\\array_ops.py:73: FutureWarning: elementwise comparison failed; returning scalar instead, but in the future will perform elementwise comparison\n"
     ]
    }
   ],
   "source": [
    "# load sessions\n",
    "df = pd.read_csv(r\"Z:\\home\\ryanh\\projects\\ripple_heterogeneity\\sessions.csv\")\n",
    "# collect epoch info\n",
    "epochs_df = pd.DataFrame()\n",
    "for basepath in df.basepath:\n",
    "    epoch_df = loading.load_epoch(basepath)\n",
    "    epoch_df = compress_repeated_epochs.main(epoch_df)\n",
    "\n",
    "    epoch_df[\"basepath\"] = basepath\n",
    "    epochs_df = pd.concat([epochs_df, epoch_df], ignore_index=True)\n",
    "\n",
    "# search for novel maze indicators with a pre / task / post structure\n",
    "search_idx = (\n",
    "    (epochs_df.behavioralParadigm == 1)\n",
    "    | (epochs_df.behavioralParadigm.str.contains(\"novel\"))\n",
    "    | (epochs_df.notes.str.contains(\"novel\"))\n",
    ")\n",
    "basepaths = []\n",
    "for basepath in epochs_df[search_idx].basepath.unique():\n",
    "    idx_bool, idx = functions.find_pre_task_post(\n",
    "        epochs_df[epochs_df.basepath == basepath].environment\n",
    "    )\n",
    "    if idx_bool is not None:\n",
    "        basepaths.append(basepath)\n",
    "df = pd.DataFrame()\n",
    "df[\"basepath\"] = basepaths"
   ]
  },
  {
   "cell_type": "markdown",
   "metadata": {},
   "source": [
    "## run all data"
   ]
  },
  {
   "cell_type": "code",
   "execution_count": 12,
   "metadata": {},
   "outputs": [
    {
     "name": "stderr",
     "output_type": "stream",
     "text": [
      "100%|██████████| 22/22 [00:00<00:00, 887.16it/s]\n"
     ]
    }
   ],
   "source": [
    "save_path = r\"Z:\\home\\ryanh\\projects\\ripple_heterogeneity\\assembly_reactivation_v2\"\n",
    "# assembly_reactivation.run(df, save_path, parallel=True)\n",
    "\n",
    "batch_analysis.run(\n",
    "    df,\n",
    "    save_path,\n",
    "    assembly_reactivation.get_pre_post_assembly_strengths,\n",
    "    parallel=False,\n",
    "    verbose=False,\n",
    ")\n",
    "\n"
   ]
  },
  {
   "cell_type": "markdown",
   "metadata": {},
   "source": [
    "## load data"
   ]
  },
  {
   "cell_type": "code",
   "execution_count": 14,
   "metadata": {},
   "outputs": [],
   "source": [
    "# save_path = r\"Z:\\home\\ryanh\\projects\\ripple_heterogeneity\\assembly_reactivation\"\n",
    "save_path = r\"Z:\\home\\ryanh\\projects\\ripple_heterogeneity\\assembly_reactivation_v2\"\n",
    "\n",
    "all_results = assembly_reactivation.load_results(save_path)"
   ]
  },
  {
   "cell_type": "markdown",
   "metadata": {},
   "source": [
    "### test on single session"
   ]
  },
  {
   "cell_type": "code",
   "execution_count": 25,
   "metadata": {},
   "outputs": [],
   "source": [
    "# basepath = r\"Z:\\Data\\GrosmarkAD\\Achilles\\Achilles_10252013\"\n",
    "# results = assembly_reactivation.get_pre_post_assembly_strengths(basepath)"
   ]
  },
  {
   "cell_type": "markdown",
   "metadata": {},
   "source": [
    "## make dataframe of assemblies"
   ]
  },
  {
   "cell_type": "code",
   "execution_count": null,
   "metadata": {},
   "outputs": [],
   "source": [
    "def collect_assemblies(results):\n",
    "\n",
    "    UID = []\n",
    "    deepSuperficial = []\n",
    "    weights = []\n",
    "    membership = []\n",
    "    df = pd.DataFrame()\n",
    "    assembly_n = []\n",
    "    assembly_ = []\n",
    "    basepath_ = []\n",
    "    assembly_path = []\n",
    "\n",
    "    # detect significant assemblies and assembly members\n",
    "    (\n",
    "        patterns,\n",
    "        is_member_keep,\n",
    "        keep_assembly,\n",
    "        is_member,\n",
    "    ) = find_sig_assembly.main(results[\"react\"].patterns)\n",
    "\n",
    "    # get deep/superficial classification\n",
    "    cell_metrics = add_new_deep_sup.add_new_deep_sup_class(\n",
    "        results[\"react\"].cell_metrics\n",
    "    )\n",
    "\n",
    "    # iterate through assemblies\n",
    "    for i_assemblies, pattern in enumerate(results[\"react\"].patterns):\n",
    "\n",
    "        UID.append(cell_metrics[\"UID\"])\n",
    "        deepSuperficial.append(cell_metrics[\"deepSuperficial\"])\n",
    "        weights.append(pattern)\n",
    "        membership.append(is_member[i_assemblies])\n",
    "        assembly_.append([assembly_n] * len(pattern))\n",
    "        assembly_n.append(np.tile(i_assemblies, len(pattern)))\n",
    "        basepath_.append([results[\"react\"].basepath] * len(pattern))\n",
    "\n",
    "    df[\"UID\"] = np.hstack(UID)\n",
    "    df[\"basepath\"] = np.hstack(basepath_)\n",
    "    df[\"deepSuperficial\"] = np.hstack(deepSuperficial)\n",
    "    df[\"weights\"] = np.hstack(weights)\n",
    "    df[\"membership\"] = np.hstack(membership)\n",
    "    df[\"assembly_n_session\"] = np.hstack(assembly_n)\n",
    "    return df\n",
    "\n",
    "\n",
    "df = pd.DataFrame()\n",
    "for key in all_results:\n",
    "    df = pd.concat([df, collect_assemblies(all_results[key])], ignore_index=True)\n"
   ]
  },
  {
   "cell_type": "code",
   "execution_count": 16,
   "metadata": {},
   "outputs": [
    {
     "data": {
      "text/html": [
       "<div>\n",
       "<style scoped>\n",
       "    .dataframe tbody tr th:only-of-type {\n",
       "        vertical-align: middle;\n",
       "    }\n",
       "\n",
       "    .dataframe tbody tr th {\n",
       "        vertical-align: top;\n",
       "    }\n",
       "\n",
       "    .dataframe thead th {\n",
       "        text-align: right;\n",
       "    }\n",
       "</style>\n",
       "<table border=\"1\" class=\"dataframe\">\n",
       "  <thead>\n",
       "    <tr style=\"text-align: right;\">\n",
       "      <th></th>\n",
       "      <th>UID</th>\n",
       "      <th>basepath</th>\n",
       "      <th>deepSuperficial</th>\n",
       "      <th>weights</th>\n",
       "      <th>membership</th>\n",
       "      <th>assembly_n_session</th>\n",
       "      <th>assembly_n</th>\n",
       "    </tr>\n",
       "  </thead>\n",
       "  <tbody>\n",
       "    <tr>\n",
       "      <th>0</th>\n",
       "      <td>1</td>\n",
       "      <td>Z:\\Data\\AYAold\\AYA4\\day150804</td>\n",
       "      <td>middle</td>\n",
       "      <td>-0.087381</td>\n",
       "      <td>False</td>\n",
       "      <td>0</td>\n",
       "      <td>0.0</td>\n",
       "    </tr>\n",
       "    <tr>\n",
       "      <th>1</th>\n",
       "      <td>6</td>\n",
       "      <td>Z:\\Data\\AYAold\\AYA4\\day150804</td>\n",
       "      <td>Superficial</td>\n",
       "      <td>0.210561</td>\n",
       "      <td>False</td>\n",
       "      <td>0</td>\n",
       "      <td>0.0</td>\n",
       "    </tr>\n",
       "    <tr>\n",
       "      <th>2</th>\n",
       "      <td>7</td>\n",
       "      <td>Z:\\Data\\AYAold\\AYA4\\day150804</td>\n",
       "      <td>Deep</td>\n",
       "      <td>0.043014</td>\n",
       "      <td>False</td>\n",
       "      <td>0</td>\n",
       "      <td>0.0</td>\n",
       "    </tr>\n",
       "    <tr>\n",
       "      <th>3</th>\n",
       "      <td>8</td>\n",
       "      <td>Z:\\Data\\AYAold\\AYA4\\day150804</td>\n",
       "      <td>middle</td>\n",
       "      <td>0.039272</td>\n",
       "      <td>False</td>\n",
       "      <td>0</td>\n",
       "      <td>0.0</td>\n",
       "    </tr>\n",
       "    <tr>\n",
       "      <th>4</th>\n",
       "      <td>10</td>\n",
       "      <td>Z:\\Data\\AYAold\\AYA4\\day150804</td>\n",
       "      <td>middle</td>\n",
       "      <td>0.009076</td>\n",
       "      <td>False</td>\n",
       "      <td>0</td>\n",
       "      <td>0.0</td>\n",
       "    </tr>\n",
       "    <tr>\n",
       "      <th>...</th>\n",
       "      <td>...</td>\n",
       "      <td>...</td>\n",
       "      <td>...</td>\n",
       "      <td>...</td>\n",
       "      <td>...</td>\n",
       "      <td>...</td>\n",
       "      <td>...</td>\n",
       "    </tr>\n",
       "    <tr>\n",
       "      <th>23273</th>\n",
       "      <td>29</td>\n",
       "      <td>Z:\\Data\\Kenji\\nlx_070329</td>\n",
       "      <td>Deep</td>\n",
       "      <td>-0.043810</td>\n",
       "      <td>False</td>\n",
       "      <td>4</td>\n",
       "      <td>241.0</td>\n",
       "    </tr>\n",
       "    <tr>\n",
       "      <th>23274</th>\n",
       "      <td>31</td>\n",
       "      <td>Z:\\Data\\Kenji\\nlx_070329</td>\n",
       "      <td>Deep</td>\n",
       "      <td>-0.015543</td>\n",
       "      <td>False</td>\n",
       "      <td>4</td>\n",
       "      <td>241.0</td>\n",
       "    </tr>\n",
       "    <tr>\n",
       "      <th>23275</th>\n",
       "      <td>32</td>\n",
       "      <td>Z:\\Data\\Kenji\\nlx_070329</td>\n",
       "      <td>Deep</td>\n",
       "      <td>0.048179</td>\n",
       "      <td>False</td>\n",
       "      <td>4</td>\n",
       "      <td>241.0</td>\n",
       "    </tr>\n",
       "    <tr>\n",
       "      <th>23276</th>\n",
       "      <td>35</td>\n",
       "      <td>Z:\\Data\\Kenji\\nlx_070329</td>\n",
       "      <td>Deep</td>\n",
       "      <td>-0.009316</td>\n",
       "      <td>False</td>\n",
       "      <td>4</td>\n",
       "      <td>241.0</td>\n",
       "    </tr>\n",
       "    <tr>\n",
       "      <th>23277</th>\n",
       "      <td>41</td>\n",
       "      <td>Z:\\Data\\Kenji\\nlx_070329</td>\n",
       "      <td>middle</td>\n",
       "      <td>-0.012518</td>\n",
       "      <td>False</td>\n",
       "      <td>4</td>\n",
       "      <td>241.0</td>\n",
       "    </tr>\n",
       "  </tbody>\n",
       "</table>\n",
       "<p>23278 rows × 7 columns</p>\n",
       "</div>"
      ],
      "text/plain": [
       "       UID                       basepath deepSuperficial   weights  \\\n",
       "0        1  Z:\\Data\\AYAold\\AYA4\\day150804          middle -0.087381   \n",
       "1        6  Z:\\Data\\AYAold\\AYA4\\day150804     Superficial  0.210561   \n",
       "2        7  Z:\\Data\\AYAold\\AYA4\\day150804            Deep  0.043014   \n",
       "3        8  Z:\\Data\\AYAold\\AYA4\\day150804          middle  0.039272   \n",
       "4       10  Z:\\Data\\AYAold\\AYA4\\day150804          middle  0.009076   \n",
       "...    ...                            ...             ...       ...   \n",
       "23273   29       Z:\\Data\\Kenji\\nlx_070329            Deep -0.043810   \n",
       "23274   31       Z:\\Data\\Kenji\\nlx_070329            Deep -0.015543   \n",
       "23275   32       Z:\\Data\\Kenji\\nlx_070329            Deep  0.048179   \n",
       "23276   35       Z:\\Data\\Kenji\\nlx_070329            Deep -0.009316   \n",
       "23277   41       Z:\\Data\\Kenji\\nlx_070329          middle -0.012518   \n",
       "\n",
       "       membership  assembly_n_session  assembly_n  \n",
       "0           False                   0         0.0  \n",
       "1           False                   0         0.0  \n",
       "2           False                   0         0.0  \n",
       "3           False                   0         0.0  \n",
       "4           False                   0         0.0  \n",
       "...           ...                 ...         ...  \n",
       "23273       False                   4       241.0  \n",
       "23274       False                   4       241.0  \n",
       "23275       False                   4       241.0  \n",
       "23276       False                   4       241.0  \n",
       "23277       False                   4       241.0  \n",
       "\n",
       "[23278 rows x 7 columns]"
      ]
     },
     "execution_count": 16,
     "metadata": {},
     "output_type": "execute_result"
    }
   ],
   "source": [
    "offset = 0\n",
    "for basepath in df.basepath.unique():\n",
    "    df.loc[df.basepath == basepath,\"assembly_n\"] = df[df.basepath == basepath].assembly_n_session + offset\n",
    "    offset = df[df.basepath == basepath].assembly_n.max()\n",
    "\n",
    "df"
   ]
  },
  {
   "cell_type": "markdown",
   "metadata": {},
   "source": [
    "## get deep/sup class of assemblies"
   ]
  },
  {
   "cell_type": "code",
   "execution_count": 17,
   "metadata": {},
   "outputs": [],
   "source": [
    "for n_as in df.assembly_n.unique():\n",
    "    current_df = df[df.assembly_n == n_as]\n",
    "    mem_idx = current_df.membership == True\n",
    "    sup_idx = current_df.deepSuperficial == \"Superficial\"\n",
    "    deep_idx = current_df.deepSuperficial == \"Deep\"\n",
    "\n",
    "    if ((deep_idx & mem_idx).sum() > 0) & ((sup_idx & mem_idx).sum() > 0):\n",
    "        layer_id = \"mixed\"\n",
    "    elif ((deep_idx & mem_idx).sum() > 1) & ((sup_idx & mem_idx).sum() == 0):\n",
    "        layer_id = \"deep\"\n",
    "    elif ((deep_idx & mem_idx).sum() == 0) & ((sup_idx & mem_idx).sum() > 0):\n",
    "        layer_id = \"sup\"\n",
    "    else:\n",
    "        layer_id = \"unknown\"\n",
    "    df.loc[df.assembly_n == n_as, \"layer_id\"] = layer_id\n",
    "\n",
    "sup_idx = df.assembly_n[df.layer_id == \"sup\"].unique()\n",
    "deep_idx = df.assembly_n[df.layer_id == \"deep\"].unique()\n"
   ]
  },
  {
   "cell_type": "code",
   "execution_count": null,
   "metadata": {},
   "outputs": [],
   "source": [
    "# for key in all_results:\n",
    "#     assembly_act = copy.deepcopy(all_results[key][\"assembly_act_\" + epoch])\n",
    "#     assembly_id, strengths = assembly_reactivation.get_peak_activity(\n",
    "#         assembly_act, all_results[key][\"react\"].ripples[all_results[key][\"react\"].epochs]\n",
    "#     )\n",
    "    # df = pd.concat([df, collect_assemblies(all_results[key])], ignore_index=True)\n",
    "# results[\"assembly_act_\" + epoch]"
   ]
  },
  {
   "cell_type": "code",
   "execution_count": 80,
   "metadata": {},
   "outputs": [],
   "source": [
    "# key = 'Z:\\\\Data\\\\Kenji\\\\nlx_070329'\n",
    "# assembly_act = copy.deepcopy(all_results[key]['assembly_act_pre'])\n",
    "# all_results[key][\"react\"].epochs\n",
    "# assembly_id, strengths = assembly_reactivation.get_peak_activity(\n",
    "#     assembly_act, all_results[key][\"react\"].ripples\n",
    "# )"
   ]
  },
  {
   "cell_type": "code",
   "execution_count": 86,
   "metadata": {},
   "outputs": [],
   "source": [
    "# assembly_act = all_results[key][\"react\"].get_assembly_act(epoch=all_results[key][\"react\"].ripples)\n",
    "# "
   ]
  },
  {
   "cell_type": "code",
   "execution_count": 107,
   "metadata": {},
   "outputs": [],
   "source": [
    "# all_results[key][\"react\"].patterns.shape\n",
    "# assembly_act\n",
    "# assembly_id, strengths, centers = assembly_reactivation.get_peak_activity(\n",
    "#     assembly_act, all_results[key][\"react\"].ripples\n",
    "# )"
   ]
  },
  {
   "cell_type": "code",
   "execution_count": 21,
   "metadata": {},
   "outputs": [],
   "source": [
    "# temp_df = pd.DataFrame()\n",
    "# temp_df[\"assembly_id\"] = assembly_id\n",
    "# temp_df[\"strengths\"] = strengths\n",
    "# temp_df['centers'] = centers\n",
    "# temp_df\n",
    "# temp_df.sort_values(by=['assembly_id'])\n",
    "# plt.plot(assembly_id,strengths,'.k')"
   ]
  },
  {
   "cell_type": "markdown",
   "metadata": {},
   "source": [
    "## compile peak reactivation strength per ripple\n",
    "\n",
    "For pre and post for deep and superficial only assemblies\n",
    "\n",
    "Needs refactored ... very slow"
   ]
  },
  {
   "cell_type": "code",
   "execution_count": 20,
   "metadata": {},
   "outputs": [
    {
     "name": "stderr",
     "output_type": "stream",
     "text": [
      "100%|██████████| 21/21 [04:31<00:00, 12.91s/it]\n"
     ]
    },
    {
     "data": {
      "text/html": [
       "<div>\n",
       "<style scoped>\n",
       "    .dataframe tbody tr th:only-of-type {\n",
       "        vertical-align: middle;\n",
       "    }\n",
       "\n",
       "    .dataframe tbody tr th {\n",
       "        vertical-align: top;\n",
       "    }\n",
       "\n",
       "    .dataframe thead th {\n",
       "        text-align: right;\n",
       "    }\n",
       "</style>\n",
       "<table border=\"1\" class=\"dataframe\">\n",
       "  <thead>\n",
       "    <tr style=\"text-align: right;\">\n",
       "      <th></th>\n",
       "      <th>basepath</th>\n",
       "      <th>strength</th>\n",
       "      <th>deepSuperficial</th>\n",
       "      <th>epoch</th>\n",
       "      <th>assembly_id</th>\n",
       "      <th>centers</th>\n",
       "      <th>layer_epoch</th>\n",
       "    </tr>\n",
       "  </thead>\n",
       "  <tbody>\n",
       "    <tr>\n",
       "      <th>0</th>\n",
       "      <td>Z:\\Data\\AYAold\\AYA7\\day19</td>\n",
       "      <td>0.429932</td>\n",
       "      <td>deep</td>\n",
       "      <td>pre</td>\n",
       "      <td>0.0</td>\n",
       "      <td>2336.660000</td>\n",
       "      <td>deep_pre</td>\n",
       "    </tr>\n",
       "    <tr>\n",
       "      <th>1</th>\n",
       "      <td>Z:\\Data\\AYAold\\AYA7\\day19</td>\n",
       "      <td>0.166236</td>\n",
       "      <td>deep</td>\n",
       "      <td>pre</td>\n",
       "      <td>1.0</td>\n",
       "      <td>2336.660000</td>\n",
       "      <td>deep_pre</td>\n",
       "    </tr>\n",
       "    <tr>\n",
       "      <th>2</th>\n",
       "      <td>Z:\\Data\\AYAold\\AYA7\\day19</td>\n",
       "      <td>0.226395</td>\n",
       "      <td>deep</td>\n",
       "      <td>pre</td>\n",
       "      <td>2.0</td>\n",
       "      <td>2336.660000</td>\n",
       "      <td>deep_pre</td>\n",
       "    </tr>\n",
       "    <tr>\n",
       "      <th>3</th>\n",
       "      <td>Z:\\Data\\AYAold\\AYA7\\day19</td>\n",
       "      <td>0.418912</td>\n",
       "      <td>deep</td>\n",
       "      <td>pre</td>\n",
       "      <td>0.0</td>\n",
       "      <td>2353.011600</td>\n",
       "      <td>deep_pre</td>\n",
       "    </tr>\n",
       "    <tr>\n",
       "      <th>4</th>\n",
       "      <td>Z:\\Data\\AYAold\\AYA7\\day19</td>\n",
       "      <td>0.165302</td>\n",
       "      <td>deep</td>\n",
       "      <td>pre</td>\n",
       "      <td>1.0</td>\n",
       "      <td>2353.011600</td>\n",
       "      <td>deep_pre</td>\n",
       "    </tr>\n",
       "    <tr>\n",
       "      <th>...</th>\n",
       "      <td>...</td>\n",
       "      <td>...</td>\n",
       "      <td>...</td>\n",
       "      <td>...</td>\n",
       "      <td>...</td>\n",
       "      <td>...</td>\n",
       "      <td>...</td>\n",
       "    </tr>\n",
       "    <tr>\n",
       "      <th>1211984</th>\n",
       "      <td>Z:\\Data\\Kenji\\nlx_070329</td>\n",
       "      <td>0.052711</td>\n",
       "      <td>deep</td>\n",
       "      <td>post</td>\n",
       "      <td>3.0</td>\n",
       "      <td>31143.863019</td>\n",
       "      <td>deep_post</td>\n",
       "    </tr>\n",
       "    <tr>\n",
       "      <th>1211985</th>\n",
       "      <td>Z:\\Data\\Kenji\\nlx_070329</td>\n",
       "      <td>0.004459</td>\n",
       "      <td>deep</td>\n",
       "      <td>post</td>\n",
       "      <td>0.0</td>\n",
       "      <td>31144.202875</td>\n",
       "      <td>deep_post</td>\n",
       "    </tr>\n",
       "    <tr>\n",
       "      <th>1211986</th>\n",
       "      <td>Z:\\Data\\Kenji\\nlx_070329</td>\n",
       "      <td>0.032153</td>\n",
       "      <td>deep</td>\n",
       "      <td>post</td>\n",
       "      <td>1.0</td>\n",
       "      <td>31144.202875</td>\n",
       "      <td>deep_post</td>\n",
       "    </tr>\n",
       "    <tr>\n",
       "      <th>1211987</th>\n",
       "      <td>Z:\\Data\\Kenji\\nlx_070329</td>\n",
       "      <td>-0.046067</td>\n",
       "      <td>deep</td>\n",
       "      <td>post</td>\n",
       "      <td>2.0</td>\n",
       "      <td>31144.202875</td>\n",
       "      <td>deep_post</td>\n",
       "    </tr>\n",
       "    <tr>\n",
       "      <th>1211988</th>\n",
       "      <td>Z:\\Data\\Kenji\\nlx_070329</td>\n",
       "      <td>0.048613</td>\n",
       "      <td>deep</td>\n",
       "      <td>post</td>\n",
       "      <td>3.0</td>\n",
       "      <td>31144.202875</td>\n",
       "      <td>deep_post</td>\n",
       "    </tr>\n",
       "  </tbody>\n",
       "</table>\n",
       "<p>1211989 rows × 7 columns</p>\n",
       "</div>"
      ],
      "text/plain": [
       "                          basepath  strength deepSuperficial epoch  \\\n",
       "0        Z:\\Data\\AYAold\\AYA7\\day19  0.429932            deep   pre   \n",
       "1        Z:\\Data\\AYAold\\AYA7\\day19  0.166236            deep   pre   \n",
       "2        Z:\\Data\\AYAold\\AYA7\\day19  0.226395            deep   pre   \n",
       "3        Z:\\Data\\AYAold\\AYA7\\day19  0.418912            deep   pre   \n",
       "4        Z:\\Data\\AYAold\\AYA7\\day19  0.165302            deep   pre   \n",
       "...                            ...       ...             ...   ...   \n",
       "1211984   Z:\\Data\\Kenji\\nlx_070329  0.052711            deep  post   \n",
       "1211985   Z:\\Data\\Kenji\\nlx_070329  0.004459            deep  post   \n",
       "1211986   Z:\\Data\\Kenji\\nlx_070329  0.032153            deep  post   \n",
       "1211987   Z:\\Data\\Kenji\\nlx_070329 -0.046067            deep  post   \n",
       "1211988   Z:\\Data\\Kenji\\nlx_070329  0.048613            deep  post   \n",
       "\n",
       "         assembly_id       centers layer_epoch  \n",
       "0                0.0   2336.660000    deep_pre  \n",
       "1                1.0   2336.660000    deep_pre  \n",
       "2                2.0   2336.660000    deep_pre  \n",
       "3                0.0   2353.011600    deep_pre  \n",
       "4                1.0   2353.011600    deep_pre  \n",
       "...              ...           ...         ...  \n",
       "1211984          3.0  31143.863019   deep_post  \n",
       "1211985          0.0  31144.202875   deep_post  \n",
       "1211986          1.0  31144.202875   deep_post  \n",
       "1211987          2.0  31144.202875   deep_post  \n",
       "1211988          3.0  31144.202875   deep_post  \n",
       "\n",
       "[1211989 rows x 7 columns]"
      ]
     },
     "execution_count": 20,
     "metadata": {},
     "output_type": "execute_result"
    }
   ],
   "source": [
    "import copy\n",
    "import warnings\n",
    "\n",
    "warnings.filterwarnings(\"ignore\")\n",
    "\n",
    "\n",
    "def make_react_df(results, df, epoch: str, layer_id: str):\n",
    "    \"\"\"\n",
    "    Make a dataframe of reactivation data for a given epoch and layer\n",
    "    \"\"\"\n",
    "    # assign layer and epoch\n",
    "    idx = df[\n",
    "        (df.basepath == results[\"react\"].basepath) & (df.layer_id == layer_id)\n",
    "    ].assembly_n_session.unique()\n",
    "    epoch_idx = np.array([\"pre\", \"task\", \"post\"])\n",
    "    epoch_idx = int(np.where(epoch_idx == epoch)[0][0])\n",
    "    if idx.shape[0] == 0:\n",
    "        return pd.DataFrame()\n",
    "    # get the assembly strength data\n",
    "    assembly_act = copy.deepcopy(results[\"assembly_act_\" + epoch])\n",
    "    # get the assembly strength data for the layer\n",
    "    assembly_act.data = assembly_act.data[idx, :]\n",
    "    # get the assembly strength data for each ripple within the epoch\n",
    "    assembly_id, strengths, centers = assembly_reactivation.get_peak_activity(\n",
    "        assembly_act, results[\"react\"].ripples[results[\"react\"].epochs[epoch_idx]]\n",
    "    )\n",
    "\n",
    "    # store the assembly strength data\n",
    "    temp_df = pd.DataFrame()\n",
    "    temp_df[\"strength\"] = np.hstack(strengths)\n",
    "    temp_df[\"deepSuperficial\"] = layer_id\n",
    "    temp_df[\"epoch\"] = epoch\n",
    "    temp_df[\"assembly_id\"] = np.hstack(assembly_id)\n",
    "    temp_df[\"centers\"] = np.hstack(centers)\n",
    "\n",
    "    return temp_df\n",
    "\n",
    "\n",
    "def get_react_df(results, df):\n",
    "    react_df = pd.DataFrame()\n",
    "    for layer in [\"sup\", \"deep\"]:\n",
    "        for epoch in [\"pre\", \"task\", \"post\"]:\n",
    "            temp_df = make_react_df(results, df, epoch=epoch, layer_id=layer)\n",
    "            react_df = pd.concat([react_df, temp_df], ignore_index=True)\n",
    "    return react_df\n",
    "\n",
    "# def get_react_df(results, df):\n",
    "#     for epoch in [\"pre\", \"task\", \"post\"]:\n",
    "#         assembly_id, strengths = assembly_reactivation.get_peak_activity(\n",
    "#             results[\"assembly_act_\" + epoch], results[\"react\"].ripples[results[\"react\"].epochs]\n",
    "#         )\n",
    "\n",
    "react_df = pd.DataFrame()\n",
    "for basepath in tqdm(all_results.keys()):\n",
    "    temp_df = get_react_df(all_results[basepath], df)\n",
    "    temp_df['basepath'] = basepath\n",
    "    react_df = pd.concat([react_df, temp_df], ignore_index=True)\n",
    "\n",
    "react_df[\"layer_epoch\"] = react_df.deepSuperficial + \"_\" + react_df.epoch\n",
    "\n",
    "react_df\n"
   ]
  },
  {
   "cell_type": "markdown",
   "metadata": {},
   "source": [
    "## make var that is strength normed by baseline"
   ]
  },
  {
   "cell_type": "code",
   "execution_count": 80,
   "metadata": {},
   "outputs": [],
   "source": [
    "for basepath in react_df.basepath.unique():\n",
    "    temp_df = react_df.query(\"basepath == @basepath & epoch == 'pre'\")\n",
    "    for assembly_id in temp_df.assembly_id.unique():\n",
    "        strength = temp_df[temp_df.assembly_id == assembly_id].strength.values\n",
    "        baseline = np.nanmean(strength[strength >= 5])\n",
    "        strength = react_df[(react_df.basepath == basepath) & (react_df.assembly_id == assembly_id)].strength.values\n",
    "        react_df.loc[(react_df.basepath == basepath) & (react_df.assembly_id == assembly_id),\"strength_baseline_adj\"] = (strength - baseline) / (strength + baseline)\n",
    "        react_df.loc[(react_df.basepath == basepath) & (react_df.assembly_id == assembly_id),\"strength_baseline_subtract\"] = strength - baseline\n"
   ]
  },
  {
   "cell_type": "markdown",
   "metadata": {},
   "source": [
    "## add animal id"
   ]
  },
  {
   "cell_type": "code",
   "execution_count": 23,
   "metadata": {},
   "outputs": [],
   "source": [
    "for basepath in react_df.basepath.unique():\n",
    "    react_df.loc[react_df.basepath == basepath,'animal_id'] = loading.get_animal_id(basepath)"
   ]
  },
  {
   "cell_type": "markdown",
   "metadata": {},
   "source": [
    "## get assembly number"
   ]
  },
  {
   "cell_type": "code",
   "execution_count": 24,
   "metadata": {},
   "outputs": [
    {
     "data": {
      "text/html": [
       "<div>\n",
       "<style scoped>\n",
       "    .dataframe tbody tr th:only-of-type {\n",
       "        vertical-align: middle;\n",
       "    }\n",
       "\n",
       "    .dataframe tbody tr th {\n",
       "        vertical-align: top;\n",
       "    }\n",
       "\n",
       "    .dataframe thead th {\n",
       "        text-align: right;\n",
       "    }\n",
       "</style>\n",
       "<table border=\"1\" class=\"dataframe\">\n",
       "  <thead>\n",
       "    <tr style=\"text-align: right;\">\n",
       "      <th></th>\n",
       "      <th>basepath</th>\n",
       "      <th>strength</th>\n",
       "      <th>deepSuperficial</th>\n",
       "      <th>epoch</th>\n",
       "      <th>assembly_id</th>\n",
       "      <th>centers</th>\n",
       "      <th>layer_epoch</th>\n",
       "      <th>strength_baseline_adj</th>\n",
       "      <th>animal_id</th>\n",
       "      <th>assembly_n</th>\n",
       "    </tr>\n",
       "  </thead>\n",
       "  <tbody>\n",
       "    <tr>\n",
       "      <th>0</th>\n",
       "      <td>Z:\\Data\\AYAold\\AYA7\\day19</td>\n",
       "      <td>0.429932</td>\n",
       "      <td>deep</td>\n",
       "      <td>pre</td>\n",
       "      <td>0.0</td>\n",
       "      <td>2336.660000</td>\n",
       "      <td>deep_pre</td>\n",
       "      <td>-0.907603</td>\n",
       "      <td>AYA7</td>\n",
       "      <td>0.0</td>\n",
       "    </tr>\n",
       "    <tr>\n",
       "      <th>1</th>\n",
       "      <td>Z:\\Data\\AYAold\\AYA7\\day19</td>\n",
       "      <td>0.166236</td>\n",
       "      <td>deep</td>\n",
       "      <td>pre</td>\n",
       "      <td>1.0</td>\n",
       "      <td>2336.660000</td>\n",
       "      <td>deep_pre</td>\n",
       "      <td>-0.967887</td>\n",
       "      <td>AYA7</td>\n",
       "      <td>1.0</td>\n",
       "    </tr>\n",
       "    <tr>\n",
       "      <th>2</th>\n",
       "      <td>Z:\\Data\\AYAold\\AYA7\\day19</td>\n",
       "      <td>0.226395</td>\n",
       "      <td>deep</td>\n",
       "      <td>pre</td>\n",
       "      <td>2.0</td>\n",
       "      <td>2336.660000</td>\n",
       "      <td>deep_pre</td>\n",
       "      <td>-0.947402</td>\n",
       "      <td>AYA7</td>\n",
       "      <td>2.0</td>\n",
       "    </tr>\n",
       "    <tr>\n",
       "      <th>3</th>\n",
       "      <td>Z:\\Data\\AYAold\\AYA7\\day19</td>\n",
       "      <td>0.418912</td>\n",
       "      <td>deep</td>\n",
       "      <td>pre</td>\n",
       "      <td>0.0</td>\n",
       "      <td>2353.011600</td>\n",
       "      <td>deep_pre</td>\n",
       "      <td>-0.909865</td>\n",
       "      <td>AYA7</td>\n",
       "      <td>0.0</td>\n",
       "    </tr>\n",
       "    <tr>\n",
       "      <th>4</th>\n",
       "      <td>Z:\\Data\\AYAold\\AYA7\\day19</td>\n",
       "      <td>0.165302</td>\n",
       "      <td>deep</td>\n",
       "      <td>pre</td>\n",
       "      <td>1.0</td>\n",
       "      <td>2353.011600</td>\n",
       "      <td>deep_pre</td>\n",
       "      <td>-0.968064</td>\n",
       "      <td>AYA7</td>\n",
       "      <td>1.0</td>\n",
       "    </tr>\n",
       "    <tr>\n",
       "      <th>...</th>\n",
       "      <td>...</td>\n",
       "      <td>...</td>\n",
       "      <td>...</td>\n",
       "      <td>...</td>\n",
       "      <td>...</td>\n",
       "      <td>...</td>\n",
       "      <td>...</td>\n",
       "      <td>...</td>\n",
       "      <td>...</td>\n",
       "      <td>...</td>\n",
       "    </tr>\n",
       "    <tr>\n",
       "      <th>1211984</th>\n",
       "      <td>Z:\\Data\\Kenji\\nlx_070329</td>\n",
       "      <td>0.052711</td>\n",
       "      <td>deep</td>\n",
       "      <td>post</td>\n",
       "      <td>3.0</td>\n",
       "      <td>31143.863019</td>\n",
       "      <td>deep_post</td>\n",
       "      <td>-0.994910</td>\n",
       "      <td>nlx</td>\n",
       "      <td>109.0</td>\n",
       "    </tr>\n",
       "    <tr>\n",
       "      <th>1211985</th>\n",
       "      <td>Z:\\Data\\Kenji\\nlx_070329</td>\n",
       "      <td>0.004459</td>\n",
       "      <td>deep</td>\n",
       "      <td>post</td>\n",
       "      <td>0.0</td>\n",
       "      <td>31144.202875</td>\n",
       "      <td>deep_post</td>\n",
       "      <td>-0.999220</td>\n",
       "      <td>nlx</td>\n",
       "      <td>106.0</td>\n",
       "    </tr>\n",
       "    <tr>\n",
       "      <th>1211986</th>\n",
       "      <td>Z:\\Data\\Kenji\\nlx_070329</td>\n",
       "      <td>0.032153</td>\n",
       "      <td>deep</td>\n",
       "      <td>post</td>\n",
       "      <td>1.0</td>\n",
       "      <td>31144.202875</td>\n",
       "      <td>deep_post</td>\n",
       "      <td>-0.996050</td>\n",
       "      <td>nlx</td>\n",
       "      <td>107.0</td>\n",
       "    </tr>\n",
       "    <tr>\n",
       "      <th>1211987</th>\n",
       "      <td>Z:\\Data\\Kenji\\nlx_070329</td>\n",
       "      <td>-0.046067</td>\n",
       "      <td>deep</td>\n",
       "      <td>post</td>\n",
       "      <td>2.0</td>\n",
       "      <td>31144.202875</td>\n",
       "      <td>deep_post</td>\n",
       "      <td>-1.013099</td>\n",
       "      <td>nlx</td>\n",
       "      <td>108.0</td>\n",
       "    </tr>\n",
       "    <tr>\n",
       "      <th>1211988</th>\n",
       "      <td>Z:\\Data\\Kenji\\nlx_070329</td>\n",
       "      <td>0.048613</td>\n",
       "      <td>deep</td>\n",
       "      <td>post</td>\n",
       "      <td>3.0</td>\n",
       "      <td>31144.202875</td>\n",
       "      <td>deep_post</td>\n",
       "      <td>-0.995305</td>\n",
       "      <td>nlx</td>\n",
       "      <td>109.0</td>\n",
       "    </tr>\n",
       "  </tbody>\n",
       "</table>\n",
       "<p>1211989 rows × 10 columns</p>\n",
       "</div>"
      ],
      "text/plain": [
       "                          basepath  strength deepSuperficial epoch  \\\n",
       "0        Z:\\Data\\AYAold\\AYA7\\day19  0.429932            deep   pre   \n",
       "1        Z:\\Data\\AYAold\\AYA7\\day19  0.166236            deep   pre   \n",
       "2        Z:\\Data\\AYAold\\AYA7\\day19  0.226395            deep   pre   \n",
       "3        Z:\\Data\\AYAold\\AYA7\\day19  0.418912            deep   pre   \n",
       "4        Z:\\Data\\AYAold\\AYA7\\day19  0.165302            deep   pre   \n",
       "...                            ...       ...             ...   ...   \n",
       "1211984   Z:\\Data\\Kenji\\nlx_070329  0.052711            deep  post   \n",
       "1211985   Z:\\Data\\Kenji\\nlx_070329  0.004459            deep  post   \n",
       "1211986   Z:\\Data\\Kenji\\nlx_070329  0.032153            deep  post   \n",
       "1211987   Z:\\Data\\Kenji\\nlx_070329 -0.046067            deep  post   \n",
       "1211988   Z:\\Data\\Kenji\\nlx_070329  0.048613            deep  post   \n",
       "\n",
       "         assembly_id       centers layer_epoch  strength_baseline_adj  \\\n",
       "0                0.0   2336.660000    deep_pre              -0.907603   \n",
       "1                1.0   2336.660000    deep_pre              -0.967887   \n",
       "2                2.0   2336.660000    deep_pre              -0.947402   \n",
       "3                0.0   2353.011600    deep_pre              -0.909865   \n",
       "4                1.0   2353.011600    deep_pre              -0.968064   \n",
       "...              ...           ...         ...                    ...   \n",
       "1211984          3.0  31143.863019   deep_post              -0.994910   \n",
       "1211985          0.0  31144.202875   deep_post              -0.999220   \n",
       "1211986          1.0  31144.202875   deep_post              -0.996050   \n",
       "1211987          2.0  31144.202875   deep_post              -1.013099   \n",
       "1211988          3.0  31144.202875   deep_post              -0.995305   \n",
       "\n",
       "        animal_id  assembly_n  \n",
       "0            AYA7         0.0  \n",
       "1            AYA7         1.0  \n",
       "2            AYA7         2.0  \n",
       "3            AYA7         0.0  \n",
       "4            AYA7         1.0  \n",
       "...           ...         ...  \n",
       "1211984       nlx       109.0  \n",
       "1211985       nlx       106.0  \n",
       "1211986       nlx       107.0  \n",
       "1211987       nlx       108.0  \n",
       "1211988       nlx       109.0  \n",
       "\n",
       "[1211989 rows x 10 columns]"
      ]
     },
     "execution_count": 24,
     "metadata": {},
     "output_type": "execute_result"
    }
   ],
   "source": [
    "offset = 0\n",
    "for basepath in react_df.basepath.unique():\n",
    "    react_df.loc[react_df.basepath == basepath,\"assembly_n\"] = react_df[react_df.basepath == basepath].assembly_id + offset\n",
    "    offset = react_df[react_df.basepath == basepath].assembly_n.max()\n",
    "\n",
    "react_df"
   ]
  },
  {
   "cell_type": "markdown",
   "metadata": {},
   "source": [
    "## get ripple number"
   ]
  },
  {
   "cell_type": "code",
   "execution_count": 25,
   "metadata": {},
   "outputs": [],
   "source": [
    "for rip_i, ripple_ts in enumerate(react_df.centers.unique()):\n",
    "    react_df.loc[react_df.centers == ripple_ts,'rip_n'] = rip_i\n",
    "react_df.rip_n = react_df.rip_n.astype(int)"
   ]
  },
  {
   "cell_type": "markdown",
   "metadata": {},
   "source": [
    "## get ripple number per sessions"
   ]
  },
  {
   "cell_type": "code",
   "execution_count": 26,
   "metadata": {},
   "outputs": [],
   "source": [
    "for basepath in react_df.basepath.unique():\n",
    "    react_df.loc[react_df.basepath == basepath, \"rip_n_session\"] = (\n",
    "        react_df[react_df.basepath == basepath].rip_n.values\n",
    "        - react_df[react_df.basepath == basepath].rip_n.min()\n",
    "    )"
   ]
  },
  {
   "cell_type": "markdown",
   "metadata": {},
   "source": [
    "## save to csv for stats"
   ]
  },
  {
   "cell_type": "code",
   "execution_count": 133,
   "metadata": {},
   "outputs": [],
   "source": [
    "react_df.to_csv(os.path.join(r'D:\\github\\ripple_heterogeneity\\data', \"react_df.csv\"))"
   ]
  },
  {
   "cell_type": "code",
   "execution_count": 5,
   "metadata": {},
   "outputs": [],
   "source": [
    "react_df = pd.read_csv(os.path.join(r'D:\\github\\ripple_heterogeneity\\data', \"react_df.csv\"))"
   ]
  },
  {
   "cell_type": "code",
   "execution_count": 81,
   "metadata": {},
   "outputs": [
    {
     "data": {
      "text/plain": [
       "<matplotlib.legend.Legend at 0x1ac90068df0>"
      ]
     },
     "execution_count": 81,
     "metadata": {},
     "output_type": "execute_result"
    },
    {
     "data": {
      "image/png": "[encoded data removed]",
      "text/plain": [
       "<Figure size 170.079x157.672 with 2 Axes>"
      ]
     },
     "metadata": {
      "image/png": {
       "height": 178,
       "width": 285
      },
      "needs_background": "light"
     },
     "output_type": "display_data"
    }
   ],
   "source": [
    "group_colors = {\n",
    "    \"deep_pre\": \"#762a83\",\n",
    "    \"sup_pre\": \"#1b7837\",\n",
    "    \"deep_task\": \"#af8dc3\",\n",
    "    \"sup_task\": \"#7fbf7b\",\n",
    "    \"deep_post\": \"#e7d4e8\",\n",
    "    \"sup_post\": \"#d9f0d3\",\n",
    "}\n",
    "sns.set_palette(sns.color_palette(group_colors.values()))\n",
    "\n",
    "fig, ax = plt.subplots(\n",
    "    figsize=functions.set_size(\"thesis\", fraction=0.4, subplots=(1.5, 1)),\n",
    "    edgecolor=None,\n",
    ")\n",
    "box_ax = custom_plots.plot_ecdf_box(\n",
    "    data=react_df[react_df.strength >= 5],\n",
    "    x=\"strength_baseline_adj\",\n",
    "    hue=\"layer_epoch\",\n",
    "    hue_order=group_colors.keys(),\n",
    "    x_offset=0.7,\n",
    "    showfliers=False,\n",
    "    height_ratio=1.2,\n",
    "    legend=False,\n",
    "    ax=ax,\n",
    "    fig=fig,\n",
    ")\n",
    "\n",
    "ax.set_xlabel(\"Reactivation strength \\n (baseline normalized)\")\n",
    "ax.axvline(0, color=\"k\", linestyle=\"--\", alpha=0.5,zorder=-1000)\n",
    "box_ax.axhline(0, color=\"k\", linestyle=\"--\", alpha=0.5,zorder=-1000)\n",
    "\n",
    "plt.legend(loc='best', bbox_to_anchor=(1, 0., 1, 1),fontsize='x-small',frameon=False)\n",
    "\n",
    "# plt.savefig(\n",
    "#     os.path.join(fig_save_path, \"reactivation_strength_normed_pre_task_post.svg\"),\n",
    "#     dpi=300,\n",
    "#     bbox_inches=\"tight\",\n",
    "# )"
   ]
  },
  {
   "cell_type": "code",
   "execution_count": 82,
   "metadata": {},
   "outputs": [
    {
     "data": {
      "text/plain": [
       "<matplotlib.legend.Legend at 0x1ad3f40ae20>"
      ]
     },
     "execution_count": 82,
     "metadata": {},
     "output_type": "execute_result"
    },
    {
     "data": {
      "image/png": "[encoded data removed]",
      "text/plain": [
       "<Figure size 170.079x157.672 with 2 Axes>"
      ]
     },
     "metadata": {
      "image/png": {
       "height": 168,
       "width": 285
      },
      "needs_background": "light"
     },
     "output_type": "display_data"
    }
   ],
   "source": [
    "# group_colors = {\"deep\": \"#7b3294\", \"sup\": \"#008837\"}\n",
    "\n",
    "# group_colors = {\n",
    "#     \"deep_pre\": \"#7b3294\",\n",
    "#     \"sup_pre\": \"#008837\",\n",
    "#     \"deep_post\": \"#c2a5cf\",\n",
    "#     \"sup_post\": \"#a6dba0\",\n",
    "# }\n",
    "group_colors = {\n",
    "    \"deep_pre\": \"#762a83\",\n",
    "    \"sup_pre\": \"#1b7837\",\n",
    "    \"deep_task\": \"#af8dc3\",\n",
    "    \"sup_task\": \"#7fbf7b\",\n",
    "    \"deep_post\": \"#e7d4e8\",\n",
    "    \"sup_post\": \"#d9f0d3\",\n",
    "}\n",
    "sns.set_palette(sns.color_palette(group_colors.values()))\n",
    "\n",
    "fig, ax = plt.subplots(\n",
    "    figsize=functions.set_size(\"thesis\", fraction=0.4, subplots=(1.5, 1)),\n",
    "    edgecolor=None,\n",
    ")\n",
    "react_df[\"strength_log\"] = np.log10(react_df[\"strength\"])\n",
    "box_ax = custom_plots.plot_ecdf_box(\n",
    "    data=react_df[react_df.strength >= 5],\n",
    "    x=\"strength_log\",\n",
    "    hue=\"layer_epoch\",\n",
    "    hue_order=group_colors.keys(),\n",
    "    x_offset=0.7,\n",
    "    showfliers=False,\n",
    "    height_ratio=1.2,\n",
    "    legend=False,\n",
    "    ax=ax,\n",
    "    fig=fig,\n",
    ")\n",
    "# ax.set_xscale('log')\n",
    "# box_ax.set_yscale('log')\n",
    "# box_ax.legend()\n",
    "custom_plots.restore_natural_scale(\n",
    "    ax,\n",
    "    react_df[react_df.strength >= 5].strength_log.min(),\n",
    "    react_df[react_df.strength >= 5].strength_log.max(),\n",
    "    n_steps=4,\n",
    "    x_axis=True,\n",
    "    y_axis=False,\n",
    ")\n",
    "custom_plots.restore_natural_scale(\n",
    "    box_ax,\n",
    "    react_df[react_df.strength >= 5].strength_log.min(),\n",
    "    react_df[react_df.strength >= 5].strength_log.max(),\n",
    "    n_steps=4,\n",
    "    x_axis=False,\n",
    "    y_axis=True,\n",
    ")\n",
    "box_ax.set_ylim(.6,2)\n",
    "plt.legend(loc='best', bbox_to_anchor=(1, 0., 1, 1),fontsize='x-small',frameon=False)\n",
    "\n",
    "# plt.savefig(\n",
    "#     os.path.join(fig_save_path, \"reactivation_strength_pre_task_post.svg\"),\n",
    "#     dpi=300,\n",
    "#     bbox_inches=\"tight\",\n",
    "# )"
   ]
  },
  {
   "cell_type": "code",
   "execution_count": 83,
   "metadata": {},
   "outputs": [
    {
     "name": "stdout",
     "output_type": "stream",
     "text": [
      "p-value annotation legend:\n",
      "ns: 5.00e-02 < p <= 1.00e+00\n",
      "*: 1.00e-02 < p <= 5.00e-02\n",
      "**: 1.00e-03 < p <= 1.00e-02\n",
      "***: 1.00e-04 < p <= 1.00e-03\n",
      "****: p <= 1.00e-04\n",
      "\n",
      "deep_pre v.s. sup_pre: Mann-Whitney-Wilcoxon test two-sided with Bonferroni correction, P_val=1.414e-01 U_stat=1.816e+07\n",
      "deep_task v.s. sup_task: Mann-Whitney-Wilcoxon test two-sided with Bonferroni correction, P_val=1.190e-10 U_stat=7.231e+05\n",
      "deep_post v.s. sup_post: Mann-Whitney-Wilcoxon test two-sided with Bonferroni correction, P_val=2.020e-07 U_stat=4.154e+07\n"
     ]
    },
    {
     "data": {
      "text/plain": [
       "Text(-11.090156911581564, 0.5, 'Reactivation strength \\n (baseline normalized)')"
      ]
     },
     "execution_count": 83,
     "metadata": {},
     "output_type": "execute_result"
    },
    {
     "data": {
      "image/png": "[encoded data removed]",
      "text/plain": [
       "<Figure size 170.079x157.672 with 1 Axes>"
      ]
     },
     "metadata": {
      "image/png": {
       "height": 167,
       "width": 206
      },
      "needs_background": "light"
     },
     "output_type": "display_data"
    }
   ],
   "source": [
    "from statannot import add_stat_annotation\n",
    "\n",
    "fig = plt.figure(\n",
    "    figsize=functions.set_size(\"thesis\", fraction=.4, subplots=(1.5, 1)), edgecolor=None\n",
    ")\n",
    "\n",
    "group_colors = {\n",
    "    \"deep_pre\": \"#762a83\",\n",
    "    \"sup_pre\": \"#1b7837\",\n",
    "    \"deep_task\": \"#af8dc3\",\n",
    "    \"sup_task\": \"#7fbf7b\",\n",
    "    \"deep_post\": \"#e7d4e8\",\n",
    "    \"sup_post\": \"#d9f0d3\",\n",
    "}\n",
    "sns.set_palette(sns.color_palette(group_colors.values()))\n",
    "\n",
    "temp_df = react_df[react_df.strength >= 5]\n",
    "ax = sns.boxplot(y=\"strength_baseline_adj\", x = \"layer_epoch\", order=group_colors.keys(),\n",
    "            data=temp_df,showfliers=False,saturation=1)\n",
    "\n",
    "sns.despine(bottom=True)\n",
    "ax = plt.gca()\n",
    "ax.yaxis.set_minor_locator(AutoMinorLocator())\n",
    "add_stat_annotation(ax, data=temp_df, y=\"strength_baseline_adj\", x = \"layer_epoch\", order=group_colors.keys(),\n",
    "                    box_pairs=[(\"deep_pre\",\"sup_pre\"),(\"deep_task\",\"sup_task\"),(\"deep_post\",\"sup_post\")],\n",
    "                    test='Mann-Whitney', text_format='star', loc='outside', verbose=2)\n",
    "plt.xlabel(\"\")\n",
    "plt.axhline(0, color=\"k\", linestyle=\"--\", alpha=0.5,zorder=1000)\n",
    "ax.set_ylabel(\"Reactivation strength \\n (baseline normalized)\")\n",
    "\n",
    "# plt.savefig(\n",
    "#     os.path.join(fig_save_path, \"reactivation_strength_pre_task_post_box.svg\"),\n",
    "#     dpi=300,\n",
    "#     bbox_inches=\"tight\",\n",
    "# )"
   ]
  },
  {
   "cell_type": "code",
   "execution_count": 95,
   "metadata": {},
   "outputs": [
    {
     "data": {
      "text/plain": [
       "<AxesSubplot:xlabel='epoch', ylabel='strength_baseline_subtract'>"
      ]
     },
     "execution_count": 95,
     "metadata": {},
     "output_type": "execute_result"
    },
    {
     "data": {
      "image/png": "[encoded data removed]",
      "text/plain": [
       "<Figure size 460.8x316.8 with 1 Axes>"
      ]
     },
     "metadata": {
      "image/png": {
       "height": 284,
       "width": 411
      },
      "needs_background": "light"
     },
     "output_type": "display_data"
    }
   ],
   "source": [
    "sns.boxplot(data=react_df.query(\"strength >= 5\"),x=\"epoch\",hue=\"deepSuperficial\", y=\"strength_baseline_subtract\",showfliers=False)"
   ]
  },
  {
   "cell_type": "code",
   "execution_count": null,
   "metadata": {},
   "outputs": [],
   "source": [
    "# react_df_sup = pd.DataFrame()\n",
    "# react_df_sup[\"strength\"] = np.hstack(\n",
    "#     [\n",
    "#         np.hstack(results[\"assembly_act_pre\"].data[sup_idx, :]),\n",
    "#         np.hstack(results[\"assembly_act_post\"].data[sup_idx, :]),\n",
    "#     ]\n",
    "# )\n",
    "# react_df_sup[\"epoch\"] = np.hstack(\n",
    "#     [\n",
    "#         [\"pre\"] * len(np.hstack(results[\"assembly_act_pre\"].data[sup_idx, :])),\n",
    "#         [\"post\"] * len(np.hstack(results[\"assembly_act_post\"].data[sup_idx, :])),\n",
    "#     ]\n",
    "# )\n",
    "# react_df_sup[\"deepSuperficial\"] = \"sup\"\n",
    "\n",
    "# react_df_deep = pd.DataFrame()\n",
    "# react_df_deep[\"strength\"] = np.hstack(\n",
    "#     [\n",
    "#         np.hstack(results[\"assembly_act_pre\"].data[deep_idx, :]),\n",
    "#         np.hstack(results[\"assembly_act_post\"].data[deep_idx, :]),\n",
    "#     ]\n",
    "# )\n",
    "# react_df_deep[\"epoch\"] = np.hstack(\n",
    "#     [\n",
    "#         [\"pre\"] * len(np.hstack(results[\"assembly_act_pre\"].data[deep_idx, :])),\n",
    "#         [\"post\"] * len(np.hstack(results[\"assembly_act_post\"].data[deep_idx, :])),\n",
    "#     ]\n",
    "# )\n",
    "# react_df_deep[\"deepSuperficial\"] = \"deep\"\n",
    "\n",
    "# react_df = pd.DataFrame()\n",
    "# react_df = pd.concat([react_df_sup, react_df_deep], ignore_index=True)\n",
    "# react_df\n",
    "# # results[\"assembly_act_pre\"].data[sup_idx, :]\n",
    "# # results[\"assembly_act_post\"].data[sup_idx, :]\n"
   ]
  },
  {
   "cell_type": "code",
   "execution_count": null,
   "metadata": {},
   "outputs": [],
   "source": [
    "# group_colors = {\"deep\": \"#7b3294\", \"sup\": \"#008837\"}\n",
    "# sns.set_palette(sns.color_palette(group_colors.values()))\n",
    "\n",
    "# fig, ax = plt.subplots(\n",
    "#     figsize=functions.set_size(\"thesis\", fraction=0.4, subplots=(1.5, 1)),\n",
    "#     edgecolor=None,\n",
    "# )\n",
    "\n",
    "# custom_plots.plot_ecdf_box(\n",
    "#     data=react_df,\n",
    "#     x=\"strength\",\n",
    "#     hue=\"deepSuperficial\",\n",
    "#     hue_order=group_colors.keys(),\n",
    "#     ax=ax,\n",
    "#     fig=fig,\n",
    "# )\n"
   ]
  },
  {
   "cell_type": "code",
   "execution_count": 40,
   "metadata": {},
   "outputs": [
    {
     "data": {
      "text/plain": [
       "array([-0.08333431, -0.06820103, -0.03500706, ...,  0.07468035,\n",
       "        0.07468035,  0.07468035])"
      ]
     },
     "execution_count": 40,
     "metadata": {},
     "output_type": "execute_result"
    }
   ],
   "source": [
    "np.hstack(results[\"assembly_act_pre\"].data[sup_idx, :])\n"
   ]
  },
  {
   "cell_type": "code",
   "execution_count": 49,
   "metadata": {},
   "outputs": [],
   "source": [
    "epoch = results[\"react\"].ripples[results[\"react\"].epochs[0]]\n",
    "assembly_id, strengths = assembly_reactivation.get_peak_activity(\n",
    "    results[\"assembly_act_pre\"], epoch\n",
    ")\n"
   ]
  },
  {
   "cell_type": "code",
   "execution_count": 5,
   "metadata": {},
   "outputs": [],
   "source": [
    "basepath = r\"Z:\\Data\\GrosmarkAD\\Achilles\\Achilles_10252013\"\n",
    "m1 = assembly_reactivation.AssemblyReact(basepath)\n",
    "m1.load_data()\n"
   ]
  },
  {
   "cell_type": "code",
   "execution_count": 6,
   "metadata": {},
   "outputs": [
    {
     "name": "stdout",
     "output_type": "stream",
     "text": [
      "<SpikeTrainArray at 0x1ff323b0ca0: 240 units> at 20000 Hz <EpochArray at 0x1ff323b0b80: 11,268 epochs> of length 12:16:036 minutes <EpochArray at 0x1ff3238eac0: 3 epochs> of length 9:41:01:103 hours\n"
     ]
    }
   ],
   "source": [
    "print(m1.st, m1.ripples, m1.epochs)\n"
   ]
  },
  {
   "cell_type": "code",
   "execution_count": 7,
   "metadata": {},
   "outputs": [],
   "source": [
    "m1.get_weights(m1.ripples[m1.epochs[1]])\n"
   ]
  },
  {
   "cell_type": "code",
   "execution_count": 8,
   "metadata": {},
   "outputs": [
    {
     "name": "stderr",
     "output_type": "stream",
     "text": [
      "C:\\Users\\Cornell\\anaconda3\\envs\\ripple_diversity\\lib\\site-packages\\nelpy\\core\\_analogsignalarray.py:392: UserWarning: Data is _not_ sorted! Data will be sorted automatically.\n",
      "C:\\Users\\Cornell\\anaconda3\\envs\\ripple_diversity\\lib\\site-packages\\nelpy\\core\\_analogsignalarray.py:420: UserWarning: creating support from abscissa_vals and sampling rate, fs!\n",
      "C:\\Users\\Cornell\\anaconda3\\envs\\ripple_diversity\\lib\\site-packages\\nelpy\\utils.py:842: UserWarning: some steps in the data are smaller than the requested step size.\n"
     ]
    }
   ],
   "source": [
    "m1.get_assembly_act(epoch=m1.ripples[m1.epochs[0]])\n"
   ]
  },
  {
   "cell_type": "code",
   "execution_count": 26,
   "metadata": {},
   "outputs": [],
   "source": [
    "import warnings\n",
    "\n",
    "warnings.filterwarnings(\"ignore\")\n",
    "strengths = []\n",
    "assembly_id = []\n",
    "for assembly_act in m1.assembly_act[m1.ripples[m1.epochs[0]]]:\n",
    "    strengths.append(assembly_act.max())\n",
    "    assembly_id.append(np.arange(assembly_act.n_signals))\n"
   ]
  },
  {
   "cell_type": "markdown",
   "metadata": {},
   "source": [
    "## discover assemblies on each epoch\n"
   ]
  },
  {
   "cell_type": "code",
   "execution_count": null,
   "metadata": {},
   "outputs": [],
   "source": [
    "df = pd.read_csv(r\"Z:\\home\\ryanh\\projects\\ripple_heterogeneity\\sessions.csv\")\n",
    "df = df[df.basepath.str.contains(\"GrosmarkAD\")]\n",
    "df2 = pd.DataFrame()\n",
    "#    'Z:\\\\Data\\\\AYAold\\\\AYA4\\\\day150804',\n",
    "#    'Z:\\\\Data\\\\AYAold\\\\AYA7\\\\day19',\n",
    "df2[\"basepath\"] = [\"Z:\\Data\\HMC1\\day8\", \"Z:\\\\Data\\\\Kenji\\\\ec014.459_480\"]\n",
    "df = pd.concat([df, df2], ignore_index=True)\n",
    "df\n",
    "# save_path = r'Z:\\home\\ryanh\\projects\\ripple_heterogeneity\\cell_assembly_epochs_5ms'\n",
    "save_path = r\"Z:\\home\\ryanh\\projects\\ripple_heterogeneity\\cell_assembly_epochs_10ms\"\n",
    "# save_path = r'Z:\\home\\ryanh\\projects\\ripple_heterogeneity\\cell_assembly_epochs_40ms'\n",
    "\n",
    "assembly_individual_epochs.assembly_run(df, save_path, parallel=True)"
   ]
  },
  {
   "cell_type": "code",
   "execution_count": null,
   "metadata": {},
   "outputs": [],
   "source": [
    "df = assembly_individual_epochs.load_assem_epoch_data(save_path)\n",
    "\n",
    "LAYERDIST = 30\n",
    "deep = -LAYERDIST\n",
    "middle = [-LAYERDIST, LAYERDIST]\n",
    "sup = LAYERDIST\n",
    "df.loc[df.deepSuperficialDistance <= deep, \"deepSuperficial\"] = \"Deep\"\n",
    "df.loc[\n",
    "    (df.deepSuperficialDistance > middle[0]) & (df.deepSuperficialDistance < middle[1]),\n",
    "    \"deepSuperficial\",\n",
    "] = \"middle\"\n",
    "df.loc[df.deepSuperficialDistance >= sup, \"deepSuperficial\"] = \"Superficial\""
   ]
  },
  {
   "cell_type": "markdown",
   "metadata": {},
   "source": [
    "### assembly weights over pre/task/post"
   ]
  },
  {
   "cell_type": "code",
   "execution_count": 7,
   "metadata": {},
   "outputs": [],
   "source": [
    "df.loc[df.epoch_n == 0, \"epoch_name\"] = \"Pre-sleep\"\n",
    "df.loc[df.epoch_n == 1, \"epoch_name\"] = \"Task\"\n",
    "df.loc[df.epoch_n == 2, \"epoch_name\"] = \"Post-sleep\"\n"
   ]
  },
  {
   "cell_type": "code",
   "execution_count": 42,
   "metadata": {},
   "outputs": [
    {
     "data": {
      "image/png": "[encoded data removed]",
      "text/plain": [
       "<Figure size 170.079x105.114 with 1 Axes>"
      ]
     },
     "metadata": {
      "image/png": {
       "height": 111,
       "width": 192
      },
      "needs_background": "light"
     },
     "output_type": "display_data"
    }
   ],
   "source": [
    "group_colors = {\"Deep\": \"#7b3294\", \"Superficial\": \"#008837\"}\n",
    "sns.set_palette(sns.color_palette(group_colors.values()))\n",
    "\n",
    "df[\"weights_abs\"] = df.weights.abs()\n",
    "\n",
    "w, h = functions.set_size(\"thesis\", fraction=0.4, subplots=(1.5, 1))\n",
    "fig, ax = plt.subplots(figsize=(w, h / 1.5), edgecolor=None)\n",
    "sns.boxplot(\n",
    "    x=\"epoch_name\",\n",
    "    y=\"weights_abs\",\n",
    "    hue=\"deepSuperficial\",\n",
    "    hue_order=group_colors.keys(),\n",
    "    data=df[df.membership],\n",
    ")\n",
    "\n",
    "sns.stripplot(\n",
    "    x=\"epoch_name\",\n",
    "    y=\"weights_abs\",\n",
    "    hue=\"deepSuperficial\",\n",
    "    hue_order=group_colors.keys(),\n",
    "    data=df[df.membership],\n",
    "    dodge=True,\n",
    "    color=\"k\",\n",
    "    alpha=0.5,\n",
    "    s=3,\n",
    ")\n",
    "\n",
    "ax = plt.gca()\n",
    "ax.set_ylabel(\"contribution to \\n assembly\")\n",
    "ax.set_xlabel(\"\")\n",
    "\n",
    "# axs.legend(\n",
    "#     loc=\"best\", bbox_to_anchor=(1, -0.2, 0.5, 1.2), fontsize=\"x-small\", frameon=False\n",
    "# )\n",
    "\n",
    "ax.yaxis.set_minor_locator(AutoMinorLocator())\n",
    "ax.spines[\"right\"].set_visible(False)\n",
    "ax.spines[\"top\"].set_visible(False)\n",
    "ax.get_legend().remove()\n",
    "\n",
    "plt.savefig(\n",
    "    os.path.join(fig_save_path, \"contribution_to_assembly_pre_task_post.svg\"),\n",
    "    dpi=300,\n",
    "    bbox_inches=\"tight\",\n",
    ")\n"
   ]
  },
  {
   "cell_type": "code",
   "execution_count": 51,
   "metadata": {},
   "outputs": [
    {
     "data": {
      "image/png": "[encoded data removed]",
      "text/plain": [
       "<Figure size 170.079x78.8358 with 1 Axes>"
      ]
     },
     "metadata": {
      "image/png": {
       "height": 97,
       "width": 192
      },
      "needs_background": "light"
     },
     "output_type": "display_data"
    }
   ],
   "source": [
    "def get_assembly_composition(df):\n",
    "    mixed = 0\n",
    "    deep_biased = 0\n",
    "    sup_biased = 0\n",
    "\n",
    "    for n_as in df.assembly_n.unique():\n",
    "        current_df = df[df.assembly_n == n_as]\n",
    "        mem_idx = current_df.membership == True\n",
    "        sup_idx = current_df.deepSuperficial == \"Superficial\"\n",
    "        deep_idx = current_df.deepSuperficial == \"Deep\"\n",
    "        if sum(mem_idx) < 2:\n",
    "            continue\n",
    "        if ((deep_idx & mem_idx).sum() > 0) & ((sup_idx & mem_idx).sum() > 0):\n",
    "            mixed += 1\n",
    "        elif ((deep_idx & mem_idx).sum() > 1) & ((sup_idx & mem_idx).sum() == 0):\n",
    "            deep_biased += 1\n",
    "        elif ((deep_idx & mem_idx).sum() == 0) & ((sup_idx & mem_idx).sum() > 0):\n",
    "            sup_biased += 1\n",
    "    return mixed, deep_biased, sup_biased\n",
    "\n",
    "\n",
    "mixed_ps, deep_biased_ps, sup_biased_ps = get_assembly_composition(\n",
    "    df[df.epoch_name == \"Pre-sleep\"]\n",
    ")\n",
    "mixed_t, deep_biased_t, sup_biased_t = get_assembly_composition(\n",
    "    df[df.epoch_name == \"Task\"]\n",
    ")\n",
    "mixed_po, deep_biased_po, sup_biased_po = get_assembly_composition(\n",
    "    df[df.epoch_name == \"Post-sleep\"]\n",
    ")\n",
    "\n",
    "\n",
    "df_comp = pd.DataFrame()\n",
    "df_comp[\"composition\"] = np.array(\n",
    "    [\n",
    "        mixed_ps,\n",
    "        deep_biased_ps + sup_biased_ps,\n",
    "        mixed_t,\n",
    "        deep_biased_t + sup_biased_t,\n",
    "        mixed_po,\n",
    "        deep_biased_po + sup_biased_po,\n",
    "    ]\n",
    ")\n",
    "\n",
    "df_comp[\"deepSuperficial\"] = [\n",
    "    \"mix\",\n",
    "    \"single layer\",\n",
    "    \"mix\",\n",
    "    \"single layer\",\n",
    "    \"mix\",\n",
    "    \"single layer\",\n",
    "]\n",
    "df_comp[\"epoch\"] = [\n",
    "    \"Pre-sleep\",\n",
    "    \"Pre-sleep\",\n",
    "    \"Task\",\n",
    "    \"Task\",\n",
    "    \"Post-sleep\",\n",
    "    \"Post-sleep\",\n",
    "]\n",
    "\n",
    "for epoch in df_comp.epoch.unique():\n",
    "    df_comp.loc[df_comp.epoch == epoch, \"composition_prop\"] = (\n",
    "        df_comp[df_comp.epoch == epoch].composition\n",
    "        / df_comp[df_comp.epoch == epoch].composition.sum()\n",
    "    )\n",
    "\n",
    "w, h = functions.set_size(\"thesis\", fraction=0.4, subplots=(1.5, 1))\n",
    "fig, ax = plt.subplots(figsize=(w, h / 2), edgecolor=None)\n",
    "\n",
    "group_colors = {\"single layer\": \"#ef8a62\", \"mix\": \"#3e5d66\"}\n",
    "sns.set_palette(sns.color_palette(group_colors.values()))\n",
    "\n",
    "g = sns.barplot(\n",
    "    data=df_comp,\n",
    "    x=\"epoch\",\n",
    "    y=\"composition_prop\",\n",
    "    hue=\"deepSuperficial\",\n",
    "    hue_order=group_colors.keys(),\n",
    "    ax=ax,\n",
    ")\n",
    "\n",
    "ax.yaxis.set_minor_locator(AutoMinorLocator())\n",
    "\n",
    "ax.set_ylabel(\"Proportion of \\n assemblies\")\n",
    "\n",
    "ax.yaxis.set_minor_locator(AutoMinorLocator())\n",
    "ax.spines[\"right\"].set_visible(False)\n",
    "ax.spines[\"top\"].set_visible(False)\n",
    "# ax.get_legend().remove()\n",
    "ax.set_xlabel(\"\")\n",
    "\n",
    "plt.savefig(\n",
    "    os.path.join(fig_save_path, \"compsition_of_assembly_pre_task_post.svg\"),\n",
    "    dpi=300,\n",
    "    bbox_inches=\"tight\",\n",
    ")\n"
   ]
  },
  {
   "cell_type": "markdown",
   "metadata": {},
   "source": [
    "## co-activity"
   ]
  },
  {
   "cell_type": "code",
   "execution_count": 7,
   "metadata": {},
   "outputs": [],
   "source": [
    "save_path = (\n",
    "    r\"Z:\\home\\ryanh\\projects\\ripple_heterogeneity\\assembly_unit_corrs_deep_sup_pre\"\n",
    ")\n",
    "assembly_corrs_deep_sup.assembly_corr_run(df, save_path, parallel=True, epoch=\"pre\")\n",
    "\n",
    "save_path = (\n",
    "    r\"Z:\\home\\ryanh\\projects\\ripple_heterogeneity\\assembly_unit_corrs_deep_sup_task\"\n",
    ")\n",
    "assembly_corrs_deep_sup.assembly_corr_run(df, save_path, parallel=True, epoch=\"task\")\n",
    "\n",
    "save_path = (\n",
    "    r\"Z:\\home\\ryanh\\projects\\ripple_heterogeneity\\assembly_unit_corrs_deep_sup_post\"\n",
    ")\n",
    "assembly_corrs_deep_sup.assembly_corr_run(df, save_path, parallel=True, epoch=\"post\")\n"
   ]
  },
  {
   "cell_type": "code",
   "execution_count": 8,
   "metadata": {},
   "outputs": [
    {
     "data": {
      "text/html": [
       "<div>\n",
       "<style scoped>\n",
       "    .dataframe tbody tr th:only-of-type {\n",
       "        vertical-align: middle;\n",
       "    }\n",
       "\n",
       "    .dataframe tbody tr th {\n",
       "        vertical-align: top;\n",
       "    }\n",
       "\n",
       "    .dataframe thead th {\n",
       "        text-align: right;\n",
       "    }\n",
       "</style>\n",
       "<table border=\"1\" class=\"dataframe\">\n",
       "  <thead>\n",
       "    <tr style=\"text-align: right;\">\n",
       "      <th></th>\n",
       "      <th>Unnamed: 0</th>\n",
       "      <th>rho</th>\n",
       "      <th>label</th>\n",
       "      <th>assembly_id</th>\n",
       "      <th>basepath</th>\n",
       "      <th>epoch</th>\n",
       "    </tr>\n",
       "  </thead>\n",
       "  <tbody>\n",
       "    <tr>\n",
       "      <th>0</th>\n",
       "      <td>0</td>\n",
       "      <td>-0.003529</td>\n",
       "      <td>deep</td>\n",
       "      <td>0.0</td>\n",
       "      <td>Z:\\Data\\GrosmarkAD\\Achilles\\Achilles_10252013</td>\n",
       "      <td>0</td>\n",
       "    </tr>\n",
       "    <tr>\n",
       "      <th>1</th>\n",
       "      <td>1</td>\n",
       "      <td>-0.003555</td>\n",
       "      <td>deep</td>\n",
       "      <td>0.0</td>\n",
       "      <td>Z:\\Data\\GrosmarkAD\\Achilles\\Achilles_10252013</td>\n",
       "      <td>0</td>\n",
       "    </tr>\n",
       "    <tr>\n",
       "      <th>2</th>\n",
       "      <td>2</td>\n",
       "      <td>0.013585</td>\n",
       "      <td>deep</td>\n",
       "      <td>0.0</td>\n",
       "      <td>Z:\\Data\\GrosmarkAD\\Achilles\\Achilles_10252013</td>\n",
       "      <td>0</td>\n",
       "    </tr>\n",
       "    <tr>\n",
       "      <th>3</th>\n",
       "      <td>3</td>\n",
       "      <td>-0.029582</td>\n",
       "      <td>deep</td>\n",
       "      <td>0.0</td>\n",
       "      <td>Z:\\Data\\GrosmarkAD\\Achilles\\Achilles_10252013</td>\n",
       "      <td>0</td>\n",
       "    </tr>\n",
       "    <tr>\n",
       "      <th>4</th>\n",
       "      <td>4</td>\n",
       "      <td>-0.003747</td>\n",
       "      <td>deep</td>\n",
       "      <td>0.0</td>\n",
       "      <td>Z:\\Data\\GrosmarkAD\\Achilles\\Achilles_10252013</td>\n",
       "      <td>0</td>\n",
       "    </tr>\n",
       "    <tr>\n",
       "      <th>...</th>\n",
       "      <td>...</td>\n",
       "      <td>...</td>\n",
       "      <td>...</td>\n",
       "      <td>...</td>\n",
       "      <td>...</td>\n",
       "      <td>...</td>\n",
       "    </tr>\n",
       "    <tr>\n",
       "      <th>17575960</th>\n",
       "      <td>161335</td>\n",
       "      <td>0.037818</td>\n",
       "      <td>non_member_deep</td>\n",
       "      <td>453.0</td>\n",
       "      <td>Z:\\Data\\Kenji\\ec014.459_480</td>\n",
       "      <td>2</td>\n",
       "    </tr>\n",
       "    <tr>\n",
       "      <th>17575961</th>\n",
       "      <td>161336</td>\n",
       "      <td>0.037095</td>\n",
       "      <td>non_member_deep</td>\n",
       "      <td>453.0</td>\n",
       "      <td>Z:\\Data\\Kenji\\ec014.459_480</td>\n",
       "      <td>2</td>\n",
       "    </tr>\n",
       "    <tr>\n",
       "      <th>17575962</th>\n",
       "      <td>161337</td>\n",
       "      <td>0.127085</td>\n",
       "      <td>non_member_deep</td>\n",
       "      <td>453.0</td>\n",
       "      <td>Z:\\Data\\Kenji\\ec014.459_480</td>\n",
       "      <td>2</td>\n",
       "    </tr>\n",
       "    <tr>\n",
       "      <th>17575963</th>\n",
       "      <td>161338</td>\n",
       "      <td>0.030874</td>\n",
       "      <td>non_member_deep</td>\n",
       "      <td>453.0</td>\n",
       "      <td>Z:\\Data\\Kenji\\ec014.459_480</td>\n",
       "      <td>2</td>\n",
       "    </tr>\n",
       "    <tr>\n",
       "      <th>17575964</th>\n",
       "      <td>161339</td>\n",
       "      <td>0.074257</td>\n",
       "      <td>non_member_deep</td>\n",
       "      <td>453.0</td>\n",
       "      <td>Z:\\Data\\Kenji\\ec014.459_480</td>\n",
       "      <td>2</td>\n",
       "    </tr>\n",
       "  </tbody>\n",
       "</table>\n",
       "<p>17575965 rows × 6 columns</p>\n",
       "</div>"
      ],
      "text/plain": [
       "          Unnamed: 0       rho            label  assembly_id  \\\n",
       "0                  0 -0.003529             deep          0.0   \n",
       "1                  1 -0.003555             deep          0.0   \n",
       "2                  2  0.013585             deep          0.0   \n",
       "3                  3 -0.029582             deep          0.0   \n",
       "4                  4 -0.003747             deep          0.0   \n",
       "...              ...       ...              ...          ...   \n",
       "17575960      161335  0.037818  non_member_deep        453.0   \n",
       "17575961      161336  0.037095  non_member_deep        453.0   \n",
       "17575962      161337  0.127085  non_member_deep        453.0   \n",
       "17575963      161338  0.030874  non_member_deep        453.0   \n",
       "17575964      161339  0.074257  non_member_deep        453.0   \n",
       "\n",
       "                                               basepath  epoch  \n",
       "0         Z:\\Data\\GrosmarkAD\\Achilles\\Achilles_10252013      0  \n",
       "1         Z:\\Data\\GrosmarkAD\\Achilles\\Achilles_10252013      0  \n",
       "2         Z:\\Data\\GrosmarkAD\\Achilles\\Achilles_10252013      0  \n",
       "3         Z:\\Data\\GrosmarkAD\\Achilles\\Achilles_10252013      0  \n",
       "4         Z:\\Data\\GrosmarkAD\\Achilles\\Achilles_10252013      0  \n",
       "...                                                 ...    ...  \n",
       "17575960                    Z:\\Data\\Kenji\\ec014.459_480      2  \n",
       "17575961                    Z:\\Data\\Kenji\\ec014.459_480      2  \n",
       "17575962                    Z:\\Data\\Kenji\\ec014.459_480      2  \n",
       "17575963                    Z:\\Data\\Kenji\\ec014.459_480      2  \n",
       "17575964                    Z:\\Data\\Kenji\\ec014.459_480      2  \n",
       "\n",
       "[17575965 rows x 6 columns]"
      ]
     },
     "execution_count": 8,
     "metadata": {},
     "output_type": "execute_result"
    }
   ],
   "source": [
    "save_paths = [\n",
    "    r\"Z:\\home\\ryanh\\projects\\ripple_heterogeneity\\assembly_unit_corrs_deep_sup_pre\",\n",
    "    r\"Z:\\home\\ryanh\\projects\\ripple_heterogeneity\\assembly_unit_corrs_deep_sup_task\",\n",
    "    r\"Z:\\home\\ryanh\\projects\\ripple_heterogeneity\\assembly_unit_corrs_deep_sup_post\",\n",
    "]\n",
    "\n",
    "corr_df = pd.DataFrame()\n",
    "for i, save_path in enumerate(save_paths):\n",
    "    sessions = glob.glob(save_path + os.sep + \"*.csv\")\n",
    "    for session in sessions:\n",
    "        temp_df = pd.read_csv(session)\n",
    "        temp_df[\"epoch\"] = i\n",
    "        corr_df = pd.concat([corr_df, temp_df], ignore_index=True)\n",
    "corr_df\n"
   ]
  },
  {
   "cell_type": "code",
   "execution_count": 9,
   "metadata": {},
   "outputs": [],
   "source": [
    "corr_df[\"label_2\"] = \"unknown\"\n",
    "idx = (corr_df.label == \"member_deep\") | (corr_df.label == \"member_sup\")\n",
    "corr_df.loc[idx, \"label_2\"] = \"member_same_layer\"\n",
    "\n",
    "idx = corr_df.label == \"member_deep_sup\"\n",
    "corr_df.loc[idx, \"label_2\"] = \"member_cross_layer\"\n",
    "\n",
    "idx = (\n",
    "    (corr_df.label == \"non_member_deep\")\n",
    "    | (corr_df.label == \"non_member_sup\")\n",
    "    | (corr_df.label == \"non_member_deep_sup\")\n",
    ")\n",
    "corr_df.loc[idx, \"label_2\"] = \"non_member\"\n"
   ]
  },
  {
   "cell_type": "code",
   "execution_count": 50,
   "metadata": {},
   "outputs": [],
   "source": [
    "corr_df.loc[corr_df.epoch == 0, \"epoch_name\"] = \"Pre-sleep\"\n",
    "corr_df.loc[corr_df.epoch == 1, \"epoch_name\"] = \"Task\"\n",
    "corr_df.loc[corr_df.epoch == 2, \"epoch_name\"] = \"Post-sleep\"\n"
   ]
  },
  {
   "cell_type": "code",
   "execution_count": 45,
   "metadata": {},
   "outputs": [],
   "source": [
    "# get mean rho for each assembly_id in corr_df\n",
    "# test_df = corr_df.groupby(by=['label_2','assembly_id','epoch'])['rho'].mean()\n",
    "# test_df = test_df.reset_index()\n"
   ]
  },
  {
   "cell_type": "code",
   "execution_count": 59,
   "metadata": {},
   "outputs": [
    {
     "data": {
      "image/png": "[encoded data removed]",
      "text/plain": [
       "<Figure size 170.079x157.672 with 1 Axes>"
      ]
     },
     "metadata": {
      "image/png": {
       "height": 153,
       "width": 188
      },
      "needs_background": "light"
     },
     "output_type": "display_data"
    }
   ],
   "source": [
    "w, h = functions.set_size(\"thesis\", fraction=0.4, subplots=(1.5, 1))\n",
    "\n",
    "fig, ax = plt.subplots(figsize=(w, h), edgecolor=None)\n",
    "axs = plt.gca()\n",
    "\n",
    "group_colors = {\n",
    "    \"member_same_layer\": \"#ef8a62\",\n",
    "    \"member_cross_layer\": \"#3e5d66\",\n",
    "    \"non_member\": \"#999999\",\n",
    "}\n",
    "sns.set_palette(sns.color_palette(group_colors.values()))\n",
    "\n",
    "sns.boxplot(\n",
    "    x=\"epoch_name\",\n",
    "    y=\"rho\",\n",
    "    hue=\"label_2\",\n",
    "    hue_order=group_colors.keys(),\n",
    "    data=corr_df,\n",
    "    fliersize=0.5,\n",
    "    showfliers=False,\n",
    ")\n",
    "\n",
    "right_side = axs.spines[\"right\"]\n",
    "right_side.set_visible(False)\n",
    "top_side = axs.spines[\"top\"]\n",
    "top_side.set_visible(False)\n",
    "axs.yaxis.set_minor_locator(AutoMinorLocator())\n",
    "\n",
    "axs.set_ylabel(\"Ripple co-firing (ρ)\")\n",
    "axs.set_xlabel(\"\")\n",
    "\n",
    "plt.savefig(\n",
    "    os.path.join(fig_save_path, \"assembly_member_correlation_pre_task_post.svg\"),\n",
    "    dpi=300,\n",
    "    bbox_inches=\"tight\",\n",
    ")\n"
   ]
  },
  {
   "cell_type": "markdown",
   "metadata": {},
   "source": [
    "## Testing out different dt"
   ]
  },
  {
   "cell_type": "code",
   "execution_count": null,
   "metadata": {},
   "outputs": [],
   "source": [
    "def load_assem_epoch_data(save_path):\n",
    "\n",
    "    sessions = glob.glob(save_path + os.sep + \"*.pkl\")\n",
    "\n",
    "    assem_epoch_df = pd.DataFrame()\n",
    "\n",
    "    for session in sessions:\n",
    "        assem_epoch_df_temp = pd.DataFrame()\n",
    "        prob_sig_member = []\n",
    "        n_members = []\n",
    "        n_assemblies = []\n",
    "        n_cells = []\n",
    "        epoch = []\n",
    "        with open(session, \"rb\") as f:\n",
    "            results = pickle.load(f)\n",
    "\n",
    "            for i, pattern_ep in enumerate(results[\"patterns\"]):\n",
    "                (\n",
    "                    patterns_keep,\n",
    "                    is_member_keep,\n",
    "                    keep_assembly,\n",
    "                    is_member,\n",
    "                ) = functions.find_sig_assemblies(pattern_ep)\n",
    "                prob_sig_member.append(np.mean(is_member_keep))\n",
    "                n_members.append(is_member_keep.sum())\n",
    "                n_assemblies.append(patterns_keep.shape[0])\n",
    "                n_cells.append(patterns_keep.shape[1])\n",
    "                epoch.append(str(i))\n",
    "\n",
    "            assem_epoch_df_temp[\"prob_sig_member\"] = prob_sig_member\n",
    "            assem_epoch_df_temp[\"n_members\"] = n_members\n",
    "            assem_epoch_df_temp[\"n_assemblies\"] = n_assemblies\n",
    "            assem_epoch_df_temp[\"n_cells\"] = n_cells\n",
    "            assem_epoch_df_temp[\"epoch\"] = epoch\n",
    "            assem_epoch_df_temp[\"basepath\"] = results[\"basepath\"]\n",
    "\n",
    "        assem_epoch_df = pd.concat(\n",
    "            [assem_epoch_df, assem_epoch_df_temp], ignore_index=True\n",
    "        )\n",
    "\n",
    "    return assem_epoch_df\n",
    "\n",
    "\n",
    "assem_epoch_df = pd.DataFrame()\n",
    "\n",
    "save_path = r\"Z:\\home\\ryanh\\projects\\ripple_heterogeneity\\cell_assembly_epochs_5ms\"\n",
    "assem_epoch_df_temp = load_assem_epoch_data(save_path)\n",
    "assem_epoch_df_temp[\"binsize\"] = \"5ms\"\n",
    "assem_epoch_df = pd.concat([assem_epoch_df, assem_epoch_df_temp], ignore_index=True)\n",
    "\n",
    "save_path = r\"Z:\\home\\ryanh\\projects\\ripple_heterogeneity\\cell_assembly_epochs_10ms\"\n",
    "assem_epoch_df_temp = load_assem_epoch_data(save_path)\n",
    "assem_epoch_df_temp[\"binsize\"] = \"10ms\"\n",
    "assem_epoch_df = pd.concat([assem_epoch_df, assem_epoch_df_temp], ignore_index=True)\n",
    "\n",
    "save_path = r\"Z:\\home\\ryanh\\projects\\ripple_heterogeneity\\cell_assembly_epochs_20ms\"\n",
    "assem_epoch_df_temp = load_assem_epoch_data(save_path)\n",
    "assem_epoch_df_temp[\"binsize\"] = \"20ms\"\n",
    "assem_epoch_df = pd.concat([assem_epoch_df, assem_epoch_df_temp], ignore_index=True)\n",
    "\n",
    "save_path = r\"Z:\\home\\ryanh\\projects\\ripple_heterogeneity\\cell_assembly_epochs_40ms\"\n",
    "assem_epoch_df_temp = load_assem_epoch_data(save_path)\n",
    "assem_epoch_df_temp[\"binsize\"] = \"40ms\"\n",
    "assem_epoch_df = pd.concat([assem_epoch_df, assem_epoch_df_temp], ignore_index=True)\n"
   ]
  },
  {
   "cell_type": "code",
   "execution_count": 10,
   "metadata": {},
   "outputs": [],
   "source": [
    "assem_epoch_df[\"normalized_nassemb\"] = (\n",
    "    assem_epoch_df.n_assemblies / assem_epoch_df.n_cells\n",
    ")\n"
   ]
  },
  {
   "cell_type": "code",
   "execution_count": 11,
   "metadata": {},
   "outputs": [
    {
     "data": {
      "text/plain": [
       "<matplotlib.legend.Legend at 0x25a9e94c4c0>"
      ]
     },
     "execution_count": 11,
     "metadata": {},
     "output_type": "execute_result"
    },
    {
     "data": {
      "image/png": "[encoded data removed]",
      "text/plain": [
       "<Figure size 432x288 with 1 Axes>"
      ]
     },
     "metadata": {
      "needs_background": "light"
     },
     "output_type": "display_data"
    },
    {
     "data": {
      "image/png": "[encoded data removed]",
      "text/plain": [
       "<Figure size 432x288 with 1 Axes>"
      ]
     },
     "metadata": {
      "needs_background": "light"
     },
     "output_type": "display_data"
    },
    {
     "data": {
      "image/png": "[encoded data removed]",
      "text/plain": [
       "<Figure size 432x288 with 1 Axes>"
      ]
     },
     "metadata": {
      "needs_background": "light"
     },
     "output_type": "display_data"
    },
    {
     "data": {
      "image/png": "[encoded data removed]",
      "text/plain": [
       "<Figure size 432x288 with 1 Axes>"
      ]
     },
     "metadata": {
      "needs_background": "light"
     },
     "output_type": "display_data"
    }
   ],
   "source": [
    "plt.figure()\n",
    "plt.grid(linestyle=\"--\", zorder=-100)\n",
    "sns.boxplot(\n",
    "    x=\"epoch\",\n",
    "    y=\"n_assemblies\",\n",
    "    hue=\"binsize\",\n",
    "    data=assem_epoch_df,\n",
    "    width=0.6,\n",
    "    palette=\"Set2\",\n",
    "    showfliers=False,\n",
    ")\n",
    "sns.stripplot(\n",
    "    x=\"epoch\",\n",
    "    y=\"n_assemblies\",\n",
    "    hue=\"binsize\",\n",
    "    data=assem_epoch_df,\n",
    "    size=4,\n",
    "    color=\".3\",\n",
    "    linewidth=0,\n",
    "    dodge=True,\n",
    ")\n",
    "axs = plt.gca()\n",
    "axs.legend(\n",
    "    loc=\"best\", bbox_to_anchor=(0.65, -0.2, 0.5, 1.2), fontsize=\"x-small\", frameon=False\n",
    ")\n",
    "\n",
    "\n",
    "plt.figure()\n",
    "plt.grid(linestyle=\"--\", zorder=-100)\n",
    "sns.boxplot(\n",
    "    x=\"epoch\",\n",
    "    y=\"normalized_nassemb\",\n",
    "    hue=\"binsize\",\n",
    "    data=assem_epoch_df,\n",
    "    width=0.6,\n",
    "    palette=\"Set2\",\n",
    "    showfliers=False,\n",
    ")\n",
    "sns.stripplot(\n",
    "    x=\"epoch\",\n",
    "    y=\"normalized_nassemb\",\n",
    "    hue=\"binsize\",\n",
    "    data=assem_epoch_df,\n",
    "    size=4,\n",
    "    color=\".3\",\n",
    "    linewidth=0,\n",
    "    dodge=True,\n",
    ")\n",
    "axs = plt.gca()\n",
    "axs.legend(\n",
    "    loc=\"best\", bbox_to_anchor=(0.65, -0.2, 0.5, 1.2), fontsize=\"x-small\", frameon=False\n",
    ")\n",
    "\n",
    "plt.figure()\n",
    "plt.grid(linestyle=\"--\", zorder=-100)\n",
    "sns.boxplot(\n",
    "    x=\"epoch\",\n",
    "    y=\"n_members\",\n",
    "    hue=\"binsize\",\n",
    "    data=assem_epoch_df,\n",
    "    width=0.6,\n",
    "    palette=\"Set2\",\n",
    "    showfliers=False,\n",
    ")\n",
    "sns.stripplot(\n",
    "    x=\"epoch\",\n",
    "    y=\"n_members\",\n",
    "    hue=\"binsize\",\n",
    "    data=assem_epoch_df,\n",
    "    size=4,\n",
    "    color=\".3\",\n",
    "    linewidth=0,\n",
    "    dodge=True,\n",
    ")\n",
    "axs = plt.gca()\n",
    "axs.legend(\n",
    "    loc=\"best\", bbox_to_anchor=(0.65, -0.2, 0.5, 1.2), fontsize=\"x-small\", frameon=False\n",
    ")\n",
    "\n",
    "plt.figure()\n",
    "plt.grid(linestyle=\"--\", zorder=-100)\n",
    "sns.boxplot(\n",
    "    x=\"epoch\",\n",
    "    y=\"prob_sig_member\",\n",
    "    hue=\"binsize\",\n",
    "    data=assem_epoch_df,\n",
    "    width=0.6,\n",
    "    palette=\"Set2\",\n",
    "    showfliers=False,\n",
    ")\n",
    "sns.stripplot(\n",
    "    x=\"epoch\",\n",
    "    y=\"prob_sig_member\",\n",
    "    hue=\"binsize\",\n",
    "    data=assem_epoch_df,\n",
    "    size=4,\n",
    "    color=\".3\",\n",
    "    linewidth=0,\n",
    "    dodge=True,\n",
    ")\n",
    "axs = plt.gca()\n",
    "axs.legend(\n",
    "    loc=\"best\", bbox_to_anchor=(0.65, -0.2, 0.5, 1.2), fontsize=\"x-small\", frameon=False\n",
    ")\n"
   ]
  }
 ],
 "metadata": {
  "interpreter": {
   "hash": "07484756fddac7bd59393d4118357304c260afb75bd53ff0a49292dc7b401b16"
  },
  "kernelspec": {
   "display_name": "Python 3.8.10 ('ripple_diversity')",
   "language": "python",
   "name": "python3"
  },
  "language_info": {
   "codemirror_mode": {
    "name": "ipython",
    "version": 3
   },
   "file_extension": ".py",
   "mimetype": "text/x-python",
   "name": "python",
   "nbconvert_exporter": "python",
   "pygments_lexer": "ipython3",
   "version": "3.8.10"
  },
  "orig_nbformat": 4
 },
 "nbformat": 4,
 "nbformat_minor": 2
}
