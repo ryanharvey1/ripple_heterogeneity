{
 "cells": [
  {
   "cell_type": "code",
   "execution_count": 45,
   "metadata": {},
   "outputs": [],
   "source": [
    "%reload_ext autoreload\n",
    "%autoreload 2\n",
    "\n",
    "import pandas as pd\n",
    "import numpy as np\n",
    "import matplotlib.pyplot as plt\n",
    "import seaborn as sns\n",
    "from ripple_heterogeneity.utils import functions, loading,add_new_deep_sup\n",
    "from ripple_heterogeneity.assembly import (\n",
    "    assembly,\n",
    "    assembly_individual_epochs,\n",
    "    assembly_run,\n",
    "    find_sig_assembly,\n",
    "    assembly_reactivation\n",
    ")\n",
    "import nelpy as nel\n",
    "import nelpy.plotting as npl\n",
    "import os\n",
    "import pickle\n",
    "import glob\n",
    "from matplotlib.ticker import AutoMinorLocator\n",
    "from mpl_toolkits.axes_grid1.inset_locator import inset_axes\n",
    "import matplotlib\n",
    "import random\n",
    "from neo.rawio import neuroscoperawio\n",
    "from tqdm import tqdm\n",
    "functions.set_plotting_defaults()\n",
    "%matplotlib inline\n",
    "%config InlineBackend.figure_format = 'retina'\n",
    "fig_save_path = r'Z:\\home\\ryanh\\projects\\ripple_heterogeneity\\figures\\panels'"
   ]
  },
  {
   "cell_type": "code",
   "execution_count": 75,
   "metadata": {},
   "outputs": [],
   "source": [
    "df = pd.read_csv(r'Z:\\home\\ryanh\\projects\\ripple_heterogeneity\\sessions.csv')"
   ]
  },
  {
   "cell_type": "code",
   "execution_count": 104,
   "metadata": {},
   "outputs": [
    {
     "name": "stdout",
     "output_type": "stream",
     "text": [
      "Z:\\Data\\AYAold\\AB3\\AB3_38_41: n_deep_only = 0 n_sup_only = 0\n",
      "Z:\\Data\\AYAold\\AB3\\AB3_42_46: n_deep_only = 0 n_sup_only = 1\n",
      "Z:\\Data\\AYAold\\AB3\\AB3_47_49: n_deep_only = 0 n_sup_only = 0\n",
      "Z:\\Data\\AYAold\\AB4\\day03: n_deep_only = 1 n_sup_only = 1\n",
      "Z:\\Data\\AYAold\\AB4\\day07: n_deep_only = 0 n_sup_only = 1\n",
      "Z:\\Data\\AYAold\\AB4\\day09: n_deep_only = 2 n_sup_only = 0\n",
      "Z:\\Data\\AYAold\\AYA10\\day12: n_deep_only = 0 n_sup_only = 0\n",
      "Z:\\Data\\AYAold\\AYA10\\day25: n_deep_only = 0 n_sup_only = 0\n",
      "Z:\\Data\\AYAold\\AYA10\\day27: n_deep_only = 1 n_sup_only = 0\n",
      "Z:\\Data\\AYAold\\AYA10\\day31: n_deep_only = 0 n_sup_only = 0\n",
      "Z:\\Data\\AYAold\\AYA10\\day32: n_deep_only = 0 n_sup_only = 0\n",
      "Z:\\Data\\AYAold\\AYA10\\day34: n_deep_only = 0 n_sup_only = 1\n",
      "Z:\\Data\\AYAold\\AYA4\\day150804: n_deep_only = 0 n_sup_only = 0\n",
      "Z:\\Data\\AYAold\\AYA6\\day17: n_deep_only = 2 n_sup_only = 0\n",
      "Z:\\Data\\AYAold\\AYA6\\day19: n_deep_only = 0 n_sup_only = 0\n",
      "Z:\\Data\\AYAold\\AYA6\\day20: n_deep_only = 0 n_sup_only = 0\n",
      "Z:\\Data\\AYAold\\AYA7\\day19: n_deep_only = 1 n_sup_only = 0\n",
      "Z:\\Data\\AYAold\\AYA7\\day20: n_deep_only = 1 n_sup_only = 0\n",
      "WARNING !\n",
      "    no assembly detecded!\n"
     ]
    },
    {
     "ename": "TypeError",
     "evalue": "list indices must be integers or slices, not list",
     "output_type": "error",
     "traceback": [
      "\u001b[1;31m---------------------------------------------------------------------------\u001b[0m",
      "\u001b[1;31mTypeError\u001b[0m                                 Traceback (most recent call last)",
      "\u001b[1;32m~\\AppData\\Local\\Temp\\ipykernel_16464\\1266993102.py\u001b[0m in \u001b[0;36m<module>\u001b[1;34m\u001b[0m\n\u001b[0;32m     16\u001b[0m     \u001b[0mm1\u001b[0m\u001b[1;33m.\u001b[0m\u001b[0mget_weights\u001b[0m\u001b[1;33m(\u001b[0m\u001b[0mepoch\u001b[0m\u001b[1;33m=\u001b[0m\u001b[0mm1\u001b[0m\u001b[1;33m.\u001b[0m\u001b[0mripples\u001b[0m\u001b[1;33m[\u001b[0m\u001b[0mm1\u001b[0m\u001b[1;33m.\u001b[0m\u001b[0mepochs\u001b[0m\u001b[1;33m[\u001b[0m\u001b[1;36m1\u001b[0m\u001b[1;33m]\u001b[0m\u001b[1;33m]\u001b[0m\u001b[1;33m)\u001b[0m\u001b[1;33m\u001b[0m\u001b[1;33m\u001b[0m\u001b[0m\n\u001b[0;32m     17\u001b[0m \u001b[1;33m\u001b[0m\u001b[0m\n\u001b[1;32m---> 18\u001b[1;33m     patterns, is_member_sig, keep_assembly, is_member = find_sig_assembly.main(\n\u001b[0m\u001b[0;32m     19\u001b[0m         \u001b[0mm1\u001b[0m\u001b[1;33m.\u001b[0m\u001b[0mpatterns\u001b[0m\u001b[1;33m\u001b[0m\u001b[1;33m\u001b[0m\u001b[0m\n\u001b[0;32m     20\u001b[0m     )\n",
      "\u001b[1;32md:\\github\\ripple_heterogeneity\\ripple_heterogeneity\\assembly\\find_sig_assembly.py\u001b[0m in \u001b[0;36mmain\u001b[1;34m(patterns)\u001b[0m\n\u001b[0;32m     65\u001b[0m     \u001b[0mis_member\u001b[0m \u001b[1;33m=\u001b[0m \u001b[0mnp\u001b[0m\u001b[1;33m.\u001b[0m\u001b[0marray\u001b[0m\u001b[1;33m(\u001b[0m\u001b[0mis_member\u001b[0m\u001b[1;33m)\u001b[0m\u001b[1;33m\u001b[0m\u001b[1;33m\u001b[0m\u001b[0m\n\u001b[0;32m     66\u001b[0m \u001b[1;33m\u001b[0m\u001b[0m\n\u001b[1;32m---> 67\u001b[1;33m     \u001b[1;32mreturn\u001b[0m \u001b[0mpatterns\u001b[0m\u001b[1;33m[\u001b[0m\u001b[0mkeep_assembly\u001b[0m\u001b[1;33m]\u001b[0m\u001b[1;33m,\u001b[0m \u001b[0mis_member\u001b[0m\u001b[1;33m[\u001b[0m\u001b[0mkeep_assembly\u001b[0m\u001b[1;33m]\u001b[0m\u001b[1;33m,\u001b[0m \u001b[0mkeep_assembly\u001b[0m\u001b[1;33m,\u001b[0m \u001b[0mis_member\u001b[0m\u001b[1;33m\u001b[0m\u001b[1;33m\u001b[0m\u001b[0m\n\u001b[0m",
      "\u001b[1;31mTypeError\u001b[0m: list indices must be integers or slices, not list"
     ]
    }
   ],
   "source": [
    "import logging\n",
    "logging.getLogger().setLevel(logging.ERROR)\n",
    "import warnings\n",
    "warnings.filterwarnings(\"ignore\")\n",
    "for basepath in df.basepath.unique():\n",
    "\n",
    "    m1 = assembly_reactivation.AssemblyReact(basepath, weight_dt=0.025)\n",
    "    m1.load_data()\n",
    "    m1.cell_metrics = add_new_deep_sup.deep_sup_from_deepSuperficialDistance(\n",
    "        m1.cell_metrics\n",
    "    )\n",
    "    try:\n",
    "        m1.restrict_epochs_to_pre_task_post()\n",
    "    except:\n",
    "        continue\n",
    "    try:\n",
    "        m1.get_weights(epoch=m1.ripples[m1.epochs[1]])\n",
    "    except\n",
    "        continue\n",
    "    patterns, is_member_sig, keep_assembly, is_member = find_sig_assembly.main(\n",
    "        m1.patterns\n",
    "    )\n",
    "    assembly_df = pd.DataFrame()\n",
    "    assembly_df[\"patterns\"] = m1.patterns.ravel()\n",
    "    assembly_df[\"is_member_sig\"] = is_member.ravel()\n",
    "    assembly_df[\"assembly_n\"] = (\n",
    "        (np.ones_like(m1.patterns).T * np.arange(m1.patterns.shape[0])).T.astype(int).ravel()\n",
    "    )\n",
    "    assembly_df[\"UID\"] = np.tile(m1.cell_metrics.UID.values, m1.patterns.shape[0])\n",
    "    assembly_df[\"putativeCellType\"] = np.tile(\n",
    "        m1.cell_metrics.putativeCellType.values, m1.patterns.shape[0]\n",
    "    )\n",
    "    assembly_df[\"brainRegion\"] = np.tile(m1.cell_metrics.brainRegion.values, m1.patterns.shape[0])\n",
    "    assembly_df[\"deepSuperficial\"] = np.tile(\n",
    "        m1.cell_metrics.deepSuperficial.values, m1.patterns.shape[0]\n",
    "    )\n",
    "    assembly_df[\"deepSuperficialDistance\"] = np.tile(\n",
    "        m1.cell_metrics.deepSuperficialDistance.values, m1.patterns.shape[0]\n",
    "    )\n",
    "    n_deep = []\n",
    "    n_sup = []\n",
    "    for n in assembly_df.assembly_n.unique():\n",
    "        temp_assembly_df = assembly_df[\n",
    "            (assembly_df.assembly_n == n) & (assembly_df.is_member_sig)\n",
    "        ]\n",
    "        n_deep.append(np.sum(temp_assembly_df.deepSuperficial == \"Deep\"))\n",
    "        n_sup.append(np.sum(temp_assembly_df.deepSuperficial == \"Superficial\"))\n",
    "\n",
    "    deep_sup_assemb_counts = (np.array(n_deep)>0)*1 - (np.array(n_sup)>0)*1\n",
    "\n",
    "    n_deep_only = (deep_sup_assemb_counts==1).sum()\n",
    "    n_sup_only = (deep_sup_assemb_counts==-1).sum()\n",
    "\n",
    "    print(f\"{basepath}: n_deep_only = {n_deep_only} n_sup_only = {n_sup_only}\")\n"
   ]
  },
  {
   "cell_type": "code",
   "execution_count": 87,
   "metadata": {},
   "outputs": [
    {
     "data": {
      "text/plain": [
       "array([0, 0, 1, 0, 0, 0])"
      ]
     },
     "execution_count": 87,
     "metadata": {},
     "output_type": "execute_result"
    }
   ],
   "source": [
    "deep_sup_assemb_counts"
   ]
  },
  {
   "cell_type": "code",
   "execution_count": 71,
   "metadata": {},
   "outputs": [
    {
     "name": "stderr",
     "output_type": "stream",
     "text": [
      "WARNING:root:creating support from abscissa_vals and sampling rate, fs!\n",
      "WARNING:root:'fs' has been deprecated; use 'step' instead\n",
      "WARNING:root:some steps in the data are smaller than the requested step size.\n"
     ]
    }
   ],
   "source": [
    "# basepath = r\"Z:\\Data\\AYAold\\AB1\\day1\"\n",
    "basepath = r\"Z:\\Data\\AYAold\\AB4\\day03\"\n",
    "\n",
    "m1 = assembly_reactivation.AssemblyReact(basepath, weight_dt=0.025)\n",
    "m1.load_data()\n",
    "m1.cell_metrics = add_new_deep_sup.deep_sup_from_deepSuperficialDistance(\n",
    "    m1.cell_metrics\n",
    ")\n",
    "\n",
    "m1.get_weights(epoch=m1.ripples[m1.epochs[1]])\n",
    "assembly_act = m1.get_assembly_act()\n"
   ]
  },
  {
   "cell_type": "code",
   "execution_count": 72,
   "metadata": {},
   "outputs": [
    {
     "data": {
      "text/plain": [
       "(6, 58)"
      ]
     },
     "execution_count": 72,
     "metadata": {},
     "output_type": "execute_result"
    }
   ],
   "source": [
    "m1.patterns.shape\n"
   ]
  },
  {
   "cell_type": "code",
   "execution_count": 73,
   "metadata": {},
   "outputs": [
    {
     "name": "stderr",
     "output_type": "stream",
     "text": [
      "c:\\Users\\Cornell\\anaconda3\\envs\\ripple_diversity\\lib\\site-packages\\numpy\\core\\fromnumeric.py:3702: RuntimeWarning: Degrees of freedom <= 0 for slice\n",
      "c:\\Users\\Cornell\\anaconda3\\envs\\ripple_diversity\\lib\\site-packages\\numpy\\core\\_methods.py:221: RuntimeWarning: invalid value encountered in true_divide\n",
      "c:\\Users\\Cornell\\anaconda3\\envs\\ripple_diversity\\lib\\site-packages\\numpy\\core\\_methods.py:253: RuntimeWarning: invalid value encountered in double_scalars\n"
     ]
    }
   ],
   "source": [
    "patterns, is_member_sig, keep_assembly, is_member = find_sig_assembly.main(\n",
    "    m1.patterns\n",
    ")\n",
    "assembly_df = pd.DataFrame()\n",
    "assembly_df[\"patterns\"] = m1.patterns.ravel()\n",
    "assembly_df[\"is_member_sig\"] = is_member.ravel()\n",
    "assembly_df[\"assembly_n\"] = (\n",
    "    (np.ones_like(m1.patterns).T * np.arange(m1.patterns.shape[0])).T.astype(int).ravel()\n",
    ")\n",
    "assembly_df[\"UID\"] = np.tile(m1.cell_metrics.UID.values, m1.patterns.shape[0])\n",
    "assembly_df[\"putativeCellType\"] = np.tile(\n",
    "    m1.cell_metrics.putativeCellType.values, m1.patterns.shape[0]\n",
    ")\n",
    "assembly_df[\"brainRegion\"] = np.tile(m1.cell_metrics.brainRegion.values, m1.patterns.shape[0])\n",
    "assembly_df[\"deepSuperficial\"] = np.tile(\n",
    "    m1.cell_metrics.deepSuperficial.values, m1.patterns.shape[0]\n",
    ")\n",
    "assembly_df[\"deepSuperficialDistance\"] = np.tile(\n",
    "    m1.cell_metrics.deepSuperficialDistance.values, m1.patterns.shape[0]\n",
    ")\n",
    "n_deep = []\n",
    "n_sup = []\n",
    "for n in assembly_df.assembly_n.unique():\n",
    "    temp_assembly_df = assembly_df[\n",
    "        (assembly_df.assembly_n == n) & (assembly_df.is_member_sig)\n",
    "    ]\n",
    "    n_deep.append(np.sum(temp_assembly_df.deepSuperficial == \"Deep\"))\n",
    "    n_sup.append(np.sum(temp_assembly_df.deepSuperficial == \"Superficial\"))\n",
    "    \n"
   ]
  },
  {
   "cell_type": "code",
   "execution_count": 74,
   "metadata": {},
   "outputs": [
    {
     "data": {
      "text/plain": [
       "([13, 9, 2, 7, 8, 2], [1, 6, 0, 1, 1, 1])"
      ]
     },
     "execution_count": 74,
     "metadata": {},
     "output_type": "execute_result"
    }
   ],
   "source": [
    "n_deep,n_sup"
   ]
  },
  {
   "cell_type": "code",
   "execution_count": 42,
   "metadata": {},
   "outputs": [],
   "source": [
    "from xml.etree import ElementTree\n",
    "\n",
    "\n",
    "def parse_xml_channel_groups(filename):\n",
    "    filename = filename.replace(\".xml\", \"\").replace(\".dat\", \"\")\n",
    "\n",
    "    tree = ElementTree.parse(filename + \".xml\")\n",
    "    root = tree.getroot()\n",
    "\n",
    "    # find channels\n",
    "    channel_group = []\n",
    "    for grp_index, xml_chx in enumerate(\n",
    "        root.find(\"anatomicalDescription\").find(\"channelGroups\").findall(\"group\")\n",
    "    ):\n",
    "        for xml_rc in xml_chx:\n",
    "            channel_group.append([int(xml_rc.text), grp_index])\n",
    "    return np.array(channel_group)\n"
   ]
  },
  {
   "cell_type": "code",
   "execution_count": 47,
   "metadata": {},
   "outputs": [],
   "source": [
    "reader = neuroscoperawio.NeuroScopeRawIO(r\"Z:/Data/HMC1/day8/day8\")\n",
    "reader.parse_header()\n",
    "channel_group = parse_xml_channel_groups(reader.filename)\n",
    "shank = 9\n",
    "channel_indexes = channel_group[channel_group[:, 1] == shank, 0]\n",
    "channel_indexes = [293,314,32,416]"
   ]
  },
  {
   "cell_type": "code",
   "execution_count": 51,
   "metadata": {},
   "outputs": [],
   "source": [
    "ca1_deep_idx = (\n",
    "    m1.cell_metrics.brainRegion.str.contains(\"CA1\")\n",
    "    & m1.cell_metrics.deepSuperficial.str.contains(\"Deep\")\n",
    ").values\n",
    "ca1_sup_idx = (\n",
    "    m1.cell_metrics.brainRegion.str.contains(\"CA1\")\n",
    "    & m1.cell_metrics.deepSuperficial.str.contains(\"Superficial\")\n",
    ").values\n"
   ]
  },
  {
   "cell_type": "code",
   "execution_count": 52,
   "metadata": {},
   "outputs": [
    {
     "name": "stderr",
     "output_type": "stream",
     "text": [
      "WARNING:root:ignoring events outside of eventarray support\n",
      "WARNING:root:ignoring events outside of eventarray support\n",
      "WARNING:root:ignoring signal outside of support\n",
      "WARNING:root:ignoring signal outside of support\n"
     ]
    },
    {
     "data": {
      "text/plain": [
       "[<matplotlib.lines.Line2D at 0x1b25e8d97c0>,\n",
       " <matplotlib.lines.Line2D at 0x1b25e8d9940>,\n",
       " <matplotlib.lines.Line2D at 0x1b25e8d9a60>,\n",
       " <matplotlib.lines.Line2D at 0x1b25e8d9b80>]"
      ]
     },
     "execution_count": 52,
     "metadata": {},
     "output_type": "execute_result"
    },
    {
     "data": {
      "image/png": "[encoded data removed]",
      "text/plain": [
       "<Figure size 425.197x262.786 with 3 Axes>"
      ]
     },
     "metadata": {
      "image/png": {
       "height": 230,
       "width": 380
      },
      "needs_background": "light"
     },
     "output_type": "display_data"
    }
   ],
   "source": [
    "fig, axs = plt.subplots(\n",
    "    3,\n",
    "    1,\n",
    "    figsize=functions.set_size(\"thesis\", fraction=1, subplots=(1.5, 1.5)),\n",
    "    edgecolor=None,\n",
    ")\n",
    "fig.subplots_adjust(hspace=0, wspace=0.2)\n",
    "axs = axs.ravel()\n",
    "\n",
    "group_colors = {\n",
    "    \"Deep\": \"#7b3294\",\n",
    "    \"Superficial\": \"#008837\",\n",
    "}\n",
    "# rip = 9\n",
    "rip = 1358\n",
    "rip = 71\n",
    "\n",
    "window = 0.5\n",
    "plotting_epoch = nel.EpochArray([np.array([m1.ripples[rip].start - window / 2, m1.ripples[rip].stop + window / 2]).T])\n",
    "\n",
    "\n",
    "seconds_idx = np.array([plotting_epoch.start,plotting_epoch.stop])\n",
    "# convert to index\n",
    "to_idx = (seconds_idx*reader.get_signal_sampling_rate()).astype(int)\n",
    "# get chunk of data\n",
    "raw_sigs = reader.get_analogsignal_chunk(i_start=to_idx[0],\n",
    "                                        i_stop=to_idx[1],\n",
    "                                        channel_indexes=channel_indexes)\n",
    "                                        \n",
    "ts = np.linspace(plotting_epoch.start, plotting_epoch.stop, raw_sigs.shape[0])\n",
    "axs[0].plot(ts, raw_sigs[:, 0:2], color=\"k\", linewidth=0.5)\n",
    "\n",
    "npl.rasterplot(\n",
    "    m1.st[plotting_epoch].iloc[:, ca1_sup_idx],\n",
    "    lw=1,\n",
    "    lh=7,\n",
    "    ax=axs[1],\n",
    "    color=group_colors[\"Superficial\"],\n",
    "    vertstack=True,\n",
    ")\n",
    "npl.rasterplot(\n",
    "    m1.st[plotting_epoch].iloc[:, ca1_deep_idx],\n",
    "    lw=1,\n",
    "    lh=7,\n",
    "    ax=axs[1],\n",
    "    color=group_colors[\"Deep\"],\n",
    "    vertstack=True,\n",
    ")\n",
    "\n",
    "axs[2].plot(\n",
    "    assembly_act[plotting_epoch].abscissa_vals, assembly_act[plotting_epoch].data.T\n",
    ")\n"
   ]
  },
  {
   "cell_type": "code",
   "execution_count": 69,
   "metadata": {},
   "outputs": [
    {
     "data": {
      "text/plain": [
       "(4, 74)"
      ]
     },
     "execution_count": 69,
     "metadata": {},
     "output_type": "execute_result"
    }
   ],
   "source": [
    "m1.patterns.shape"
   ]
  },
  {
   "cell_type": "code",
   "execution_count": 68,
   "metadata": {},
   "outputs": [
    {
     "data": {
      "image/png": "[encoded data removed]",
      "text/plain": [
       "<Figure size 212.598x262.786 with 4 Axes>"
      ]
     },
     "metadata": {
      "image/png": {
       "height": 243,
       "width": 211
      },
      "needs_background": "light"
     },
     "output_type": "display_data"
    }
   ],
   "source": [
    "# first, sort cells by sublayer\n",
    "sort_idx = np.argsort(m1.cell_metrics['deepSuperficial'])\n",
    "# m1.cell_metrics['deepSuperficial'] = m1.cell_metrics['deepSuperficial'].iloc[sort_idx]\n",
    "\n",
    "patterns = m1.patterns\n",
    "# patterns = [pat[sort_idx] for pat in patterns]\n",
    "patterns = np.array(patterns)\n",
    "\n",
    "# get colors per sub group\n",
    "colors = ['#c2a5cf']* m1.cell_metrics['deepSuperficial'].shape[0]\n",
    "colors = np.array(colors)\n",
    "colors[m1.cell_metrics['deepSuperficial'] == 'Deep'] = ['#c2a5cf']*sum(m1.cell_metrics['deepSuperficial'] == 'Deep')\n",
    "colors[m1.cell_metrics['deepSuperficial'] == 'Superficial'] = ['#a6dba0']*sum(m1.cell_metrics['deepSuperficial'] == 'Superficial')\n",
    "\n",
    "colors_sig = ['#7b3294']* m1.cell_metrics['deepSuperficial'].shape[0]\n",
    "colors_sig = np.array(colors_sig)\n",
    "colors_sig[m1.cell_metrics['deepSuperficial'] == 'Deep'] = ['#7b3294']*sum(m1.cell_metrics['deepSuperficial'] == 'Deep')\n",
    "colors_sig[m1.cell_metrics['deepSuperficial'] == 'Superficial'] = ['#008837']*sum(m1.cell_metrics['deepSuperficial'] == 'Superficial')\n",
    "\n",
    "\n",
    "fig, axs = plt.subplots(1,patterns.shape[0], figsize=functions.set_size('thesis', fraction=.5, subplots=(patterns.shape[0], patterns.shape[0]/2)), edgecolor='k')\n",
    "\n",
    "fig.subplots_adjust(hspace = 0.00, wspace=0)\n",
    "axs = axs.ravel()\n",
    "\n",
    "for i,assmbl in enumerate(patterns):\n",
    "\n",
    "    axs[i].scatter(assmbl,np.arange(len(assmbl)),c=colors,zorder=1000,s=5)\n",
    "\n",
    "    thres = np.mean(assmbl) + np.std(assmbl)*2\n",
    "    idx = assmbl > thres\n",
    "    axs[i].scatter(assmbl[idx],np.arange(len(assmbl))[idx],c=colors_sig[idx],zorder=1000,s=5)\n",
    "\n",
    "    for j,item in enumerate(assmbl):\n",
    "        axs[i].plot(np.sort([item,0]),[j,j],color=colors[j],zorder=-50)\n",
    "        if idx[j]:\n",
    "            axs[i].plot(np.sort([item,0]),[j,j],color=colors_sig[j],zorder=-50)\n",
    "\n",
    "    axs[i].axvline(0,color='grey',zorder=-100)\n",
    "\n",
    "    for i in range(patterns.shape[0]):\n",
    "        axs[i].set_xlim(-patterns.max()-.1,patterns.max()+.1)\n",
    "\n",
    "    for i in range(patterns.shape[0]):\n",
    "        axs[i].spines[\"right\"].set_visible(False)\n",
    "        axs[i].spines[\"top\"].set_visible(False)  \n",
    "\n",
    "    for i in np.arange(1,patterns.shape[0]):\n",
    "        axs[i].spines[\"left\"].set_visible(False)  \n",
    "        axs[i].spines[\"bottom\"].set_visible(False)      \n",
    "        axs[i].get_yaxis().set_ticks([])\n",
    "        axs[i].get_xaxis().set_ticks([])\n",
    "\n",
    "    axs[0].set_ylabel('PYR #')\n",
    "    axs[0].set_xlabel('weight')\n",
    "    axs[0].set_xticks([-.5,.5])\n",
    "    axs[0].set_xticklabels([-.5,.5])"
   ]
  },
  {
   "cell_type": "code",
   "execution_count": null,
   "metadata": {},
   "outputs": [],
   "source": []
  },
  {
   "cell_type": "code",
   "execution_count": 4,
   "metadata": {},
   "outputs": [
    {
     "name": "stderr",
     "output_type": "stream",
     "text": [
      "WARNING:root:creating support from abscissa_vals and sampling rate, fs!\n",
      "WARNING:root:'fs' has been deprecated; use 'step' instead\n",
      "WARNING:root:some steps in the data are smaller than the requested step size.\n"
     ]
    }
   ],
   "source": [
    "basepath = \"Z:\\Data\\AYAold\\AB1\\day1\"\n",
    "cell_metrics, data, ripples, fs_dat = assembly_run.load_basic_data(basepath)\n",
    "\n",
    "restrict_idx = (\n",
    "    (cell_metrics.putativeCellType == \"Pyramidal Cell\")\n",
    "    & (cell_metrics.brainRegion.str.contains(\"CA1\"))\n",
    "    & (cell_metrics.bad_unit == False)\n",
    ")\n",
    "\n",
    "# restrict cell metrics\n",
    "cell_metrics = cell_metrics[restrict_idx]\n",
    "\n",
    "ripple_epochs = nel.EpochArray([np.array([ripples.start, ripples.stop]).T])\n",
    "st_unit = nel.SpikeTrainArray(\n",
    "    timestamps=np.array(data[\"spikes\"], dtype=object)[restrict_idx], fs=fs_dat\n",
    ")\n",
    "# behavioral_epochs = nel.EpochArray([np.array([data['epochs'].startTime,\n",
    "#                                                 data['epochs'].stopTime]).T])\n",
    "\n",
    "filename = glob.glob(os.path.join(basepath, \"*.lfp\"))[0]\n",
    "nChannels, fs, fs_dat, shank_to_channel = loading.loadXML(basepath)\n",
    "\n",
    "rip_ch = ripples.ripple_channel.unique()[0]\n",
    "for sh in shank_to_channel:\n",
    "    if np.any(shank_to_channel[sh] == rip_ch):\n",
    "        shank = sh\n",
    "        break\n",
    "\n",
    "channel_idx = np.where(shank_to_channel[shank] == rip_ch)[0][0]\n",
    "\n",
    "lfp, ts = loading.loadLFP(\n",
    "    basepath,\n",
    "    n_channels=nChannels,\n",
    "    channel=shank_to_channel[shank],\n",
    "    frequency=fs,\n",
    "    precision=\"int16\",\n",
    ")\n",
    "lfp_obj = nel.AnalogSignalArray(data=lfp.T, fs=fs)\n"
   ]
  },
  {
   "cell_type": "code",
   "execution_count": null,
   "metadata": {},
   "outputs": [],
   "source": [
    "session = \"Z:\\\\home\\\\ryanh\\\\projects\\\\ripple_heterogeneity\\\\cell_assembly_v1\\\\Z__Data_AYAold_AB1_day1.pkl\"\n",
    "with open(session, \"rb\") as f:\n",
    "    results = pickle.load(f)\n",
    "\n",
    "z_mat, ts = assembly_run.get_z_t(st_unit)\n",
    "assemblyAct = assembly.computeAssemblyActivity(\n",
    "    results[\"patterns_inside_ripples\"], z_mat\n",
    ")\n",
    "assembly_act = nel.AnalogSignalArray(data=assemblyAct, timestamps=ts, fs=1000)\n"
   ]
  },
  {
   "cell_type": "code",
   "execution_count": 9,
   "metadata": {},
   "outputs": [
    {
     "data": {
      "text/plain": [
       "((6, 57), (58, 4209744))"
      ]
     },
     "execution_count": 9,
     "metadata": {},
     "output_type": "execute_result"
    }
   ],
   "source": [
    "results[\"patterns_inside_ripples\"].shape, z_mat.shape\n"
   ]
  },
  {
   "cell_type": "code",
   "execution_count": null,
   "metadata": {},
   "outputs": [],
   "source": [
    "n_deep = []\n",
    "n_sup = []\n",
    "\n",
    "for rip in ripple_epochs:\n",
    "    idx = st_unit[rip].n_events > 0\n",
    "    if type(idx) != type(True):\n",
    "        n_deep.append(sum(cell_metrics.deepSuperficial[idx] == \"Deep\"))\n",
    "        n_sup.append(sum(cell_metrics.deepSuperficial[idx] == \"Superficial\"))\n",
    "    else:\n",
    "        n_deep.append(np.nan)\n",
    "        n_sup.append(np.nan)\n"
   ]
  },
  {
   "cell_type": "code",
   "execution_count": null,
   "metadata": {},
   "outputs": [],
   "source": [
    "# from neurodsp.filt import filter_signal\n",
    "import warnings\n",
    "\n",
    "warnings.filterwarnings(\"ignore\")\n",
    "\n",
    "fig, axs = plt.subplots(\n",
    "    3,\n",
    "    1,\n",
    "    figsize=functions.set_size(\"thesis\", fraction=1, subplots=(1.5, 1.5)),\n",
    "    edgecolor=\"k\",\n",
    ")\n",
    "fig.subplots_adjust(hspace=0, wspace=0.2)\n",
    "axs = axs.ravel()\n",
    "\n",
    "# rip = 9\n",
    "rip = 1358\n",
    "rip = 71\n",
    "\n",
    "window = 0.5\n",
    "plotting_epoch = nel.EpochArray(\n",
    "    [\n",
    "        np.array(\n",
    "            [\n",
    "                ripple_epochs[rip].start - window / 2,\n",
    "                ripple_epochs[rip].stop + window / 2,\n",
    "            ]\n",
    "        ).T\n",
    "    ]\n",
    ")\n",
    "\n",
    "# Define a frequency range to filter the data\n",
    "f_range = (100, 250)\n",
    "# Bandpass filter the data, across the band of interest\n",
    "# sig_filt = filter_signal(lfp_obj[plotting_epoch].data[channel_idx], fs, 'bandpass', f_range)\n",
    "axs[0].plot(\n",
    "    lfp_obj[plotting_epoch]._abscissa_vals,\n",
    "    lfp_obj[plotting_epoch].data[channel_idx],\n",
    "    color=\"k\",\n",
    "    alpha=0.7,\n",
    "    linewidth=0.7,\n",
    "    label=\"ripple bandpass filtered\",\n",
    ")\n",
    "\n",
    "# sort by deepSuperficial\n",
    "colors1 = np.array([\"#7b3294\"] * cell_metrics.shape[0])\n",
    "colors1[cell_metrics.deepSuperficial == \"Superficial\"] = \"#008837\"\n",
    "sort_idx = np.argsort(cell_metrics[\"deepSuperficial\"])\n",
    "\n",
    "fr_order = np.array(st_unit[plotting_epoch].get_event_firing_order()) - 1\n",
    "axs[1].eventplot(\n",
    "    st_unit[plotting_epoch].data[fr_order], color=colors1[fr_order], linelengths=2\n",
    ")\n",
    "\n",
    "deep_median = []\n",
    "sup_median = []\n",
    "for pattern in results[\"patterns_inside_ripples\"]:\n",
    "    deep_median.append(\n",
    "        np.median(pattern[(results[\"deepSuperficial\"] == \"Deep\") & (pattern > 0)])\n",
    "    )\n",
    "    sup_median.append(\n",
    "        np.median(\n",
    "            pattern[(results[\"deepSuperficial\"] == \"Superficial\") & (pattern > 0)]\n",
    "        )\n",
    "    )\n",
    "\n",
    "ratio = (np.array(sup_median) - np.array(deep_median)) / (\n",
    "    np.array(sup_median) + np.array(deep_median)\n",
    ")\n",
    "norm = matplotlib.colors.Normalize(vmin=ratio.min(), vmax=ratio.max())\n",
    "cmap = matplotlib.cm.get_cmap(\"PRGn\")\n",
    "rgba = cmap(norm(ratio))\n",
    "for i, c in enumerate(rgba):\n",
    "    axs[2].plot(\n",
    "        assembly_act[plotting_epoch].abscissa_vals,\n",
    "        assembly_act[plotting_epoch].data[i],\n",
    "        color=c,\n",
    "    )\n",
    "\n",
    "axins = inset_axes(axs[2], width=\"2%\", height=\"75%\", loc=\"right\", borderpad=-1.5)\n",
    "sm = plt.cm.ScalarMappable(cmap=\"PRGn\", norm=plt.Normalize(vmin=-1, vmax=1))\n",
    "cbar = fig.colorbar(sm, cax=axins, ticks=[-1, 0, 1])\n",
    "cbar.outline.set_visible(False)\n",
    "cbar.ax.set_yticklabels([\"Deep\", \"mixed\", \"Superficial\"], fontsize=6)\n",
    "axins.set_ylabel(\"Assembly \\n membership\", fontsize=7)\n",
    "\n",
    "for rip in ripple_epochs[plotting_epoch]:\n",
    "    axs[0].axvspan(rip.start, rip.stop, color=\"grey\", alpha=0.25, zorder=-1000)\n",
    "    axs[1].axvspan(rip.start, rip.stop, color=\"grey\", alpha=0.25, zorder=-1000)\n",
    "    axs[2].axvspan(rip.start, rip.stop, color=\"grey\", alpha=0.25, zorder=-1000)\n",
    "\n",
    "x = np.linspace(plotting_epoch.start, plotting_epoch.stop, 4)\n",
    "axs[2].set_xticks(x)\n",
    "axs[2].set_xticklabels(np.round(x - plotting_epoch.start, 2))\n",
    "\n",
    "axs[1].set_yticks(np.linspace(0, cell_metrics.UID.unique().shape[0], 4))\n",
    "axs[1].set_ylim(-2, cell_metrics.UID.unique().shape[0])\n",
    "axs[1].set_ylabel(\"Unit ID\")\n",
    "\n",
    "axs[2].set_xlabel(\"time (sec)\")\n",
    "axs[2].set_ylabel(\"Assembly \\n strength\")\n",
    "\n",
    "for i in range(3):\n",
    "    axs[i].spines[\"top\"].set_visible(False)\n",
    "    axs[i].spines[\"right\"].set_visible(False)\n",
    "    axs[i].xaxis.set_minor_locator(AutoMinorLocator())\n",
    "    axs[i].set_xlim(plotting_epoch.start, plotting_epoch.stop)\n",
    "\n",
    "axs[0].axes.xaxis.set_visible(False)\n",
    "axs[0].axes.yaxis.set_visible(False)\n",
    "axs[0].spines[\"top\"].set_visible(False)\n",
    "axs[0].spines[\"bottom\"].set_visible(False)\n",
    "axs[0].spines[\"right\"].set_visible(False)\n",
    "axs[0].spines[\"left\"].set_visible(False)\n",
    "\n",
    "axs[1].spines[\"bottom\"].set_visible(False)\n",
    "\n",
    "axs[1].yaxis.set_minor_locator(AutoMinorLocator())\n",
    "axs[2].yaxis.set_minor_locator(AutoMinorLocator())\n",
    "axs[2].xaxis.set_minor_locator(AutoMinorLocator())\n",
    "\n",
    "# plt.savefig(os.path.join(fig_save_path,'ripple_deep_sup_example_v2.svg'),dpi=300,bbox_inches='tight')\n"
   ]
  },
  {
   "cell_type": "code",
   "execution_count": null,
   "metadata": {},
   "outputs": [],
   "source": []
  },
  {
   "cell_type": "code",
   "execution_count": null,
   "metadata": {},
   "outputs": [],
   "source": []
  }
 ],
 "metadata": {
  "kernelspec": {
   "display_name": "Python 3.8.10 ('ripple_diversity')",
   "language": "python",
   "name": "python3"
  },
  "language_info": {
   "codemirror_mode": {
    "name": "ipython",
    "version": 3
   },
   "file_extension": ".py",
   "mimetype": "text/x-python",
   "name": "python",
   "nbconvert_exporter": "python",
   "pygments_lexer": "ipython3",
   "version": "3.8.10"
  },
  "orig_nbformat": 4,
  "vscode": {
   "interpreter": {
    "hash": "07484756fddac7bd59393d4118357304c260afb75bd53ff0a49292dc7b401b16"
   }
  }
 },
 "nbformat": 4,
 "nbformat_minor": 2
}
