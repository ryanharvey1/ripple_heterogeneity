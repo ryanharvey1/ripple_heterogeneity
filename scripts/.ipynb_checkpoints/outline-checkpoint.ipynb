{
 "cells": [
  {
   "cell_type": "code",
   "execution_count": 1,
   "id": "8f4b7217-06cf-4f83-b0aa-2bb4d919a532",
   "metadata": {},
   "outputs": [],
   "source": [
    "import pandas as pd\n",
    "import matplotlib.pyplot as plt\n",
    "import numpy as np\n",
    "import seaborn as sns\n",
    "\n",
    "from fitter import Fitter, get_common_distributions, get_distributions\n"
   ]
  },
  {
   "cell_type": "code",
   "execution_count": 2,
   "id": "30195861-8536-4b3d-9a17-264c6aa7fa45",
   "metadata": {},
   "outputs": [],
   "source": [
    "tex_fonts = {\n",
    "#     # Use LaTeX to write all text\n",
    "#     \"text.usetex\": True,\n",
    "    \"font.family\": \"serif\",\n",
    "    # Use 10pt font in plots, to match 10pt font in document\n",
    "    \"axes.labelsize\": 10,\n",
    "    \"font.size\": 10,\n",
    "    # Make the legend/label fonts a little smaller\n",
    "    \"legend.fontsize\": 8,\n",
    "    \"xtick.labelsize\": 8,\n",
    "    \"ytick.labelsize\": 8,\n",
    "    \"svg.fonttype\": 'none'\n",
    "}\n",
    "plt.style.use('seaborn-paper')\n",
    "plt.rcParams.update(tex_fonts)\n",
    "\n",
    "\n",
    "%config InlineBackend.figure_format = 'retina'"
   ]
  },
  {
   "cell_type": "markdown",
   "id": "14ca0843-3087-43f2-917d-13f007ffdb76",
   "metadata": {},
   "source": [
    "## Explain the skewed distribution of ripple participation probability "
   ]
  },
  {
   "cell_type": "code",
   "execution_count": 3,
   "id": "49177d9e-4eab-4130-a94c-08c89d321083",
   "metadata": {},
   "outputs": [
    {
     "data": {
      "text/html": [
       "<div>\n",
       "<style scoped>\n",
       "    .dataframe tbody tr th:only-of-type {\n",
       "        vertical-align: middle;\n",
       "    }\n",
       "\n",
       "    .dataframe tbody tr th {\n",
       "        vertical-align: top;\n",
       "    }\n",
       "\n",
       "    .dataframe thead th {\n",
       "        text-align: right;\n",
       "    }\n",
       "</style>\n",
       "<table border=\"1\" class=\"dataframe\">\n",
       "  <thead>\n",
       "    <tr style=\"text-align: right;\">\n",
       "      <th></th>\n",
       "      <th>particip</th>\n",
       "      <th>FRall</th>\n",
       "      <th>FRparticip</th>\n",
       "      <th>nSpkAll</th>\n",
       "      <th>nSpkParticip</th>\n",
       "      <th>cellType</th>\n",
       "      <th>region</th>\n",
       "      <th>CA1depth</th>\n",
       "      <th>ID</th>\n",
       "      <th>epoch</th>\n",
       "      <th>ca1_layer</th>\n",
       "    </tr>\n",
       "  </thead>\n",
       "  <tbody>\n",
       "    <tr>\n",
       "      <th>0</th>\n",
       "      <td>0.013629</td>\n",
       "      <td>0.085265</td>\n",
       "      <td>6.284407</td>\n",
       "      <td>0.013629</td>\n",
       "      <td>1.000000</td>\n",
       "      <td>Narrow interneuron</td>\n",
       "      <td>CA1</td>\n",
       "      <td>3.0</td>\n",
       "      <td>0</td>\n",
       "      <td>pre</td>\n",
       "      <td>unknown</td>\n",
       "    </tr>\n",
       "    <tr>\n",
       "      <th>1</th>\n",
       "      <td>0.025554</td>\n",
       "      <td>0.191845</td>\n",
       "      <td>7.247999</td>\n",
       "      <td>0.030664</td>\n",
       "      <td>1.200000</td>\n",
       "      <td>Pyramidal Cell</td>\n",
       "      <td>CA1</td>\n",
       "      <td>-4.0</td>\n",
       "      <td>3</td>\n",
       "      <td>pre</td>\n",
       "      <td>sup</td>\n",
       "    </tr>\n",
       "    <tr>\n",
       "      <th>2</th>\n",
       "      <td>0.112436</td>\n",
       "      <td>0.767381</td>\n",
       "      <td>6.619818</td>\n",
       "      <td>0.122658</td>\n",
       "      <td>1.090909</td>\n",
       "      <td>Narrow interneuron</td>\n",
       "      <td>CA1</td>\n",
       "      <td>-11.0</td>\n",
       "      <td>0</td>\n",
       "      <td>pre</td>\n",
       "      <td>unknown</td>\n",
       "    </tr>\n",
       "    <tr>\n",
       "      <th>3</th>\n",
       "      <td>0.023850</td>\n",
       "      <td>0.149213</td>\n",
       "      <td>6.212536</td>\n",
       "      <td>0.023850</td>\n",
       "      <td>1.000000</td>\n",
       "      <td>Narrow interneuron</td>\n",
       "      <td>CA1</td>\n",
       "      <td>-8.0</td>\n",
       "      <td>0</td>\n",
       "      <td>pre</td>\n",
       "      <td>unknown</td>\n",
       "    </tr>\n",
       "    <tr>\n",
       "      <th>4</th>\n",
       "      <td>0.017036</td>\n",
       "      <td>0.106581</td>\n",
       "      <td>6.156583</td>\n",
       "      <td>0.017036</td>\n",
       "      <td>1.000000</td>\n",
       "      <td>Narrow interneuron</td>\n",
       "      <td>CA3</td>\n",
       "      <td>-19.0</td>\n",
       "      <td>0</td>\n",
       "      <td>pre</td>\n",
       "      <td>unknown</td>\n",
       "    </tr>\n",
       "    <tr>\n",
       "      <th>...</th>\n",
       "      <td>...</td>\n",
       "      <td>...</td>\n",
       "      <td>...</td>\n",
       "      <td>...</td>\n",
       "      <td>...</td>\n",
       "      <td>...</td>\n",
       "      <td>...</td>\n",
       "      <td>...</td>\n",
       "      <td>...</td>\n",
       "      <td>...</td>\n",
       "      <td>...</td>\n",
       "    </tr>\n",
       "    <tr>\n",
       "      <th>20360</th>\n",
       "      <td>0.221860</td>\n",
       "      <td>1.717076</td>\n",
       "      <td>7.587856</td>\n",
       "      <td>0.270799</td>\n",
       "      <td>1.220588</td>\n",
       "      <td>Pyramidal Cell</td>\n",
       "      <td>CA1</td>\n",
       "      <td>0.0</td>\n",
       "      <td>2</td>\n",
       "      <td>post</td>\n",
       "      <td>mid</td>\n",
       "    </tr>\n",
       "    <tr>\n",
       "      <th>20361</th>\n",
       "      <td>0.406199</td>\n",
       "      <td>3.568621</td>\n",
       "      <td>8.739984</td>\n",
       "      <td>0.562806</td>\n",
       "      <td>1.385542</td>\n",
       "      <td>Pyramidal Cell</td>\n",
       "      <td>CA1</td>\n",
       "      <td>0.0</td>\n",
       "      <td>2</td>\n",
       "      <td>post</td>\n",
       "      <td>mid</td>\n",
       "    </tr>\n",
       "    <tr>\n",
       "      <th>20362</th>\n",
       "      <td>0.287113</td>\n",
       "      <td>2.296330</td>\n",
       "      <td>7.882651</td>\n",
       "      <td>0.362153</td>\n",
       "      <td>1.261364</td>\n",
       "      <td>Pyramidal Cell</td>\n",
       "      <td>CA1</td>\n",
       "      <td>9.0</td>\n",
       "      <td>1</td>\n",
       "      <td>post</td>\n",
       "      <td>deep</td>\n",
       "    </tr>\n",
       "    <tr>\n",
       "      <th>20363</th>\n",
       "      <td>0.313214</td>\n",
       "      <td>3.051430</td>\n",
       "      <td>9.619482</td>\n",
       "      <td>0.481240</td>\n",
       "      <td>1.536458</td>\n",
       "      <td>Pyramidal Cell</td>\n",
       "      <td>CA1</td>\n",
       "      <td>-1.0</td>\n",
       "      <td>3</td>\n",
       "      <td>post</td>\n",
       "      <td>sup</td>\n",
       "    </tr>\n",
       "    <tr>\n",
       "      <th>20364</th>\n",
       "      <td>0.181077</td>\n",
       "      <td>1.251603</td>\n",
       "      <td>6.753654</td>\n",
       "      <td>0.197390</td>\n",
       "      <td>1.090090</td>\n",
       "      <td>Pyramidal Cell</td>\n",
       "      <td>CA1</td>\n",
       "      <td>9.0</td>\n",
       "      <td>1</td>\n",
       "      <td>post</td>\n",
       "      <td>deep</td>\n",
       "    </tr>\n",
       "  </tbody>\n",
       "</table>\n",
       "<p>20365 rows × 11 columns</p>\n",
       "</div>"
      ],
      "text/plain": [
       "       particip     FRall  FRparticip   nSpkAll  nSpkParticip  \\\n",
       "0      0.013629  0.085265    6.284407  0.013629      1.000000   \n",
       "1      0.025554  0.191845    7.247999  0.030664      1.200000   \n",
       "2      0.112436  0.767381    6.619818  0.122658      1.090909   \n",
       "3      0.023850  0.149213    6.212536  0.023850      1.000000   \n",
       "4      0.017036  0.106581    6.156583  0.017036      1.000000   \n",
       "...         ...       ...         ...       ...           ...   \n",
       "20360  0.221860  1.717076    7.587856  0.270799      1.220588   \n",
       "20361  0.406199  3.568621    8.739984  0.562806      1.385542   \n",
       "20362  0.287113  2.296330    7.882651  0.362153      1.261364   \n",
       "20363  0.313214  3.051430    9.619482  0.481240      1.536458   \n",
       "20364  0.181077  1.251603    6.753654  0.197390      1.090090   \n",
       "\n",
       "                 cellType region  CA1depth  ID epoch ca1_layer  \n",
       "0      Narrow interneuron    CA1       3.0   0   pre   unknown  \n",
       "1          Pyramidal Cell    CA1      -4.0   3   pre       sup  \n",
       "2      Narrow interneuron    CA1     -11.0   0   pre   unknown  \n",
       "3      Narrow interneuron    CA1      -8.0   0   pre   unknown  \n",
       "4      Narrow interneuron    CA3     -19.0   0   pre   unknown  \n",
       "...                   ...    ...       ...  ..   ...       ...  \n",
       "20360      Pyramidal Cell    CA1       0.0   2  post       mid  \n",
       "20361      Pyramidal Cell    CA1       0.0   2  post       mid  \n",
       "20362      Pyramidal Cell    CA1       9.0   1  post      deep  \n",
       "20363      Pyramidal Cell    CA1      -1.0   3  post       sup  \n",
       "20364      Pyramidal Cell    CA1       9.0   1  post      deep  \n",
       "\n",
       "[20365 rows x 11 columns]"
      ]
     },
     "execution_count": 3,
     "metadata": {},
     "output_type": "execute_result"
    }
   ],
   "source": [
    "df = pd.read_csv(r'D:\\projects\\ripple_heterogeneity\\df.csv')\n",
    "df"
   ]
  },
  {
   "cell_type": "code",
   "execution_count": 43,
   "id": "4508dc61-a9c4-45bc-b9ac-65d249aaf22e",
   "metadata": {},
   "outputs": [
    {
     "data": {
      "image/png": "[encoded data removed]",
      "text/plain": [
       "<Figure size 460.8x316.8 with 1 Axes>"
      ]
     },
     "metadata": {
      "image/png": {
       "height": 271,
       "width": 395
      },
      "needs_background": "light"
     },
     "output_type": "display_data"
    },
    {
     "data": {
      "image/png": "[encoded data removed]",
      "text/plain": [
       "<Figure size 460.8x316.8 with 1 Axes>"
      ]
     },
     "metadata": {
      "image/png": {
       "height": 271,
       "width": 395
      },
      "needs_background": "light"
     },
     "output_type": "display_data"
    }
   ],
   "source": [
    "plt.figure()\n",
    "bin_edge = np.arange(0,1,0.025)\n",
    "plt.hist(df[(df.region=='CA1') & (df.cellType=='Pyramidal Cell') & (df.ca1_layer=='deep')].particip,\n",
    "         bins=bin_edge,alpha=.5)\n",
    "plt.hist(df[(df.region=='CA1') & (df.cellType=='Pyramidal Cell') & (df.ca1_layer=='mid') ].particip,\n",
    "         bins=bin_edge,alpha=.5)\n",
    "plt.hist(df[(df.region=='CA1') & (df.cellType=='Pyramidal Cell') & (df.ca1_layer=='sup') ].particip,\n",
    "         bins=bin_edge,alpha=.5)\n",
    "plt.show()\n",
    "\n",
    "plt.figure()\n",
    "bin_edge = np.arange(0,1,0.025)\n",
    "plt.hist(df[(df.region=='CA1') & (df.cellType=='Narrow interneuron')].particip,\n",
    "         bins=bin_edge,alpha=.5)\n",
    "\n",
    "plt.show()"
   ]
  },
  {
   "cell_type": "code",
   "execution_count": 41,
   "id": "abb37386-e0e5-4aba-8295-b662bf37eda0",
   "metadata": {},
   "outputs": [
    {
     "data": {
      "text/html": [
       "\n",
       "            <div style=\"float: left; border: 1px solid black; width:500px\">\n",
       "              <div id=\"7c5beea8-b2f2-4f59-ac0b-d09949a2d85d\" style=\"background-color:blue; width:0%\">&nbsp;</div>\n",
       "            </div>\n",
       "            <label id=\"d8a43af0-c4b2-492e-8de0-113087f2dc10\" style=\"padding-left: 10px;\" text = \"\"/>\n",
       "            "
      ],
      "text/plain": [
       "<IPython.core.display.HTML object>"
      ]
     },
     "metadata": {},
     "output_type": "display_data"
    },
    {
     "name": "stdout",
     "output_type": "stream",
     "text": [
      "       sumsquare_error         aic          bic  kl_div\n",
      "chi          11.026309  140.752726 -4868.890783     inf\n",
      "beta         17.115195  171.688343 -4391.895690     inf\n",
      "burr         23.753265  231.501263 -4041.527350     inf\n",
      "gamma        23.951955  177.792802 -4039.597123     inf\n",
      "expon        24.288361  144.128550 -4031.661925     inf\n",
      "{'chi': (0.6134178721593171, -3.60376575102662e-30, 0.3982950763783042)}\n"
     ]
    },
    {
     "data": {
      "image/png": "[encoded data removed]",
      "text/plain": [
       "<Figure size 460.8x316.8 with 1 Axes>"
      ]
     },
     "metadata": {
      "image/png": {
       "height": 271,
       "width": 385
      },
      "needs_background": "light"
     },
     "output_type": "display_data"
    }
   ],
   "source": [
    "\n",
    "f = Fitter(df[(df.region=='CA1') & (df.cellType=='Pyramidal Cell') & (df.epoch=='pre') & (df.ca1_layer=='deep') ].particip.values,\n",
    "           distributions=['expon',\n",
    "                          'gamma',\n",
    "                          'chi',\n",
    "                          'lognorm',\n",
    "                          \"beta\",\n",
    "                          \"burr\",\n",
    "                          \"norm\"])\n",
    "f.fit()\n",
    "print(f.summary())\n",
    "print(f.get_best(method = 'sumsquare_error'))\n",
    "\n",
    "\n"
   ]
  },
  {
   "cell_type": "markdown",
   "id": "82bdcb05-81cc-40ab-896e-cbdae2fdaec9",
   "metadata": {},
   "source": [
    "## Is ripple participation an intrinsic and stable’s cell property (i.e., is it stable across time, states and environments for individual cells?). "
   ]
  },
  {
   "cell_type": "code",
   "execution_count": null,
   "id": "e61d3b2d-11a8-449b-bb19-aec847b4d8c4",
   "metadata": {},
   "outputs": [],
   "source": []
  },
  {
   "cell_type": "markdown",
   "id": "3502a01c-e32d-4b9b-9e42-bba0f141368e",
   "metadata": {},
   "source": [
    "## What is the relation with other intrinsic cell properties (firing rate, propensity to express place fields, etc) and network properties (degree of local monosynaptic connections, participation in same assemblies, etc)?"
   ]
  },
  {
   "cell_type": "code",
   "execution_count": null,
   "id": "fb277bdf-255c-4cdf-865b-ea004a87b91b",
   "metadata": {},
   "outputs": [],
   "source": []
  },
  {
   "cell_type": "markdown",
   "id": "1188f498-73f7-41ff-98a0-d08e3d6da1ae",
   "metadata": {},
   "source": [
    "## How does this contributes to the generation of ripple sequences (since high participation cells tend to fire earlier, do they determine which sequence will be played out?)."
   ]
  },
  {
   "cell_type": "code",
   "execution_count": null,
   "id": "7f1f29d7-f05b-4e9a-ab0f-e85b4490b3f6",
   "metadata": {},
   "outputs": [],
   "source": []
  },
  {
   "cell_type": "markdown",
   "id": "8e862889-4d64-40b4-91de-c3066a1c6207",
   "metadata": {},
   "source": [
    "## Another related idea is to look if there are defined cellular populations with high and low participation probability, like deep and superficial CA1pyr, and if they have different connectivity (in terms of inputs and/or projections)"
   ]
  },
  {
   "cell_type": "code",
   "execution_count": null,
   "id": "51e1e70d-a5db-41ae-af65-07e2e51c6b1a",
   "metadata": {},
   "outputs": [],
   "source": []
  },
  {
   "cell_type": "markdown",
   "id": "34c3cb93-40b9-4357-a75b-4d9258bd966b",
   "metadata": {},
   "source": [
    "## Another related idea is to look if there are defined cellular populations with high and low participation probability, like deep and superficial CA1pyr, and if they have different connectivity (in terms of inputs and/or projections)"
   ]
  },
  {
   "cell_type": "code",
   "execution_count": null,
   "id": "50c3cdf3-3f52-44cb-a405-e34f599e2dba",
   "metadata": {},
   "outputs": [],
   "source": []
  }
 ],
 "metadata": {
  "kernelspec": {
   "display_name": "Python 3",
   "language": "python",
   "name": "python3"
  },
  "language_info": {
   "codemirror_mode": {
    "name": "ipython",
    "version": 3
   },
   "file_extension": ".py",
   "mimetype": "text/x-python",
   "name": "python",
   "nbconvert_exporter": "python",
   "pygments_lexer": "ipython3",
   "version": "3.8.10"
  }
 },
 "nbformat": 4,
 "nbformat_minor": 5
}
