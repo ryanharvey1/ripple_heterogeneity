{
 "cells": [
  {
   "cell_type": "markdown",
   "metadata": {},
   "source": [
    "### The goal is to make a multi-class classification model to assess if deep and superficial cells modulate their firing rates in the same way to encode context.\n",
    "\n",
    "Each unit will have an accuracy score how how well it can encode different back to back environments."
   ]
  },
  {
   "cell_type": "code",
   "execution_count": 1,
   "metadata": {},
   "outputs": [],
   "source": [
    "%reload_ext autoreload\n",
    "%autoreload 2"
   ]
  },
  {
   "cell_type": "code",
   "execution_count": 2,
   "metadata": {},
   "outputs": [
    {
     "name": "stderr",
     "output_type": "stream",
     "text": [
      "<frozen importlib._bootstrap>:219: RuntimeWarning: scipy._lib.messagestream.MessageStream size changed, may indicate binary incompatibility. Expected 56 from C header, got 64 from PyObject\n"
     ]
    }
   ],
   "source": [
    "from ripple_heterogeneity.utils import (\n",
    "    functions,\n",
    "    loading,\n",
    "    batch_analysis,\n",
    "    add_new_deep_sup,\n",
    "    custom_plots,\n",
    ")\n",
    "import nelpy as nel\n",
    "\n",
    "import pandas as pd\n",
    "import numpy as np\n",
    "import matplotlib.pyplot as plt\n",
    "import seaborn as sns\n",
    "from matplotlib.ticker import AutoMinorLocator\n",
    "import os\n",
    "from statannot import add_stat_annotation\n",
    "from statannotations.Annotator import Annotator\n",
    "\n",
    "functions.set_plotting_defaults()\n",
    "%matplotlib inline\n",
    "%config InlineBackend.figure_format = 'retina'\n",
    "fig_save_path = r'Z:\\home\\ryanh\\projects\\ripple_heterogeneity\\figures\\panels'"
   ]
  },
  {
   "cell_type": "markdown",
   "metadata": {},
   "source": [
    "## locate sessions with many back to back mazes that are different from each other\n",
    "\n"
   ]
  },
  {
   "cell_type": "code",
   "execution_count": 4,
   "metadata": {},
   "outputs": [
    {
     "data": {
      "text/html": [
       "<div>\n",
       "<style scoped>\n",
       "    .dataframe tbody tr th:only-of-type {\n",
       "        vertical-align: middle;\n",
       "    }\n",
       "\n",
       "    .dataframe tbody tr th {\n",
       "        vertical-align: top;\n",
       "    }\n",
       "\n",
       "    .dataframe thead th {\n",
       "        text-align: right;\n",
       "    }\n",
       "</style>\n",
       "<table border=\"1\" class=\"dataframe\">\n",
       "  <thead>\n",
       "    <tr style=\"text-align: right;\">\n",
       "      <th></th>\n",
       "      <th>basepath</th>\n",
       "    </tr>\n",
       "  </thead>\n",
       "  <tbody>\n",
       "    <tr>\n",
       "      <th>0</th>\n",
       "      <td>Z:\\Data\\AYAold\\AB3\\AB3_38_41</td>\n",
       "    </tr>\n",
       "    <tr>\n",
       "      <th>1</th>\n",
       "      <td>Z:\\Data\\AYAold\\AB3\\AB3_42_46</td>\n",
       "    </tr>\n",
       "    <tr>\n",
       "      <th>2</th>\n",
       "      <td>Z:\\Data\\AYAold\\AYA7\\day25</td>\n",
       "    </tr>\n",
       "    <tr>\n",
       "      <th>3</th>\n",
       "      <td>Z:\\Data\\AYAold\\AYA9\\day12</td>\n",
       "    </tr>\n",
       "    <tr>\n",
       "      <th>4</th>\n",
       "      <td>Z:\\Data\\GirardeauG\\Rat08\\Rat08-20130710</td>\n",
       "    </tr>\n",
       "  </tbody>\n",
       "</table>\n",
       "</div>"
      ],
      "text/plain": [
       "                                  basepath\n",
       "0             Z:\\Data\\AYAold\\AB3\\AB3_38_41\n",
       "1             Z:\\Data\\AYAold\\AB3\\AB3_42_46\n",
       "2                Z:\\Data\\AYAold\\AYA7\\day25\n",
       "3                Z:\\Data\\AYAold\\AYA9\\day12\n",
       "4  Z:\\Data\\GirardeauG\\Rat08\\Rat08-20130710"
      ]
     },
     "execution_count": 4,
     "metadata": {},
     "output_type": "execute_result"
    }
   ],
   "source": [
    "df = pd.read_csv(r\"Z:\\home\\ryanh\\projects\\ripple_heterogeneity\\sessions.csv\")\n",
    "\n",
    "epoch_df = pd.DataFrame()\n",
    "for basepath in df.basepath:\n",
    "    epochs = loading.load_epoch(basepath)\n",
    "    epochs['basepath'] = basepath\n",
    "    epoch_df = pd.concat([epoch_df, epochs], ignore_index=True)\n",
    "\n",
    "epoch_df = epoch_df[epoch_df.environment != \"sleep\"]\n",
    "\n",
    "for basepath in epoch_df.basepath.unique():\n",
    "    epoch_df.loc[epoch_df.basepath == basepath,\"n_unique\"] = epoch_df[epoch_df.basepath == basepath].environment.nunique()\n",
    "\n",
    "sessions_df = pd.DataFrame()\n",
    "sessions_df[\"basepath\"] = epoch_df[epoch_df.n_unique > 1].basepath.unique()\n",
    "sessions_df.head()"
   ]
  },
  {
   "cell_type": "code",
   "execution_count": 34,
   "metadata": {},
   "outputs": [
    {
     "name": "stdout",
     "output_type": "stream",
     "text": [
      "Z:\\Data\\AYAold\\AB3\\AB3_38_41 ['tmaze' 'linear']\n",
      "Z:\\Data\\AYAold\\AB3\\AB3_42_46 ['tmaze' 'linear']\n",
      "Z:\\Data\\AYAold\\AYA7\\day25 ['cheeseboard' 'box']\n",
      "Z:\\Data\\AYAold\\AYA9\\day12 ['linear' 'box']\n",
      "Z:\\Data\\GirardeauG\\Rat08\\Rat08-20130710 ['linear' 'water']\n",
      "Z:\\Data\\GirardeauG\\Rat10\\Rat10-20140619 ['linear' 'unknown']\n",
      "Z:\\Data\\Kenji\\2006-4-10 ['linear' 'open']\n",
      "Z:\\Data\\Kenji\\2006-4-18 ['linear' 'open' 'tmaze']\n",
      "Z:\\Data\\Kenji\\2006-6-12 ['linearOne' 'linearTwo' 'Tmaze']\n",
      "Z:\\Data\\Kenji\\2006-6-13 ['linearOne' 'linearTwo' 'wheel' 'Tmaze']\n",
      "Z:\\Data\\Kenji\\2006-6-7 ['linearOne' 'linearTwo']\n",
      "Z:\\Data\\Kenji\\ec013.152_157 ['bigSquare' 'linear']\n",
      "Z:\\Data\\Kenji\\ec013.194_213 ['bigSquare' 'linear']\n",
      "Z:\\Data\\Kenji\\ec013.242_258 ['bigSquare' 'linear']\n",
      "Z:\\Data\\Kenji\\ec013.370_390 ['linear' 'wheel' 'bigSquare']\n",
      "Z:\\Data\\Kenji\\ec013.393_418 ['linear' 'wheel' 'bigSquare']\n",
      "Z:\\Data\\Kenji\\ec013.421_447 ['Mwheel' 'wheel' 'bigSquare' 'linear']\n",
      "Z:\\Data\\Kenji\\ec013.451_470 ['linear' 'bigSquare' 'wheel']\n",
      "Z:\\Data\\Kenji\\ec013.480_509 ['Mwheel' 'plus' 'bigSquare' 'linear']\n",
      "Z:\\Data\\Kenji\\ec013.512_537 ['wheel' 'bigSquare' 'linear']\n",
      "Z:\\Data\\Kenji\\ec013.540_561 ['Mwheel' 'bigSquare' 'linear']\n",
      "Z:\\Data\\Kenji\\ec013.564_585 ['bigSquare' 'linear' 'wheel']\n",
      "Z:\\Data\\Kenji\\ec013.588_604 ['linear' 'wheel' 'bigSquare']\n",
      "Z:\\Data\\Kenji\\ec013.608_632 ['Mwheel' 'bigSquare' 'linear']\n",
      "Z:\\Data\\Kenji\\ec013.634_653 ['linear' 'bigSquare' 'wheel']\n",
      "Z:\\Data\\Kenji\\ec013.656_674 ['Mwheel' 'midSquare' 'linear']\n",
      "Z:\\Data\\Kenji\\ec013.677_699 ['linear' 'bigSquare' 'wheel']\n",
      "Z:\\Data\\Kenji\\ec013.702_724 ['Mwheel' 'bigSquare' 'wheel' 'linear']\n",
      "Z:\\Data\\Kenji\\ec013.733_746 ['linear' 'bigSquare']\n",
      "Z:\\Data\\Kenji\\ec013.752_769 ['bigSquare' 'linear' 'wheel']\n",
      "Z:\\Data\\Kenji\\ec013.779_791 ['Mwheel' 'bigSquare' 'linear']\n",
      "Z:\\Data\\Kenji\\ec013.793_814 ['linear' 'bigSquare' 'wheel']\n",
      "Z:\\Data\\Kenji\\ec013.816_835 ['Mwheel' 'plus']\n",
      "Z:\\Data\\Kenji\\ec013.839_851 ['linear' 'bigSquare' 'wheel']\n",
      "Z:\\Data\\Kenji\\ec013.853_866 ['wheel' 'bigSquare' 'linear']\n",
      "Z:\\Data\\Kenji\\ec013.868_893 ['linear' 'bigSquare' 'bigSquarePlus']\n",
      "Z:\\Data\\Kenji\\ec013.906_918 ['linear' 'bigSquare' 'wheel']\n",
      "Z:\\Data\\Kenji\\ec013.931_942 ['linear' 'bigSquare' 'wheel']\n",
      "Z:\\Data\\Kenji\\ec013.944_958 ['bigSquare' 'linear' 'plus']\n",
      "Z:\\Data\\Kenji\\ec013.961_974 ['linear' 'bigSquare' 'wheel']\n",
      "Z:\\Data\\Kenji\\ec013.976_985 ['linear' 'midSquare']\n",
      "Z:\\Data\\Kenji\\ec014.716_742 ['midSquare' 'wheel']\n",
      "Z:\\Data\\Kenji\\ec014.759_779 ['midSquare' 'wheel']\n",
      "Z:\\Data\\Kenji\\ec014.781_810 ['midSquare' 'wheel']\n",
      "Z:\\Data\\Kenji\\ec015.037_058 ['midSquare' 'wheel']\n",
      "Z:\\Data\\Kenji\\ec016.1025_1048 ['Mwheel' 'linear' 'bigSquare']\n",
      "Z:\\Data\\Kenji\\ec016.390_405 ['bigSquare' 'wheel']\n",
      "Z:\\Data\\Kenji\\ec016.425_437 ['bigSquare' 'wheel']\n",
      "Z:\\Data\\Kenji\\ec016.444_459 ['bigSquare' 'Mwheel' 'wheel']\n",
      "Z:\\Data\\Kenji\\ec016.577_590 ['bigSquare' 'wheel']\n",
      "Z:\\Data\\Kenji\\ec016.659_674 ['Mwheel' 'linear']\n",
      "Z:\\Data\\Kenji\\ec016.682_688 ['bigSquare' 'wheel']\n",
      "Z:\\Data\\Kenji\\ec016.715_735 ['bigSquare' 'linear' 'wheel']\n",
      "Z:\\Data\\Kenji\\ec016.835_850 ['Mwheel' 'linear']\n",
      "Z:\\Data\\Kenji\\ec016.893_911 ['bigSquare' 'wheel']\n",
      "Z:\\Data\\Kenji\\ec016.914_932 ['bigSquare' 'linear' 'wheel']\n",
      "Z:\\Data\\Kenji\\ec016.950_965 ['Mwheel' 'midSquare']\n",
      "Z:\\Data\\Kenji\\ec016.969_986 ['Mwheel' 'wheel_home']\n",
      "Z:\\Data\\Kenji\\i01_maze15_MS.001_004 ['bigSquare' 'Mwheel' 'wheel_home']\n"
     ]
    }
   ],
   "source": [
    "for basepath in epoch_df[epoch_df.n_unique > 1].basepath.unique():\n",
    "    print(basepath, epoch_df[epoch_df.basepath == basepath].environment.unique())\n"
   ]
  },
  {
   "cell_type": "code",
   "execution_count": 6,
   "metadata": {},
   "outputs": [
    {
     "data": {
      "text/html": [
       "<div>\n",
       "<style scoped>\n",
       "    .dataframe tbody tr th:only-of-type {\n",
       "        vertical-align: middle;\n",
       "    }\n",
       "\n",
       "    .dataframe tbody tr th {\n",
       "        vertical-align: top;\n",
       "    }\n",
       "\n",
       "    .dataframe thead th {\n",
       "        text-align: right;\n",
       "    }\n",
       "</style>\n",
       "<table border=\"1\" class=\"dataframe\">\n",
       "  <thead>\n",
       "    <tr style=\"text-align: right;\">\n",
       "      <th></th>\n",
       "      <th>name</th>\n",
       "      <th>startTime</th>\n",
       "      <th>stopTime</th>\n",
       "      <th>environment</th>\n",
       "      <th>behavioralParadigm</th>\n",
       "    </tr>\n",
       "  </thead>\n",
       "  <tbody>\n",
       "    <tr>\n",
       "      <th>3</th>\n",
       "      <td>ec013.705_Mwheel</td>\n",
       "      <td>6404.8934</td>\n",
       "      <td>8605.2644</td>\n",
       "      <td>Mwheel</td>\n",
       "      <td>10</td>\n",
       "    </tr>\n",
       "    <tr>\n",
       "      <th>11</th>\n",
       "      <td>ec013.713_bigSquare</td>\n",
       "      <td>18187.2406</td>\n",
       "      <td>20457.6536</td>\n",
       "      <td>bigSquare</td>\n",
       "      <td>10</td>\n",
       "    </tr>\n",
       "    <tr>\n",
       "      <th>12</th>\n",
       "      <td>ec013.714_bigSquare</td>\n",
       "      <td>20457.6536</td>\n",
       "      <td>22735.7536</td>\n",
       "      <td>bigSquare</td>\n",
       "      <td>10</td>\n",
       "    </tr>\n",
       "    <tr>\n",
       "      <th>13</th>\n",
       "      <td>ec013.715_wheel</td>\n",
       "      <td>22735.7536</td>\n",
       "      <td>23680.2912</td>\n",
       "      <td>wheel</td>\n",
       "      <td>10</td>\n",
       "    </tr>\n",
       "    <tr>\n",
       "      <th>14</th>\n",
       "      <td>ec013.717_wheel</td>\n",
       "      <td>23680.2912</td>\n",
       "      <td>24799.3182</td>\n",
       "      <td>wheel</td>\n",
       "      <td>10</td>\n",
       "    </tr>\n",
       "    <tr>\n",
       "      <th>15</th>\n",
       "      <td>ec013.718_linear</td>\n",
       "      <td>24799.3182</td>\n",
       "      <td>25989.2062</td>\n",
       "      <td>linear</td>\n",
       "      <td>10</td>\n",
       "    </tr>\n",
       "    <tr>\n",
       "      <th>16</th>\n",
       "      <td>ec013.719_linear</td>\n",
       "      <td>25989.2062</td>\n",
       "      <td>27191.3822</td>\n",
       "      <td>linear</td>\n",
       "      <td>10</td>\n",
       "    </tr>\n",
       "    <tr>\n",
       "      <th>17</th>\n",
       "      <td>ec013.720_linear</td>\n",
       "      <td>27191.3822</td>\n",
       "      <td>28570.9152</td>\n",
       "      <td>linear</td>\n",
       "      <td>10</td>\n",
       "    </tr>\n",
       "  </tbody>\n",
       "</table>\n",
       "</div>"
      ],
      "text/plain": [
       "                   name   startTime    stopTime environment  \\\n",
       "3      ec013.705_Mwheel   6404.8934   8605.2644      Mwheel   \n",
       "11  ec013.713_bigSquare  18187.2406  20457.6536   bigSquare   \n",
       "12  ec013.714_bigSquare  20457.6536  22735.7536   bigSquare   \n",
       "13      ec013.715_wheel  22735.7536  23680.2912       wheel   \n",
       "14      ec013.717_wheel  23680.2912  24799.3182       wheel   \n",
       "15     ec013.718_linear  24799.3182  25989.2062      linear   \n",
       "16     ec013.719_linear  25989.2062  27191.3822      linear   \n",
       "17     ec013.720_linear  27191.3822  28570.9152      linear   \n",
       "\n",
       "    behavioralParadigm  \n",
       "3                   10  \n",
       "11                  10  \n",
       "12                  10  \n",
       "13                  10  \n",
       "14                  10  \n",
       "15                  10  \n",
       "16                  10  \n",
       "17                  10  "
      ]
     },
     "metadata": {},
     "output_type": "display_data"
    },
    {
     "data": {
      "text/plain": [
       "(<SpikeTrainArray at 0x2140b3089a0: 22 units> at 20000 Hz,\n",
       " <EpochArray at 0x2147dc01c70: 8 epochs> of length 3:29:44:045 hours)"
      ]
     },
     "execution_count": 6,
     "metadata": {},
     "output_type": "execute_result"
    }
   ],
   "source": [
    "basepath = r\"Z:\\Data\\Kenji\\ec013.702_724\"\n",
    "# get behavioral epochs\n",
    "epoch_df = loading.load_epoch(basepath)\n",
    "# remove sleep epochs\n",
    "epoch_df = epoch_df[epoch_df.environment != \"sleep\"]\n",
    "# remove epochs that were too short\n",
    "epoch_df = epoch_df[((epoch_df.stopTime - epoch_df.startTime) / 60) > 5]\n",
    "epochs = nel.EpochArray(\n",
    "            [np.array([epoch_df.startTime, epoch_df.stopTime]).T],\n",
    "            label=epoch_df.environment.values,\n",
    "        )\n",
    "# load spikes\n",
    "spikes,cm = loading.load_spikes(basepath,putativeCellType=\"Pyr\",brainRegion=\"CA1\")\n",
    "display(epoch_df)\n",
    "spikes,epochs"
   ]
  },
  {
   "cell_type": "code",
   "execution_count": 54,
   "metadata": {},
   "outputs": [
    {
     "data": {
      "text/plain": [
       "<AxesSubplot:>"
      ]
     },
     "execution_count": 54,
     "metadata": {},
     "output_type": "execute_result"
    },
    {
     "data": {
      "image/png": "[encoded data removed]",
      "text/plain": [
       "<Figure size 432x288 with 2 Axes>"
      ]
     },
     "metadata": {
      "image/png": {
       "height": 269,
       "width": 348
      },
      "needs_background": "light"
     },
     "output_type": "display_data"
    }
   ],
   "source": [
    "sns.heatmap(bst.data,vmax=10)"
   ]
  },
  {
   "cell_type": "code",
   "execution_count": 53,
   "metadata": {},
   "outputs": [
    {
     "data": {
      "image/png": "[encoded data removed]",
      "text/plain": [
       "<Figure size 432x288 with 1 Axes>"
      ]
     },
     "metadata": {
      "image/png": {
       "height": 249,
       "width": 363
      },
      "needs_background": "light"
     },
     "output_type": "display_data"
    }
   ],
   "source": [
    "bst = spikes[epochs].bin(ds=0.5).smooth(sigma=1)\n",
    "y = np.hstack([np.zeros(bst_.n_bins) + i_epoch for i_epoch,bst_ in enumerate(bst)])\n",
    "\n",
    "plt.plot(y)\n",
    "plt.show()"
   ]
  },
  {
   "cell_type": "code",
   "execution_count": 55,
   "metadata": {},
   "outputs": [],
   "source": [
    "from sklearn.model_selection import train_test_split\n",
    "from sklearn.pipeline import make_pipeline\n",
    "from sklearn.preprocessing import StandardScaler\n",
    "\n",
    "X = bst.data.T\n",
    "\n",
    "X_train, X_test, y_train, y_test = train_test_split(\n",
    "    X, y, test_size=0.33, random_state=42)"
   ]
  },
  {
   "cell_type": "code",
   "execution_count": 87,
   "metadata": {},
   "outputs": [],
   "source": [
    "from sklearn.tree import ExtraTreeClassifier # as accurate as decision tree, but faster\n",
    "clf = make_pipeline(StandardScaler(), ExtraTreeClassifier())\n",
    "\n",
    "scores = []\n",
    "y_pred = []\n",
    "for i in range(X_train.shape[1]):\n",
    "    clf.fit(X_train[:,i].reshape(-1, 1), y_train)\n",
    "    y_pred.append(clf.predict(X_test[:,i].reshape(-1, 1)))\n",
    "    scores.append(clf.score(X_test[:,i].reshape(-1, 1), y_test))\n",
    "# np.mean(scores), np.std(scores)"
   ]
  },
  {
   "cell_type": "code",
   "execution_count": 97,
   "metadata": {},
   "outputs": [
    {
     "data": {
      "text/plain": [
       "<AxesSubplot:>"
      ]
     },
     "execution_count": 97,
     "metadata": {},
     "output_type": "execute_result"
    },
    {
     "data": {
      "image/png": "[encoded data removed]",
      "text/plain": [
       "<Figure size 432x288 with 2 Axes>"
      ]
     },
     "metadata": {
      "image/png": {
       "height": 264,
       "width": 343
      },
      "needs_background": "light"
     },
     "output_type": "display_data"
    }
   ],
   "source": [
    "plt.plot(y_test[np.argsort(y_test)])\n",
    "sns.heatmap(np.vstack(y_pred)[:,np.argsort(y_test)],cmap=\"Paired\")"
   ]
  },
  {
   "cell_type": "code",
   "execution_count": 99,
   "metadata": {},
   "outputs": [
    {
     "name": "stderr",
     "output_type": "stream",
     "text": [
      "c:\\Users\\Cornell\\anaconda3\\envs\\ripple_diversity\\lib\\site-packages\\sklearn\\neural_network\\_multilayer_perceptron.py:614: ConvergenceWarning: Stochastic Optimizer: Maximum iterations (200) reached and the optimization hasn't converged yet.\n",
      "c:\\Users\\Cornell\\anaconda3\\envs\\ripple_diversity\\lib\\site-packages\\sklearn\\neural_network\\_multilayer_perceptron.py:619: UserWarning: Training interrupted by user.\n"
     ]
    }
   ],
   "source": [
    "from sklearn.neural_network import MLPClassifier\n",
    "clf = make_pipeline(StandardScaler(), MLPClassifier())\n",
    "\n",
    "scores = []\n",
    "for i in range(X_train.shape[1]):\n",
    "    clf.fit(X_train[:,i].reshape(-1, 1), y_train)\n",
    "    scores.append(clf.score(X_test[:,i].reshape(-1, 1), y_test))\n",
    "np.mean(scores), np.std(scores)"
   ]
  },
  {
   "cell_type": "code",
   "execution_count": 85,
   "metadata": {},
   "outputs": [
    {
     "data": {
      "text/plain": [
       "(0.22970828088227246, 0.040157622424348186)"
      ]
     },
     "execution_count": 85,
     "metadata": {},
     "output_type": "execute_result"
    }
   ],
   "source": [
    "from sklearn.tree import ExtraTreeClassifier # as accurate as decision tree, but faster\n",
    "clf = make_pipeline(StandardScaler(), ExtraTreeClassifier())\n",
    "\n",
    "scores = []\n",
    "for i in range(X_train.shape[1]):\n",
    "    clf.fit(X_train[:,i].reshape(-1, 1), y_train)\n",
    "    scores.append(clf.score(X_test[:,i].reshape(-1, 1), y_test))\n",
    "np.mean(scores), np.std(scores)"
   ]
  },
  {
   "cell_type": "code",
   "execution_count": 86,
   "metadata": {},
   "outputs": [
    {
     "data": {
      "text/plain": [
       "(0.22941820371079855, 0.03948041813172707)"
      ]
     },
     "execution_count": 86,
     "metadata": {},
     "output_type": "execute_result"
    }
   ],
   "source": [
    "from sklearn.tree import DecisionTreeClassifier\n",
    "\n",
    "clf = make_pipeline(StandardScaler(), DecisionTreeClassifier())\n",
    "\n",
    "scores = []\n",
    "for i in range(X_train.shape[1]):\n",
    "    clf.fit(X_train[:,i].reshape(-1, 1), y_train)\n",
    "    scores.append(clf.score(X_test[:,i].reshape(-1, 1), y_test))\n",
    "np.mean(scores), np.std(scores)\n"
   ]
  },
  {
   "cell_type": "code",
   "execution_count": 80,
   "metadata": {},
   "outputs": [
    {
     "data": {
      "text/plain": [
       "(0.2283235728750479, 0.029094709509172575)"
      ]
     },
     "execution_count": 80,
     "metadata": {},
     "output_type": "execute_result"
    }
   ],
   "source": [
    "from sklearn.linear_model import RidgeClassifier\n",
    "clf = make_pipeline(StandardScaler(), RidgeClassifier())\n",
    "\n",
    "scores = []\n",
    "for i in range(X_train.shape[1]):\n",
    "    clf.fit(X_train[:,i].reshape(-1, 1), y_train)\n",
    "    scores.append(clf.score(X_test[:,i].reshape(-1, 1), y_test))\n",
    "np.mean(scores), np.std(scores)"
   ]
  },
  {
   "cell_type": "code",
   "execution_count": 84,
   "metadata": {},
   "outputs": [
    {
     "data": {
      "text/plain": [
       "(0.2283235728750479, 0.029094709509172575)"
      ]
     },
     "execution_count": 84,
     "metadata": {},
     "output_type": "execute_result"
    }
   ],
   "source": [
    "from sklearn.linear_model import RidgeClassifierCV\n",
    "clf = make_pipeline(StandardScaler(), RidgeClassifierCV(alphas=[1e-3, 1e-2, 1e-1, 1]))\n",
    "\n",
    "scores = []\n",
    "for i in range(X_train.shape[1]):\n",
    "    clf.fit(X_train[:,i].reshape(-1, 1), y_train)\n",
    "    scores.append(clf.score(X_test[:,i].reshape(-1, 1), y_test))\n",
    "np.mean(scores), np.std(scores)"
   ]
  },
  {
   "cell_type": "code",
   "execution_count": 75,
   "metadata": {},
   "outputs": [
    {
     "data": {
      "text/plain": [
       "(0.22767226752777622, 0.02848345962885675)"
      ]
     },
     "execution_count": 75,
     "metadata": {},
     "output_type": "execute_result"
    }
   ],
   "source": [
    "from sklearn.naive_bayes import BernoulliNB # lower accuracy, but lower std\n",
    "\n",
    "clf = make_pipeline(StandardScaler(), BernoulliNB())\n",
    "\n",
    "scores = []\n",
    "for i in range(X_train.shape[1]):\n",
    "    clf.fit(X_train[:,i].reshape(-1, 1), y_train)\n",
    "    scores.append(clf.score(X_test[:,i].reshape(-1, 1), y_test))\n",
    "np.mean(scores), np.std(scores)\n"
   ]
  },
  {
   "cell_type": "code",
   "execution_count": 77,
   "metadata": {},
   "outputs": [
    {
     "data": {
      "text/plain": [
       "(0.202971922719063, 0.05104997269204507)"
      ]
     },
     "execution_count": 77,
     "metadata": {},
     "output_type": "execute_result"
    }
   ],
   "source": [
    "from sklearn.naive_bayes import GaussianNB # lower accuracy\n",
    "clf = make_pipeline(StandardScaler(), GaussianNB())\n",
    "\n",
    "scores = []\n",
    "for i in range(X_train.shape[1]):\n",
    "    clf.fit(X_train[:,i].reshape(-1, 1), y_train)\n",
    "    scores.append(clf.score(X_test[:,i].reshape(-1, 1), y_test))\n",
    "np.mean(scores), np.std(scores)"
   ]
  },
  {
   "cell_type": "code",
   "execution_count": 78,
   "metadata": {},
   "outputs": [
    {
     "data": {
      "text/plain": [
       "(0.2278747742323901, 0.03913784740939862)"
      ]
     },
     "execution_count": 78,
     "metadata": {},
     "output_type": "execute_result"
    }
   ],
   "source": [
    "from sklearn.ensemble import RandomForestClassifier # similar to a decision tree, but slower\n",
    "clf = make_pipeline(StandardScaler(), RandomForestClassifier())\n",
    "\n",
    "scores = []\n",
    "for i in range(X_train.shape[1]):\n",
    "    clf.fit(X_train[:,i].reshape(-1, 1), y_train)\n",
    "    scores.append(clf.score(X_test[:,i].reshape(-1, 1), y_test))\n",
    "np.mean(scores), np.std(scores)"
   ]
  },
  {
   "cell_type": "code",
   "execution_count": 58,
   "metadata": {},
   "outputs": [
    {
     "data": {
      "text/plain": [
       "(0.22971375403645122, 0.03998298861071609)"
      ]
     },
     "execution_count": 58,
     "metadata": {},
     "output_type": "execute_result"
    }
   ],
   "source": [
    "from sklearn.ensemble import ExtraTreesClassifier # too slow and as accurate as DecisionTreeClassifier\n",
    "\n",
    "# clf = ExtraTreesClassifier(n_estimators=100, random_state=0)\n",
    "clf = make_pipeline(StandardScaler(), ExtraTreesClassifier())\n",
    "\n",
    "scores = []\n",
    "for i in range(X_train.shape[1]):\n",
    "    clf.fit(X_train[:,i].reshape(-1, 1), y_train)\n",
    "    scores.append(clf.score(X_test[:,i].reshape(-1, 1), y_test))\n",
    "np.mean(scores), np.std(scores)\n"
   ]
  },
  {
   "cell_type": "code",
   "execution_count": null,
   "metadata": {},
   "outputs": [],
   "source": [
    "# from sklearn.gaussian_process import GaussianProcessClassifier # too slow\n",
    "\n",
    "# clf = make_pipeline(StandardScaler(), GaussianProcessClassifier(multi_class = \"one_vs_one\"))\n",
    "\n",
    "# scores = []\n",
    "# for i in range(X_train.shape[1]):\n",
    "#     clf.fit(X_train[:,i].reshape(-1, 1), y_train)\n",
    "#     scores.append(clf.score(X_test[:,i].reshape(-1, 1), y_test))\n",
    "# np.mean(scores), np.std(scores)"
   ]
  },
  {
   "cell_type": "code",
   "execution_count": 43,
   "metadata": {},
   "outputs": [
    {
     "data": {
      "text/plain": [
       "[0.1802528597230584,\n",
       " 0.24166164960866948,\n",
       " 0.19289584587597833,\n",
       " 0.23491872366044553,\n",
       " 0.20891029500301023,\n",
       " 0.19000602046959664,\n",
       " 0.18868151715833836,\n",
       " 0.1962673088500903,\n",
       " 0.2054184226369657,\n",
       " 0.20457555689343768,\n",
       " 0.21324503311258278,\n",
       " 0.2003612281757977,\n",
       " 0.1892835641180012,\n",
       " 0.2636965683323299,\n",
       " 0.20228777844671886,\n",
       " 0.20915111378687537,\n",
       " 0.1950632149307646,\n",
       " 0.2586393738711619,\n",
       " 0.2107164358819988,\n",
       " 0.21625526791089705,\n",
       " 0.22576760987357014,\n",
       " 0.20830824804334738]"
      ]
     },
     "execution_count": 43,
     "metadata": {},
     "output_type": "execute_result"
    }
   ],
   "source": [
    "# from sklearn.svm import SVC\n",
    "# from sklearn.pipeline import make_pipeline\n",
    "# from sklearn.preprocessing import StandardScaler\n",
    "\n",
    "# clf = make_pipeline(StandardScaler(), SVC(gamma='auto'))\n",
    "# scores = []\n",
    "# for i in range(X_train.shape[1]):\n",
    "#     clf.fit(X_train[:,i].reshape(-1, 1), y_train)\n",
    "#     scores.append(clf.score(X_test[:,i].reshape(-1, 1), y_test))\n",
    "# scores"
   ]
  },
  {
   "cell_type": "code",
   "execution_count": 42,
   "metadata": {},
   "outputs": [
    {
     "data": {
      "text/plain": [
       "0.11992775436484046"
      ]
     },
     "execution_count": 42,
     "metadata": {},
     "output_type": "execute_result"
    }
   ],
   "source": [
    "# from sklearn.neighbors import KNeighborsClassifier\n",
    "# # neigh = KNeighborsClassifier(n_neighbors=3)\n",
    "# clf = make_pipeline(StandardScaler(), KNeighborsClassifier())\n",
    "# clf.fit(X_train[:,1].reshape(-1, 1), y_train)\n",
    "# clf.score(X_test[:,1].reshape(-1, 1), y_test)\n",
    "\n"
   ]
  }
 ],
 "metadata": {
  "kernelspec": {
   "display_name": "Python 3.8.10 ('ripple_diversity')",
   "language": "python",
   "name": "python3"
  },
  "language_info": {
   "codemirror_mode": {
    "name": "ipython",
    "version": 3
   },
   "file_extension": ".py",
   "mimetype": "text/x-python",
   "name": "python",
   "nbconvert_exporter": "python",
   "pygments_lexer": "ipython3",
   "version": "3.8.10"
  },
  "orig_nbformat": 4,
  "vscode": {
   "interpreter": {
    "hash": "07484756fddac7bd59393d4118357304c260afb75bd53ff0a49292dc7b401b16"
   }
  }
 },
 "nbformat": 4,
 "nbformat_minor": 2
}
