{
 "cells": [
  {
   "cell_type": "markdown",
   "metadata": {},
   "source": [
    "### The goal is to make a multi-class classification model to assess if deep and superficial cells modulate their firing rates in the same way to encode context.\n",
    "\n",
    "Each unit will have an accuracy score how how well it can encode different back to back environments."
   ]
  },
  {
   "cell_type": "code",
   "execution_count": 1,
   "metadata": {},
   "outputs": [],
   "source": [
    "%reload_ext autoreload\n",
    "%autoreload 2"
   ]
  },
  {
   "cell_type": "code",
   "execution_count": 3,
   "metadata": {},
   "outputs": [],
   "source": [
    "from ripple_heterogeneity.utils import (\n",
    "    functions,\n",
    "    loading,\n",
    "    batch_analysis,\n",
    "    add_new_deep_sup,\n",
    "    custom_plots,\n",
    ")\n",
    "from ripple_heterogeneity.place_cells import context_encoding\n",
    "import nelpy as nel\n",
    "\n",
    "import pandas as pd\n",
    "import numpy as np\n",
    "import matplotlib.pyplot as plt\n",
    "import seaborn as sns\n",
    "from matplotlib.ticker import AutoMinorLocator\n",
    "import os\n",
    "from statannot import add_stat_annotation\n",
    "from statannotations.Annotator import Annotator\n",
    "\n",
    "functions.set_plotting_defaults()\n",
    "%matplotlib inline\n",
    "%config InlineBackend.figure_format = 'retina'\n",
    "fig_save_path = r'Z:\\home\\ryanh\\projects\\ripple_heterogeneity\\figures\\panels'"
   ]
  },
  {
   "cell_type": "markdown",
   "metadata": {},
   "source": [
    "## locate sessions with many back to back mazes that are different from each other\n",
    "\n"
   ]
  },
  {
   "cell_type": "code",
   "execution_count": 4,
   "metadata": {},
   "outputs": [
    {
     "data": {
      "text/html": [
       "<div>\n",
       "<style scoped>\n",
       "    .dataframe tbody tr th:only-of-type {\n",
       "        vertical-align: middle;\n",
       "    }\n",
       "\n",
       "    .dataframe tbody tr th {\n",
       "        vertical-align: top;\n",
       "    }\n",
       "\n",
       "    .dataframe thead th {\n",
       "        text-align: right;\n",
       "    }\n",
       "</style>\n",
       "<table border=\"1\" class=\"dataframe\">\n",
       "  <thead>\n",
       "    <tr style=\"text-align: right;\">\n",
       "      <th></th>\n",
       "      <th>basepath</th>\n",
       "    </tr>\n",
       "  </thead>\n",
       "  <tbody>\n",
       "    <tr>\n",
       "      <th>0</th>\n",
       "      <td>Z:\\Data\\AYAold\\AB3\\AB3_38_41</td>\n",
       "    </tr>\n",
       "    <tr>\n",
       "      <th>1</th>\n",
       "      <td>Z:\\Data\\AYAold\\AB3\\AB3_42_46</td>\n",
       "    </tr>\n",
       "    <tr>\n",
       "      <th>2</th>\n",
       "      <td>Z:\\Data\\AYAold\\AYA7\\day25</td>\n",
       "    </tr>\n",
       "    <tr>\n",
       "      <th>3</th>\n",
       "      <td>Z:\\Data\\AYAold\\AYA9\\day12</td>\n",
       "    </tr>\n",
       "    <tr>\n",
       "      <th>4</th>\n",
       "      <td>Z:\\Data\\GirardeauG\\Rat08\\Rat08-20130710</td>\n",
       "    </tr>\n",
       "  </tbody>\n",
       "</table>\n",
       "</div>"
      ],
      "text/plain": [
       "                                  basepath\n",
       "0             Z:\\Data\\AYAold\\AB3\\AB3_38_41\n",
       "1             Z:\\Data\\AYAold\\AB3\\AB3_42_46\n",
       "2                Z:\\Data\\AYAold\\AYA7\\day25\n",
       "3                Z:\\Data\\AYAold\\AYA9\\day12\n",
       "4  Z:\\Data\\GirardeauG\\Rat08\\Rat08-20130710"
      ]
     },
     "execution_count": 4,
     "metadata": {},
     "output_type": "execute_result"
    }
   ],
   "source": [
    "df = pd.read_csv(r\"Z:\\home\\ryanh\\projects\\ripple_heterogeneity\\sessions.csv\")\n",
    "\n",
    "epoch_df = pd.DataFrame()\n",
    "for basepath in df.basepath:\n",
    "    epochs = loading.load_epoch(basepath)\n",
    "    epochs['basepath'] = basepath\n",
    "    epoch_df = pd.concat([epoch_df, epochs], ignore_index=True)\n",
    "\n",
    "epoch_df = epoch_df[epoch_df.environment != \"sleep\"]\n",
    "\n",
    "for basepath in epoch_df.basepath.unique():\n",
    "    epoch_df.loc[epoch_df.basepath == basepath,\"n_unique\"] = epoch_df[epoch_df.basepath == basepath].environment.nunique()\n",
    "\n",
    "sessions_df = pd.DataFrame()\n",
    "sessions_df[\"basepath\"] = epoch_df[epoch_df.n_unique > 1].basepath.unique()\n",
    "sessions_df.head()"
   ]
  },
  {
   "cell_type": "code",
   "execution_count": 27,
   "metadata": {},
   "outputs": [
    {
     "name": "stderr",
     "output_type": "stream",
     "text": [
      "100%|██████████| 59/59 [00:00<00:00, 1344.48it/s]\n"
     ]
    }
   ],
   "source": [
    "save_path = (\n",
    "    r\"Z:\\home\\ryanh\\projects\\ripple_heterogeneity\\context_encoding_v1\"\n",
    "    )\n",
    "\n",
    "batch_analysis.run(\n",
    "    sessions_df,\n",
    "    save_path,\n",
    "    context_encoding.run,\n",
    "    parallel=True,\n",
    "    verbose=True,\n",
    ")\n",
    "# load results\n",
    "results = context_encoding.load_results(save_path)"
   ]
  },
  {
   "cell_type": "code",
   "execution_count": 28,
   "metadata": {},
   "outputs": [
    {
     "data": {
      "text/html": [
       "<div>\n",
       "<style scoped>\n",
       "    .dataframe tbody tr th:only-of-type {\n",
       "        vertical-align: middle;\n",
       "    }\n",
       "\n",
       "    .dataframe tbody tr th {\n",
       "        vertical-align: top;\n",
       "    }\n",
       "\n",
       "    .dataframe thead th {\n",
       "        text-align: right;\n",
       "    }\n",
       "</style>\n",
       "<table border=\"1\" class=\"dataframe\">\n",
       "  <thead>\n",
       "    <tr style=\"text-align: right;\">\n",
       "      <th></th>\n",
       "      <th>UID</th>\n",
       "      <th>accuracy</th>\n",
       "      <th>bal_accuracy</th>\n",
       "      <th>chance_accuracy</th>\n",
       "      <th>n_intervals</th>\n",
       "      <th>deepSuperficial</th>\n",
       "      <th>deepSuperficialDistance</th>\n",
       "      <th>brainRegion</th>\n",
       "      <th>putativeCellType</th>\n",
       "      <th>basepath</th>\n",
       "    </tr>\n",
       "  </thead>\n",
       "  <tbody>\n",
       "    <tr>\n",
       "      <th>0</th>\n",
       "      <td>1</td>\n",
       "      <td>0.541667</td>\n",
       "      <td>0.566667</td>\n",
       "      <td>0.500000</td>\n",
       "      <td>2</td>\n",
       "      <td>Deep</td>\n",
       "      <td>-305.674904</td>\n",
       "      <td>CA1so</td>\n",
       "      <td>Pyramidal Cell</td>\n",
       "      <td>Z:\\Data\\AYAold\\AB3\\AB3_38_41</td>\n",
       "    </tr>\n",
       "    <tr>\n",
       "      <th>1</th>\n",
       "      <td>2</td>\n",
       "      <td>0.875000</td>\n",
       "      <td>0.855556</td>\n",
       "      <td>0.500000</td>\n",
       "      <td>2</td>\n",
       "      <td>Deep</td>\n",
       "      <td>-255.674904</td>\n",
       "      <td>CA1so</td>\n",
       "      <td>Pyramidal Cell</td>\n",
       "      <td>Z:\\Data\\AYAold\\AB3\\AB3_38_41</td>\n",
       "    </tr>\n",
       "    <tr>\n",
       "      <th>2</th>\n",
       "      <td>3</td>\n",
       "      <td>0.791667</td>\n",
       "      <td>0.788889</td>\n",
       "      <td>0.500000</td>\n",
       "      <td>2</td>\n",
       "      <td>Deep</td>\n",
       "      <td>-305.674904</td>\n",
       "      <td>CA1so</td>\n",
       "      <td>Pyramidal Cell</td>\n",
       "      <td>Z:\\Data\\AYAold\\AB3\\AB3_38_41</td>\n",
       "    </tr>\n",
       "    <tr>\n",
       "      <th>3</th>\n",
       "      <td>4</td>\n",
       "      <td>0.750000</td>\n",
       "      <td>0.777778</td>\n",
       "      <td>0.500000</td>\n",
       "      <td>2</td>\n",
       "      <td>Deep</td>\n",
       "      <td>-355.674904</td>\n",
       "      <td>CA1so</td>\n",
       "      <td>Pyramidal Cell</td>\n",
       "      <td>Z:\\Data\\AYAold\\AB3\\AB3_38_41</td>\n",
       "    </tr>\n",
       "    <tr>\n",
       "      <th>4</th>\n",
       "      <td>5</td>\n",
       "      <td>0.583333</td>\n",
       "      <td>0.666667</td>\n",
       "      <td>0.500000</td>\n",
       "      <td>2</td>\n",
       "      <td>Deep</td>\n",
       "      <td>-205.674904</td>\n",
       "      <td>CA1so</td>\n",
       "      <td>Pyramidal Cell</td>\n",
       "      <td>Z:\\Data\\AYAold\\AB3\\AB3_38_41</td>\n",
       "    </tr>\n",
       "    <tr>\n",
       "      <th>...</th>\n",
       "      <td>...</td>\n",
       "      <td>...</td>\n",
       "      <td>...</td>\n",
       "      <td>...</td>\n",
       "      <td>...</td>\n",
       "      <td>...</td>\n",
       "      <td>...</td>\n",
       "      <td>...</td>\n",
       "      <td>...</td>\n",
       "      <td>...</td>\n",
       "    </tr>\n",
       "    <tr>\n",
       "      <th>855</th>\n",
       "      <td>110</td>\n",
       "      <td>0.506024</td>\n",
       "      <td>0.448419</td>\n",
       "      <td>0.333333</td>\n",
       "      <td>3</td>\n",
       "      <td>middle</td>\n",
       "      <td>-19.387061</td>\n",
       "      <td>CA1sp</td>\n",
       "      <td>Pyramidal Cell</td>\n",
       "      <td>Z:\\Data\\Kenji\\i01_maze15_MS.001_004</td>\n",
       "    </tr>\n",
       "    <tr>\n",
       "      <th>856</th>\n",
       "      <td>111</td>\n",
       "      <td>0.542169</td>\n",
       "      <td>0.543270</td>\n",
       "      <td>0.333333</td>\n",
       "      <td>3</td>\n",
       "      <td>middle</td>\n",
       "      <td>-19.387061</td>\n",
       "      <td>CA1sp</td>\n",
       "      <td>Pyramidal Cell</td>\n",
       "      <td>Z:\\Data\\Kenji\\i01_maze15_MS.001_004</td>\n",
       "    </tr>\n",
       "    <tr>\n",
       "      <th>857</th>\n",
       "      <td>112</td>\n",
       "      <td>0.337349</td>\n",
       "      <td>0.333273</td>\n",
       "      <td>0.333333</td>\n",
       "      <td>3</td>\n",
       "      <td>middle</td>\n",
       "      <td>-19.387061</td>\n",
       "      <td>CA1sp</td>\n",
       "      <td>Pyramidal Cell</td>\n",
       "      <td>Z:\\Data\\Kenji\\i01_maze15_MS.001_004</td>\n",
       "    </tr>\n",
       "    <tr>\n",
       "      <th>858</th>\n",
       "      <td>113</td>\n",
       "      <td>0.686747</td>\n",
       "      <td>0.612647</td>\n",
       "      <td>0.333333</td>\n",
       "      <td>3</td>\n",
       "      <td>Deep</td>\n",
       "      <td>-39.387061</td>\n",
       "      <td>CA1sp</td>\n",
       "      <td>Pyramidal Cell</td>\n",
       "      <td>Z:\\Data\\Kenji\\i01_maze15_MS.001_004</td>\n",
       "    </tr>\n",
       "    <tr>\n",
       "      <th>859</th>\n",
       "      <td>114</td>\n",
       "      <td>0.686747</td>\n",
       "      <td>0.601325</td>\n",
       "      <td>0.333333</td>\n",
       "      <td>3</td>\n",
       "      <td>middle</td>\n",
       "      <td>-19.387061</td>\n",
       "      <td>CA1sp</td>\n",
       "      <td>Pyramidal Cell</td>\n",
       "      <td>Z:\\Data\\Kenji\\i01_maze15_MS.001_004</td>\n",
       "    </tr>\n",
       "  </tbody>\n",
       "</table>\n",
       "<p>860 rows × 10 columns</p>\n",
       "</div>"
      ],
      "text/plain": [
       "     UID  accuracy  bal_accuracy  chance_accuracy  n_intervals  \\\n",
       "0      1  0.541667      0.566667         0.500000            2   \n",
       "1      2  0.875000      0.855556         0.500000            2   \n",
       "2      3  0.791667      0.788889         0.500000            2   \n",
       "3      4  0.750000      0.777778         0.500000            2   \n",
       "4      5  0.583333      0.666667         0.500000            2   \n",
       "..   ...       ...           ...              ...          ...   \n",
       "855  110  0.506024      0.448419         0.333333            3   \n",
       "856  111  0.542169      0.543270         0.333333            3   \n",
       "857  112  0.337349      0.333273         0.333333            3   \n",
       "858  113  0.686747      0.612647         0.333333            3   \n",
       "859  114  0.686747      0.601325         0.333333            3   \n",
       "\n",
       "    deepSuperficial  deepSuperficialDistance brainRegion putativeCellType  \\\n",
       "0              Deep              -305.674904       CA1so   Pyramidal Cell   \n",
       "1              Deep              -255.674904       CA1so   Pyramidal Cell   \n",
       "2              Deep              -305.674904       CA1so   Pyramidal Cell   \n",
       "3              Deep              -355.674904       CA1so   Pyramidal Cell   \n",
       "4              Deep              -205.674904       CA1so   Pyramidal Cell   \n",
       "..              ...                      ...         ...              ...   \n",
       "855          middle               -19.387061       CA1sp   Pyramidal Cell   \n",
       "856          middle               -19.387061       CA1sp   Pyramidal Cell   \n",
       "857          middle               -19.387061       CA1sp   Pyramidal Cell   \n",
       "858            Deep               -39.387061       CA1sp   Pyramidal Cell   \n",
       "859          middle               -19.387061       CA1sp   Pyramidal Cell   \n",
       "\n",
       "                                basepath  \n",
       "0           Z:\\Data\\AYAold\\AB3\\AB3_38_41  \n",
       "1           Z:\\Data\\AYAold\\AB3\\AB3_38_41  \n",
       "2           Z:\\Data\\AYAold\\AB3\\AB3_38_41  \n",
       "3           Z:\\Data\\AYAold\\AB3\\AB3_38_41  \n",
       "4           Z:\\Data\\AYAold\\AB3\\AB3_38_41  \n",
       "..                                   ...  \n",
       "855  Z:\\Data\\Kenji\\i01_maze15_MS.001_004  \n",
       "856  Z:\\Data\\Kenji\\i01_maze15_MS.001_004  \n",
       "857  Z:\\Data\\Kenji\\i01_maze15_MS.001_004  \n",
       "858  Z:\\Data\\Kenji\\i01_maze15_MS.001_004  \n",
       "859  Z:\\Data\\Kenji\\i01_maze15_MS.001_004  \n",
       "\n",
       "[860 rows x 10 columns]"
      ]
     },
     "execution_count": 28,
     "metadata": {},
     "output_type": "execute_result"
    }
   ],
   "source": [
    "results"
   ]
  },
  {
   "cell_type": "code",
   "execution_count": 32,
   "metadata": {},
   "outputs": [],
   "source": [
    "results[\"accurace_above_chance\"] = results.accuracy - results.chance_accuracy"
   ]
  },
  {
   "cell_type": "code",
   "execution_count": 46,
   "metadata": {},
   "outputs": [
    {
     "data": {
      "text/plain": [
       "<AxesSubplot:xlabel='n_intervals', ylabel='accurace_above_chance'>"
      ]
     },
     "execution_count": 46,
     "metadata": {},
     "output_type": "execute_result"
    },
    {
     "data": {
      "image/png": "[encoded data removed]",
      "text/plain": [
       "<Figure size 432x288 with 1 Axes>"
      ]
     },
     "metadata": {
      "image/png": {
       "height": 263,
       "width": 391
      },
      "needs_background": "light"
     },
     "output_type": "display_data"
    }
   ],
   "source": [
    "sns.scatterplot(x=\"n_intervals\", y=\"accurace_above_chance\", data=results)"
   ]
  },
  {
   "cell_type": "code",
   "execution_count": 62,
   "metadata": {},
   "outputs": [
    {
     "name": "stdout",
     "output_type": "stream",
     "text": [
      "p-value annotation legend:\n",
      "      ns: p <= 1.00e+00\n",
      "       *: 1.00e-02 < p <= 5.00e-02\n",
      "      **: 1.00e-03 < p <= 1.00e-02\n",
      "     ***: 1.00e-04 < p <= 1.00e-03\n",
      "    ****: p <= 1.00e-04\n",
      "\n",
      "1_Deep vs. 1_Superficial: Mann-Whitney-Wilcoxon test two-sided, P_val:8.337e-04 U_stat=2.858e+04\n"
     ]
    },
    {
     "data": {
      "image/png": "[encoded data removed]",
      "text/plain": [
       "<Figure size 106.299x131.393 with 1 Axes>"
      ]
     },
     "metadata": {
      "image/png": {
       "height": 135,
       "width": 132
      },
      "needs_background": "light"
     },
     "output_type": "display_data"
    }
   ],
   "source": [
    "plt.figure(figsize=functions.set_size(\"thesis\", fraction=.25, subplots=(2, 1)))\n",
    "\n",
    "results[\"constant\"] = 1\n",
    "group_colors = {\"Deep\": \"#7b3294\", \"Superficial\": \"#008837\"}\n",
    "sns.set_palette(sns.color_palette(group_colors.values()))\n",
    "\n",
    "sns.boxplot(x=\"constant\", y=\"accurace_above_chance\", hue=\"deepSuperficial\", hue_order=group_colors.keys(),data=results,showfliers=False)\n",
    "# sns.stripplot(x=\"constant\", y=\"accurace_above_chance\", hue=\"deepSuperficial\",hue_order=group_colors.keys(),dodge=True, data=results, color=\"black\",alpha=.5)\n",
    "plt.axhline(0, color=\"black\", linestyle=\"--\")\n",
    "# plt.grid()\n",
    "sns.despine(bottom=True)\n",
    "plt.gca().yaxis.set_minor_locator(AutoMinorLocator())\n",
    "plt.gca().get_legend().remove()\n",
    "plt.gca().axes.get_xaxis().set_ticks([])\n",
    "plt.xlabel(\"\")\n",
    "plt.ylabel(\"Accuracy over chance\")\n",
    "\n",
    "box_pairs = [\n",
    "    ((1, \"Deep\"),(1, \"Superficial\"))\n",
    "]\n",
    "annotator = Annotator(\n",
    "    plt.gca(),\n",
    "    box_pairs,\n",
    "    data=results,\n",
    "    x=\"constant\",\n",
    "    y=\"accurace_above_chance\",\n",
    "    hue=\"deepSuperficial\"\n",
    ")\n",
    "annotator.configure(\n",
    "    test=\"Mann-Whitney\",\n",
    "    text_format=\"star\",\n",
    "    loc=\"outside\",\n",
    "    comparisons_correction=None,\n",
    "    verbose=1,\n",
    ")\n",
    "annotator.apply_and_annotate()\n",
    "\n",
    "plt.savefig(\n",
    "    os.path.join(fig_save_path, \"context_encoding_multi_mazes.svg\"),\n",
    "    dpi=300,\n",
    "    bbox_inches=\"tight\",\n",
    ")"
   ]
  },
  {
   "cell_type": "code",
   "execution_count": null,
   "metadata": {},
   "outputs": [],
   "source": []
  },
  {
   "cell_type": "code",
   "execution_count": null,
   "metadata": {},
   "outputs": [],
   "source": []
  },
  {
   "cell_type": "markdown",
   "metadata": {},
   "source": [
    "## Testing below"
   ]
  },
  {
   "cell_type": "code",
   "execution_count": 141,
   "metadata": {},
   "outputs": [
    {
     "name": "stdout",
     "output_type": "stream",
     "text": [
      "Z:\\Data\\AYAold\\AB3\\AB3_38_41 ['tmaze' 'linear']\n",
      "Z:\\Data\\AYAold\\AB3\\AB3_42_46 ['tmaze' 'linear']\n",
      "Z:\\Data\\AYAold\\AYA7\\day25 ['cheeseboard' 'box' 'box' 'box']\n",
      "Z:\\Data\\AYAold\\AYA9\\day12 ['linear' 'box']\n",
      "Z:\\Data\\GirardeauG\\Rat08\\Rat08-20130710 ['linear' 'linear' 'linear' 'water']\n",
      "Z:\\Data\\GirardeauG\\Rat10\\Rat10-20140619 ['linear' 'linear' 'linear' 'unknown']\n",
      "Z:\\Data\\Kenji\\2006-4-10 ['linear' 'linear' 'open' 'linear' 'linear' 'open']\n",
      "Z:\\Data\\Kenji\\2006-4-18 ['linear' 'linear' 'linear' 'linear' 'open' 'tmaze']\n",
      "Z:\\Data\\Kenji\\2006-6-12 ['linearOne' 'linearTwo' 'Tmaze']\n",
      "Z:\\Data\\Kenji\\2006-6-13 ['linearOne' 'linearTwo' 'wheel' 'Tmaze']\n",
      "Z:\\Data\\Kenji\\2006-6-7 ['linearOne' 'linearTwo']\n",
      "Z:\\Data\\Kenji\\ec013.152_157 ['bigSquare' 'bigSquare' 'linear' 'linear']\n",
      "Z:\\Data\\Kenji\\ec013.194_213 ['bigSquare' 'bigSquare' 'bigSquare' 'bigSquare' 'linear' 'linear'\n",
      " 'linear']\n",
      "Z:\\Data\\Kenji\\ec013.242_258 ['bigSquare' 'bigSquare' 'linear' 'linear']\n",
      "Z:\\Data\\Kenji\\ec013.370_390 ['linear' 'linear' 'wheel' 'wheel' 'bigSquare' 'bigSquare' 'linear'\n",
      " 'linear' 'linear' 'linear']\n",
      "Z:\\Data\\Kenji\\ec013.393_418 ['linear' 'wheel' 'wheel' 'wheel' 'bigSquare' 'bigSquare' 'bigSquare'\n",
      " 'bigSquare' 'linear' 'linear' 'linear']\n",
      "Z:\\Data\\Kenji\\ec013.421_447 ['Mwheel' 'Mwheel' 'wheel' 'wheel' 'wheel' 'bigSquare' 'bigSquare'\n",
      " 'linear' 'linear' 'linear']\n",
      "Z:\\Data\\Kenji\\ec013.451_470 ['linear' 'bigSquare' 'bigSquare' 'bigSquare' 'bigSquare' 'linear'\n",
      " 'linear' 'linear' 'linear' 'wheel']\n",
      "Z:\\Data\\Kenji\\ec013.480_509 ['Mwheel' 'plus' 'plus' 'plus' 'plus' 'bigSquare' 'bigSquare' 'bigSquare'\n",
      " 'linear' 'linear' 'linear']\n",
      "Z:\\Data\\Kenji\\ec013.512_537 ['wheel' 'wheel' 'bigSquare' 'bigSquare' 'bigSquare' 'bigSquare' 'linear'\n",
      " 'linear' 'linear']\n",
      "Z:\\Data\\Kenji\\ec013.540_561 ['Mwheel' 'Mwheel' 'Mwheel' 'Mwheel' 'Mwheel' 'bigSquare' 'bigSquare'\n",
      " 'linear' 'linear' 'linear']\n",
      "Z:\\Data\\Kenji\\ec013.564_585 ['bigSquare' 'bigSquare' 'bigSquare' 'linear' 'linear' 'linear' 'wheel'\n",
      " 'wheel' 'wheel' 'wheel']\n",
      "Z:\\Data\\Kenji\\ec013.588_604 ['linear' 'wheel' 'wheel' 'bigSquare' 'bigSquare' 'linear' 'linear'\n",
      " 'linear' 'wheel' 'wheel']\n",
      "Z:\\Data\\Kenji\\ec013.608_632 ['Mwheel' 'bigSquare' 'bigSquare' 'bigSquare' 'bigSquare' 'bigSquare'\n",
      " 'linear' 'linear' 'linear']\n",
      "Z:\\Data\\Kenji\\ec013.634_653 ['linear' 'linear' 'linear' 'bigSquare' 'bigSquare' 'wheel' 'wheel']\n",
      "Z:\\Data\\Kenji\\ec013.656_674 ['Mwheel' 'midSquare' 'midSquare' 'midSquare' 'linear' 'linear' 'linear']\n",
      "Z:\\Data\\Kenji\\ec013.677_699 ['linear' 'linear' 'linear' 'bigSquare' 'bigSquare' 'wheel' 'wheel'\n",
      " 'wheel']\n",
      "Z:\\Data\\Kenji\\ec013.702_724 ['Mwheel' 'bigSquare' 'bigSquare' 'wheel' 'wheel' 'linear' 'linear'\n",
      " 'linear']\n",
      "Z:\\Data\\Kenji\\ec013.733_746 ['linear' 'linear' 'linear' 'bigSquare' 'bigSquare']\n",
      "Z:\\Data\\Kenji\\ec013.752_769 ['bigSquare' 'bigSquare' 'bigSquare' 'bigSquare' 'linear' 'linear'\n",
      " 'linear' 'wheel' 'wheel']\n",
      "Z:\\Data\\Kenji\\ec013.779_791 ['Mwheel' 'bigSquare' 'bigSquare' 'linear']\n",
      "Z:\\Data\\Kenji\\ec013.793_814 ['linear' 'linear' 'linear' 'linear' 'bigSquare' 'wheel' 'wheel']\n",
      "Z:\\Data\\Kenji\\ec013.816_835 ['Mwheel' 'plus' 'plus' 'plus' 'plus']\n",
      "Z:\\Data\\Kenji\\ec013.839_851 ['linear' 'linear' 'linear' 'linear' 'bigSquare' 'wheel' 'wheel']\n",
      "Z:\\Data\\Kenji\\ec013.853_866 ['wheel' 'wheel' 'bigSquare' 'linear' 'linear' 'linear']\n",
      "Z:\\Data\\Kenji\\ec013.868_893 ['linear' 'linear' 'linear' 'linear' 'bigSquare' 'bigSquarePlus'\n",
      " 'bigSquarePlus' 'bigSquare']\n",
      "Z:\\Data\\Kenji\\ec013.906_918 ['linear' 'linear' 'linear' 'bigSquare' 'wheel' 'wheel']\n",
      "Z:\\Data\\Kenji\\ec013.931_942 ['linear' 'linear' 'linear' 'bigSquare' 'bigSquare' 'wheel' 'wheel']\n",
      "Z:\\Data\\Kenji\\ec013.944_958 ['bigSquare' 'linear' 'linear' 'linear' 'plus' 'plus' 'plus']\n",
      "Z:\\Data\\Kenji\\ec013.961_974 ['linear' 'linear' 'linear' 'bigSquare' 'bigSquare' 'bigSquare' 'wheel'\n",
      " 'wheel']\n",
      "Z:\\Data\\Kenji\\ec013.976_985 ['linear' 'linear' 'linear' 'midSquare']\n",
      "Z:\\Data\\Kenji\\ec014.716_742 ['midSquare' 'wheel' 'wheel' 'midSquare']\n",
      "Z:\\Data\\Kenji\\ec014.759_779 ['midSquare' 'wheel' 'wheel' 'midSquare']\n",
      "Z:\\Data\\Kenji\\ec014.781_810 ['midSquare' 'wheel' 'wheel' 'midSquare']\n",
      "Z:\\Data\\Kenji\\ec015.037_058 ['midSquare' 'wheel' 'wheel' 'midSquare']\n",
      "Z:\\Data\\Kenji\\ec016.1025_1048 ['Mwheel' 'linear' 'bigSquare']\n",
      "Z:\\Data\\Kenji\\ec016.390_405 ['bigSquare' 'wheel']\n",
      "Z:\\Data\\Kenji\\ec016.425_437 ['bigSquare' 'wheel']\n",
      "Z:\\Data\\Kenji\\ec016.444_459 ['bigSquare' 'Mwheel' 'wheel']\n",
      "Z:\\Data\\Kenji\\ec016.577_590 ['bigSquare' 'wheel']\n",
      "Z:\\Data\\Kenji\\ec016.659_674 ['Mwheel' 'linear']\n",
      "Z:\\Data\\Kenji\\ec016.682_688 ['bigSquare' 'wheel']\n",
      "Z:\\Data\\Kenji\\ec016.715_735 ['bigSquare' 'linear' 'wheel']\n",
      "Z:\\Data\\Kenji\\ec016.835_850 ['Mwheel' 'linear']\n",
      "Z:\\Data\\Kenji\\ec016.893_911 ['bigSquare' 'wheel' 'wheel' 'bigSquare']\n",
      "Z:\\Data\\Kenji\\ec016.914_932 ['bigSquare' 'linear' 'wheel']\n",
      "Z:\\Data\\Kenji\\ec016.950_965 ['Mwheel' 'midSquare']\n",
      "Z:\\Data\\Kenji\\ec016.969_986 ['Mwheel' 'wheel_home' 'wheel_home']\n",
      "Z:\\Data\\Kenji\\i01_maze15_MS.001_004 ['bigSquare' 'Mwheel' 'wheel_home']\n"
     ]
    }
   ],
   "source": [
    "for basepath in epoch_df[epoch_df.n_unique > 1].basepath.unique():\n",
    "    print(basepath, epoch_df[epoch_df.basepath == basepath].environment.values)\n"
   ]
  },
  {
   "cell_type": "code",
   "execution_count": 209,
   "metadata": {},
   "outputs": [
    {
     "data": {
      "text/html": [
       "<div>\n",
       "<style scoped>\n",
       "    .dataframe tbody tr th:only-of-type {\n",
       "        vertical-align: middle;\n",
       "    }\n",
       "\n",
       "    .dataframe tbody tr th {\n",
       "        vertical-align: top;\n",
       "    }\n",
       "\n",
       "    .dataframe thead th {\n",
       "        text-align: right;\n",
       "    }\n",
       "</style>\n",
       "<table border=\"1\" class=\"dataframe\">\n",
       "  <thead>\n",
       "    <tr style=\"text-align: right;\">\n",
       "      <th></th>\n",
       "      <th>name</th>\n",
       "      <th>startTime</th>\n",
       "      <th>stopTime</th>\n",
       "      <th>environment</th>\n",
       "      <th>behavioralParadigm</th>\n",
       "    </tr>\n",
       "  </thead>\n",
       "  <tbody>\n",
       "    <tr>\n",
       "      <th>1</th>\n",
       "      <td>tmaze</td>\n",
       "      <td>1442</td>\n",
       "      <td>2500</td>\n",
       "      <td>tmaze</td>\n",
       "      <td>2</td>\n",
       "    </tr>\n",
       "    <tr>\n",
       "      <th>3</th>\n",
       "      <td>task</td>\n",
       "      <td>5333</td>\n",
       "      <td>7300</td>\n",
       "      <td>linear</td>\n",
       "      <td>2</td>\n",
       "    </tr>\n",
       "  </tbody>\n",
       "</table>\n",
       "</div>"
      ],
      "text/plain": [
       "    name  startTime  stopTime environment behavioralParadigm\n",
       "1  tmaze       1442      2500       tmaze                  2\n",
       "3   task       5333      7300      linear                  2"
      ]
     },
     "metadata": {},
     "output_type": "display_data"
    },
    {
     "data": {
      "text/plain": [
       "(<SpikeTrainArray at 0x21488fd3610: 30 units> at 20000 Hz,\n",
       " <EpochArray at 0x21488fd3640: 2 epochs> of length 50:25 minutes)"
      ]
     },
     "execution_count": 209,
     "metadata": {},
     "output_type": "execute_result"
    }
   ],
   "source": [
    "# basepath = r\"Z:\\Data\\Kenji\\ec013.702_724\"\n",
    "# basepath = r\"Z:\\Data\\AYAold\\AB3\\AB3_38_41\"\n",
    "# basepath = r\"Z:\\Data\\Kenji\\i01_maze15_MS.001_004\"\n",
    "basepath = r\"Z:\\Data\\AYAold\\AB3\\AB3_42_46\"\n",
    "# get behavioral epochs\n",
    "epoch_df = loading.load_epoch(basepath)\n",
    "# remove sleep epochs\n",
    "epoch_df = epoch_df[epoch_df.environment != \"sleep\"]\n",
    "# remove epochs that were too short\n",
    "epoch_df = epoch_df[((epoch_df.stopTime - epoch_df.startTime) / 60) > 5]\n",
    "epochs = nel.EpochArray(\n",
    "            [np.array([epoch_df.startTime, epoch_df.stopTime]).T],\n",
    "            label=epoch_df.environment.values,\n",
    "        )\n",
    "# load spikes\n",
    "spikes,cm = loading.load_spikes(basepath,putativeCellType=\"Pyr\",brainRegion=\"CA1\")\n",
    "display(epoch_df)\n",
    "spikes,epochs"
   ]
  },
  {
   "cell_type": "code",
   "execution_count": 210,
   "metadata": {},
   "outputs": [],
   "source": [
    "bst = spikes[epochs].bin(ds=30).smooth(sigma=15)\n",
    "y = np.hstack([np.zeros(bst_.n_bins) + i_epoch for i_epoch,bst_ in enumerate(bst)])\n"
   ]
  },
  {
   "cell_type": "code",
   "execution_count": 211,
   "metadata": {},
   "outputs": [
    {
     "data": {
      "text/plain": [
       "<AxesSubplot:>"
      ]
     },
     "execution_count": 211,
     "metadata": {},
     "output_type": "execute_result"
    },
    {
     "data": {
      "image/png": "[encoded data removed]",
      "text/plain": [
       "<Figure size 432x288 with 2 Axes>"
      ]
     },
     "metadata": {
      "image/png": {
       "height": 252,
       "width": 346
      },
      "needs_background": "light"
     },
     "output_type": "display_data"
    }
   ],
   "source": [
    "sns.heatmap(bst.data,vmax=10,cmap=\"bone_r\")"
   ]
  },
  {
   "cell_type": "code",
   "execution_count": 212,
   "metadata": {},
   "outputs": [],
   "source": [
    "from sklearn.model_selection import train_test_split\n",
    "from sklearn.pipeline import make_pipeline\n",
    "from sklearn.preprocessing import StandardScaler\n",
    "\n",
    "X = bst.data.T\n",
    "\n",
    "X_train, X_test, y_train, y_test = train_test_split(\n",
    "    X, y, test_size=0.33, random_state=42)"
   ]
  },
  {
   "cell_type": "code",
   "execution_count": 229,
   "metadata": {},
   "outputs": [
    {
     "name": "stdout",
     "output_type": "stream",
     "text": [
      "0.7343434343434344 0.18058221884076214\n",
      "0.7085897435897434 0.19249012714079602\n"
     ]
    },
    {
     "data": {
      "image/png": "[encoded data removed]",
      "text/plain": [
       "<Figure size 720x288 with 2 Axes>"
      ]
     },
     "metadata": {
      "image/png": {
       "height": 252,
       "width": 539
      },
      "needs_background": "light"
     },
     "output_type": "display_data"
    }
   ],
   "source": [
    "from sklearn.metrics import balanced_accuracy_score\n",
    "from sklearn.tree import ExtraTreeClassifier # as accurate as decision tree, but faster (0.6235899814471244, 0.10029514977799202)\n",
    "clf = make_pipeline(StandardScaler(), ExtraTreeClassifier())\n",
    "\n",
    "# from sklearn.tree import DecisionTreeClassifier\n",
    "# clf = make_pipeline(StandardScaler(), DecisionTreeClassifier())\n",
    "\n",
    "# from sklearn.linear_model import LogisticRegression\n",
    "# clf = make_pipeline(StandardScaler(), LogisticRegression(multi_class=\"multinomial\"))\n",
    "\n",
    "# from sklearn.linear_model import RidgeClassifier\n",
    "# clf = make_pipeline(StandardScaler(), RidgeClassifier())\n",
    "\n",
    "# from sklearn.svm import SVC # (0.6175788497217068, 0.08505911913643384)\n",
    "# clf = make_pipeline(StandardScaler(), SVC())\n",
    "\n",
    "scores = []\n",
    "y_pred = []\n",
    "bal_acc = []\n",
    "for i in range(X_train.shape[1]):\n",
    "    clf.fit(X_train[:,i].reshape(-1, 1), y_train)\n",
    "    y_pred.append(clf.predict(X_test[:,i].reshape(-1, 1)))\n",
    "    scores.append(clf.score(X_test[:,i].reshape(-1, 1), y_test))\n",
    "    bal_acc.append(balanced_accuracy_score(y_test,clf.predict(X_test[:,i].reshape(-1, 1))))\n",
    "\n",
    "plt.figure(figsize=(10,4))\n",
    "plt.plot(y_test[np.argsort(y_test)],color=\"k\")\n",
    "sns.heatmap(np.vstack(y_pred)[:,np.argsort(y_test)],cmap=\"Accent\")\n",
    "\n",
    "print(np.mean(scores), np.std(scores))\n",
    "print(np.mean(bal_acc), np.std(bal_acc))\n"
   ]
  },
  {
   "cell_type": "code",
   "execution_count": 214,
   "metadata": {},
   "outputs": [
    {
     "data": {
      "text/plain": [
       "<AxesSubplot:>"
      ]
     },
     "execution_count": 214,
     "metadata": {},
     "output_type": "execute_result"
    },
    {
     "data": {
      "image/png": "[encoded data removed]",
      "text/plain": [
       "<Figure size 432x288 with 2 Axes>"
      ]
     },
     "metadata": {
      "image/png": {
       "height": 249,
       "width": 346
      },
      "needs_background": "light"
     },
     "output_type": "display_data"
    }
   ],
   "source": [
    "from sklearn.metrics import confusion_matrix\n",
    "matrix = confusion_matrix(y_test, y_pred[-1])\n",
    "matrix.diagonal()/matrix.sum(axis=1)\n",
    "sns.heatmap(matrix, annot=True, fmt=\"d\", cmap=\"Blues\")"
   ]
  },
  {
   "cell_type": "code",
   "execution_count": 187,
   "metadata": {},
   "outputs": [
    {
     "data": {
      "text/plain": [
       "[<matplotlib.lines.Line2D at 0x214822be430>]"
      ]
     },
     "execution_count": 187,
     "metadata": {},
     "output_type": "execute_result"
    },
    {
     "data": {
      "image/png": "[encoded data removed]",
      "text/plain": [
       "<Figure size 432x288 with 1 Axes>"
      ]
     },
     "metadata": {
      "image/png": {
       "height": 249,
       "width": 376
      },
      "needs_background": "light"
     },
     "output_type": "display_data"
    }
   ],
   "source": [
    "from sklearn.tree import ExtraTreeClassifier # as accurate as decision tree, but faster\n",
    "clf = make_pipeline(StandardScaler(), ExtraTreeClassifier())\n",
    "\n",
    "clf.fit(X_train, y_train)\n",
    "clf.score(X_test, y_test)\n",
    "y_pred = clf.predict(X_test)\n",
    "\n",
    "plt.plot(y_pred[np.argsort(y_test)],\".k\",alpha=.5)\n",
    "plt.plot(y_test[np.argsort(y_test)])\n"
   ]
  },
  {
   "cell_type": "code",
   "execution_count": 116,
   "metadata": {},
   "outputs": [
    {
     "data": {
      "text/plain": [
       "(0.23222045865032015, 0.030250691548535238)"
      ]
     },
     "execution_count": 116,
     "metadata": {},
     "output_type": "execute_result"
    }
   ],
   "source": []
  },
  {
   "cell_type": "code",
   "execution_count": 114,
   "metadata": {},
   "outputs": [
    {
     "data": {
      "text/plain": [
       "(0.2293798916315473, 0.03969414567381829)"
      ]
     },
     "execution_count": 114,
     "metadata": {},
     "output_type": "execute_result"
    }
   ],
   "source": [
    "from sklearn.tree import ExtraTreeClassifier # as accurate as decision tree, but faster\n",
    "clf = make_pipeline(StandardScaler(), ExtraTreeClassifier())\n",
    "\n",
    "scores = []\n",
    "for i in range(X_train.shape[1]):\n",
    "    clf.fit(X_train[:,i].reshape(-1, 1), y_train)\n",
    "    scores.append(clf.score(X_test[:,i].reshape(-1, 1), y_test))\n",
    "np.mean(scores), np.std(scores)"
   ]
  },
  {
   "cell_type": "code",
   "execution_count": 115,
   "metadata": {},
   "outputs": [
    {
     "data": {
      "text/plain": [
       "(0.22941820371079855, 0.03948041813172707)"
      ]
     },
     "execution_count": 115,
     "metadata": {},
     "output_type": "execute_result"
    }
   ],
   "source": [
    "from sklearn.tree import DecisionTreeClassifier\n",
    "clf = make_pipeline(StandardScaler(), DecisionTreeClassifier())\n",
    "\n",
    "scores = []\n",
    "for i in range(X_train.shape[1]):\n",
    "    clf.fit(X_train[:,i].reshape(-1, 1), y_train)\n",
    "    scores.append(clf.score(X_test[:,i].reshape(-1, 1), y_test))\n",
    "np.mean(scores), np.std(scores)\n"
   ]
  },
  {
   "cell_type": "code",
   "execution_count": 80,
   "metadata": {},
   "outputs": [
    {
     "data": {
      "text/plain": [
       "(0.2283235728750479, 0.029094709509172575)"
      ]
     },
     "execution_count": 80,
     "metadata": {},
     "output_type": "execute_result"
    }
   ],
   "source": [
    "from sklearn.linear_model import RidgeClassifier\n",
    "clf = make_pipeline(StandardScaler(), RidgeClassifier())\n",
    "\n",
    "scores = []\n",
    "for i in range(X_train.shape[1]):\n",
    "    clf.fit(X_train[:,i].reshape(-1, 1), y_train)\n",
    "    scores.append(clf.score(X_test[:,i].reshape(-1, 1), y_test))\n",
    "np.mean(scores), np.std(scores)"
   ]
  },
  {
   "cell_type": "code",
   "execution_count": 84,
   "metadata": {},
   "outputs": [
    {
     "data": {
      "text/plain": [
       "(0.2283235728750479, 0.029094709509172575)"
      ]
     },
     "execution_count": 84,
     "metadata": {},
     "output_type": "execute_result"
    }
   ],
   "source": [
    "from sklearn.linear_model import RidgeClassifierCV\n",
    "clf = make_pipeline(StandardScaler(), RidgeClassifierCV(alphas=[1e-3, 1e-2, 1e-1, 1]))\n",
    "\n",
    "scores = []\n",
    "for i in range(X_train.shape[1]):\n",
    "    clf.fit(X_train[:,i].reshape(-1, 1), y_train)\n",
    "    scores.append(clf.score(X_test[:,i].reshape(-1, 1), y_test))\n",
    "np.mean(scores), np.std(scores)"
   ]
  },
  {
   "cell_type": "code",
   "execution_count": 75,
   "metadata": {},
   "outputs": [
    {
     "data": {
      "text/plain": [
       "(0.22767226752777622, 0.02848345962885675)"
      ]
     },
     "execution_count": 75,
     "metadata": {},
     "output_type": "execute_result"
    }
   ],
   "source": [
    "from sklearn.naive_bayes import BernoulliNB # lower accuracy, but lower std\n",
    "\n",
    "clf = make_pipeline(StandardScaler(), BernoulliNB())\n",
    "\n",
    "scores = []\n",
    "for i in range(X_train.shape[1]):\n",
    "    clf.fit(X_train[:,i].reshape(-1, 1), y_train)\n",
    "    scores.append(clf.score(X_test[:,i].reshape(-1, 1), y_test))\n",
    "np.mean(scores), np.std(scores)\n"
   ]
  },
  {
   "cell_type": "code",
   "execution_count": 77,
   "metadata": {},
   "outputs": [
    {
     "data": {
      "text/plain": [
       "(0.202971922719063, 0.05104997269204507)"
      ]
     },
     "execution_count": 77,
     "metadata": {},
     "output_type": "execute_result"
    }
   ],
   "source": [
    "from sklearn.naive_bayes import GaussianNB # lower accuracy\n",
    "clf = make_pipeline(StandardScaler(), GaussianNB())\n",
    "\n",
    "scores = []\n",
    "for i in range(X_train.shape[1]):\n",
    "    clf.fit(X_train[:,i].reshape(-1, 1), y_train)\n",
    "    scores.append(clf.score(X_test[:,i].reshape(-1, 1), y_test))\n",
    "np.mean(scores), np.std(scores)"
   ]
  },
  {
   "cell_type": "code",
   "execution_count": 78,
   "metadata": {},
   "outputs": [
    {
     "data": {
      "text/plain": [
       "(0.2278747742323901, 0.03913784740939862)"
      ]
     },
     "execution_count": 78,
     "metadata": {},
     "output_type": "execute_result"
    }
   ],
   "source": [
    "from sklearn.ensemble import RandomForestClassifier # similar to a decision tree, but slower\n",
    "clf = make_pipeline(StandardScaler(), RandomForestClassifier())\n",
    "\n",
    "scores = []\n",
    "for i in range(X_train.shape[1]):\n",
    "    clf.fit(X_train[:,i].reshape(-1, 1), y_train)\n",
    "    scores.append(clf.score(X_test[:,i].reshape(-1, 1), y_test))\n",
    "np.mean(scores), np.std(scores)"
   ]
  },
  {
   "cell_type": "code",
   "execution_count": 58,
   "metadata": {},
   "outputs": [
    {
     "data": {
      "text/plain": [
       "(0.22971375403645122, 0.03998298861071609)"
      ]
     },
     "execution_count": 58,
     "metadata": {},
     "output_type": "execute_result"
    }
   ],
   "source": [
    "from sklearn.ensemble import ExtraTreesClassifier # too slow and as accurate as DecisionTreeClassifier\n",
    "\n",
    "# clf = ExtraTreesClassifier(n_estimators=100, random_state=0)\n",
    "clf = make_pipeline(StandardScaler(), ExtraTreesClassifier())\n",
    "\n",
    "scores = []\n",
    "for i in range(X_train.shape[1]):\n",
    "    clf.fit(X_train[:,i].reshape(-1, 1), y_train)\n",
    "    scores.append(clf.score(X_test[:,i].reshape(-1, 1), y_test))\n",
    "np.mean(scores), np.std(scores)\n"
   ]
  },
  {
   "cell_type": "code",
   "execution_count": 99,
   "metadata": {},
   "outputs": [
    {
     "name": "stderr",
     "output_type": "stream",
     "text": [
      "c:\\Users\\Cornell\\anaconda3\\envs\\ripple_diversity\\lib\\site-packages\\sklearn\\neural_network\\_multilayer_perceptron.py:614: ConvergenceWarning: Stochastic Optimizer: Maximum iterations (200) reached and the optimization hasn't converged yet.\n",
      "c:\\Users\\Cornell\\anaconda3\\envs\\ripple_diversity\\lib\\site-packages\\sklearn\\neural_network\\_multilayer_perceptron.py:619: UserWarning: Training interrupted by user.\n",
      "c:\\Users\\Cornell\\anaconda3\\envs\\ripple_diversity\\lib\\site-packages\\sklearn\\neural_network\\_multilayer_perceptron.py:614: ConvergenceWarning: Stochastic Optimizer: Maximum iterations (200) reached and the optimization hasn't converged yet.\n",
      "c:\\Users\\Cornell\\anaconda3\\envs\\ripple_diversity\\lib\\site-packages\\sklearn\\neural_network\\_multilayer_perceptron.py:619: UserWarning: Training interrupted by user.\n",
      "c:\\Users\\Cornell\\anaconda3\\envs\\ripple_diversity\\lib\\site-packages\\sklearn\\neural_network\\_multilayer_perceptron.py:614: ConvergenceWarning: Stochastic Optimizer: Maximum iterations (200) reached and the optimization hasn't converged yet.\n"
     ]
    },
    {
     "data": {
      "text/plain": [
       "(0.24893547151223247, 0.03616841044947368)"
      ]
     },
     "execution_count": 99,
     "metadata": {},
     "output_type": "execute_result"
    }
   ],
   "source": [
    "from sklearn.neural_network import MLPClassifier # far too slow\n",
    "clf = make_pipeline(StandardScaler(), MLPClassifier())\n",
    "\n",
    "scores = []\n",
    "for i in range(X_train.shape[1]):\n",
    "    clf.fit(X_train[:,i].reshape(-1, 1), y_train)\n",
    "    scores.append(clf.score(X_test[:,i].reshape(-1, 1), y_test))\n",
    "np.mean(scores), np.std(scores)"
   ]
  },
  {
   "cell_type": "code",
   "execution_count": 125,
   "metadata": {},
   "outputs": [
    {
     "data": {
      "text/plain": [
       "(0.23222045865032015, 0.030250691548535238)"
      ]
     },
     "execution_count": 125,
     "metadata": {},
     "output_type": "execute_result"
    }
   ],
   "source": [
    "from sklearn.discriminant_analysis import LinearDiscriminantAnalysis # deceptive accuracy, will over classify some classes to make it more accurate\n",
    "clf = make_pipeline(StandardScaler(), LinearDiscriminantAnalysis())\n",
    "\n",
    "scores = []\n",
    "for i in range(X_train.shape[1]):\n",
    "    clf.fit(X_train[:,i].reshape(-1, 1), y_train)\n",
    "    scores.append(clf.score(X_test[:,i].reshape(-1, 1), y_test))\n",
    "np.mean(scores), np.std(scores)"
   ]
  },
  {
   "cell_type": "code",
   "execution_count": null,
   "metadata": {},
   "outputs": [],
   "source": [
    "# from sklearn.gaussian_process import GaussianProcessClassifier # too slow\n",
    "\n",
    "# clf = make_pipeline(StandardScaler(), GaussianProcessClassifier(multi_class = \"one_vs_one\"))\n",
    "\n",
    "# scores = []\n",
    "# for i in range(X_train.shape[1]):\n",
    "#     clf.fit(X_train[:,i].reshape(-1, 1), y_train)\n",
    "#     scores.append(clf.score(X_test[:,i].reshape(-1, 1), y_test))\n",
    "# np.mean(scores), np.std(scores)"
   ]
  },
  {
   "cell_type": "code",
   "execution_count": 43,
   "metadata": {},
   "outputs": [
    {
     "data": {
      "text/plain": [
       "[0.1802528597230584,\n",
       " 0.24166164960866948,\n",
       " 0.19289584587597833,\n",
       " 0.23491872366044553,\n",
       " 0.20891029500301023,\n",
       " 0.19000602046959664,\n",
       " 0.18868151715833836,\n",
       " 0.1962673088500903,\n",
       " 0.2054184226369657,\n",
       " 0.20457555689343768,\n",
       " 0.21324503311258278,\n",
       " 0.2003612281757977,\n",
       " 0.1892835641180012,\n",
       " 0.2636965683323299,\n",
       " 0.20228777844671886,\n",
       " 0.20915111378687537,\n",
       " 0.1950632149307646,\n",
       " 0.2586393738711619,\n",
       " 0.2107164358819988,\n",
       " 0.21625526791089705,\n",
       " 0.22576760987357014,\n",
       " 0.20830824804334738]"
      ]
     },
     "execution_count": 43,
     "metadata": {},
     "output_type": "execute_result"
    }
   ],
   "source": [
    "# from sklearn.svm import SVC\n",
    "# from sklearn.pipeline import make_pipeline\n",
    "# from sklearn.preprocessing import StandardScaler\n",
    "\n",
    "# clf = make_pipeline(StandardScaler(), SVC(gamma='auto'))\n",
    "# scores = []\n",
    "# for i in range(X_train.shape[1]):\n",
    "#     clf.fit(X_train[:,i].reshape(-1, 1), y_train)\n",
    "#     scores.append(clf.score(X_test[:,i].reshape(-1, 1), y_test))\n",
    "# scores"
   ]
  },
  {
   "cell_type": "code",
   "execution_count": 42,
   "metadata": {},
   "outputs": [
    {
     "data": {
      "text/plain": [
       "0.11992775436484046"
      ]
     },
     "execution_count": 42,
     "metadata": {},
     "output_type": "execute_result"
    }
   ],
   "source": [
    "# from sklearn.neighbors import KNeighborsClassifier\n",
    "# # neigh = KNeighborsClassifier(n_neighbors=3)\n",
    "# clf = make_pipeline(StandardScaler(), KNeighborsClassifier())\n",
    "# clf.fit(X_train[:,1].reshape(-1, 1), y_train)\n",
    "# clf.score(X_test[:,1].reshape(-1, 1), y_test)\n",
    "\n"
   ]
  }
 ],
 "metadata": {
  "kernelspec": {
   "display_name": "Python 3.8.10 ('ripple_diversity')",
   "language": "python",
   "name": "python3"
  },
  "language_info": {
   "codemirror_mode": {
    "name": "ipython",
    "version": 3
   },
   "file_extension": ".py",
   "mimetype": "text/x-python",
   "name": "python",
   "nbconvert_exporter": "python",
   "pygments_lexer": "ipython3",
   "version": "3.8.10"
  },
  "orig_nbformat": 4,
  "vscode": {
   "interpreter": {
    "hash": "07484756fddac7bd59393d4118357304c260afb75bd53ff0a49292dc7b401b16"
   }
  }
 },
 "nbformat": 4,
 "nbformat_minor": 2
}
