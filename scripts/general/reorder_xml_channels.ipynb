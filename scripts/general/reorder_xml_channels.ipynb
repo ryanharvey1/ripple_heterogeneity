{
 "cells": [
  {
   "cell_type": "code",
   "execution_count": 1,
   "metadata": {},
   "outputs": [],
   "source": [
    "import xml.etree.ElementTree as ET\n",
    "import glob as glob\n",
    "import os  "
   ]
  },
  {
   "cell_type": "code",
   "execution_count": 2,
   "metadata": {},
   "outputs": [],
   "source": [
    "def reorder_anatomicalDescription(root):\n",
    "    # iterate through each shank\n",
    "    for shank in root.findall('anatomicalDescription')[0][0]:\n",
    "        # iterate through each channel in shank and save channel string\n",
    "        channels = []\n",
    "        for channel in shank:\n",
    "            channels.append(channel.text)\n",
    "        # reverse channel order\n",
    "        channels.reverse()\n",
    "        # save new channel order back \n",
    "        for i,channel in enumerate(shank):\n",
    "            channel.text = channels[i]   \n",
    "    return root   \n",
    "    \n",
    "def reorder_spikeDetection(root):\n",
    "    # iterate through each shank\n",
    "    for shank in root.findall('spikeDetection')[0][0]:\n",
    "        # iterate through each channel in shank and save channel string\n",
    "        channels = []\n",
    "        for channel in shank.findall('channels')[0]:\n",
    "            channels.append(channel.text)\n",
    "        # reverse channel order\n",
    "        channels.reverse()\n",
    "        # save new channel order back \n",
    "        for i,channel in enumerate(shank.findall('channels')[0]):\n",
    "            if len(channels)>1:\n",
    "                channel.text = channels[i] \n",
    "    return root"
   ]
  },
  {
   "cell_type": "code",
   "execution_count": 11,
   "metadata": {},
   "outputs": [
    {
     "data": {
      "text/plain": [
       "['Z:\\\\Data\\\\FujisawaS\\\\GG\\\\GG0401\\\\GG0401.xml',\n",
       " 'Z:\\\\Data\\\\FujisawaS\\\\GG\\\\GG0406\\\\GG0406.xml']"
      ]
     },
     "execution_count": 11,
     "metadata": {},
     "output_type": "execute_result"
    }
   ],
   "source": [
    "# locate all xml files\n",
    "# files = glob.glob('A:\\Data\\Kenji\\*\\*.xml',recursive=True)\n",
    "# files = glob.glob('Z:\\Data\\FujisawaS\\EE\\*\\*.xml',recursive=True)\n",
    "files = glob.glob('Z:\\Data\\FujisawaS\\GG\\*\\*.xml',recursive=True)\n",
    "\n",
    "files"
   ]
  },
  {
   "cell_type": "code",
   "execution_count": 4,
   "metadata": {},
   "outputs": [],
   "source": [
    "# files = [\n",
    "#     \"Z:\\\\Data\\\\FujisawaS\\\\EE\\\\EE0710\\\\EE0710.xml\",\n",
    "#     \"Z:\\\\Data\\\\FujisawaS\\\\EE\\\\EE0711\\\\EE0711.xml\",\n",
    "# ]\n"
   ]
  },
  {
   "cell_type": "code",
   "execution_count": 12,
   "metadata": {},
   "outputs": [
    {
     "name": "stdout",
     "output_type": "stream",
     "text": [
      "Z:\\Data\\FujisawaS\\GG\\GG0401\\GG0401.xml\n",
      "Z:\\Data\\FujisawaS\\GG\\GG0406\\GG0406.xml\n"
     ]
    }
   ],
   "source": [
    "# iter through each file\n",
    "for file in files:\n",
    "    try:\n",
    "        print(file)\n",
    "        # read in xml\n",
    "        tree = ET.parse(file)\n",
    "        root = tree.getroot()\n",
    "        # rename old xml to *_old.xml\n",
    "        os.rename(file,os.path.splitext(file)[0]+'_old.xml')\n",
    "        # reorder channels\n",
    "        root = reorder_anatomicalDescription(root)\n",
    "        root = reorder_spikeDetection(root)\n",
    "        # save new xml\n",
    "        tree.write(file)\n",
    "    except:\n",
    "        print(file+' failed')"
   ]
  }
 ],
 "metadata": {
  "interpreter": {
   "hash": "07484756fddac7bd59393d4118357304c260afb75bd53ff0a49292dc7b401b16"
  },
  "kernelspec": {
   "display_name": "Python 3.8.10 ('ripple_diversity')",
   "language": "python",
   "name": "python3"
  },
  "language_info": {
   "codemirror_mode": {
    "name": "ipython",
    "version": 3
   },
   "file_extension": ".py",
   "mimetype": "text/x-python",
   "name": "python",
   "nbconvert_exporter": "python",
   "pygments_lexer": "ipython3",
   "version": "3.8.10"
  },
  "orig_nbformat": 4
 },
 "nbformat": 4,
 "nbformat_minor": 2
}
