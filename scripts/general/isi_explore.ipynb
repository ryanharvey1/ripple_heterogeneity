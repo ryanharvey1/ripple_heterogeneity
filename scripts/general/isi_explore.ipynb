{
 "cells": [
  {
   "cell_type": "code",
   "execution_count": 1,
   "metadata": {},
   "outputs": [
    {
     "name": "stdout",
     "output_type": "stream",
     "text": [
      "d:\\github\\ripple_heterogeneity\\python\n"
     ]
    }
   ],
   "source": [
    "%cd .."
   ]
  },
  {
   "cell_type": "code",
   "execution_count": 4,
   "metadata": {},
   "outputs": [
    {
     "name": "stderr",
     "output_type": "stream",
     "text": [
      "C:\\Users\\Cornell\\anaconda3\\envs\\ripple_diversity\\lib\\site-packages\\nelpy\\plotting\\decoding.py:9: MatplotlibDeprecationWarning: \n",
      "The mpl_toolkits.axes_grid module was deprecated in Matplotlib 2.1 and will be removed two minor releases later. Use mpl_toolkits.axes_grid1 and mpl_toolkits.axisartist, which provide the same functionality instead.\n"
     ]
    }
   ],
   "source": [
    "import pandas as pd\n",
    "import numpy as np \n",
    "# import glob\n",
    "import matplotlib.pyplot as plt\n",
    "\n",
    "import sys,os\n",
    "\n",
    "import functions, loading\n",
    "\n",
    "import nelpy as nel  # main nelpy imports\n",
    "# import nelpy.plotting as npl  # optional plotting import\n",
    "\n",
    "# import math\n",
    "import seaborn as sns\n",
    "from tqdm import tqdm\n",
    "\n",
    "from matplotlib.ticker import AutoMinorLocator"
   ]
  },
  {
   "cell_type": "code",
   "execution_count": 7,
   "metadata": {},
   "outputs": [
    {
     "name": "stderr",
     "output_type": "stream",
     "text": [
      "C:\\Users\\Cornell\\anaconda3\\envs\\ripple_diversity\\lib\\site-packages\\nelpy\\core\\_eventarray.py:709: VisibleDeprecationWarning: Creating an ndarray from ragged nested sequences (which is a list-or-tuple of lists-or-tuples-or ndarrays with different lengths or shapes) is deprecated. If you meant to do this, you must specify 'dtype=object' when creating the ndarray.\n"
     ]
    }
   ],
   "source": [
    "def load_basic_data(basepath):\n",
    "    nChannels, fs, fs_dat, shank_to_channel = functions.loadXML(basepath)\n",
    "    ripples = loading.load_ripples_events(basepath)\n",
    "    cell_metrics,data = loading.load_cell_metrics(basepath)\n",
    "    return cell_metrics,data,ripples,fs_dat\n",
    "\n",
    "basepath = r'A:\\Data\\AYA9\\day20'\n",
    "\n",
    "cell_metrics,data,ripples,fs_dat = load_basic_data(basepath)\n",
    "\n",
    "restrict_idx = ((cell_metrics.putativeCellType == \"Pyramidal Cell\") &\n",
    "                    ((cell_metrics.brainRegion==\"CA1\") |\n",
    "                    (cell_metrics.brainRegion==\"rCA1\") |\n",
    "                    (cell_metrics.brainRegion==\"lCA1\")))\n",
    "# restric cell metrics                      \n",
    "cell_metrics = cell_metrics[restrict_idx]\n",
    "# get ripple epochs\n",
    "ripple_epochs = nel.EpochArray([np.array([ripples.start,ripples.stop]).T])\n",
    "\n",
    "# idx = (cell_metrics.deepSuperficial==\"Superficial\")\n",
    "st_unit = nel.SpikeTrainArray(timestamps=np.array(data['spikes'],dtype=object)[restrict_idx], fs=fs_dat)\n",
    "\n"
   ]
  },
  {
   "cell_type": "code",
   "execution_count": 70,
   "metadata": {},
   "outputs": [],
   "source": [
    "st_rip_unit = st_unit[ripple_epochs]\n",
    "# st_rip_unit.label = cell_metrics.deepSuperficial"
   ]
  },
  {
   "cell_type": "code",
   "execution_count": 110,
   "metadata": {},
   "outputs": [
    {
     "name": "stderr",
     "output_type": "stream",
     "text": [
      "C:\\Users\\Cornell\\anaconda3\\envs\\ripple_diversity\\lib\\site-packages\\nelpy\\core\\_eventarray.py:996: UserWarning: ignoring events outside of eventarray support\n"
     ]
    },
    {
     "data": {
      "image/png": "[encoded data removed]",
      "text/plain": [
       "<Figure size 432x288 with 1 Axes>"
      ]
     },
     "metadata": {
      "needs_background": "light"
     },
     "output_type": "display_data"
    }
   ],
   "source": [
    "sup_idx = cell_metrics.deepSuperficial==\"Superficial\"\n",
    "# print(sup_idx)\n",
    "# for rip in st_rip_unit:\n",
    "#     for unit in rip.data[sup_idx]:\n",
    "#         rip.data\n",
    "\n",
    "rip = st_rip_unit[0]\n",
    "rip.data\n",
    "isi = np.empty((rip.data.shape[0],rip.data.shape[0],))\n",
    "isi[:] = np.nan\n",
    "for i in range(rip.data.shape[0]):\n",
    "    if len(rip.data[i]) == 0:\n",
    "        continue  \n",
    "    for j in np.arange(1,rip.data.shape[0]):\n",
    "        if len(rip.data[j]) == 0:\n",
    "            continue   \n",
    "        isi[i,j] = np.abs(np.min(rip.data[i] - rip.data[j]))\n",
    "plt.plot(isi.T)\n",
    "plt.show()\n",
    "# isi\n",
    "# rip.data[0][0]\n",
    "# temp_bin = rip.bin(ds=0.001)\n",
    "# plt.imshow(temp_bin.data[sup_idx,:])\n",
    "# np.where(temp_bin.data[sup_idx,:]>0)\n",
    "# for unit in temp_bin.data[sup_idx,:]:\n",
    "#     unit.\n",
    "# for unit in rip.data[sup_idx]:\n",
    "#     print(unit)\n",
    "\n",
    "# st_rip_unit[0].data[sup_idx]\n",
    "# st_rip_unit[0].label\n",
    "# st_rip_unit.\n",
    "\n",
    "# unit_ids_to_keep = list(unit_ids_to_keep)\n",
    "\n",
    "# # modify spike trains and ratemap to only include those units that passed all the criteria\n",
    "# sta_placecells = st._unit_subset(unit_ids_to_keep)"
   ]
  },
  {
   "cell_type": "code",
   "execution_count": 127,
   "metadata": {},
   "outputs": [],
   "source": [
    "spiketimes = []\n",
    "for unit in rip.data:\n",
    "    if len(unit) > 0:\n",
    "        spiketimes.append(min(unit)) \n",
    "    else:\n",
    "        spiketimes.append(np.nan) \n",
    "spiketimes = np.array(spiketimes)    \n",
    "\n",
    "isi_sup = []\n",
    "for i in range(len(np.array(spiketimes))):\n",
    "    isi_sup.append(np.abs(spiketimes[i] - spiketimes[sup_idx]))"
   ]
  },
  {
   "cell_type": "code",
   "execution_count": 128,
   "metadata": {},
   "outputs": [
    {
     "data": {
      "text/plain": [
       "[array([nan, nan, nan, nan, nan, nan, nan, nan, nan, nan, nan, nan, nan,\n",
       "        nan]),\n",
       " array([nan, nan, nan, nan, nan, nan, nan, nan, nan, nan, nan, nan, nan,\n",
       "        nan]),\n",
       " array([nan, nan, nan, nan, nan, nan, nan, nan, nan, nan, nan, nan, nan,\n",
       "        nan]),\n",
       " array([nan, nan, nan, nan, nan, nan, nan, nan, nan, nan, nan, nan, nan,\n",
       "        nan]),\n",
       " array([nan, nan, nan, nan, nan, nan, nan, nan, nan, nan, nan, nan, nan,\n",
       "        nan]),\n",
       " array([nan, nan, nan, nan, nan, nan, nan, nan, nan, nan, nan, nan, nan,\n",
       "        nan]),\n",
       " array([nan, nan, nan, nan, nan, nan, nan, nan, nan, nan, nan, nan, nan,\n",
       "        nan]),\n",
       " array([nan, nan, nan, nan, nan, nan, nan, nan, nan, nan, nan, nan, nan,\n",
       "        nan]),\n",
       " array([nan, nan, nan, nan, nan, nan, nan, nan, nan, nan, nan, nan, nan,\n",
       "        nan]),\n",
       " array([    nan,     nan,     nan,     nan,     nan,     nan, 0.00395,\n",
       "            nan,     nan, 0.0045 ,     nan,     nan,     nan,     nan]),\n",
       " array([nan, nan, nan, nan, nan, nan, nan, nan, nan, nan, nan, nan, nan,\n",
       "        nan]),\n",
       " array([nan, nan, nan, nan, nan, nan, nan, nan, nan, nan, nan, nan, nan,\n",
       "        nan]),\n",
       " array([nan, nan, nan, nan, nan, nan, nan, nan, nan, nan, nan, nan, nan,\n",
       "        nan]),\n",
       " array([nan, nan, nan, nan, nan, nan, nan, nan, nan, nan, nan, nan, nan,\n",
       "        nan]),\n",
       " array([nan, nan, nan, nan, nan, nan, nan, nan, nan, nan, nan, nan, nan,\n",
       "        nan]),\n",
       " array([nan, nan, nan, nan, nan, nan, nan, nan, nan, nan, nan, nan, nan,\n",
       "        nan]),\n",
       " array([    nan,     nan,     nan,     nan,     nan,     nan, 0.01   ,\n",
       "            nan,     nan, 0.00155,     nan,     nan,     nan,     nan]),\n",
       " array([nan, nan, nan, nan, nan, nan, nan, nan, nan, nan, nan, nan, nan,\n",
       "        nan]),\n",
       " array([nan, nan, nan, nan, nan, nan, nan, nan, nan, nan, nan, nan, nan,\n",
       "        nan]),\n",
       " array([nan, nan, nan, nan, nan, nan, nan, nan, nan, nan, nan, nan, nan,\n",
       "        nan]),\n",
       " array([    nan,     nan,     nan,     nan,     nan,     nan, 0.00905,\n",
       "            nan,     nan, 0.0006 ,     nan,     nan,     nan,     nan]),\n",
       " array([    nan,     nan,     nan,     nan,     nan,     nan, 0.00225,\n",
       "            nan,     nan, 0.0107 ,     nan,     nan,     nan,     nan]),\n",
       " array([nan, nan, nan, nan, nan, nan, nan, nan, nan, nan, nan, nan, nan,\n",
       "        nan]),\n",
       " array([nan, nan, nan, nan, nan, nan, nan, nan, nan, nan, nan, nan, nan,\n",
       "        nan]),\n",
       " array([nan, nan, nan, nan, nan, nan, nan, nan, nan, nan, nan, nan, nan,\n",
       "        nan]),\n",
       " array([nan, nan, nan, nan, nan, nan, nan, nan, nan, nan, nan, nan, nan,\n",
       "        nan]),\n",
       " array([nan, nan, nan, nan, nan, nan, nan, nan, nan, nan, nan, nan, nan,\n",
       "        nan]),\n",
       " array([nan, nan, nan, nan, nan, nan, nan, nan, nan, nan, nan, nan, nan,\n",
       "        nan]),\n",
       " array([    nan,     nan,     nan,     nan,     nan,     nan, 0.     ,\n",
       "            nan,     nan, 0.00845,     nan,     nan,     nan,     nan]),\n",
       " array([nan, nan, nan, nan, nan, nan, nan, nan, nan, nan, nan, nan, nan,\n",
       "        nan]),\n",
       " array([nan, nan, nan, nan, nan, nan, nan, nan, nan, nan, nan, nan, nan,\n",
       "        nan]),\n",
       " array([nan, nan, nan, nan, nan, nan, nan, nan, nan, nan, nan, nan, nan,\n",
       "        nan]),\n",
       " array([nan, nan, nan, nan, nan, nan, nan, nan, nan, nan, nan, nan, nan,\n",
       "        nan]),\n",
       " array([    nan,     nan,     nan,     nan,     nan,     nan, 0.00845,\n",
       "            nan,     nan, 0.     ,     nan,     nan,     nan,     nan]),\n",
       " array([nan, nan, nan, nan, nan, nan, nan, nan, nan, nan, nan, nan, nan,\n",
       "        nan]),\n",
       " array([nan, nan, nan, nan, nan, nan, nan, nan, nan, nan, nan, nan, nan,\n",
       "        nan]),\n",
       " array([nan, nan, nan, nan, nan, nan, nan, nan, nan, nan, nan, nan, nan,\n",
       "        nan]),\n",
       " array([nan, nan, nan, nan, nan, nan, nan, nan, nan, nan, nan, nan, nan,\n",
       "        nan]),\n",
       " array([nan, nan, nan, nan, nan, nan, nan, nan, nan, nan, nan, nan, nan,\n",
       "        nan]),\n",
       " array([nan, nan, nan, nan, nan, nan, nan, nan, nan, nan, nan, nan, nan,\n",
       "        nan]),\n",
       " array([nan, nan, nan, nan, nan, nan, nan, nan, nan, nan, nan, nan, nan,\n",
       "        nan]),\n",
       " array([    nan,     nan,     nan,     nan,     nan,     nan, 0.0089 ,\n",
       "            nan,     nan, 0.00045,     nan,     nan,     nan,     nan]),\n",
       " array([nan, nan, nan, nan, nan, nan, nan, nan, nan, nan, nan, nan, nan,\n",
       "        nan]),\n",
       " array([nan, nan, nan, nan, nan, nan, nan, nan, nan, nan, nan, nan, nan,\n",
       "        nan]),\n",
       " array([nan, nan, nan, nan, nan, nan, nan, nan, nan, nan, nan, nan, nan,\n",
       "        nan]),\n",
       " array([nan, nan, nan, nan, nan, nan, nan, nan, nan, nan, nan, nan, nan,\n",
       "        nan]),\n",
       " array([nan, nan, nan, nan, nan, nan, nan, nan, nan, nan, nan, nan, nan,\n",
       "        nan]),\n",
       " array([nan, nan, nan, nan, nan, nan, nan, nan, nan, nan, nan, nan, nan,\n",
       "        nan]),\n",
       " array([nan, nan, nan, nan, nan, nan, nan, nan, nan, nan, nan, nan, nan,\n",
       "        nan]),\n",
       " array([nan, nan, nan, nan, nan, nan, nan, nan, nan, nan, nan, nan, nan,\n",
       "        nan]),\n",
       " array([nan, nan, nan, nan, nan, nan, nan, nan, nan, nan, nan, nan, nan,\n",
       "        nan]),\n",
       " array([nan, nan, nan, nan, nan, nan, nan, nan, nan, nan, nan, nan, nan,\n",
       "        nan]),\n",
       " array([nan, nan, nan, nan, nan, nan, nan, nan, nan, nan, nan, nan, nan,\n",
       "        nan]),\n",
       " array([nan, nan, nan, nan, nan, nan, nan, nan, nan, nan, nan, nan, nan,\n",
       "        nan]),\n",
       " array([nan, nan, nan, nan, nan, nan, nan, nan, nan, nan, nan, nan, nan,\n",
       "        nan])]"
      ]
     },
     "execution_count": 128,
     "metadata": {},
     "output_type": "execute_result"
    }
   ],
   "source": [
    "isi_sup"
   ]
  },
  {
   "cell_type": "code",
   "execution_count": 68,
   "metadata": {},
   "outputs": [
    {
     "name": "stdout",
     "output_type": "stream",
     "text": [
      "[6 9]\n",
      "[ 7 15]\n"
     ]
    }
   ],
   "source": [
    "r,c = np.where(temp_bin.data[sup_idx,:]>0)\n",
    "\n",
    "temp_bin.data[sup_idx,:]\n",
    "print(r)\n",
    "print(c)"
   ]
  }
 ],
 "metadata": {
  "interpreter": {
   "hash": "ffa2754c1b82fec79a5ff19d01b566ca2d972e2a45659a47f2333afb0dda4c30"
  },
  "kernelspec": {
   "display_name": "Python 3.8.10 64-bit ('ripple_diversity': conda)",
   "name": "python3"
  },
  "language_info": {
   "codemirror_mode": {
    "name": "ipython",
    "version": 3
   },
   "file_extension": ".py",
   "mimetype": "text/x-python",
   "name": "python",
   "nbconvert_exporter": "python",
   "pygments_lexer": "ipython3",
   "version": "3.8.10"
  },
  "orig_nbformat": 4
 },
 "nbformat": 4,
 "nbformat_minor": 2
}
