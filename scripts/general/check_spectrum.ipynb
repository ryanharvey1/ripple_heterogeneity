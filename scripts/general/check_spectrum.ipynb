{
 "cells": [
  {
   "cell_type": "code",
   "execution_count": 2,
   "metadata": {},
   "outputs": [
    {
     "name": "stderr",
     "output_type": "stream",
     "text": [
      "<frozen importlib._bootstrap>:219: RuntimeWarning: scipy._lib.messagestream.MessageStream size changed, may indicate binary incompatibility. Expected 56 from C header, got 64 from PyObject\n"
     ]
    }
   ],
   "source": [
    "%reload_ext autoreload\n",
    "%autoreload 2\n",
    "\n",
    "import glob\n",
    "from heapq import merge\n",
    "import os\n",
    "import re\n",
    "import pickle\n",
    "import scipy.io as sio\n",
    "\n",
    "from ripple_heterogeneity.utils import (\n",
    "    loading,\n",
    "    add_new_deep_sup,\n",
    ")\n",
    "\n",
    "import nelpy as nel\n",
    "import pandas as pd\n",
    "import numpy as np\n",
    "import warnings\n",
    "\n",
    "# packages for main analsis\n",
    "from fooof import FOOOF, FOOOFGroup\n",
    "from fooof.analysis.periodic import get_band_peak, get_band_peak_group\n",
    "from neurodsp import spectral\n",
    "from neurodsp.plts.spectral import *\n",
    "from neurodsp.plts.time_series import plot_time_series\n",
    "from fooof.utils import trim_spectrum\n",
    "from fooof.plts.spectra import plot_spectrum, plot_spectra, plot_spectrum_shading, plot_spectra_shading\n"
   ]
  },
  {
   "cell_type": "code",
   "execution_count": 7,
   "metadata": {},
   "outputs": [
    {
     "data": {
      "text/plain": [
       "106"
      ]
     },
     "execution_count": 7,
     "metadata": {},
     "output_type": "execute_result"
    }
   ],
   "source": [
    "basepath = r\"Z:\\Data\\HMC2\\day13\"\n",
    "# load session to get brain region for theta\n",
    "brain_region = loading.load_brain_regions(basepath)\n",
    "theta_chan = brain_region['CA1sr']['channels'][-1] - 1\n",
    "theta_chan"
   ]
  },
  {
   "cell_type": "code",
   "execution_count": null,
   "metadata": {},
   "outputs": [],
   "source": []
  },
  {
   "cell_type": "code",
   "execution_count": 8,
   "metadata": {},
   "outputs": [],
   "source": [
    "def process_lfp(basepath,theta_chan,state_ep):\n",
    "    # load xml for lfp import\n",
    "    n_channels, fs, _, _ = loading.loadXML(basepath)\n",
    "\n",
    "    # function to load lfp\n",
    "    lfp, ts = loading.loadLFP(basepath, n_channels=n_channels,\n",
    "                        channel=theta_chan,\n",
    "                        frequency=fs)\n",
    "\n",
    "    return nel.AnalogSignalArray(lfp, timestamps=ts,fs = fs)[state_ep]\n",
    "\n",
    "def get_theta_epochs(basepath):\n",
    "    # epoch lfp into REM and RUN states\n",
    "    state_dict = loading.load_SleepState_states(basepath)\n",
    "\n",
    "    wake = nel.EpochArray(state_dict['WAKEstate'])\n",
    "    rem = nel.EpochArray(state_dict['REMstate'])\n",
    "    theta = nel.EpochArray(state_dict['THETA'])\n",
    "\n",
    "    return wake[theta], rem"
   ]
  },
  {
   "cell_type": "code",
   "execution_count": 9,
   "metadata": {},
   "outputs": [
    {
     "name": "stderr",
     "output_type": "stream",
     "text": [
      "WARNING:root:creating support from abscissa_vals and sampling rate, fs!\n",
      "WARNING:root:'fs' has been deprecated; use 'step' instead\n",
      "WARNING:root:some steps in the data are smaller than the requested step size.\n",
      "WARNING:root:ignoring signal outside of support\n"
     ]
    }
   ],
   "source": [
    "wake_ep, rem_ep = get_theta_epochs(basepath)\n",
    "lfp = process_lfp(basepath,theta_chan,rem_ep)"
   ]
  },
  {
   "cell_type": "code",
   "execution_count": 18,
   "metadata": {},
   "outputs": [
    {
     "data": {
      "image/png": "[encoded data removed]",
      "text/plain": [
       "<Figure size 432x288 with 1 Axes>"
      ]
     },
     "metadata": {
      "needs_background": "light"
     },
     "output_type": "display_data"
    }
   ],
   "source": [
    "freqs, powers = spectral.compute_spectrum(lfp.data, 1250,\n",
    "                                    method='welch',\n",
    "                                    avg_type='mean')\n",
    "\n",
    "# Trim spectrum to be only between 3 & 100 Hz (default)\n",
    "freqs, powers = trim_spectrum(freqs, powers, [1, 100])\n",
    "plt.plot(freqs,powers.T)\n",
    "plt.axvspan(4,12,zorder=-10,alpha=.25)\n",
    "plt.xscale(\"log\")\n",
    "plt.yscale(\"log\")\n",
    "plt.show()"
   ]
  }
 ],
 "metadata": {
  "kernelspec": {
   "display_name": "Python 3.8.10 ('ripple_diversity')",
   "language": "python",
   "name": "python3"
  },
  "language_info": {
   "codemirror_mode": {
    "name": "ipython",
    "version": 3
   },
   "file_extension": ".py",
   "mimetype": "text/x-python",
   "name": "python",
   "nbconvert_exporter": "python",
   "pygments_lexer": "ipython3",
   "version": "3.8.10"
  },
  "orig_nbformat": 4,
  "vscode": {
   "interpreter": {
    "hash": "07484756fddac7bd59393d4118357304c260afb75bd53ff0a49292dc7b401b16"
   }
  }
 },
 "nbformat": 4,
 "nbformat_minor": 2
}
