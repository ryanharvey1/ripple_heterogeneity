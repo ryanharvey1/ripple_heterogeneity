{
 "cells": [
  {
   "cell_type": "code",
   "execution_count": 1,
   "metadata": {},
   "outputs": [
    {
     "name": "stdout",
     "output_type": "stream",
     "text": [
      "Collecting pypdf\n",
      "  Downloading pypdf-3.7.1-py3-none-any.whl (248 kB)\n",
      "     -------------------------------------- 248.1/248.1 kB 7.7 MB/s eta 0:00:00\n",
      "Requirement already satisfied: typing_extensions>=3.10.0.0 in c:\\users\\cornell\\anaconda3\\envs\\ripple_heterogeneity\\lib\\site-packages (from pypdf) (4.4.0)\n",
      "Installing collected packages: pypdf\n",
      "Successfully installed pypdf-3.7.1\n",
      "Note: you may need to restart the kernel to use updated packages.\n"
     ]
    }
   ],
   "source": [
    "pip install pypdf"
   ]
  },
  {
   "cell_type": "code",
   "execution_count": 10,
   "metadata": {},
   "outputs": [],
   "source": [
    "from pypdf import PdfReader, PdfWriter\n",
    "# write code using pypdf to split a pdf in to two parts based on the page number\n",
    "def split_pdf(input_pdf, output_pdf, start_page, end_page):\n",
    "    # create a pdf writer object for output\n",
    "    pdf_writer = PdfWriter()\n",
    "    # create a pdf reader object for input\n",
    "    pdf_reader = PdfReader(input_pdf)\n",
    "    # check if file has text page\n",
    "    if pdf_reader.is_encrypted:\n",
    "        pdf_reader.decrypt('')\n",
    "    # loop through all the pagenumbers for the input\n",
    "    for page in range(start_page, end_page):\n",
    "        # add the page to output\n",
    "        \n",
    "        pdf_writer.add_page(pdf_reader.pages[page])\n",
    "    # finally, write \"output\" to document-output.pdf\n",
    "    with open(output_pdf, 'wb') as fh:\n",
    "        pdf_writer.write(fh)\n",
    "\n",
    "split_pdf(r\"C:\\Users\\Cornell\\Downloads\\ripple_heterogeneity (76).pdf\", r\"C:\\Users\\Cornell\\Downloads\\ripple_heterogeneity_test.pdf\", 32, 40)"
   ]
  }
 ],
 "metadata": {
  "kernelspec": {
   "display_name": "ripple_heterogeneity",
   "language": "python",
   "name": "python3"
  },
  "language_info": {
   "codemirror_mode": {
    "name": "ipython",
    "version": 3
   },
   "file_extension": ".py",
   "mimetype": "text/x-python",
   "name": "python",
   "nbconvert_exporter": "python",
   "pygments_lexer": "ipython3",
   "version": "3.9.15"
  },
  "orig_nbformat": 4
 },
 "nbformat": 4,
 "nbformat_minor": 2
}
