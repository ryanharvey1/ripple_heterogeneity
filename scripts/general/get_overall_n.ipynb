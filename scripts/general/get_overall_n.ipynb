{
 "cells": [
  {
   "cell_type": "code",
   "execution_count": 7,
   "metadata": {},
   "outputs": [],
   "source": [
    "%reload_ext autoreload\n",
    "%autoreload 2\n",
    "\n",
    "import pandas as pd\n",
    "import numpy as np\n",
    "import matplotlib.pyplot as plt\n",
    "import os\n",
    "from ripple_heterogeneity.utils import functions,loading,add_new_deep_sup\n",
    "import seaborn as sns\n",
    "from matplotlib.ticker import AutoMinorLocator"
   ]
  },
  {
   "cell_type": "code",
   "execution_count": 2,
   "metadata": {},
   "outputs": [],
   "source": [
    "df_sessions = pd.read_csv(r'Z:\\home\\ryanh\\projects\\ripple_heterogeneity\\sessions.csv')\n",
    "df = loading.load_all_cell_metrics(df_sessions.basepath.unique())\n"
   ]
  },
  {
   "cell_type": "code",
   "execution_count": 8,
   "metadata": {},
   "outputs": [],
   "source": [
    "df = add_new_deep_sup.deep_sup_from_deepSuperficialDistance(df)"
   ]
  },
  {
   "cell_type": "code",
   "execution_count": 6,
   "metadata": {},
   "outputs": [
    {
     "data": {
      "text/plain": [
       "Index(['peakVoltage', 'peakVoltage_expFit', 'tags_P', 'tags_N', 'tags_Bad',\n",
       "       'tags_Pr', 'tags_Nr', 'tags_Pb', 'tags_Nb', 'tags_InverseSpike',\n",
       "       'peakVoltage_expFitLengthConstant', 'tags_bad_waveform', 'tags_Noise',\n",
       "       'tags_contaminated'],\n",
       "      dtype='object')"
      ]
     },
     "execution_count": 6,
     "metadata": {},
     "output_type": "execute_result"
    }
   ],
   "source": [
    "df.keys()[df.keys().str.contains(\"tag\")]"
   ]
  },
  {
   "cell_type": "code",
   "execution_count": 21,
   "metadata": {},
   "outputs": [
    {
     "data": {
      "text/plain": [
       "49"
      ]
     },
     "execution_count": 21,
     "metadata": {},
     "output_type": "execute_result"
    }
   ],
   "source": [
    "df.animal.nunique()"
   ]
  },
  {
   "cell_type": "code",
   "execution_count": 17,
   "metadata": {},
   "outputs": [
    {
     "data": {
      "text/plain": [
       "Deep           2321\n",
       "middle         1837\n",
       "Superficial    1450\n",
       "Name: deepSuperficial, dtype: int64"
      ]
     },
     "execution_count": 17,
     "metadata": {},
     "output_type": "execute_result"
    }
   ],
   "source": [
    "# tags_Bad\n",
    "df.query(\"tags_Bad==False & brainRegion.str.contains('CA1') & putativeCellType.str.contains('Pyr')\").deepSuperficial.value_counts()"
   ]
  }
 ],
 "metadata": {
  "kernelspec": {
   "display_name": "Python 3.8.10 ('ripple_diversity')",
   "language": "python",
   "name": "python3"
  },
  "language_info": {
   "codemirror_mode": {
    "name": "ipython",
    "version": 3
   },
   "file_extension": ".py",
   "mimetype": "text/x-python",
   "name": "python",
   "nbconvert_exporter": "python",
   "pygments_lexer": "ipython3",
   "version": "3.8.10"
  },
  "orig_nbformat": 4,
  "vscode": {
   "interpreter": {
    "hash": "07484756fddac7bd59393d4118357304c260afb75bd53ff0a49292dc7b401b16"
   }
  }
 },
 "nbformat": 4,
 "nbformat_minor": 2
}
