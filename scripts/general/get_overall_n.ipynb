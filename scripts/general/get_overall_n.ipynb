{
 "cells": [
  {
   "cell_type": "code",
   "execution_count": 1,
   "metadata": {},
   "outputs": [],
   "source": [
    "%reload_ext autoreload\n",
    "%autoreload 2\n",
    "\n",
    "import pandas as pd\n",
    "import numpy as np\n",
    "import matplotlib.pyplot as plt\n",
    "import os\n",
    "from ripple_heterogeneity.utils import functions,loading,add_new_deep_sup\n",
    "import seaborn as sns\n",
    "from matplotlib.ticker import AutoMinorLocator"
   ]
  },
  {
   "cell_type": "code",
   "execution_count": 2,
   "metadata": {},
   "outputs": [],
   "source": [
    "df_sessions = pd.read_csv(r'Z:\\home\\ryanh\\projects\\ripple_heterogeneity\\sessions.csv')\n",
    "df_sessions = functions.add_animal_id(df_sessions)"
   ]
  },
  {
   "cell_type": "code",
   "execution_count": 3,
   "metadata": {},
   "outputs": [
    {
     "data": {
      "text/plain": [
       "array(['AB1', 'AB3', 'AB4', 'AYA10', 'AYA4', 'AYA6', 'AYA7', 'AYA9',\n",
       "       'OML22', 'OML23', 'EE', 'FF', 'GG', 'Rat08', 'Rat09', 'Rat10',\n",
       "       'Rat11', 'Achilles', 'Buddy', 'Cicero', 'Gatsby', 'HMC1',\n",
       "       '2006-4-10', '2006-4-18', '2006-6-12', '2006-6-13', '2006-6-7',\n",
       "       'ec013', 'ec014', 'Kenji', 'ec016', 'f01_m', 'g01_m', 'i01_m',\n",
       "       'j01_m', 'km01', 'nlx', 'OML10', 'OML18', 'OML19', 'OML3', 'OML5',\n",
       "       'OML7', 'OML8', 'OR15', 'OR18', 'OR21', 'OR22', 'OR23', 'HMC2',\n",
       "       'OML27'], dtype=object)"
      ]
     },
     "execution_count": 3,
     "metadata": {},
     "output_type": "execute_result"
    }
   ],
   "source": [
    "df_sessions.animal_id.unique()\n"
   ]
  },
  {
   "attachments": {},
   "cell_type": "markdown",
   "metadata": {},
   "source": [
    "## load in all data"
   ]
  },
  {
   "cell_type": "code",
   "execution_count": 4,
   "metadata": {},
   "outputs": [],
   "source": [
    "df_sessions = pd.read_csv(r'Z:\\home\\ryanh\\projects\\ripple_heterogeneity\\sessions.csv')\n",
    "\n",
    "df = loading.load_all_cell_metrics(df_sessions.basepath)"
   ]
  },
  {
   "attachments": {},
   "cell_type": "markdown",
   "metadata": {},
   "source": [
    "## add animal id"
   ]
  },
  {
   "cell_type": "code",
   "execution_count": 5,
   "metadata": {},
   "outputs": [],
   "source": [
    "df = functions.add_animal_id(df)"
   ]
  },
  {
   "attachments": {},
   "cell_type": "markdown",
   "metadata": {},
   "source": [
    "## add deep sup"
   ]
  },
  {
   "cell_type": "code",
   "execution_count": 25,
   "metadata": {},
   "outputs": [],
   "source": [
    "df = add_new_deep_sup.deep_sup_from_distance(df)"
   ]
  },
  {
   "attachments": {},
   "cell_type": "markdown",
   "metadata": {},
   "source": [
    "## norm brain areas"
   ]
  },
  {
   "cell_type": "code",
   "execution_count": 26,
   "metadata": {},
   "outputs": [
    {
     "data": {
      "text/plain": [
       "array(['CA1', 'MEC', 'PFC'], dtype=object)"
      ]
     },
     "execution_count": 26,
     "metadata": {},
     "output_type": "execute_result"
    }
   ],
   "source": [
    "df.loc[df.brainRegion.str.contains(\"CA1\"),\"brainRegion\"] = \"CA1\"\n",
    "df.loc[df.brainRegion.str.contains(\"EC1|EC2|EC3|EC4|EC5\"),\"brainRegion\"] = \"MEC\"\n",
    "df.loc[df.brainRegion.str.contains(\"DGCA3|CA3DG\"),\"brainRegion\"] = \"CA3DG\"\n",
    "df.brainRegion.unique()"
   ]
  },
  {
   "cell_type": "code",
   "execution_count": 27,
   "metadata": {},
   "outputs": [
    {
     "data": {
      "text/plain": [
       "array(['CA1', 'MEC', 'PFC'], dtype=object)"
      ]
     },
     "execution_count": 27,
     "metadata": {},
     "output_type": "execute_result"
    }
   ],
   "source": [
    "regions = \"CA1|MEC|PFC\"\n",
    "df = df.query(\"brainRegion.str.contains(@regions)\")\n",
    "df.brainRegion.unique()\n"
   ]
  },
  {
   "cell_type": "code",
   "execution_count": 28,
   "metadata": {},
   "outputs": [],
   "source": [
    "def return_all_behavior_type(df, animal_id, remove_epochs=True):\n",
    "    epoch_df = pd.DataFrame()\n",
    "    for basepath in df.query(\"animal_id == @animal_id\").basepath.unique():\n",
    "        epoch_df_temp = loading.load_epoch(basepath)\n",
    "        epoch_df = pd.concat([epoch_df,epoch_df_temp],ignore_index=True)\n",
    "\n",
    "    epoch_df = epoch_df.query(\"~environment.str.contains('sleep')\")\n",
    "    # remove unneeded environments\n",
    "    if remove_epochs:\n",
    "        restrict_str = \"environment != 'wheel' & environment != 'wheel_home' & environment != 'test' & environment != 'unknown' & environment != 'water'\"\n",
    "        epoch_df = epoch_df.query(restrict_str)\n",
    "\n",
    "        # epoch_df = epoch_df.query(\"~environment.str.contains('circle|test|ZigZag|wheel_home|wheel|unknown|water|sleep',regex=False)\")\n",
    "\n",
    "    # norm maze names\n",
    "    epoch_df.loc[epoch_df.environment.str.contains(\"linear|linearOne|linearTwo\"),\"environment\"] = \"Linear track\"\n",
    "    epoch_df.loc[epoch_df.environment.str.contains(\"cheeseboard\"),\"environment\"] = \"Cheeseboard maze\"\n",
    "    epoch_df.loc[epoch_df.environment.str.contains(\"tmaze|Mwheel|Tmaze|T-maze\"),\"environment\"] = \"T-maze\"\n",
    "    epoch_df.loc[epoch_df.environment.str.contains(\"bigSquarePlus|midSquare|box|bigSquare|openfield|openfieldBound|open\"),\"environment\"] = \"Open field\"\n",
    "    epoch_df.loc[epoch_df.environment.str.contains(\"plus\"),\"environment\"] = \"Plus maze\"\n",
    "    epoch_df.loc[epoch_df.environment.str.contains(\"wmaze\"),\"environment\"] = \"M-maze\"\n",
    "    epoch_df.loc[epoch_df.environment.str.contains(\"circle\"),\"environment\"] = \"Circular Linear track\"\n",
    "    epoch_df.loc[epoch_df.environment.str.contains(\"ZigZag\"),\"environment\"] = \"Linear track\"\n",
    "\n",
    "    return ', '.join([str(x) for x in epoch_df.environment.unique()])\n",
    "# return_all_behavior_type(df, \"g01_m\",remove_epochs=True)\n"
   ]
  },
  {
   "cell_type": "code",
   "execution_count": 9,
   "metadata": {},
   "outputs": [],
   "source": [
    "epoch_df = pd.DataFrame()\n",
    "for basepath in df.basepath.unique():\n",
    "    epoch_df_temp = loading.load_epoch(basepath)\n",
    "    epoch_df_temp[\"basepath\"] = basepath\n",
    "    epoch_df = pd.concat([epoch_df,epoch_df_temp],ignore_index=True)"
   ]
  },
  {
   "cell_type": "code",
   "execution_count": 10,
   "metadata": {},
   "outputs": [
    {
     "data": {
      "text/plain": [
       "array(['sleep', 'linear', 'tmaze', 'cheeseboard', 'box', 'wmaze', 'water',\n",
       "       'unknown', 'open', 'linearOne', 'linearTwo', 'Tmaze', 'wheel',\n",
       "       'bigSquare', 'Mwheel', 'plus', 'midSquare', 'bigSquarePlus',\n",
       "       'wheel_home', 'circle', 'ZigZag', 'test', 'openfield',\n",
       "       'openfieldBound'], dtype=object)"
      ]
     },
     "execution_count": 10,
     "metadata": {},
     "output_type": "execute_result"
    }
   ],
   "source": [
    "epoch_df.environment.unique()"
   ]
  },
  {
   "cell_type": "code",
   "execution_count": 11,
   "metadata": {},
   "outputs": [
    {
     "data": {
      "text/html": [
       "<div>\n",
       "<style scoped>\n",
       "    .dataframe tbody tr th:only-of-type {\n",
       "        vertical-align: middle;\n",
       "    }\n",
       "\n",
       "    .dataframe tbody tr th {\n",
       "        vertical-align: top;\n",
       "    }\n",
       "\n",
       "    .dataframe thead th {\n",
       "        text-align: right;\n",
       "    }\n",
       "</style>\n",
       "<table border=\"1\" class=\"dataframe\">\n",
       "  <thead>\n",
       "    <tr style=\"text-align: right;\">\n",
       "      <th></th>\n",
       "      <th>basepath</th>\n",
       "      <th>UID</th>\n",
       "    </tr>\n",
       "  </thead>\n",
       "  <tbody>\n",
       "    <tr>\n",
       "      <th>3585</th>\n",
       "      <td>Z:\\Data\\AYAold\\AYA7\\day19</td>\n",
       "      <td>85</td>\n",
       "    </tr>\n",
       "    <tr>\n",
       "      <th>4558</th>\n",
       "      <td>Z:\\Data\\AYAold\\AYA9\\day12</td>\n",
       "      <td>50</td>\n",
       "    </tr>\n",
       "    <tr>\n",
       "      <th>4920</th>\n",
       "      <td>Z:\\Data\\AYAold\\AYA9\\day14</td>\n",
       "      <td>208</td>\n",
       "    </tr>\n",
       "    <tr>\n",
       "      <th>5010</th>\n",
       "      <td>Z:\\Data\\AYAold\\AYA9\\day14</td>\n",
       "      <td>298</td>\n",
       "    </tr>\n",
       "    <tr>\n",
       "      <th>6534</th>\n",
       "      <td>Z:\\Data\\Can\\OML22\\day7</td>\n",
       "      <td>3</td>\n",
       "    </tr>\n",
       "    <tr>\n",
       "      <th>6535</th>\n",
       "      <td>Z:\\Data\\Can\\OML22\\day7</td>\n",
       "      <td>4</td>\n",
       "    </tr>\n",
       "    <tr>\n",
       "      <th>6556</th>\n",
       "      <td>Z:\\Data\\Can\\OML22\\day7</td>\n",
       "      <td>25</td>\n",
       "    </tr>\n",
       "    <tr>\n",
       "      <th>17167</th>\n",
       "      <td>Z:\\Data\\GrosmarkAD\\Achilles\\Achilles_10252013</td>\n",
       "      <td>100</td>\n",
       "    </tr>\n",
       "    <tr>\n",
       "      <th>17168</th>\n",
       "      <td>Z:\\Data\\GrosmarkAD\\Achilles\\Achilles_10252013</td>\n",
       "      <td>101</td>\n",
       "    </tr>\n",
       "    <tr>\n",
       "      <th>17169</th>\n",
       "      <td>Z:\\Data\\GrosmarkAD\\Achilles\\Achilles_10252013</td>\n",
       "      <td>102</td>\n",
       "    </tr>\n",
       "    <tr>\n",
       "      <th>17170</th>\n",
       "      <td>Z:\\Data\\GrosmarkAD\\Achilles\\Achilles_10252013</td>\n",
       "      <td>103</td>\n",
       "    </tr>\n",
       "    <tr>\n",
       "      <th>17171</th>\n",
       "      <td>Z:\\Data\\GrosmarkAD\\Achilles\\Achilles_10252013</td>\n",
       "      <td>104</td>\n",
       "    </tr>\n",
       "    <tr>\n",
       "      <th>17172</th>\n",
       "      <td>Z:\\Data\\GrosmarkAD\\Achilles\\Achilles_10252013</td>\n",
       "      <td>105</td>\n",
       "    </tr>\n",
       "    <tr>\n",
       "      <th>17173</th>\n",
       "      <td>Z:\\Data\\GrosmarkAD\\Achilles\\Achilles_10252013</td>\n",
       "      <td>106</td>\n",
       "    </tr>\n",
       "    <tr>\n",
       "      <th>17174</th>\n",
       "      <td>Z:\\Data\\GrosmarkAD\\Achilles\\Achilles_10252013</td>\n",
       "      <td>107</td>\n",
       "    </tr>\n",
       "    <tr>\n",
       "      <th>17175</th>\n",
       "      <td>Z:\\Data\\GrosmarkAD\\Achilles\\Achilles_10252013</td>\n",
       "      <td>108</td>\n",
       "    </tr>\n",
       "    <tr>\n",
       "      <th>17176</th>\n",
       "      <td>Z:\\Data\\GrosmarkAD\\Achilles\\Achilles_10252013</td>\n",
       "      <td>109</td>\n",
       "    </tr>\n",
       "    <tr>\n",
       "      <th>17177</th>\n",
       "      <td>Z:\\Data\\GrosmarkAD\\Achilles\\Achilles_10252013</td>\n",
       "      <td>110</td>\n",
       "    </tr>\n",
       "    <tr>\n",
       "      <th>17178</th>\n",
       "      <td>Z:\\Data\\GrosmarkAD\\Achilles\\Achilles_10252013</td>\n",
       "      <td>111</td>\n",
       "    </tr>\n",
       "    <tr>\n",
       "      <th>17179</th>\n",
       "      <td>Z:\\Data\\GrosmarkAD\\Achilles\\Achilles_10252013</td>\n",
       "      <td>112</td>\n",
       "    </tr>\n",
       "    <tr>\n",
       "      <th>17180</th>\n",
       "      <td>Z:\\Data\\GrosmarkAD\\Achilles\\Achilles_10252013</td>\n",
       "      <td>113</td>\n",
       "    </tr>\n",
       "    <tr>\n",
       "      <th>17181</th>\n",
       "      <td>Z:\\Data\\GrosmarkAD\\Achilles\\Achilles_10252013</td>\n",
       "      <td>114</td>\n",
       "    </tr>\n",
       "    <tr>\n",
       "      <th>17182</th>\n",
       "      <td>Z:\\Data\\GrosmarkAD\\Achilles\\Achilles_10252013</td>\n",
       "      <td>115</td>\n",
       "    </tr>\n",
       "    <tr>\n",
       "      <th>17183</th>\n",
       "      <td>Z:\\Data\\GrosmarkAD\\Achilles\\Achilles_10252013</td>\n",
       "      <td>116</td>\n",
       "    </tr>\n",
       "    <tr>\n",
       "      <th>17184</th>\n",
       "      <td>Z:\\Data\\GrosmarkAD\\Achilles\\Achilles_10252013</td>\n",
       "      <td>117</td>\n",
       "    </tr>\n",
       "    <tr>\n",
       "      <th>17185</th>\n",
       "      <td>Z:\\Data\\GrosmarkAD\\Achilles\\Achilles_10252013</td>\n",
       "      <td>118</td>\n",
       "    </tr>\n",
       "    <tr>\n",
       "      <th>17186</th>\n",
       "      <td>Z:\\Data\\GrosmarkAD\\Achilles\\Achilles_10252013</td>\n",
       "      <td>119</td>\n",
       "    </tr>\n",
       "    <tr>\n",
       "      <th>17731</th>\n",
       "      <td>Z:\\Data\\GrosmarkAD\\Cicero\\Cicero_09172014</td>\n",
       "      <td>39</td>\n",
       "    </tr>\n",
       "    <tr>\n",
       "      <th>19567</th>\n",
       "      <td>Z:\\Data\\HMC1\\day8</td>\n",
       "      <td>91</td>\n",
       "    </tr>\n",
       "    <tr>\n",
       "      <th>28294</th>\n",
       "      <td>Z:\\Data\\OMLproject\\OML3\\day13</td>\n",
       "      <td>21</td>\n",
       "    </tr>\n",
       "    <tr>\n",
       "      <th>28836</th>\n",
       "      <td>Z:\\Data\\OMLproject\\OML8\\day8</td>\n",
       "      <td>30</td>\n",
       "    </tr>\n",
       "    <tr>\n",
       "      <th>29248</th>\n",
       "      <td>Z:\\Data\\ORproject\\OR15\\day3</td>\n",
       "      <td>72</td>\n",
       "    </tr>\n",
       "    <tr>\n",
       "      <th>29529</th>\n",
       "      <td>Z:\\Data\\ORproject\\OR18\\day1</td>\n",
       "      <td>46</td>\n",
       "    </tr>\n",
       "  </tbody>\n",
       "</table>\n",
       "</div>"
      ],
      "text/plain": [
       "                                            basepath  UID\n",
       "3585                       Z:\\Data\\AYAold\\AYA7\\day19   85\n",
       "4558                       Z:\\Data\\AYAold\\AYA9\\day12   50\n",
       "4920                       Z:\\Data\\AYAold\\AYA9\\day14  208\n",
       "5010                       Z:\\Data\\AYAold\\AYA9\\day14  298\n",
       "6534                          Z:\\Data\\Can\\OML22\\day7    3\n",
       "6535                          Z:\\Data\\Can\\OML22\\day7    4\n",
       "6556                          Z:\\Data\\Can\\OML22\\day7   25\n",
       "17167  Z:\\Data\\GrosmarkAD\\Achilles\\Achilles_10252013  100\n",
       "17168  Z:\\Data\\GrosmarkAD\\Achilles\\Achilles_10252013  101\n",
       "17169  Z:\\Data\\GrosmarkAD\\Achilles\\Achilles_10252013  102\n",
       "17170  Z:\\Data\\GrosmarkAD\\Achilles\\Achilles_10252013  103\n",
       "17171  Z:\\Data\\GrosmarkAD\\Achilles\\Achilles_10252013  104\n",
       "17172  Z:\\Data\\GrosmarkAD\\Achilles\\Achilles_10252013  105\n",
       "17173  Z:\\Data\\GrosmarkAD\\Achilles\\Achilles_10252013  106\n",
       "17174  Z:\\Data\\GrosmarkAD\\Achilles\\Achilles_10252013  107\n",
       "17175  Z:\\Data\\GrosmarkAD\\Achilles\\Achilles_10252013  108\n",
       "17176  Z:\\Data\\GrosmarkAD\\Achilles\\Achilles_10252013  109\n",
       "17177  Z:\\Data\\GrosmarkAD\\Achilles\\Achilles_10252013  110\n",
       "17178  Z:\\Data\\GrosmarkAD\\Achilles\\Achilles_10252013  111\n",
       "17179  Z:\\Data\\GrosmarkAD\\Achilles\\Achilles_10252013  112\n",
       "17180  Z:\\Data\\GrosmarkAD\\Achilles\\Achilles_10252013  113\n",
       "17181  Z:\\Data\\GrosmarkAD\\Achilles\\Achilles_10252013  114\n",
       "17182  Z:\\Data\\GrosmarkAD\\Achilles\\Achilles_10252013  115\n",
       "17183  Z:\\Data\\GrosmarkAD\\Achilles\\Achilles_10252013  116\n",
       "17184  Z:\\Data\\GrosmarkAD\\Achilles\\Achilles_10252013  117\n",
       "17185  Z:\\Data\\GrosmarkAD\\Achilles\\Achilles_10252013  118\n",
       "17186  Z:\\Data\\GrosmarkAD\\Achilles\\Achilles_10252013  119\n",
       "17731      Z:\\Data\\GrosmarkAD\\Cicero\\Cicero_09172014   39\n",
       "19567                              Z:\\Data\\HMC1\\day8   91\n",
       "28294                  Z:\\Data\\OMLproject\\OML3\\day13   21\n",
       "28836                   Z:\\Data\\OMLproject\\OML8\\day8   30\n",
       "29248                    Z:\\Data\\ORproject\\OR15\\day3   72\n",
       "29529                    Z:\\Data\\ORproject\\OR18\\day1   46"
      ]
     },
     "execution_count": 11,
     "metadata": {},
     "output_type": "execute_result"
    }
   ],
   "source": [
    "df.query(\"tags_bad_waveform == True\")[[\"basepath\",\"UID\"]]\n"
   ]
  },
  {
   "cell_type": "code",
   "execution_count": 12,
   "metadata": {},
   "outputs": [
    {
     "data": {
      "text/plain": [
       "array([False])"
      ]
     },
     "execution_count": 12,
     "metadata": {},
     "output_type": "execute_result"
    }
   ],
   "source": [
    "df.query(\"bad_unit != True & tags_bad_waveform != True\").bad_unit.unique()"
   ]
  },
  {
   "cell_type": "code",
   "execution_count": 29,
   "metadata": {},
   "outputs": [
    {
     "data": {
      "text/html": [
       "<div>\n",
       "<style scoped>\n",
       "    .dataframe tbody tr th:only-of-type {\n",
       "        vertical-align: middle;\n",
       "    }\n",
       "\n",
       "    .dataframe tbody tr th {\n",
       "        vertical-align: top;\n",
       "    }\n",
       "\n",
       "    .dataframe thead th {\n",
       "        text-align: right;\n",
       "    }\n",
       "</style>\n",
       "<table border=\"1\" class=\"dataframe\">\n",
       "  <thead>\n",
       "    <tr style=\"text-align: right;\">\n",
       "      <th></th>\n",
       "      <th>animal_id</th>\n",
       "      <th>regions</th>\n",
       "      <th>n_ca1</th>\n",
       "      <th>n_deep</th>\n",
       "      <th>n_sup</th>\n",
       "      <th>n_mec</th>\n",
       "      <th>n_pfc</th>\n",
       "      <th>environments</th>\n",
       "      <th>Animal ID</th>\n",
       "    </tr>\n",
       "  </thead>\n",
       "  <tbody>\n",
       "    <tr>\n",
       "      <th>0</th>\n",
       "      <td>ec014</td>\n",
       "      <td>CA1, MEC</td>\n",
       "      <td>628</td>\n",
       "      <td>308</td>\n",
       "      <td>49</td>\n",
       "      <td>272</td>\n",
       "      <td>0</td>\n",
       "      <td>T-maze, Open field, Linear track</td>\n",
       "      <td>Rat 1</td>\n",
       "    </tr>\n",
       "    <tr>\n",
       "      <th>1</th>\n",
       "      <td>i01_m</td>\n",
       "      <td>MEC, CA1</td>\n",
       "      <td>225</td>\n",
       "      <td>64</td>\n",
       "      <td>44</td>\n",
       "      <td>66</td>\n",
       "      <td>0</td>\n",
       "      <td>T-maze, Open field</td>\n",
       "      <td>Rat 2</td>\n",
       "    </tr>\n",
       "    <tr>\n",
       "      <th>2</th>\n",
       "      <td>ec016</td>\n",
       "      <td>MEC, CA1</td>\n",
       "      <td>498</td>\n",
       "      <td>103</td>\n",
       "      <td>226</td>\n",
       "      <td>209</td>\n",
       "      <td>0</td>\n",
       "      <td>T-maze, Linear track, Open field</td>\n",
       "      <td>Rat 3</td>\n",
       "    </tr>\n",
       "    <tr>\n",
       "      <th>3</th>\n",
       "      <td>AB3</td>\n",
       "      <td>CA1</td>\n",
       "      <td>667</td>\n",
       "      <td>265</td>\n",
       "      <td>242</td>\n",
       "      <td>0</td>\n",
       "      <td>0</td>\n",
       "      <td>T-maze, Linear track</td>\n",
       "      <td>Rat 4</td>\n",
       "    </tr>\n",
       "    <tr>\n",
       "      <th>4</th>\n",
       "      <td>OML22</td>\n",
       "      <td>CA1</td>\n",
       "      <td>423</td>\n",
       "      <td>147</td>\n",
       "      <td>87</td>\n",
       "      <td>0</td>\n",
       "      <td>0</td>\n",
       "      <td>T-maze, Linear track</td>\n",
       "      <td>Rat 5</td>\n",
       "    </tr>\n",
       "    <tr>\n",
       "      <th>5</th>\n",
       "      <td>AYA10</td>\n",
       "      <td>CA1, MEC</td>\n",
       "      <td>192</td>\n",
       "      <td>80</td>\n",
       "      <td>47</td>\n",
       "      <td>146</td>\n",
       "      <td>0</td>\n",
       "      <td>T-maze, Cheeseboard maze</td>\n",
       "      <td>Rat 6</td>\n",
       "    </tr>\n",
       "    <tr>\n",
       "      <th>6</th>\n",
       "      <td>EE</td>\n",
       "      <td>PFC, CA1</td>\n",
       "      <td>376</td>\n",
       "      <td>169</td>\n",
       "      <td>105</td>\n",
       "      <td>0</td>\n",
       "      <td>836</td>\n",
       "      <td>T-maze</td>\n",
       "      <td>Rat 7</td>\n",
       "    </tr>\n",
       "    <tr>\n",
       "      <th>7</th>\n",
       "      <td>FF</td>\n",
       "      <td>PFC, CA1</td>\n",
       "      <td>28</td>\n",
       "      <td>7</td>\n",
       "      <td>17</td>\n",
       "      <td>0</td>\n",
       "      <td>138</td>\n",
       "      <td>T-maze</td>\n",
       "      <td>Rat 8</td>\n",
       "    </tr>\n",
       "    <tr>\n",
       "      <th>8</th>\n",
       "      <td>GG</td>\n",
       "      <td>PFC, CA1</td>\n",
       "      <td>48</td>\n",
       "      <td>10</td>\n",
       "      <td>17</td>\n",
       "      <td>0</td>\n",
       "      <td>37</td>\n",
       "      <td>T-maze</td>\n",
       "      <td>Rat 9</td>\n",
       "    </tr>\n",
       "    <tr>\n",
       "      <th>9</th>\n",
       "      <td>f01_m</td>\n",
       "      <td>CA1</td>\n",
       "      <td>87</td>\n",
       "      <td>70</td>\n",
       "      <td>3</td>\n",
       "      <td>0</td>\n",
       "      <td>0</td>\n",
       "      <td>T-maze</td>\n",
       "      <td>Rat 10</td>\n",
       "    </tr>\n",
       "    <tr>\n",
       "      <th>10</th>\n",
       "      <td>g01_m</td>\n",
       "      <td>CA1</td>\n",
       "      <td>100</td>\n",
       "      <td>61</td>\n",
       "      <td>18</td>\n",
       "      <td>0</td>\n",
       "      <td>0</td>\n",
       "      <td>T-maze</td>\n",
       "      <td>Rat 11</td>\n",
       "    </tr>\n",
       "    <tr>\n",
       "      <th>11</th>\n",
       "      <td>ec013</td>\n",
       "      <td>MEC, CA1</td>\n",
       "      <td>434</td>\n",
       "      <td>198</td>\n",
       "      <td>71</td>\n",
       "      <td>507</td>\n",
       "      <td>0</td>\n",
       "      <td>Open field, Linear track, T-maze, Plus maze</td>\n",
       "      <td>Rat 12</td>\n",
       "    </tr>\n",
       "    <tr>\n",
       "      <th>12</th>\n",
       "      <td>Kenji</td>\n",
       "      <td>CA1, MEC</td>\n",
       "      <td>10</td>\n",
       "      <td>7</td>\n",
       "      <td>0</td>\n",
       "      <td>13</td>\n",
       "      <td>0</td>\n",
       "      <td>Open field</td>\n",
       "      <td>Rat 13</td>\n",
       "    </tr>\n",
       "    <tr>\n",
       "      <th>13</th>\n",
       "      <td>OML23</td>\n",
       "      <td>CA1</td>\n",
       "      <td>319</td>\n",
       "      <td>116</td>\n",
       "      <td>97</td>\n",
       "      <td>0</td>\n",
       "      <td>0</td>\n",
       "      <td>M-maze, Linear track</td>\n",
       "      <td>Rat 14</td>\n",
       "    </tr>\n",
       "    <tr>\n",
       "      <th>14</th>\n",
       "      <td>OR18</td>\n",
       "      <td>CA1, PFC</td>\n",
       "      <td>86</td>\n",
       "      <td>68</td>\n",
       "      <td>9</td>\n",
       "      <td>0</td>\n",
       "      <td>69</td>\n",
       "      <td>M-maze</td>\n",
       "      <td>Rat 15</td>\n",
       "    </tr>\n",
       "    <tr>\n",
       "      <th>15</th>\n",
       "      <td>OR15</td>\n",
       "      <td>CA1</td>\n",
       "      <td>539</td>\n",
       "      <td>291</td>\n",
       "      <td>51</td>\n",
       "      <td>0</td>\n",
       "      <td>0</td>\n",
       "      <td>M-maze</td>\n",
       "      <td>Rat 16</td>\n",
       "    </tr>\n",
       "    <tr>\n",
       "      <th>16</th>\n",
       "      <td>OR21</td>\n",
       "      <td>CA1</td>\n",
       "      <td>65</td>\n",
       "      <td>30</td>\n",
       "      <td>35</td>\n",
       "      <td>0</td>\n",
       "      <td>0</td>\n",
       "      <td>M-maze</td>\n",
       "      <td>Rat 17</td>\n",
       "    </tr>\n",
       "    <tr>\n",
       "      <th>17</th>\n",
       "      <td>OR22</td>\n",
       "      <td>CA1</td>\n",
       "      <td>378</td>\n",
       "      <td>29</td>\n",
       "      <td>218</td>\n",
       "      <td>0</td>\n",
       "      <td>0</td>\n",
       "      <td>M-maze</td>\n",
       "      <td>Rat 18</td>\n",
       "    </tr>\n",
       "    <tr>\n",
       "      <th>18</th>\n",
       "      <td>OR23</td>\n",
       "      <td>CA1</td>\n",
       "      <td>171</td>\n",
       "      <td>135</td>\n",
       "      <td>11</td>\n",
       "      <td>0</td>\n",
       "      <td>0</td>\n",
       "      <td>M-maze</td>\n",
       "      <td>Rat 19</td>\n",
       "    </tr>\n",
       "    <tr>\n",
       "      <th>19</th>\n",
       "      <td>HMC2</td>\n",
       "      <td>PFC, CA1, MEC</td>\n",
       "      <td>335</td>\n",
       "      <td>152</td>\n",
       "      <td>22</td>\n",
       "      <td>171</td>\n",
       "      <td>169</td>\n",
       "      <td>Linear track, T-maze, M-maze</td>\n",
       "      <td>Rat 20</td>\n",
       "    </tr>\n",
       "    <tr>\n",
       "      <th>20</th>\n",
       "      <td>2006-6-12</td>\n",
       "      <td>CA1</td>\n",
       "      <td>12</td>\n",
       "      <td>0</td>\n",
       "      <td>12</td>\n",
       "      <td>0</td>\n",
       "      <td>0</td>\n",
       "      <td>Linear track, T-maze</td>\n",
       "      <td>Rat 21</td>\n",
       "    </tr>\n",
       "    <tr>\n",
       "      <th>21</th>\n",
       "      <td>2006-6-13</td>\n",
       "      <td>CA1</td>\n",
       "      <td>5</td>\n",
       "      <td>5</td>\n",
       "      <td>0</td>\n",
       "      <td>0</td>\n",
       "      <td>0</td>\n",
       "      <td>Linear track, T-maze</td>\n",
       "      <td>Rat 22</td>\n",
       "    </tr>\n",
       "    <tr>\n",
       "      <th>22</th>\n",
       "      <td>2006-4-18</td>\n",
       "      <td>CA1</td>\n",
       "      <td>3</td>\n",
       "      <td>3</td>\n",
       "      <td>0</td>\n",
       "      <td>0</td>\n",
       "      <td>0</td>\n",
       "      <td>Linear track, Open field, T-maze</td>\n",
       "      <td>Rat 23</td>\n",
       "    </tr>\n",
       "    <tr>\n",
       "      <th>23</th>\n",
       "      <td>AYA9</td>\n",
       "      <td>CA1, MEC</td>\n",
       "      <td>365</td>\n",
       "      <td>178</td>\n",
       "      <td>100</td>\n",
       "      <td>627</td>\n",
       "      <td>0</td>\n",
       "      <td>Linear track, Open field, Cheeseboard maze</td>\n",
       "      <td>Rat 24</td>\n",
       "    </tr>\n",
       "    <tr>\n",
       "      <th>24</th>\n",
       "      <td>2006-4-10</td>\n",
       "      <td>CA1</td>\n",
       "      <td>5</td>\n",
       "      <td>4</td>\n",
       "      <td>0</td>\n",
       "      <td>0</td>\n",
       "      <td>0</td>\n",
       "      <td>Linear track, Open field</td>\n",
       "      <td>Rat 25</td>\n",
       "    </tr>\n",
       "    <tr>\n",
       "      <th>25</th>\n",
       "      <td>OML27</td>\n",
       "      <td>CA1</td>\n",
       "      <td>136</td>\n",
       "      <td>88</td>\n",
       "      <td>6</td>\n",
       "      <td>0</td>\n",
       "      <td>0</td>\n",
       "      <td>Linear track, Open field</td>\n",
       "      <td>Rat 26</td>\n",
       "    </tr>\n",
       "    <tr>\n",
       "      <th>26</th>\n",
       "      <td>AYA7</td>\n",
       "      <td>CA1, MEC</td>\n",
       "      <td>216</td>\n",
       "      <td>103</td>\n",
       "      <td>21</td>\n",
       "      <td>143</td>\n",
       "      <td>0</td>\n",
       "      <td>Linear track, Cheeseboard maze, Open field</td>\n",
       "      <td>Rat 27</td>\n",
       "    </tr>\n",
       "    <tr>\n",
       "      <th>27</th>\n",
       "      <td>HMC1</td>\n",
       "      <td>PFC, CA1, MEC</td>\n",
       "      <td>554</td>\n",
       "      <td>258</td>\n",
       "      <td>151</td>\n",
       "      <td>537</td>\n",
       "      <td>918</td>\n",
       "      <td>Linear track</td>\n",
       "      <td>Rat 28</td>\n",
       "    </tr>\n",
       "    <tr>\n",
       "      <th>28</th>\n",
       "      <td>nlx</td>\n",
       "      <td>CA1, MEC</td>\n",
       "      <td>24</td>\n",
       "      <td>23</td>\n",
       "      <td>0</td>\n",
       "      <td>0</td>\n",
       "      <td>0</td>\n",
       "      <td>Linear track</td>\n",
       "      <td>Rat 29</td>\n",
       "    </tr>\n",
       "    <tr>\n",
       "      <th>29</th>\n",
       "      <td>AB1</td>\n",
       "      <td>CA1</td>\n",
       "      <td>71</td>\n",
       "      <td>36</td>\n",
       "      <td>14</td>\n",
       "      <td>0</td>\n",
       "      <td>0</td>\n",
       "      <td>Linear track</td>\n",
       "      <td>Rat 30</td>\n",
       "    </tr>\n",
       "    <tr>\n",
       "      <th>30</th>\n",
       "      <td>AYA4</td>\n",
       "      <td>CA1</td>\n",
       "      <td>108</td>\n",
       "      <td>41</td>\n",
       "      <td>13</td>\n",
       "      <td>0</td>\n",
       "      <td>0</td>\n",
       "      <td>Linear track</td>\n",
       "      <td>Rat 31</td>\n",
       "    </tr>\n",
       "    <tr>\n",
       "      <th>31</th>\n",
       "      <td>AYA6</td>\n",
       "      <td>CA1</td>\n",
       "      <td>168</td>\n",
       "      <td>68</td>\n",
       "      <td>58</td>\n",
       "      <td>0</td>\n",
       "      <td>0</td>\n",
       "      <td>Linear track</td>\n",
       "      <td>Rat 32</td>\n",
       "    </tr>\n",
       "    <tr>\n",
       "      <th>32</th>\n",
       "      <td>Rat08</td>\n",
       "      <td>CA1</td>\n",
       "      <td>322</td>\n",
       "      <td>125</td>\n",
       "      <td>77</td>\n",
       "      <td>0</td>\n",
       "      <td>0</td>\n",
       "      <td>Linear track</td>\n",
       "      <td>Rat 33</td>\n",
       "    </tr>\n",
       "    <tr>\n",
       "      <th>33</th>\n",
       "      <td>Rat10</td>\n",
       "      <td>CA1</td>\n",
       "      <td>335</td>\n",
       "      <td>279</td>\n",
       "      <td>9</td>\n",
       "      <td>0</td>\n",
       "      <td>0</td>\n",
       "      <td>Linear track</td>\n",
       "      <td>Rat 34</td>\n",
       "    </tr>\n",
       "    <tr>\n",
       "      <th>34</th>\n",
       "      <td>Rat11</td>\n",
       "      <td>CA1</td>\n",
       "      <td>591</td>\n",
       "      <td>445</td>\n",
       "      <td>36</td>\n",
       "      <td>0</td>\n",
       "      <td>0</td>\n",
       "      <td>Linear track</td>\n",
       "      <td>Rat 35</td>\n",
       "    </tr>\n",
       "    <tr>\n",
       "      <th>35</th>\n",
       "      <td>Achilles</td>\n",
       "      <td>CA1</td>\n",
       "      <td>357</td>\n",
       "      <td>218</td>\n",
       "      <td>32</td>\n",
       "      <td>0</td>\n",
       "      <td>0</td>\n",
       "      <td>Linear track</td>\n",
       "      <td>Rat 36</td>\n",
       "    </tr>\n",
       "    <tr>\n",
       "      <th>36</th>\n",
       "      <td>Buddy</td>\n",
       "      <td>CA1</td>\n",
       "      <td>68</td>\n",
       "      <td>30</td>\n",
       "      <td>6</td>\n",
       "      <td>0</td>\n",
       "      <td>0</td>\n",
       "      <td>Linear track</td>\n",
       "      <td>Rat 37</td>\n",
       "    </tr>\n",
       "    <tr>\n",
       "      <th>37</th>\n",
       "      <td>Cicero</td>\n",
       "      <td>CA1</td>\n",
       "      <td>247</td>\n",
       "      <td>108</td>\n",
       "      <td>30</td>\n",
       "      <td>0</td>\n",
       "      <td>0</td>\n",
       "      <td>Linear track</td>\n",
       "      <td>Rat 38</td>\n",
       "    </tr>\n",
       "    <tr>\n",
       "      <th>38</th>\n",
       "      <td>Gatsby</td>\n",
       "      <td>CA1</td>\n",
       "      <td>131</td>\n",
       "      <td>97</td>\n",
       "      <td>17</td>\n",
       "      <td>0</td>\n",
       "      <td>0</td>\n",
       "      <td>Linear track</td>\n",
       "      <td>Rat 39</td>\n",
       "    </tr>\n",
       "    <tr>\n",
       "      <th>39</th>\n",
       "      <td>2006-6-7</td>\n",
       "      <td>CA1</td>\n",
       "      <td>7</td>\n",
       "      <td>7</td>\n",
       "      <td>0</td>\n",
       "      <td>0</td>\n",
       "      <td>0</td>\n",
       "      <td>Linear track</td>\n",
       "      <td>Rat 40</td>\n",
       "    </tr>\n",
       "    <tr>\n",
       "      <th>40</th>\n",
       "      <td>OML18</td>\n",
       "      <td>CA1</td>\n",
       "      <td>105</td>\n",
       "      <td>47</td>\n",
       "      <td>32</td>\n",
       "      <td>0</td>\n",
       "      <td>0</td>\n",
       "      <td>Linear track</td>\n",
       "      <td>Rat 41</td>\n",
       "    </tr>\n",
       "    <tr>\n",
       "      <th>41</th>\n",
       "      <td>OML19</td>\n",
       "      <td>CA1</td>\n",
       "      <td>41</td>\n",
       "      <td>9</td>\n",
       "      <td>22</td>\n",
       "      <td>0</td>\n",
       "      <td>0</td>\n",
       "      <td>Linear track</td>\n",
       "      <td>Rat 42</td>\n",
       "    </tr>\n",
       "    <tr>\n",
       "      <th>42</th>\n",
       "      <td>km01</td>\n",
       "      <td>CA1</td>\n",
       "      <td>127</td>\n",
       "      <td>45</td>\n",
       "      <td>33</td>\n",
       "      <td>0</td>\n",
       "      <td>0</td>\n",
       "      <td>Circular Linear track</td>\n",
       "      <td>Rat 43</td>\n",
       "    </tr>\n",
       "    <tr>\n",
       "      <th>43</th>\n",
       "      <td>AB4</td>\n",
       "      <td>CA1</td>\n",
       "      <td>195</td>\n",
       "      <td>57</td>\n",
       "      <td>61</td>\n",
       "      <td>0</td>\n",
       "      <td>0</td>\n",
       "      <td>Cheeseboard maze</td>\n",
       "      <td>Rat 44</td>\n",
       "    </tr>\n",
       "    <tr>\n",
       "      <th>44</th>\n",
       "      <td>OML10</td>\n",
       "      <td>CA1</td>\n",
       "      <td>22</td>\n",
       "      <td>3</td>\n",
       "      <td>4</td>\n",
       "      <td>0</td>\n",
       "      <td>0</td>\n",
       "      <td>Cheeseboard maze</td>\n",
       "      <td>Rat 45</td>\n",
       "    </tr>\n",
       "    <tr>\n",
       "      <th>45</th>\n",
       "      <td>OML3</td>\n",
       "      <td>CA1</td>\n",
       "      <td>79</td>\n",
       "      <td>24</td>\n",
       "      <td>1</td>\n",
       "      <td>0</td>\n",
       "      <td>0</td>\n",
       "      <td>Cheeseboard maze</td>\n",
       "      <td>Rat 46</td>\n",
       "    </tr>\n",
       "    <tr>\n",
       "      <th>46</th>\n",
       "      <td>OML5</td>\n",
       "      <td>CA1</td>\n",
       "      <td>131</td>\n",
       "      <td>31</td>\n",
       "      <td>28</td>\n",
       "      <td>0</td>\n",
       "      <td>0</td>\n",
       "      <td>Cheeseboard maze</td>\n",
       "      <td>Rat 47</td>\n",
       "    </tr>\n",
       "    <tr>\n",
       "      <th>47</th>\n",
       "      <td>OML7</td>\n",
       "      <td>CA1</td>\n",
       "      <td>66</td>\n",
       "      <td>45</td>\n",
       "      <td>10</td>\n",
       "      <td>0</td>\n",
       "      <td>0</td>\n",
       "      <td>Cheeseboard maze</td>\n",
       "      <td>Rat 48</td>\n",
       "    </tr>\n",
       "    <tr>\n",
       "      <th>48</th>\n",
       "      <td>OML8</td>\n",
       "      <td>CA1</td>\n",
       "      <td>196</td>\n",
       "      <td>38</td>\n",
       "      <td>76</td>\n",
       "      <td>0</td>\n",
       "      <td>0</td>\n",
       "      <td>Cheeseboard maze</td>\n",
       "      <td>Rat 49</td>\n",
       "    </tr>\n",
       "  </tbody>\n",
       "</table>\n",
       "</div>"
      ],
      "text/plain": [
       "    animal_id        regions  n_ca1  n_deep  n_sup  n_mec  n_pfc  \\\n",
       "0       ec014       CA1, MEC    628     308     49    272      0   \n",
       "1       i01_m       MEC, CA1    225      64     44     66      0   \n",
       "2       ec016       MEC, CA1    498     103    226    209      0   \n",
       "3         AB3            CA1    667     265    242      0      0   \n",
       "4       OML22            CA1    423     147     87      0      0   \n",
       "5       AYA10       CA1, MEC    192      80     47    146      0   \n",
       "6          EE       PFC, CA1    376     169    105      0    836   \n",
       "7          FF       PFC, CA1     28       7     17      0    138   \n",
       "8          GG       PFC, CA1     48      10     17      0     37   \n",
       "9       f01_m            CA1     87      70      3      0      0   \n",
       "10      g01_m            CA1    100      61     18      0      0   \n",
       "11      ec013       MEC, CA1    434     198     71    507      0   \n",
       "12      Kenji       CA1, MEC     10       7      0     13      0   \n",
       "13      OML23            CA1    319     116     97      0      0   \n",
       "14       OR18       CA1, PFC     86      68      9      0     69   \n",
       "15       OR15            CA1    539     291     51      0      0   \n",
       "16       OR21            CA1     65      30     35      0      0   \n",
       "17       OR22            CA1    378      29    218      0      0   \n",
       "18       OR23            CA1    171     135     11      0      0   \n",
       "19       HMC2  PFC, CA1, MEC    335     152     22    171    169   \n",
       "20  2006-6-12            CA1     12       0     12      0      0   \n",
       "21  2006-6-13            CA1      5       5      0      0      0   \n",
       "22  2006-4-18            CA1      3       3      0      0      0   \n",
       "23       AYA9       CA1, MEC    365     178    100    627      0   \n",
       "24  2006-4-10            CA1      5       4      0      0      0   \n",
       "25      OML27            CA1    136      88      6      0      0   \n",
       "26       AYA7       CA1, MEC    216     103     21    143      0   \n",
       "27       HMC1  PFC, CA1, MEC    554     258    151    537    918   \n",
       "28        nlx       CA1, MEC     24      23      0      0      0   \n",
       "29        AB1            CA1     71      36     14      0      0   \n",
       "30       AYA4            CA1    108      41     13      0      0   \n",
       "31       AYA6            CA1    168      68     58      0      0   \n",
       "32      Rat08            CA1    322     125     77      0      0   \n",
       "33      Rat10            CA1    335     279      9      0      0   \n",
       "34      Rat11            CA1    591     445     36      0      0   \n",
       "35   Achilles            CA1    357     218     32      0      0   \n",
       "36      Buddy            CA1     68      30      6      0      0   \n",
       "37     Cicero            CA1    247     108     30      0      0   \n",
       "38     Gatsby            CA1    131      97     17      0      0   \n",
       "39   2006-6-7            CA1      7       7      0      0      0   \n",
       "40      OML18            CA1    105      47     32      0      0   \n",
       "41      OML19            CA1     41       9     22      0      0   \n",
       "42       km01            CA1    127      45     33      0      0   \n",
       "43        AB4            CA1    195      57     61      0      0   \n",
       "44      OML10            CA1     22       3      4      0      0   \n",
       "45       OML3            CA1     79      24      1      0      0   \n",
       "46       OML5            CA1    131      31     28      0      0   \n",
       "47       OML7            CA1     66      45     10      0      0   \n",
       "48       OML8            CA1    196      38     76      0      0   \n",
       "\n",
       "                                   environments Animal ID  \n",
       "0              T-maze, Open field, Linear track     Rat 1  \n",
       "1                            T-maze, Open field     Rat 2  \n",
       "2              T-maze, Linear track, Open field     Rat 3  \n",
       "3                          T-maze, Linear track     Rat 4  \n",
       "4                          T-maze, Linear track     Rat 5  \n",
       "5                      T-maze, Cheeseboard maze     Rat 6  \n",
       "6                                        T-maze     Rat 7  \n",
       "7                                        T-maze     Rat 8  \n",
       "8                                        T-maze     Rat 9  \n",
       "9                                        T-maze    Rat 10  \n",
       "10                                       T-maze    Rat 11  \n",
       "11  Open field, Linear track, T-maze, Plus maze    Rat 12  \n",
       "12                                   Open field    Rat 13  \n",
       "13                         M-maze, Linear track    Rat 14  \n",
       "14                                       M-maze    Rat 15  \n",
       "15                                       M-maze    Rat 16  \n",
       "16                                       M-maze    Rat 17  \n",
       "17                                       M-maze    Rat 18  \n",
       "18                                       M-maze    Rat 19  \n",
       "19                 Linear track, T-maze, M-maze    Rat 20  \n",
       "20                         Linear track, T-maze    Rat 21  \n",
       "21                         Linear track, T-maze    Rat 22  \n",
       "22             Linear track, Open field, T-maze    Rat 23  \n",
       "23   Linear track, Open field, Cheeseboard maze    Rat 24  \n",
       "24                     Linear track, Open field    Rat 25  \n",
       "25                     Linear track, Open field    Rat 26  \n",
       "26   Linear track, Cheeseboard maze, Open field    Rat 27  \n",
       "27                                 Linear track    Rat 28  \n",
       "28                                 Linear track    Rat 29  \n",
       "29                                 Linear track    Rat 30  \n",
       "30                                 Linear track    Rat 31  \n",
       "31                                 Linear track    Rat 32  \n",
       "32                                 Linear track    Rat 33  \n",
       "33                                 Linear track    Rat 34  \n",
       "34                                 Linear track    Rat 35  \n",
       "35                                 Linear track    Rat 36  \n",
       "36                                 Linear track    Rat 37  \n",
       "37                                 Linear track    Rat 38  \n",
       "38                                 Linear track    Rat 39  \n",
       "39                                 Linear track    Rat 40  \n",
       "40                                 Linear track    Rat 41  \n",
       "41                                 Linear track    Rat 42  \n",
       "42                        Circular Linear track    Rat 43  \n",
       "43                             Cheeseboard maze    Rat 44  \n",
       "44                             Cheeseboard maze    Rat 45  \n",
       "45                             Cheeseboard maze    Rat 46  \n",
       "46                             Cheeseboard maze    Rat 47  \n",
       "47                             Cheeseboard maze    Rat 48  \n",
       "48                             Cheeseboard maze    Rat 49  "
      ]
     },
     "execution_count": 29,
     "metadata": {},
     "output_type": "execute_result"
    }
   ],
   "source": [
    "n_ca1 = []\n",
    "n_mec = []\n",
    "n_pfc = []\n",
    "n_deep = []\n",
    "n_sup = []\n",
    "regions = []\n",
    "environments = []\n",
    "for animal_id in df.animal_id.unique():\n",
    "    regions.append(\n",
    "        \", \".join(\n",
    "            [str(x) for x in df.query(\"animal_id == @animal_id\").brainRegion.unique()]\n",
    "        )\n",
    "    )\n",
    "\n",
    "    n_ca1.append(\n",
    "        df.query(\"animal_id == @animal_id & brainRegion.str.contains('CA1') & bad_unit != True & tags_bad_waveform != True\").shape[0]\n",
    "    )\n",
    "    n_mec.append(\n",
    "        df.query(\"animal_id == @animal_id & brainRegion.str.contains('MEC') & bad_unit != True & tags_bad_waveform != True\").shape[0]\n",
    "    )\n",
    "    n_pfc.append(\n",
    "        df.query(\"animal_id == @animal_id & brainRegion.str.contains('PFC') & bad_unit != True & tags_bad_waveform != True\").shape[0]\n",
    "    )\n",
    "    n_deep.append(\n",
    "        df.query(\"animal_id == @animal_id & brainRegion.str.contains('CA1') & bad_unit != True & tags_bad_waveform != True & deepSuperficial=='Deep'\").shape[0]\n",
    "    )\n",
    "    n_sup.append(\n",
    "        df.query(\"animal_id == @animal_id & brainRegion.str.contains('CA1') & bad_unit != True & tags_bad_waveform != True & deepSuperficial=='Superficial'\").shape[0]\n",
    "    )\n",
    "    environments.append(return_all_behavior_type(df, animal_id))\n",
    "\n",
    "animal_region_df = pd.DataFrame(\n",
    "    {\n",
    "        \"animal_id\": df.animal_id.unique(),\n",
    "        \"regions\": regions,\n",
    "        \"n_ca1\": n_ca1,\n",
    "        \"n_deep\": n_deep,\n",
    "        \"n_sup\": n_sup,\n",
    "        \"n_mec\": n_mec,\n",
    "        \"n_pfc\": n_pfc,\n",
    "        \"environments\": environments,\n",
    "    }\n",
    ")\n",
    "\n",
    "animal_region_df = animal_region_df.sort_values(by=[\"environments\",\"regions\"],ascending=False).reset_index(drop=True)\n",
    "animal_region_df[\"Animal ID\"] = [f\"Rat {i+1}\" for i in range(animal_region_df.shape[0])]\n",
    "\n",
    "animal_region_df"
   ]
  },
  {
   "cell_type": "code",
   "execution_count": 30,
   "metadata": {},
   "outputs": [
    {
     "data": {
      "text/plain": [
       "(1705, 879, 2691, 2167)"
      ]
     },
     "execution_count": 30,
     "metadata": {},
     "output_type": "execute_result"
    }
   ],
   "source": [
    "cross_region_df = animal_region_df[(animal_region_df.n_ca1 > 0 ) & (animal_region_df.n_mec>0) | (animal_region_df.n_pfc>0)]\n",
    "cross_region_df.n_deep.sum(),cross_region_df.n_sup.sum(), cross_region_df.n_mec.sum(), cross_region_df.n_pfc.sum()"
   ]
  },
  {
   "cell_type": "code",
   "execution_count": 12,
   "metadata": {},
   "outputs": [
    {
     "data": {
      "text/plain": [
       "(30, 7)"
      ]
     },
     "execution_count": 12,
     "metadata": {},
     "output_type": "execute_result"
    }
   ],
   "source": [
    "animal_region_df.query(\"environments.str.contains('track')\").shape"
   ]
  },
  {
   "cell_type": "code",
   "execution_count": 13,
   "metadata": {},
   "outputs": [
    {
     "data": {
      "text/plain": [
       "(7, 7)"
      ]
     },
     "execution_count": 13,
     "metadata": {},
     "output_type": "execute_result"
    }
   ],
   "source": [
    "animal_region_df.query(\"environments.str.contains('M-maze')\").shape"
   ]
  },
  {
   "cell_type": "code",
   "execution_count": 14,
   "metadata": {},
   "outputs": [
    {
     "data": {
      "text/plain": [
       "(9, 7)"
      ]
     },
     "execution_count": 14,
     "metadata": {},
     "output_type": "execute_result"
    }
   ],
   "source": [
    "animal_region_df.query(\"environments.str.contains('Cheeseboard')\").shape"
   ]
  },
  {
   "cell_type": "code",
   "execution_count": 15,
   "metadata": {},
   "outputs": [
    {
     "data": {
      "text/plain": [
       "(16, 7)"
      ]
     },
     "execution_count": 15,
     "metadata": {},
     "output_type": "execute_result"
    }
   ],
   "source": [
    "animal_region_df.query(\"environments.str.contains('T-maze')\").shape\n"
   ]
  },
  {
   "cell_type": "code",
   "execution_count": 16,
   "metadata": {},
   "outputs": [
    {
     "data": {
      "text/plain": [
       "(10, 7)"
      ]
     },
     "execution_count": 16,
     "metadata": {},
     "output_type": "execute_result"
    }
   ],
   "source": [
    "animal_region_df.query(\"environments.str.contains('Open field')\").shape\n"
   ]
  },
  {
   "cell_type": "code",
   "execution_count": 17,
   "metadata": {},
   "outputs": [
    {
     "data": {
      "text/html": [
       "<div>\n",
       "<style scoped>\n",
       "    .dataframe tbody tr th:only-of-type {\n",
       "        vertical-align: middle;\n",
       "    }\n",
       "\n",
       "    .dataframe tbody tr th {\n",
       "        vertical-align: top;\n",
       "    }\n",
       "\n",
       "    .dataframe thead th {\n",
       "        text-align: right;\n",
       "    }\n",
       "</style>\n",
       "<table border=\"1\" class=\"dataframe\">\n",
       "  <thead>\n",
       "    <tr style=\"text-align: right;\">\n",
       "      <th></th>\n",
       "      <th>animal_id</th>\n",
       "      <th>regions</th>\n",
       "      <th>n_ca1</th>\n",
       "      <th>n_mec</th>\n",
       "      <th>n_pfc</th>\n",
       "      <th>environments</th>\n",
       "      <th>Animal ID</th>\n",
       "    </tr>\n",
       "  </thead>\n",
       "  <tbody>\n",
       "    <tr>\n",
       "      <th>11</th>\n",
       "      <td>ec013</td>\n",
       "      <td>MEC, CA1</td>\n",
       "      <td>432</td>\n",
       "      <td>507</td>\n",
       "      <td>0</td>\n",
       "      <td>Open field, Linear track, T-maze, Plus maze</td>\n",
       "      <td>Rat 12</td>\n",
       "    </tr>\n",
       "  </tbody>\n",
       "</table>\n",
       "</div>"
      ],
      "text/plain": [
       "   animal_id   regions  n_ca1  n_mec  n_pfc  \\\n",
       "11     ec013  MEC, CA1    432    507      0   \n",
       "\n",
       "                                   environments Animal ID  \n",
       "11  Open field, Linear track, T-maze, Plus maze    Rat 12  "
      ]
     },
     "execution_count": 17,
     "metadata": {},
     "output_type": "execute_result"
    }
   ],
   "source": [
    "animal_region_df.query(\"environments.str.contains('Plus')\")\n"
   ]
  },
  {
   "cell_type": "code",
   "execution_count": 31,
   "metadata": {},
   "outputs": [
    {
     "data": {
      "text/plain": [
       "(10295, 2691, 2167)"
      ]
     },
     "execution_count": 31,
     "metadata": {},
     "output_type": "execute_result"
    }
   ],
   "source": [
    "# animal_region_df.n_ca1.sum()\tn_mec\tn_pfc\n",
    "animal_region_df.n_ca1.sum(), animal_region_df.n_mec.sum(), animal_region_df.n_pfc.sum()"
   ]
  },
  {
   "cell_type": "code",
   "execution_count": 30,
   "metadata": {},
   "outputs": [
    {
     "data": {
      "text/plain": [
       "array(['Z:\\\\Data\\\\HMC2\\\\day3', 'Z:\\\\Data\\\\HMC2\\\\day4',\n",
       "       'Z:\\\\Data\\\\HMC2\\\\day11', 'Z:\\\\Data\\\\HMC2\\\\day9',\n",
       "       'Z:\\\\Data\\\\HMC2\\\\day8', 'Z:\\\\Data\\\\HMC2\\\\day5',\n",
       "       'Z:\\\\Data\\\\HMC2\\\\day6', 'Z:\\\\Data\\\\HMC2\\\\day7'], dtype=object)"
      ]
     },
     "execution_count": 30,
     "metadata": {},
     "output_type": "execute_result"
    }
   ],
   "source": [
    "df.query(\"animal_id == 'HMC2'\").basepath.unique()"
   ]
  },
  {
   "cell_type": "code",
   "execution_count": 62,
   "metadata": {},
   "outputs": [],
   "source": [
    "# df[[\"animal_id\",\"brainRegion\"]].value_counts().reset_index()\n",
    "\n",
    "# df[[\"animal_id\",\"brainRegion\"]].value_counts().reset_index()[[\"animal_id\",\"brainRegion\"]].pivot(columns='brainRegion')"
   ]
  },
  {
   "cell_type": "code",
   "execution_count": 8,
   "metadata": {},
   "outputs": [],
   "source": [
    "df = add_new_deep_sup.deep_sup_from_deepSuperficialDistance(df)"
   ]
  },
  {
   "cell_type": "code",
   "execution_count": 181,
   "metadata": {},
   "outputs": [
    {
     "data": {
      "text/html": [
       "<div>\n",
       "<style scoped>\n",
       "    .dataframe tbody tr th:only-of-type {\n",
       "        vertical-align: middle;\n",
       "    }\n",
       "\n",
       "    .dataframe tbody tr th {\n",
       "        vertical-align: top;\n",
       "    }\n",
       "\n",
       "    .dataframe thead th {\n",
       "        text-align: right;\n",
       "    }\n",
       "</style>\n",
       "<table border=\"1\" class=\"dataframe\">\n",
       "  <thead>\n",
       "    <tr style=\"text-align: right;\">\n",
       "      <th></th>\n",
       "      <th>basepath</th>\n",
       "      <th>n_deep</th>\n",
       "      <th>n_sup</th>\n",
       "    </tr>\n",
       "  </thead>\n",
       "  <tbody>\n",
       "    <tr>\n",
       "      <th>258</th>\n",
       "      <td>Z:\\Data\\ORproject\\OR22\\day3</td>\n",
       "      <td>0</td>\n",
       "      <td>100</td>\n",
       "    </tr>\n",
       "    <tr>\n",
       "      <th>259</th>\n",
       "      <td>Z:\\Data\\ORproject\\OR22\\day4</td>\n",
       "      <td>0</td>\n",
       "      <td>82</td>\n",
       "    </tr>\n",
       "    <tr>\n",
       "      <th>55</th>\n",
       "      <td>Z:\\Data\\FujisawaS\\EE\\EE0622fm</td>\n",
       "      <td>18</td>\n",
       "      <td>69</td>\n",
       "    </tr>\n",
       "    <tr>\n",
       "      <th>6</th>\n",
       "      <td>Z:\\Data\\AYAold\\AB3\\AB3_58_59</td>\n",
       "      <td>22</td>\n",
       "      <td>51</td>\n",
       "    </tr>\n",
       "    <tr>\n",
       "      <th>188</th>\n",
       "      <td>Z:\\Data\\Kenji\\ec016.577_590</td>\n",
       "      <td>13</td>\n",
       "      <td>45</td>\n",
       "    </tr>\n",
       "    <tr>\n",
       "      <th>...</th>\n",
       "      <td>...</td>\n",
       "      <td>...</td>\n",
       "      <td>...</td>\n",
       "    </tr>\n",
       "    <tr>\n",
       "      <th>100</th>\n",
       "      <td>Z:\\Data\\GirardeauG\\Rat11\\Rat11-20150321</td>\n",
       "      <td>6</td>\n",
       "      <td>0</td>\n",
       "    </tr>\n",
       "    <tr>\n",
       "      <th>101</th>\n",
       "      <td>Z:\\Data\\GirardeauG\\Rat11\\Rat11-20150323</td>\n",
       "      <td>0</td>\n",
       "      <td>0</td>\n",
       "    </tr>\n",
       "    <tr>\n",
       "      <th>102</th>\n",
       "      <td>Z:\\Data\\GirardeauG\\Rat11\\Rat11-20150325</td>\n",
       "      <td>6</td>\n",
       "      <td>0</td>\n",
       "    </tr>\n",
       "    <tr>\n",
       "      <th>103</th>\n",
       "      <td>Z:\\Data\\GirardeauG\\Rat11\\Rat11-20150326</td>\n",
       "      <td>24</td>\n",
       "      <td>0</td>\n",
       "    </tr>\n",
       "    <tr>\n",
       "      <th>98</th>\n",
       "      <td>Z:\\Data\\GirardeauG\\Rat11\\Rat11-20150317</td>\n",
       "      <td>30</td>\n",
       "      <td>0</td>\n",
       "    </tr>\n",
       "  </tbody>\n",
       "</table>\n",
       "<p>263 rows × 3 columns</p>\n",
       "</div>"
      ],
      "text/plain": [
       "                                    basepath  n_deep  n_sup\n",
       "258              Z:\\Data\\ORproject\\OR22\\day3       0    100\n",
       "259              Z:\\Data\\ORproject\\OR22\\day4       0     82\n",
       "55             Z:\\Data\\FujisawaS\\EE\\EE0622fm      18     69\n",
       "6               Z:\\Data\\AYAold\\AB3\\AB3_58_59      22     51\n",
       "188              Z:\\Data\\Kenji\\ec016.577_590      13     45\n",
       "..                                       ...     ...    ...\n",
       "100  Z:\\Data\\GirardeauG\\Rat11\\Rat11-20150321       6      0\n",
       "101  Z:\\Data\\GirardeauG\\Rat11\\Rat11-20150323       0      0\n",
       "102  Z:\\Data\\GirardeauG\\Rat11\\Rat11-20150325       6      0\n",
       "103  Z:\\Data\\GirardeauG\\Rat11\\Rat11-20150326      24      0\n",
       "98   Z:\\Data\\GirardeauG\\Rat11\\Rat11-20150317      30      0\n",
       "\n",
       "[263 rows x 3 columns]"
      ]
     },
     "execution_count": 181,
     "metadata": {},
     "output_type": "execute_result"
    }
   ],
   "source": [
    "df.query(\"brainRegion.str.contains('CA1') & putativeCellType.str.contains('Pyr')\").groupby(\"basepath\").apply(\n",
    "    lambda x: pd.Series(\n",
    "        {\n",
    "            \"n_deep\": sum(x.deepSuperficial == \"Deep\"),\n",
    "            \"n_sup\": sum(x.deepSuperficial == \"Superficial\"),\n",
    "        }\n",
    "    )\n",
    ").reset_index().sort_values(\"n_sup\", ascending=False)\n",
    "# .to_csv(r\"Z:\\home\\ryanh\\projects\\ripple_heterogeneity\\n_deep_sup_by_basepath.csv\")"
   ]
  },
  {
   "cell_type": "code",
   "execution_count": 32,
   "metadata": {},
   "outputs": [
    {
     "data": {
      "text/plain": [
       "unknown        12650\n",
       "Deep            4513\n",
       "middle          3381\n",
       "Superficial     2352\n",
       "Name: deepSuperficial, dtype: int64"
      ]
     },
     "execution_count": 32,
     "metadata": {},
     "output_type": "execute_result"
    }
   ],
   "source": [
    "df.query(\"firingRate<7 &  putativeCellType.str.contains('Pyr') & spikeCount>100\").deepSuperficial.value_counts()"
   ]
  },
  {
   "cell_type": "code",
   "execution_count": 24,
   "metadata": {},
   "outputs": [
    {
     "data": {
      "text/plain": [
       "0      False\n",
       "1      False\n",
       "2      False\n",
       "3      False\n",
       "4      False\n",
       "       ...  \n",
       "823    False\n",
       "824    False\n",
       "825    False\n",
       "826    False\n",
       "827    False\n",
       "Name: tags_bad_waveform, Length: 828, dtype: object"
      ]
     },
     "execution_count": 24,
     "metadata": {},
     "output_type": "execute_result"
    }
   ],
   "source": [
    "df.tags_bad_waveform"
   ]
  },
  {
   "cell_type": "code",
   "execution_count": 25,
   "metadata": {},
   "outputs": [
    {
     "data": {
      "text/plain": [
       "Deep           125\n",
       "middle          76\n",
       "Superficial     24\n",
       "Name: deepSuperficial, dtype: int64"
      ]
     },
     "execution_count": 25,
     "metadata": {},
     "output_type": "execute_result"
    }
   ],
   "source": [
    "restriction = \"bad_unit==False & tags_bad_waveform==False & firingRate<7 & putativeCellType.str.contains('Pyr') & spikeCount>100 & basepath.str.contains('Achilles_10252013')\"\n",
    "df.query(restriction).deepSuperficial.value_counts()\n"
   ]
  },
  {
   "cell_type": "code",
   "execution_count": null,
   "metadata": {},
   "outputs": [],
   "source": [
    "# basepath = r\"Z:\\\\Data\\\\AYAold\\\\AB1\\\\day1\"\n",
    "# loading.load_cell_metrics(basepath)\n"
   ]
  },
  {
   "cell_type": "code",
   "execution_count": 2,
   "metadata": {},
   "outputs": [],
   "source": [
    "df_sessions = pd.read_csv(r'Z:\\home\\ryanh\\projects\\ripple_heterogeneity\\sessions.csv')\n",
    "df = loading.load_all_cell_metrics(df_sessions.basepath.unique())\n"
   ]
  },
  {
   "cell_type": "code",
   "execution_count": 16,
   "metadata": {},
   "outputs": [
    {
     "data": {
      "text/plain": [
       "10.39423076923077"
      ]
     },
     "execution_count": 16,
     "metadata": {},
     "output_type": "execute_result"
    }
   ],
   "source": [
    "df.query(\"brainRegion.str.contains('CA1')\").groupby([\"basepath\",\"shankID\"]).size().mean()"
   ]
  },
  {
   "cell_type": "code",
   "execution_count": 24,
   "metadata": {},
   "outputs": [
    {
     "data": {
      "text/plain": [
       "275"
      ]
     },
     "execution_count": 24,
     "metadata": {},
     "output_type": "execute_result"
    }
   ],
   "source": [
    "df.query(\"brainRegion.str.contains('CA1')\").groupby([\"basepath\"]).size().max()\n"
   ]
  },
  {
   "cell_type": "code",
   "execution_count": 159,
   "metadata": {},
   "outputs": [
    {
     "data": {
      "text/plain": [
       "(array(['AB1', 'AB3', 'AB4', 'AYA10', 'AYA4', 'AYA6', 'AYA7', 'AYA9',\n",
       "        'OML22', 'OML23', 'EE', 'FF', 'GG', 'Rat08', 'Rat10', 'Rat11',\n",
       "        'Achilles', 'Buddy', 'Cicero', 'Gatsby', 'HMC1', '2006-4-10',\n",
       "        '2006-4-18', '2006-6-12', '2006-6-13', '2006-6-7', 'ec013',\n",
       "        'ec014', 'Kenji', 'ec016', 'f01_m', 'g01_m', 'i01_m', 'km01',\n",
       "        'nlx', 'OML10', 'OML18', 'OML19', 'OML3', 'OML5', 'OML7', 'OML8',\n",
       "        'OR15', 'OR18', 'OR21', 'OR22', 'OR23', 'HMC2', 'OML27'],\n",
       "       dtype=object),\n",
       " 49)"
      ]
     },
     "execution_count": 159,
     "metadata": {},
     "output_type": "execute_result"
    }
   ],
   "source": [
    "df.animal.unique(), df.animal.nunique()"
   ]
  },
  {
   "cell_type": "code",
   "execution_count": 160,
   "metadata": {},
   "outputs": [
    {
     "data": {
      "text/plain": [
       "(array(['AB1', 'AB3', 'AB4', 'AYA10', 'AYA4', 'AYA6', 'AYA7', 'AYA9',\n",
       "        'OML22', 'OML23', 'EE', 'FF', 'GG', 'Rat08', 'Rat10', 'Rat11',\n",
       "        'Achilles', 'Buddy', 'Cicero', 'Gatsby', 'HMC1', '2006-4-10',\n",
       "        '2006-4-18', '2006-6-12', '2006-6-13', '2006-6-7', 'ec013',\n",
       "        'ec014', 'Kenji', 'ec016', 'f01_m', 'g01_m', 'i01_m', 'km01',\n",
       "        'nlx', 'OML10', 'OML18', 'OML19', 'OML3', 'OML5', 'OML7', 'OML8',\n",
       "        'OR15', 'OR18', 'OR21', 'OR22', 'OR23', 'HMC2', 'OML27'],\n",
       "       dtype=object),\n",
       " 49)"
      ]
     },
     "execution_count": 160,
     "metadata": {},
     "output_type": "execute_result"
    }
   ],
   "source": [
    "df.query(\"bad_unit==False & brainRegion.str.contains('CA1')\").animal.unique(), df.query(\"bad_unit==False & brainRegion.str.contains('CA1')\").animal.nunique()\n"
   ]
  },
  {
   "cell_type": "code",
   "execution_count": 164,
   "metadata": {},
   "outputs": [],
   "source": [
    "df = add_new_deep_sup.deep_sup_from_deepSuperficialDistance(df)"
   ]
  },
  {
   "cell_type": "code",
   "execution_count": 6,
   "metadata": {},
   "outputs": [
    {
     "data": {
      "text/plain": [
       "Index(['peakVoltage', 'peakVoltage_expFit', 'tags_P', 'tags_N', 'tags_Bad',\n",
       "       'tags_Pr', 'tags_Nr', 'tags_Pb', 'tags_Nb', 'tags_InverseSpike',\n",
       "       'peakVoltage_expFitLengthConstant', 'tags_bad_waveform', 'tags_Noise',\n",
       "       'tags_contaminated'],\n",
       "      dtype='object')"
      ]
     },
     "execution_count": 6,
     "metadata": {},
     "output_type": "execute_result"
    }
   ],
   "source": [
    "df.keys()[df.keys().str.contains(\"tag\")]"
   ]
  },
  {
   "cell_type": "code",
   "execution_count": 14,
   "metadata": {},
   "outputs": [
    {
     "data": {
      "text/plain": [
       "49"
      ]
     },
     "execution_count": 14,
     "metadata": {},
     "output_type": "execute_result"
    }
   ],
   "source": [
    "df.animal.nunique()"
   ]
  },
  {
   "cell_type": "code",
   "execution_count": 162,
   "metadata": {},
   "outputs": [
    {
     "data": {
      "text/html": [
       "<div>\n",
       "<style scoped>\n",
       "    .dataframe tbody tr th:only-of-type {\n",
       "        vertical-align: middle;\n",
       "    }\n",
       "\n",
       "    .dataframe tbody tr th {\n",
       "        vertical-align: top;\n",
       "    }\n",
       "\n",
       "    .dataframe thead th {\n",
       "        text-align: right;\n",
       "    }\n",
       "</style>\n",
       "<table border=\"1\" class=\"dataframe\">\n",
       "  <thead>\n",
       "    <tr style=\"text-align: right;\">\n",
       "      <th></th>\n",
       "      <th>basepath</th>\n",
       "      <th>UID</th>\n",
       "    </tr>\n",
       "  </thead>\n",
       "  <tbody>\n",
       "    <tr>\n",
       "      <th>17465</th>\n",
       "      <td>Z:\\Data\\GrosmarkAD\\Buddy\\Buddy_06272013</td>\n",
       "      <td>19</td>\n",
       "    </tr>\n",
       "    <tr>\n",
       "      <th>17473</th>\n",
       "      <td>Z:\\Data\\GrosmarkAD\\Buddy\\Buddy_06272013</td>\n",
       "      <td>27</td>\n",
       "    </tr>\n",
       "    <tr>\n",
       "      <th>17789</th>\n",
       "      <td>Z:\\Data\\GrosmarkAD\\Gatsby\\Gatsby_08022013</td>\n",
       "      <td>25</td>\n",
       "    </tr>\n",
       "    <tr>\n",
       "      <th>17863</th>\n",
       "      <td>Z:\\Data\\GrosmarkAD\\Gatsby\\Gatsby_08282013</td>\n",
       "      <td>19</td>\n",
       "    </tr>\n",
       "    <tr>\n",
       "      <th>17868</th>\n",
       "      <td>Z:\\Data\\GrosmarkAD\\Gatsby\\Gatsby_08282013</td>\n",
       "      <td>24</td>\n",
       "    </tr>\n",
       "    <tr>\n",
       "      <th>17870</th>\n",
       "      <td>Z:\\Data\\GrosmarkAD\\Gatsby\\Gatsby_08282013</td>\n",
       "      <td>26</td>\n",
       "    </tr>\n",
       "    <tr>\n",
       "      <th>28643</th>\n",
       "      <td>Z:\\Data\\OMLproject\\OML8\\day17</td>\n",
       "      <td>19</td>\n",
       "    </tr>\n",
       "    <tr>\n",
       "      <th>28656</th>\n",
       "      <td>Z:\\Data\\OMLproject\\OML8\\day17</td>\n",
       "      <td>32</td>\n",
       "    </tr>\n",
       "    <tr>\n",
       "      <th>31135</th>\n",
       "      <td>Z:\\Data\\OMLproject\\OML27\\day3</td>\n",
       "      <td>2</td>\n",
       "    </tr>\n",
       "    <tr>\n",
       "      <th>31138</th>\n",
       "      <td>Z:\\Data\\OMLproject\\OML27\\day3</td>\n",
       "      <td>5</td>\n",
       "    </tr>\n",
       "    <tr>\n",
       "      <th>31140</th>\n",
       "      <td>Z:\\Data\\OMLproject\\OML27\\day3</td>\n",
       "      <td>7</td>\n",
       "    </tr>\n",
       "    <tr>\n",
       "      <th>31146</th>\n",
       "      <td>Z:\\Data\\OMLproject\\OML27\\day3</td>\n",
       "      <td>13</td>\n",
       "    </tr>\n",
       "    <tr>\n",
       "      <th>31154</th>\n",
       "      <td>Z:\\Data\\OMLproject\\OML27\\day3</td>\n",
       "      <td>21</td>\n",
       "    </tr>\n",
       "    <tr>\n",
       "      <th>31156</th>\n",
       "      <td>Z:\\Data\\OMLproject\\OML27\\day3</td>\n",
       "      <td>23</td>\n",
       "    </tr>\n",
       "    <tr>\n",
       "      <th>31170</th>\n",
       "      <td>Z:\\Data\\OMLproject\\OML27\\day3</td>\n",
       "      <td>37</td>\n",
       "    </tr>\n",
       "    <tr>\n",
       "      <th>31171</th>\n",
       "      <td>Z:\\Data\\OMLproject\\OML27\\day3</td>\n",
       "      <td>38</td>\n",
       "    </tr>\n",
       "    <tr>\n",
       "      <th>31173</th>\n",
       "      <td>Z:\\Data\\OMLproject\\OML27\\day3</td>\n",
       "      <td>40</td>\n",
       "    </tr>\n",
       "    <tr>\n",
       "      <th>31178</th>\n",
       "      <td>Z:\\Data\\OMLproject\\OML27\\day3</td>\n",
       "      <td>45</td>\n",
       "    </tr>\n",
       "    <tr>\n",
       "      <th>31186</th>\n",
       "      <td>Z:\\Data\\OMLproject\\OML27\\day3</td>\n",
       "      <td>53</td>\n",
       "    </tr>\n",
       "    <tr>\n",
       "      <th>31191</th>\n",
       "      <td>Z:\\Data\\OMLproject\\OML27\\day3</td>\n",
       "      <td>58</td>\n",
       "    </tr>\n",
       "    <tr>\n",
       "      <th>31192</th>\n",
       "      <td>Z:\\Data\\OMLproject\\OML27\\day3</td>\n",
       "      <td>59</td>\n",
       "    </tr>\n",
       "    <tr>\n",
       "      <th>31194</th>\n",
       "      <td>Z:\\Data\\OMLproject\\OML27\\day3</td>\n",
       "      <td>61</td>\n",
       "    </tr>\n",
       "    <tr>\n",
       "      <th>31196</th>\n",
       "      <td>Z:\\Data\\OMLproject\\OML27\\day3</td>\n",
       "      <td>63</td>\n",
       "    </tr>\n",
       "    <tr>\n",
       "      <th>31200</th>\n",
       "      <td>Z:\\Data\\OMLproject\\OML27\\day3</td>\n",
       "      <td>67</td>\n",
       "    </tr>\n",
       "    <tr>\n",
       "      <th>31206</th>\n",
       "      <td>Z:\\Data\\OMLproject\\OML27\\day3</td>\n",
       "      <td>73</td>\n",
       "    </tr>\n",
       "    <tr>\n",
       "      <th>31257</th>\n",
       "      <td>Z:\\Data\\OMLproject\\OML27\\day3</td>\n",
       "      <td>124</td>\n",
       "    </tr>\n",
       "  </tbody>\n",
       "</table>\n",
       "</div>"
      ],
      "text/plain": [
       "                                        basepath  UID\n",
       "17465    Z:\\Data\\GrosmarkAD\\Buddy\\Buddy_06272013   19\n",
       "17473    Z:\\Data\\GrosmarkAD\\Buddy\\Buddy_06272013   27\n",
       "17789  Z:\\Data\\GrosmarkAD\\Gatsby\\Gatsby_08022013   25\n",
       "17863  Z:\\Data\\GrosmarkAD\\Gatsby\\Gatsby_08282013   19\n",
       "17868  Z:\\Data\\GrosmarkAD\\Gatsby\\Gatsby_08282013   24\n",
       "17870  Z:\\Data\\GrosmarkAD\\Gatsby\\Gatsby_08282013   26\n",
       "28643              Z:\\Data\\OMLproject\\OML8\\day17   19\n",
       "28656              Z:\\Data\\OMLproject\\OML8\\day17   32\n",
       "31135              Z:\\Data\\OMLproject\\OML27\\day3    2\n",
       "31138              Z:\\Data\\OMLproject\\OML27\\day3    5\n",
       "31140              Z:\\Data\\OMLproject\\OML27\\day3    7\n",
       "31146              Z:\\Data\\OMLproject\\OML27\\day3   13\n",
       "31154              Z:\\Data\\OMLproject\\OML27\\day3   21\n",
       "31156              Z:\\Data\\OMLproject\\OML27\\day3   23\n",
       "31170              Z:\\Data\\OMLproject\\OML27\\day3   37\n",
       "31171              Z:\\Data\\OMLproject\\OML27\\day3   38\n",
       "31173              Z:\\Data\\OMLproject\\OML27\\day3   40\n",
       "31178              Z:\\Data\\OMLproject\\OML27\\day3   45\n",
       "31186              Z:\\Data\\OMLproject\\OML27\\day3   53\n",
       "31191              Z:\\Data\\OMLproject\\OML27\\day3   58\n",
       "31192              Z:\\Data\\OMLproject\\OML27\\day3   59\n",
       "31194              Z:\\Data\\OMLproject\\OML27\\day3   61\n",
       "31196              Z:\\Data\\OMLproject\\OML27\\day3   63\n",
       "31200              Z:\\Data\\OMLproject\\OML27\\day3   67\n",
       "31206              Z:\\Data\\OMLproject\\OML27\\day3   73\n",
       "31257              Z:\\Data\\OMLproject\\OML27\\day3  124"
      ]
     },
     "execution_count": 162,
     "metadata": {},
     "output_type": "execute_result"
    }
   ],
   "source": [
    "df.query(\"deepSuperficialDistance.isna() & brainRegion.str.contains('CA1')\")[[\"basepath\",\"UID\"]]"
   ]
  },
  {
   "cell_type": "code",
   "execution_count": 163,
   "metadata": {},
   "outputs": [
    {
     "data": {
      "text/plain": [
       "Deep           3818\n",
       "middle         2808\n",
       "Superficial    1964\n",
       "Name: deepSuperficial, dtype: int64"
      ]
     },
     "execution_count": 163,
     "metadata": {},
     "output_type": "execute_result"
    }
   ],
   "source": [
    "df.query(\"bad_unit==False & brainRegion.str.contains('CA1') & putativeCellType.str.contains('Pyr')\").deepSuperficial.value_counts()\n"
   ]
  },
  {
   "cell_type": "code",
   "execution_count": 165,
   "metadata": {},
   "outputs": [
    {
     "data": {
      "text/plain": [
       "8590"
      ]
     },
     "execution_count": 165,
     "metadata": {},
     "output_type": "execute_result"
    }
   ],
   "source": [
    "df.query(\"bad_unit==False & brainRegion.str.contains('CA1') & putativeCellType.str.contains('Pyr')\").deepSuperficial.value_counts().sum()"
   ]
  },
  {
   "cell_type": "markdown",
   "metadata": {},
   "source": [
    "## how many animals on each maze"
   ]
  },
  {
   "cell_type": "code",
   "execution_count": 66,
   "metadata": {},
   "outputs": [],
   "source": [
    "epoch_df = pd.DataFrame()\n",
    "for basepath in df.basepath.unique():\n",
    "    epoch_df_temp = loading.load_epoch(basepath)\n",
    "    epoch_df_temp[\"basepath\"] = basepath\n",
    "    epoch_df_temp[\"animal\"] = loading.get_animal_id(basepath)\n",
    "    epoch_df = pd.concat([epoch_df,epoch_df_temp],ignore_index=True)"
   ]
  },
  {
   "cell_type": "code",
   "execution_count": 67,
   "metadata": {},
   "outputs": [
    {
     "data": {
      "text/plain": [
       "array(['sleep', 'linear', 'tmaze', 'cheeseboard', 'box', 'wmaze', 'water',\n",
       "       'unknown', 'open', 'linearOne', 'linearTwo', 'Tmaze', 'wheel',\n",
       "       'bigSquare', 'Mwheel', 'plus', 'midSquare', 'bigSquarePlus',\n",
       "       'wheel_home', 'circle', 'ZigZag', 'test'], dtype=object)"
      ]
     },
     "execution_count": 67,
     "metadata": {},
     "output_type": "execute_result"
    }
   ],
   "source": [
    "epoch_df.environment.unique()"
   ]
  },
  {
   "cell_type": "code",
   "execution_count": 69,
   "metadata": {},
   "outputs": [
    {
     "data": {
      "text/plain": [
       "10"
      ]
     },
     "execution_count": 69,
     "metadata": {},
     "output_type": "execute_result"
    }
   ],
   "source": [
    "epoch_df.query(\"environment=='box' | environment=='open' | environment=='bigSquare' | environment=='midSquare' | environment=='midSquare'\").animal.nunique()\n"
   ]
  },
  {
   "cell_type": "code",
   "execution_count": 70,
   "metadata": {},
   "outputs": [
    {
     "data": {
      "text/plain": [
       "27"
      ]
     },
     "execution_count": 70,
     "metadata": {},
     "output_type": "execute_result"
    }
   ],
   "source": [
    "epoch_df.query(\"environment=='linear' | environment=='linearOne' | environment=='linearTwo'\").animal.nunique()\n"
   ]
  },
  {
   "cell_type": "code",
   "execution_count": 57,
   "metadata": {},
   "outputs": [
    {
     "data": {
      "text/plain": [
       "15"
      ]
     },
     "execution_count": 57,
     "metadata": {},
     "output_type": "execute_result"
    }
   ],
   "source": [
    "epoch_df.query(\"environment=='tmaze' | environment=='Tmaze' | environment=='Mwheel'\").animal.nunique()"
   ]
  },
  {
   "cell_type": "code",
   "execution_count": 74,
   "metadata": {},
   "outputs": [
    {
     "data": {
      "text/plain": [
       "9"
      ]
     },
     "execution_count": 74,
     "metadata": {},
     "output_type": "execute_result"
    }
   ],
   "source": [
    "epoch_df.query(\"environment=='cheeseboard'\").animal.nunique()\n"
   ]
  },
  {
   "cell_type": "code",
   "execution_count": 59,
   "metadata": {},
   "outputs": [
    {
     "data": {
      "text/plain": [
       "6"
      ]
     },
     "execution_count": 59,
     "metadata": {},
     "output_type": "execute_result"
    }
   ],
   "source": [
    "epoch_df.query(\"environment=='wmaze'\").animal.nunique()\n"
   ]
  },
  {
   "cell_type": "code",
   "execution_count": 71,
   "metadata": {},
   "outputs": [
    {
     "data": {
      "text/plain": [
       "1"
      ]
     },
     "execution_count": 71,
     "metadata": {},
     "output_type": "execute_result"
    }
   ],
   "source": [
    "epoch_df.query(\"environment=='bigSquarePlus' | environment=='plus'\").animal.nunique()\n"
   ]
  },
  {
   "cell_type": "code",
   "execution_count": 72,
   "metadata": {},
   "outputs": [
    {
     "data": {
      "text/plain": [
       "1"
      ]
     },
     "execution_count": 72,
     "metadata": {},
     "output_type": "execute_result"
    }
   ],
   "source": [
    "epoch_df.query(\"environment=='ZigZag'\").animal.nunique()\n"
   ]
  }
 ],
 "metadata": {
  "kernelspec": {
   "display_name": "ripple_heterogeneity",
   "language": "python",
   "name": "python3"
  },
  "language_info": {
   "codemirror_mode": {
    "name": "ipython",
    "version": 3
   },
   "file_extension": ".py",
   "mimetype": "text/x-python",
   "name": "python",
   "nbconvert_exporter": "python",
   "pygments_lexer": "ipython3",
   "version": "3.9.15"
  },
  "orig_nbformat": 4,
  "vscode": {
   "interpreter": {
    "hash": "f6704f659adc3d9f60da031b249d98ab47de090fc9b37376b32fb4164400920d"
   }
  }
 },
 "nbformat": 4,
 "nbformat_minor": 2
}
