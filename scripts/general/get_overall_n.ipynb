{
 "cells": [
  {
   "cell_type": "code",
   "execution_count": 1,
   "metadata": {},
   "outputs": [
    {
     "name": "stderr",
     "output_type": "stream",
     "text": [
      "<frozen importlib._bootstrap>:219: RuntimeWarning: scipy._lib.messagestream.MessageStream size changed, may indicate binary incompatibility. Expected 56 from C header, got 64 from PyObject\n"
     ]
    }
   ],
   "source": [
    "%reload_ext autoreload\n",
    "%autoreload 2\n",
    "\n",
    "import pandas as pd\n",
    "import numpy as np\n",
    "import matplotlib.pyplot as plt\n",
    "import os\n",
    "from ripple_heterogeneity.utils import functions,loading,add_new_deep_sup\n",
    "import seaborn as sns\n",
    "from matplotlib.ticker import AutoMinorLocator"
   ]
  },
  {
   "cell_type": "code",
   "execution_count": 28,
   "metadata": {},
   "outputs": [],
   "source": [
    "df_sessions = pd.read_csv(r'Z:\\home\\ryanh\\projects\\ripple_heterogeneity\\sessions.csv')\n",
    "\n",
    "df = loading.load_all_cell_metrics(df_sessions.basepath)"
   ]
  },
  {
   "cell_type": "code",
   "execution_count": 30,
   "metadata": {},
   "outputs": [],
   "source": [
    "# df.basepath.unique()"
   ]
  },
  {
   "cell_type": "code",
   "execution_count": null,
   "metadata": {},
   "outputs": [],
   "source": []
  },
  {
   "cell_type": "code",
   "execution_count": 31,
   "metadata": {},
   "outputs": [],
   "source": [
    "df = add_new_deep_sup.deep_sup_from_deepSuperficialDistance(df)"
   ]
  },
  {
   "cell_type": "code",
   "execution_count": 45,
   "metadata": {},
   "outputs": [
    {
     "data": {
      "text/html": [
       "<div>\n",
       "<style scoped>\n",
       "    .dataframe tbody tr th:only-of-type {\n",
       "        vertical-align: middle;\n",
       "    }\n",
       "\n",
       "    .dataframe tbody tr th {\n",
       "        vertical-align: top;\n",
       "    }\n",
       "\n",
       "    .dataframe thead th {\n",
       "        text-align: right;\n",
       "    }\n",
       "</style>\n",
       "<table border=\"1\" class=\"dataframe\">\n",
       "  <thead>\n",
       "    <tr style=\"text-align: right;\">\n",
       "      <th></th>\n",
       "      <th>basepath</th>\n",
       "      <th>n_deep</th>\n",
       "      <th>n_sup</th>\n",
       "    </tr>\n",
       "  </thead>\n",
       "  <tbody>\n",
       "    <tr>\n",
       "      <th>251</th>\n",
       "      <td>Z:\\Data\\ORproject\\OR22\\day3</td>\n",
       "      <td>0</td>\n",
       "      <td>100</td>\n",
       "    </tr>\n",
       "    <tr>\n",
       "      <th>252</th>\n",
       "      <td>Z:\\Data\\ORproject\\OR22\\day4</td>\n",
       "      <td>0</td>\n",
       "      <td>82</td>\n",
       "    </tr>\n",
       "    <tr>\n",
       "      <th>55</th>\n",
       "      <td>Z:\\Data\\FujisawaS\\EE\\EE0622fm</td>\n",
       "      <td>18</td>\n",
       "      <td>69</td>\n",
       "    </tr>\n",
       "    <tr>\n",
       "      <th>6</th>\n",
       "      <td>Z:\\Data\\AYAold\\AB3\\AB3_58_59</td>\n",
       "      <td>22</td>\n",
       "      <td>51</td>\n",
       "    </tr>\n",
       "    <tr>\n",
       "      <th>182</th>\n",
       "      <td>Z:\\Data\\Kenji\\ec016.577_590</td>\n",
       "      <td>13</td>\n",
       "      <td>45</td>\n",
       "    </tr>\n",
       "    <tr>\n",
       "      <th>...</th>\n",
       "      <td>...</td>\n",
       "      <td>...</td>\n",
       "      <td>...</td>\n",
       "    </tr>\n",
       "    <tr>\n",
       "      <th>85</th>\n",
       "      <td>Z:\\Data\\GirardeauG\\Rat10\\Rat10-20140701</td>\n",
       "      <td>9</td>\n",
       "      <td>0</td>\n",
       "    </tr>\n",
       "    <tr>\n",
       "      <th>89</th>\n",
       "      <td>Z:\\Data\\GirardeauG\\Rat10\\Rat10-20140705</td>\n",
       "      <td>15</td>\n",
       "      <td>0</td>\n",
       "    </tr>\n",
       "    <tr>\n",
       "      <th>90</th>\n",
       "      <td>Z:\\Data\\GirardeauG\\Rat10\\Rat10-20140707</td>\n",
       "      <td>11</td>\n",
       "      <td>0</td>\n",
       "    </tr>\n",
       "    <tr>\n",
       "      <th>91</th>\n",
       "      <td>Z:\\Data\\GirardeauG\\Rat10\\Rat10-20140708</td>\n",
       "      <td>6</td>\n",
       "      <td>0</td>\n",
       "    </tr>\n",
       "    <tr>\n",
       "      <th>128</th>\n",
       "      <td>Z:\\Data\\Kenji\\ec013.152_157</td>\n",
       "      <td>9</td>\n",
       "      <td>0</td>\n",
       "    </tr>\n",
       "  </tbody>\n",
       "</table>\n",
       "<p>256 rows × 3 columns</p>\n",
       "</div>"
      ],
      "text/plain": [
       "                                    basepath  n_deep  n_sup\n",
       "251              Z:\\Data\\ORproject\\OR22\\day3       0    100\n",
       "252              Z:\\Data\\ORproject\\OR22\\day4       0     82\n",
       "55             Z:\\Data\\FujisawaS\\EE\\EE0622fm      18     69\n",
       "6               Z:\\Data\\AYAold\\AB3\\AB3_58_59      22     51\n",
       "182              Z:\\Data\\Kenji\\ec016.577_590      13     45\n",
       "..                                       ...     ...    ...\n",
       "85   Z:\\Data\\GirardeauG\\Rat10\\Rat10-20140701       9      0\n",
       "89   Z:\\Data\\GirardeauG\\Rat10\\Rat10-20140705      15      0\n",
       "90   Z:\\Data\\GirardeauG\\Rat10\\Rat10-20140707      11      0\n",
       "91   Z:\\Data\\GirardeauG\\Rat10\\Rat10-20140708       6      0\n",
       "128              Z:\\Data\\Kenji\\ec013.152_157       9      0\n",
       "\n",
       "[256 rows x 3 columns]"
      ]
     },
     "execution_count": 45,
     "metadata": {},
     "output_type": "execute_result"
    }
   ],
   "source": [
    "df.query(\"brainRegion.str.contains('CA1') & putativeCellType.str.contains('Pyr')\").groupby(\"basepath\").apply(\n",
    "    lambda x: pd.Series(\n",
    "        {\n",
    "            \"n_deep\": sum(x.deepSuperficial == \"Deep\"),\n",
    "            \"n_sup\": sum(x.deepSuperficial == \"Superficial\"),\n",
    "        }\n",
    "    )\n",
    ").reset_index().sort_values(\"n_sup\", ascending=False)\n",
    "# .to_csv(r\"Z:\\home\\ryanh\\projects\\ripple_heterogeneity\\n_deep_sup_by_basepath.csv\")"
   ]
  },
  {
   "cell_type": "code",
   "execution_count": 32,
   "metadata": {},
   "outputs": [
    {
     "data": {
      "text/plain": [
       "unknown        12650\n",
       "Deep            4513\n",
       "middle          3381\n",
       "Superficial     2352\n",
       "Name: deepSuperficial, dtype: int64"
      ]
     },
     "execution_count": 32,
     "metadata": {},
     "output_type": "execute_result"
    }
   ],
   "source": [
    "df.query(\"firingRate<7 &  putativeCellType.str.contains('Pyr') & spikeCount>100\").deepSuperficial.value_counts()"
   ]
  },
  {
   "cell_type": "code",
   "execution_count": 24,
   "metadata": {},
   "outputs": [
    {
     "data": {
      "text/plain": [
       "0      False\n",
       "1      False\n",
       "2      False\n",
       "3      False\n",
       "4      False\n",
       "       ...  \n",
       "823    False\n",
       "824    False\n",
       "825    False\n",
       "826    False\n",
       "827    False\n",
       "Name: tags_bad_waveform, Length: 828, dtype: object"
      ]
     },
     "execution_count": 24,
     "metadata": {},
     "output_type": "execute_result"
    }
   ],
   "source": [
    "df.tags_bad_waveform"
   ]
  },
  {
   "cell_type": "code",
   "execution_count": 25,
   "metadata": {},
   "outputs": [
    {
     "data": {
      "text/plain": [
       "Deep           125\n",
       "middle          76\n",
       "Superficial     24\n",
       "Name: deepSuperficial, dtype: int64"
      ]
     },
     "execution_count": 25,
     "metadata": {},
     "output_type": "execute_result"
    }
   ],
   "source": [
    "restriction = \"bad_unit==False & tags_bad_waveform==False & firingRate<7 & putativeCellType.str.contains('Pyr') & spikeCount>100 & basepath.str.contains('Achilles_10252013')\"\n",
    "df.query(restriction).deepSuperficial.value_counts()\n"
   ]
  },
  {
   "cell_type": "code",
   "execution_count": null,
   "metadata": {},
   "outputs": [],
   "source": [
    "# basepath = r\"Z:\\\\Data\\\\AYAold\\\\AB1\\\\day1\"\n",
    "# loading.load_cell_metrics(basepath)\n"
   ]
  },
  {
   "cell_type": "code",
   "execution_count": 2,
   "metadata": {},
   "outputs": [],
   "source": [
    "df_sessions = pd.read_csv(r'Z:\\home\\ryanh\\projects\\ripple_heterogeneity\\sessions.csv')\n",
    "df = loading.load_all_cell_metrics(df_sessions.basepath.unique())\n"
   ]
  },
  {
   "cell_type": "code",
   "execution_count": 16,
   "metadata": {},
   "outputs": [
    {
     "data": {
      "text/plain": [
       "10.39423076923077"
      ]
     },
     "execution_count": 16,
     "metadata": {},
     "output_type": "execute_result"
    }
   ],
   "source": [
    "df.query(\"brainRegion.str.contains('CA1')\").groupby([\"basepath\",\"shankID\"]).size().mean()"
   ]
  },
  {
   "cell_type": "code",
   "execution_count": 24,
   "metadata": {},
   "outputs": [
    {
     "data": {
      "text/plain": [
       "275"
      ]
     },
     "execution_count": 24,
     "metadata": {},
     "output_type": "execute_result"
    }
   ],
   "source": [
    "df.query(\"brainRegion.str.contains('CA1')\").groupby([\"basepath\"]).size().max()\n"
   ]
  },
  {
   "cell_type": "code",
   "execution_count": 25,
   "metadata": {},
   "outputs": [
    {
     "data": {
      "text/plain": [
       "(array(['AB1', 'AB3', 'AB4', 'AYA10', 'AYA4', 'AYA6', 'AYA7', 'AYA9',\n",
       "        'OML22', 'OML23', 'EE', 'FF', 'GG', 'Rat08', 'Rat09', 'Rat10',\n",
       "        'Rat11', 'Achilles', 'Buddy', 'Cicero', 'Gatsby', 'HMC1',\n",
       "        '2006-4-10', '2006-4-18', '2006-6-12', '2006-6-13', '2006-6-7',\n",
       "        'ec013', 'ec014', 'Kenji', 'ec016', 'f01_m', 'g01_m', 'i01_m',\n",
       "        'j01_m', 'km01', 'nlx', 'OML10', 'OML18', 'OML19', 'OML3', 'OML5',\n",
       "        'OML7', 'OML8', 'OR15', 'OR18', 'OR21', 'OR22', 'OR23'],\n",
       "       dtype=object),\n",
       " 49)"
      ]
     },
     "execution_count": 25,
     "metadata": {},
     "output_type": "execute_result"
    }
   ],
   "source": [
    "df.animal.unique(), df.animal.nunique()"
   ]
  },
  {
   "cell_type": "code",
   "execution_count": 26,
   "metadata": {},
   "outputs": [
    {
     "data": {
      "text/plain": [
       "(array(['AB1', 'AB3', 'AB4', 'AYA10', 'AYA4', 'AYA6', 'AYA7', 'AYA9',\n",
       "        'OML22', 'OML23', 'EE', 'FF', 'GG', 'Rat08', 'Rat10', 'Rat11',\n",
       "        'Achilles', 'Buddy', 'Cicero', 'Gatsby', 'HMC1', '2006-4-10',\n",
       "        '2006-4-18', '2006-6-12', '2006-6-13', '2006-6-7', 'ec013',\n",
       "        'ec014', 'Kenji', 'ec016', 'f01_m', 'g01_m', 'i01_m', 'km01',\n",
       "        'nlx', 'OML10', 'OML18', 'OML19', 'OML3', 'OML5', 'OML7', 'OML8',\n",
       "        'OR15', 'OR18', 'OR21', 'OR22', 'OR23'], dtype=object),\n",
       " 47)"
      ]
     },
     "execution_count": 26,
     "metadata": {},
     "output_type": "execute_result"
    }
   ],
   "source": [
    "df.query(\"bad_unit==False & brainRegion.str.contains('CA1')\").animal.unique(), df.query(\"bad_unit==False & brainRegion.str.contains('CA1')\").animal.nunique()\n"
   ]
  },
  {
   "cell_type": "code",
   "execution_count": 27,
   "metadata": {},
   "outputs": [],
   "source": [
    "df = add_new_deep_sup.deep_sup_from_deepSuperficialDistance(df)"
   ]
  },
  {
   "cell_type": "code",
   "execution_count": 6,
   "metadata": {},
   "outputs": [
    {
     "data": {
      "text/plain": [
       "Index(['peakVoltage', 'peakVoltage_expFit', 'tags_P', 'tags_N', 'tags_Bad',\n",
       "       'tags_Pr', 'tags_Nr', 'tags_Pb', 'tags_Nb', 'tags_InverseSpike',\n",
       "       'peakVoltage_expFitLengthConstant', 'tags_bad_waveform', 'tags_Noise',\n",
       "       'tags_contaminated'],\n",
       "      dtype='object')"
      ]
     },
     "execution_count": 6,
     "metadata": {},
     "output_type": "execute_result"
    }
   ],
   "source": [
    "df.keys()[df.keys().str.contains(\"tag\")]"
   ]
  },
  {
   "cell_type": "code",
   "execution_count": 14,
   "metadata": {},
   "outputs": [
    {
     "data": {
      "text/plain": [
       "49"
      ]
     },
     "execution_count": 14,
     "metadata": {},
     "output_type": "execute_result"
    }
   ],
   "source": [
    "df.animal.nunique()"
   ]
  },
  {
   "cell_type": "code",
   "execution_count": 29,
   "metadata": {},
   "outputs": [
    {
     "data": {
      "text/html": [
       "<div>\n",
       "<style scoped>\n",
       "    .dataframe tbody tr th:only-of-type {\n",
       "        vertical-align: middle;\n",
       "    }\n",
       "\n",
       "    .dataframe tbody tr th {\n",
       "        vertical-align: top;\n",
       "    }\n",
       "\n",
       "    .dataframe thead th {\n",
       "        text-align: right;\n",
       "    }\n",
       "</style>\n",
       "<table border=\"1\" class=\"dataframe\">\n",
       "  <thead>\n",
       "    <tr style=\"text-align: right;\">\n",
       "      <th></th>\n",
       "      <th>basepath</th>\n",
       "      <th>UID</th>\n",
       "    </tr>\n",
       "  </thead>\n",
       "  <tbody>\n",
       "    <tr>\n",
       "      <th>17465</th>\n",
       "      <td>Z:\\Data\\GrosmarkAD\\Buddy\\Buddy_06272013</td>\n",
       "      <td>19</td>\n",
       "    </tr>\n",
       "    <tr>\n",
       "      <th>17473</th>\n",
       "      <td>Z:\\Data\\GrosmarkAD\\Buddy\\Buddy_06272013</td>\n",
       "      <td>27</td>\n",
       "    </tr>\n",
       "    <tr>\n",
       "      <th>17789</th>\n",
       "      <td>Z:\\Data\\GrosmarkAD\\Gatsby\\Gatsby_08022013</td>\n",
       "      <td>25</td>\n",
       "    </tr>\n",
       "    <tr>\n",
       "      <th>17863</th>\n",
       "      <td>Z:\\Data\\GrosmarkAD\\Gatsby\\Gatsby_08282013</td>\n",
       "      <td>19</td>\n",
       "    </tr>\n",
       "    <tr>\n",
       "      <th>17868</th>\n",
       "      <td>Z:\\Data\\GrosmarkAD\\Gatsby\\Gatsby_08282013</td>\n",
       "      <td>24</td>\n",
       "    </tr>\n",
       "    <tr>\n",
       "      <th>17870</th>\n",
       "      <td>Z:\\Data\\GrosmarkAD\\Gatsby\\Gatsby_08282013</td>\n",
       "      <td>26</td>\n",
       "    </tr>\n",
       "    <tr>\n",
       "      <th>28643</th>\n",
       "      <td>Z:\\Data\\OMLproject\\OML8\\day17</td>\n",
       "      <td>19</td>\n",
       "    </tr>\n",
       "    <tr>\n",
       "      <th>28656</th>\n",
       "      <td>Z:\\Data\\OMLproject\\OML8\\day17</td>\n",
       "      <td>32</td>\n",
       "    </tr>\n",
       "  </tbody>\n",
       "</table>\n",
       "</div>"
      ],
      "text/plain": [
       "                                        basepath  UID\n",
       "17465    Z:\\Data\\GrosmarkAD\\Buddy\\Buddy_06272013   19\n",
       "17473    Z:\\Data\\GrosmarkAD\\Buddy\\Buddy_06272013   27\n",
       "17789  Z:\\Data\\GrosmarkAD\\Gatsby\\Gatsby_08022013   25\n",
       "17863  Z:\\Data\\GrosmarkAD\\Gatsby\\Gatsby_08282013   19\n",
       "17868  Z:\\Data\\GrosmarkAD\\Gatsby\\Gatsby_08282013   24\n",
       "17870  Z:\\Data\\GrosmarkAD\\Gatsby\\Gatsby_08282013   26\n",
       "28643              Z:\\Data\\OMLproject\\OML8\\day17   19\n",
       "28656              Z:\\Data\\OMLproject\\OML8\\day17   32"
      ]
     },
     "execution_count": 29,
     "metadata": {},
     "output_type": "execute_result"
    }
   ],
   "source": [
    "df.query(\"deepSuperficialDistance.isna() & brainRegion.str.contains('CA1')\")[[\"basepath\",\"UID\"]]"
   ]
  },
  {
   "cell_type": "code",
   "execution_count": 30,
   "metadata": {},
   "outputs": [
    {
     "data": {
      "text/plain": [
       "Deep           3658\n",
       "middle         2706\n",
       "Superficial    1946\n",
       "Name: deepSuperficial, dtype: int64"
      ]
     },
     "execution_count": 30,
     "metadata": {},
     "output_type": "execute_result"
    }
   ],
   "source": [
    "df.query(\"bad_unit==False & brainRegion.str.contains('CA1') & putativeCellType.str.contains('Pyr')\").deepSuperficial.value_counts()\n"
   ]
  },
  {
   "cell_type": "code",
   "execution_count": 31,
   "metadata": {},
   "outputs": [
    {
     "data": {
      "text/plain": [
       "8310"
      ]
     },
     "execution_count": 31,
     "metadata": {},
     "output_type": "execute_result"
    }
   ],
   "source": [
    "df.query(\"bad_unit==False & brainRegion.str.contains('CA1') & putativeCellType.str.contains('Pyr')\").deepSuperficial.value_counts().sum()"
   ]
  },
  {
   "cell_type": "markdown",
   "metadata": {},
   "source": [
    "## how many animals on each maze"
   ]
  },
  {
   "cell_type": "code",
   "execution_count": 66,
   "metadata": {},
   "outputs": [],
   "source": [
    "epoch_df = pd.DataFrame()\n",
    "for basepath in df.basepath.unique():\n",
    "    epoch_df_temp = loading.load_epoch(basepath)\n",
    "    epoch_df_temp[\"basepath\"] = basepath\n",
    "    epoch_df_temp[\"animal\"] = loading.get_animal_id(basepath)\n",
    "    epoch_df = pd.concat([epoch_df,epoch_df_temp],ignore_index=True)"
   ]
  },
  {
   "cell_type": "code",
   "execution_count": 67,
   "metadata": {},
   "outputs": [
    {
     "data": {
      "text/plain": [
       "array(['sleep', 'linear', 'tmaze', 'cheeseboard', 'box', 'wmaze', 'water',\n",
       "       'unknown', 'open', 'linearOne', 'linearTwo', 'Tmaze', 'wheel',\n",
       "       'bigSquare', 'Mwheel', 'plus', 'midSquare', 'bigSquarePlus',\n",
       "       'wheel_home', 'circle', 'ZigZag', 'test'], dtype=object)"
      ]
     },
     "execution_count": 67,
     "metadata": {},
     "output_type": "execute_result"
    }
   ],
   "source": [
    "epoch_df.environment.unique()"
   ]
  },
  {
   "cell_type": "code",
   "execution_count": 69,
   "metadata": {},
   "outputs": [
    {
     "data": {
      "text/plain": [
       "10"
      ]
     },
     "execution_count": 69,
     "metadata": {},
     "output_type": "execute_result"
    }
   ],
   "source": [
    "epoch_df.query(\"environment=='box' | environment=='open' | environment=='bigSquare' | environment=='midSquare' | environment=='midSquare'\").animal.nunique()\n"
   ]
  },
  {
   "cell_type": "code",
   "execution_count": 70,
   "metadata": {},
   "outputs": [
    {
     "data": {
      "text/plain": [
       "27"
      ]
     },
     "execution_count": 70,
     "metadata": {},
     "output_type": "execute_result"
    }
   ],
   "source": [
    "epoch_df.query(\"environment=='linear' | environment=='linearOne' | environment=='linearTwo'\").animal.nunique()\n"
   ]
  },
  {
   "cell_type": "code",
   "execution_count": 57,
   "metadata": {},
   "outputs": [
    {
     "data": {
      "text/plain": [
       "15"
      ]
     },
     "execution_count": 57,
     "metadata": {},
     "output_type": "execute_result"
    }
   ],
   "source": [
    "epoch_df.query(\"environment=='tmaze' | environment=='Tmaze' | environment=='Mwheel'\").animal.nunique()"
   ]
  },
  {
   "cell_type": "code",
   "execution_count": 74,
   "metadata": {},
   "outputs": [
    {
     "data": {
      "text/plain": [
       "9"
      ]
     },
     "execution_count": 74,
     "metadata": {},
     "output_type": "execute_result"
    }
   ],
   "source": [
    "epoch_df.query(\"environment=='cheeseboard'\").animal.nunique()\n"
   ]
  },
  {
   "cell_type": "code",
   "execution_count": 59,
   "metadata": {},
   "outputs": [
    {
     "data": {
      "text/plain": [
       "6"
      ]
     },
     "execution_count": 59,
     "metadata": {},
     "output_type": "execute_result"
    }
   ],
   "source": [
    "epoch_df.query(\"environment=='wmaze'\").animal.nunique()\n"
   ]
  },
  {
   "cell_type": "code",
   "execution_count": 71,
   "metadata": {},
   "outputs": [
    {
     "data": {
      "text/plain": [
       "1"
      ]
     },
     "execution_count": 71,
     "metadata": {},
     "output_type": "execute_result"
    }
   ],
   "source": [
    "epoch_df.query(\"environment=='bigSquarePlus' | environment=='plus'\").animal.nunique()\n"
   ]
  },
  {
   "cell_type": "code",
   "execution_count": 72,
   "metadata": {},
   "outputs": [
    {
     "data": {
      "text/plain": [
       "1"
      ]
     },
     "execution_count": 72,
     "metadata": {},
     "output_type": "execute_result"
    }
   ],
   "source": [
    "epoch_df.query(\"environment=='ZigZag'\").animal.nunique()\n"
   ]
  }
 ],
 "metadata": {
  "kernelspec": {
   "display_name": "Python 3.8.10 ('ripple_diversity')",
   "language": "python",
   "name": "python3"
  },
  "language_info": {
   "codemirror_mode": {
    "name": "ipython",
    "version": 3
   },
   "file_extension": ".py",
   "mimetype": "text/x-python",
   "name": "python",
   "nbconvert_exporter": "python",
   "pygments_lexer": "ipython3",
   "version": "3.8.10"
  },
  "orig_nbformat": 4,
  "vscode": {
   "interpreter": {
    "hash": "07484756fddac7bd59393d4118357304c260afb75bd53ff0a49292dc7b401b16"
   }
  }
 },
 "nbformat": 4,
 "nbformat_minor": 2
}
