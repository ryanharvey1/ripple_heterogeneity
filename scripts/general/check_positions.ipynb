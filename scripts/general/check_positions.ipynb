{
 "cells": [
  {
   "cell_type": "code",
   "execution_count": 1,
   "metadata": {},
   "outputs": [
    {
     "name": "stderr",
     "output_type": "stream",
     "text": [
      "<frozen importlib._bootstrap>:219: RuntimeWarning: scipy._lib.messagestream.MessageStream size changed, may indicate binary incompatibility. Expected 56 from C header, got 64 from PyObject\n"
     ]
    }
   ],
   "source": [
    "%reload_ext autoreload\n",
    "%autoreload 2\n",
    "import glob # for file names\n",
    "import pandas as pd # to create data frames\n",
    "from matplotlib import pyplot as plt # visualization \n",
    "import numpy as np\n",
    "from ripple_heterogeneity.utils import loading"
   ]
  },
  {
   "cell_type": "code",
   "execution_count": 2,
   "metadata": {},
   "outputs": [],
   "source": [
    "df = pd.read_csv(r\"Z:\\home\\ryanh\\projects\\ripple_heterogeneity\\sessions.csv\")\n"
   ]
  },
  {
   "cell_type": "code",
   "execution_count": 5,
   "metadata": {},
   "outputs": [
    {
     "name": "stdout",
     "output_type": "stream",
     "text": [
      "Basepath: Z:\\Data\\AYAold\\AYA4\\day150804 , x range:  557.9200000000001, y range:  173.00330777004226\n",
      "Basepath: Z:\\Data\\AYAold\\AYA7\\day25 , x range:  678.1652060413948, y range:  745.4782770837218\n",
      "Basepath: Z:\\Data\\GirardeauG\\Rat11\\Rat11-20150313 , x range:  490.8397501690505, y range:  262.2424679906554\n",
      "Basepath: Z:\\Data\\GirardeauG\\Rat11\\Rat11-20150316 , x range:  480.5602148174229, y range:  301.748624435468\n",
      "Basepath: Z:\\Data\\GirardeauG\\Rat11\\Rat11-20150323 , x range:  474.54650955966946, y range:  266.14844399089895\n",
      "Basepath: Z:\\Data\\GirardeauG\\Rat11\\Rat11-20150325 , x range:  533.1315783431065, y range:  300.9735063444029\n",
      "Basepath: Z:\\Data\\GirardeauG\\Rat11\\Rat11-20150328 , x range:  500.3177312492883, y range:  308.85481412654656\n",
      "Basepath: Z:\\Data\\GirardeauG\\Rat11\\Rat11-20150330 , x range:  485.3557960750849, y range:  285.2689626678781\n",
      "Basepath: Z:\\Data\\GirardeauG\\Rat11\\Rat11-20150331 , x range:  489.87484967144064, y range:  279.86067562979906\n",
      "Basepath: Z:\\Data\\GirardeauG\\Rat11\\Rat11-20150401 , x range:  522.2065602176968, y range:  272.0917274239799\n"
     ]
    },
    {
     "name": "stderr",
     "output_type": "stream",
     "text": [
      "d:\\github\\ripple_heterogeneity\\ripple_heterogeneity\\utils\\loading.py:709: UserWarning: file does not exist\n"
     ]
    }
   ],
   "source": [
    "for basepath in df.basepath.unique():\n",
    "    position_df = loading.load_animal_behavior(basepath)\n",
    "    try:\n",
    "        x_range = position_df.x.max() - position_df.x.min()\n",
    "        y_range = position_df.y.max() - position_df.y.min()\n",
    "        if (x_range > 400) | (y_range > 400):\n",
    "            print(f\"Basepath: {basepath} , x range:  {x_range}, y range:  {y_range}\")\n",
    "    except:\n",
    "        pass\n"
   ]
  },
  {
   "cell_type": "code",
   "execution_count": null,
   "metadata": {},
   "outputs": [],
   "source": [
    "for basepath in df.basepath.unique():\n",
    "    position_df = loading.load_animal_behavior(basepath)\n",
    "    plt.figure(figsize=(8,8))\n",
    "    plt.title(basepath)\n",
    "    try:\n",
    "        plt.plot(position_df.x,position_df.y)\n",
    "        plt.axis(\"equal\")\n",
    "    except:\n",
    "        pass\n",
    "    plt.show()"
   ]
  },
  {
   "cell_type": "code",
   "execution_count": null,
   "metadata": {},
   "outputs": [],
   "source": []
  }
 ],
 "metadata": {
  "kernelspec": {
   "display_name": "Python 3.8.10 ('ripple_diversity')",
   "language": "python",
   "name": "python3"
  },
  "language_info": {
   "codemirror_mode": {
    "name": "ipython",
    "version": 3
   },
   "file_extension": ".py",
   "mimetype": "text/x-python",
   "name": "python",
   "nbconvert_exporter": "python",
   "pygments_lexer": "ipython3",
   "version": "3.8.10"
  },
  "orig_nbformat": 4,
  "vscode": {
   "interpreter": {
    "hash": "07484756fddac7bd59393d4118357304c260afb75bd53ff0a49292dc7b401b16"
   }
  }
 },
 "nbformat": 4,
 "nbformat_minor": 2
}
