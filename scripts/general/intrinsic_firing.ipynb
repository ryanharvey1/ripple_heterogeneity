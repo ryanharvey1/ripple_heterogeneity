{
 "cells": [
  {
   "cell_type": "code",
   "execution_count": 1,
   "metadata": {},
   "outputs": [
    {
     "name": "stderr",
     "output_type": "stream",
     "text": [
      "<frozen importlib._bootstrap>:219: RuntimeWarning: scipy._lib.messagestream.MessageStream size changed, may indicate binary incompatibility. Expected 56 from C header, got 64 from PyObject\n"
     ]
    }
   ],
   "source": [
    "%reload_ext autoreload\n",
    "%autoreload 2\n",
    "from ripple_heterogeneity.utils import loading,functions,add_new_deep_sup\n",
    "import pandas as pd\n",
    "import numpy as np \n",
    "import matplotlib.pyplot as plt\n",
    "import seaborn as sns\n",
    "import os\n",
    "import matplotlib\n",
    "\n",
    "functions.set_plotting_defaults()\n",
    "%matplotlib inline\n",
    "%config InlineBackend.figure_format = 'retina'\n",
    "fig_save_path = r'Z:\\home\\ryanh\\projects\\ripple_heterogeneity\\figures\\panels'"
   ]
  },
  {
   "cell_type": "code",
   "execution_count": 2,
   "metadata": {},
   "outputs": [],
   "source": [
    "df = pd.read_csv(r'Z:\\home\\ryanh\\projects\\ripple_heterogeneity\\sessions.csv')\n",
    "cell_metrics = loading.load_all_cell_metrics(df.basepath)"
   ]
  },
  {
   "cell_type": "code",
   "execution_count": 3,
   "metadata": {},
   "outputs": [],
   "source": [
    "cell_metrics = add_new_deep_sup.deep_sup_from_deepSuperficialDistance(cell_metrics)\n"
   ]
  },
  {
   "cell_type": "code",
   "execution_count": 4,
   "metadata": {},
   "outputs": [],
   "source": [
    "keep_idx = (cell_metrics.putativeCellType.str.contains('Pyramidal') &\n",
    "            cell_metrics.brainRegion.str.contains('CA1') &\n",
    "            (cell_metrics.bad_unit == False) &\n",
    "            (cell_metrics.spikeCount > 100))\n",
    "cell_metrics = cell_metrics[keep_idx]"
   ]
  },
  {
   "cell_type": "code",
   "execution_count": 11,
   "metadata": {},
   "outputs": [
    {
     "data": {
      "image/png": "[encoded data removed]",
      "text/plain": [
       "<Figure size 425.197x131.393 with 4 Axes>"
      ]
     },
     "metadata": {
      "image/png": {
       "height": 115,
       "width": 379
      },
      "needs_background": "light"
     },
     "output_type": "display_data"
    }
   ],
   "source": [
    "vars = ['burstIndex_Mizuseki2012', 'ripple_GainAll', 'cv2','firingRateISI', 'acg_h']\n",
    "\n",
    "fig, axs = plt.subplots(1,4,\n",
    "    figsize=functions.set_size(\"thesis\", fraction=1, subplots=(2, 4)),\n",
    "    edgecolor=\"k\",\n",
    ")\n",
    "fig.subplots_adjust(hspace=0.1, wspace=0.7)\n",
    "axs = axs.ravel()\n",
    "group_colors = {\"Deep\": \"#7b3294\", \"Superficial\": \"#008837\"}\n",
    "sns.set_palette(sns.color_palette(group_colors.values()))\n",
    "cell_metrics[\"constant\"] = 1\n",
    "\n",
    "sns.boxplot(data=cell_metrics,x=\"constant\",hue=\"deepSuperficial\",hue_order=group_colors.keys(),y=\"burstIndex_Mizuseki2012\",showfliers=False,ax=axs[0])\n",
    "sns.boxplot(data=cell_metrics,x=\"constant\",hue=\"deepSuperficial\",hue_order=group_colors.keys(),y=\"firingRate\",showfliers=False,ax=axs[1])\n",
    "sns.boxplot(data=cell_metrics,x=\"constant\",hue=\"deepSuperficial\",hue_order=group_colors.keys(),y=\"cv2\",showfliers=False,ax=axs[2])\n",
    "sns.boxplot(data=cell_metrics,x=\"constant\",hue=\"deepSuperficial\",hue_order=group_colors.keys(),y=\"firingRateISI\",showfliers=False,ax=axs[3])\n",
    "# sns.boxplot(data=cell_metrics,x=\"constant\",hue=\"deepSuperficial\",hue_order=group_colors.keys(),y=\"acg_h\",showfliers=False,ax=axs[3])\n",
    "\n",
    "for i in range(len(axs)):\n",
    "    axs[i].legend(frameon=False)\n",
    "    axs[i].get_legend().remove()\n",
    "    axs[i].set_xlabel(\"\")\n",
    "    axs[i].axes.get_xaxis().set_visible(False)\n",
    "\n",
    "sns.despine(bottom=True)\n",
    "\n",
    "axs[0].set_ylabel(\"burst index\")\n",
    "axs[1].set_ylabel(\"avg. firing rate (Hz)\")\n",
    "axs[2].set_ylabel(\"CV2\")\n",
    "axs[3].set_ylabel(\"firing rate isi\")\n",
    "\n",
    "plt.savefig(\n",
    "    os.path.join(fig_save_path, \"intrinsic_firing_sup_fig.svg\"),\n",
    "    dpi=300,\n",
    "    bbox_inches=\"tight\",\n",
    ")\n"
   ]
  },
  {
   "cell_type": "code",
   "execution_count": 22,
   "metadata": {},
   "outputs": [],
   "source": [
    "cell_metrics[[\"burstIndex_Mizuseki2012\",\"firingRate\",\"cv2\",\"firingRateISI\",\"deepSuperficial\",\"basepath\",\"animal\"]].to_csv(r\"Z:\\home\\ryanh\\projects\\ripple_heterogeneity\\intrinsic_firing.csv\")"
   ]
  },
  {
   "cell_type": "code",
   "execution_count": 12,
   "metadata": {},
   "outputs": [
    {
     "data": {
      "text/plain": [
       "RanksumsResult(statistic=21.270380449413448, pvalue=2.1354171005463207e-100)"
      ]
     },
     "execution_count": 12,
     "metadata": {},
     "output_type": "execute_result"
    }
   ],
   "source": [
    "from scipy.stats import ranksums\n",
    "\n",
    "ranksums(cell_metrics.query(\"deepSuperficial == 'Deep'\").burstIndex_Mizuseki2012, cell_metrics.query(\"deepSuperficial == 'Superficial'\").burstIndex_Mizuseki2012)"
   ]
  },
  {
   "cell_type": "code",
   "execution_count": 13,
   "metadata": {},
   "outputs": [
    {
     "data": {
      "text/plain": [
       "RanksumsResult(statistic=9.88848447438219, pvalue=4.670446295166643e-23)"
      ]
     },
     "execution_count": 13,
     "metadata": {},
     "output_type": "execute_result"
    }
   ],
   "source": [
    "ranksums(cell_metrics.query(\"deepSuperficial == 'Deep'\").firingRate, cell_metrics.query(\"deepSuperficial == 'Superficial'\").firingRate)\n"
   ]
  },
  {
   "cell_type": "code",
   "execution_count": 14,
   "metadata": {},
   "outputs": [
    {
     "data": {
      "text/plain": [
       "RanksumsResult(statistic=-10.147164744901431, pvalue=3.411300368053543e-24)"
      ]
     },
     "execution_count": 14,
     "metadata": {},
     "output_type": "execute_result"
    }
   ],
   "source": [
    "ranksums(cell_metrics.query(\"deepSuperficial == 'Deep'\").cv2, cell_metrics.query(\"deepSuperficial == 'Superficial'\").cv2)\n"
   ]
  },
  {
   "cell_type": "code",
   "execution_count": 15,
   "metadata": {},
   "outputs": [
    {
     "data": {
      "text/plain": [
       "RanksumsResult(statistic=22.074867108774452, pvalue=5.5126107276959484e-108)"
      ]
     },
     "execution_count": 15,
     "metadata": {},
     "output_type": "execute_result"
    }
   ],
   "source": [
    "ranksums(cell_metrics.query(\"deepSuperficial == 'Deep'\").firingRateISI, cell_metrics.query(\"deepSuperficial == 'Superficial'\").firingRateISI)\n"
   ]
  }
 ],
 "metadata": {
  "kernelspec": {
   "display_name": "Python 3.8.10 ('ripple_diversity')",
   "language": "python",
   "name": "python3"
  },
  "language_info": {
   "codemirror_mode": {
    "name": "ipython",
    "version": 3
   },
   "file_extension": ".py",
   "mimetype": "text/x-python",
   "name": "python",
   "nbconvert_exporter": "python",
   "pygments_lexer": "ipython3",
   "version": "3.8.10"
  },
  "orig_nbformat": 4,
  "vscode": {
   "interpreter": {
    "hash": "07484756fddac7bd59393d4118357304c260afb75bd53ff0a49292dc7b401b16"
   }
  }
 },
 "nbformat": 4,
 "nbformat_minor": 2
}
