{
 "cells": [
  {
   "cell_type": "code",
   "execution_count": 1,
   "metadata": {},
   "outputs": [],
   "source": [
    "%reload_ext autoreload\n",
    "%autoreload 2"
   ]
  },
  {
   "cell_type": "code",
   "execution_count": 11,
   "metadata": {},
   "outputs": [],
   "source": [
    "from ripple_heterogeneity.utils import (\n",
    "    functions,\n",
    "    loading,\n",
    "    batch_analysis,\n",
    "    add_new_deep_sup,\n",
    ")\n",
    "from ripple_heterogeneity.utils import reduced_rank_regressor,kernel_reduced_rank_ridge_regression\n",
    "from sklearn.model_selection import train_test_split\n",
    "from sklearn import preprocessing\n",
    "\n",
    "from ripple_heterogeneity.readout import predict_downstream_reduced_rank_regressor\n",
    "import pandas as pd\n",
    "import numpy as np\n",
    "import matplotlib.pyplot as plt\n",
    "import seaborn as sns\n",
    "import nelpy as nel\n",
    "import nelpy.plotting as npl\n",
    "from matplotlib.ticker import AutoMinorLocator\n",
    "import os\n",
    "from scipy import stats\n",
    "from statannot import add_stat_annotation\n",
    "\n",
    "functions.set_plotting_defaults()\n",
    "%matplotlib inline\n",
    "%config InlineBackend.figure_format = 'retina'\n",
    "fig_save_path = r'Z:\\home\\ryanh\\projects\\ripple_heterogeneity\\figures\\panels'"
   ]
  },
  {
   "cell_type": "code",
   "execution_count": 4,
   "metadata": {},
   "outputs": [],
   "source": [
    "basepath = r\"Z:\\Data\\HMC1\\day13\"\n",
    "\n",
    "reference_region=[\"CA1\"]\n",
    "target_regions=[\"PFC\", \"EC1|EC2|EC3|EC4|EC5|MEC\"]\n",
    "ripple_expand = 0.2\n",
    "(\n",
    "    st,\n",
    "    cm,\n",
    "    ripple_epochs,\n",
    "    ep_epochs,\n",
    "    ep_df,\n",
    "    session_epoch,\n",
    "    nrem_epochs,\n",
    "    wake_epochs,\n",
    ") = predict_downstream_reduced_rank_regressor.get_data(basepath, target_regions, reference_region, ripple_expand)"
   ]
  },
  {
   "cell_type": "code",
   "execution_count": 6,
   "metadata": {},
   "outputs": [],
   "source": []
  },
  {
   "cell_type": "code",
   "execution_count": 58,
   "metadata": {},
   "outputs": [],
   "source": [
    "\n",
    "curr_ripples = ripple_epochs[nrem_epochs]\n",
    "\n",
    "st_par = functions.get_participation(\n",
    "    st[nrem_epochs].data,\n",
    "    curr_ripples.starts,\n",
    "    curr_ripples.stops,\n",
    "    par_type=\"firing_rate\",\n",
    ")\n",
    "# start and end times can be the same for some reason, which\n",
    "# causes nan as the denominator above is 0\n",
    "st_par[np.isnan(st_par)] = 0\n",
    "\n",
    "\n",
    "# st[nrem_epochs]\n",
    "bst = st[nrem_epochs].bin(ds=0.5)\n",
    "\n",
    "scaler = preprocessing.StandardScaler()\n",
    "\n",
    "X = scaler.fit_transform(bst.data)"
   ]
  },
  {
   "cell_type": "code",
   "execution_count": 53,
   "metadata": {},
   "outputs": [
    {
     "data": {
      "text/plain": [
       "(427, 111990)"
      ]
     },
     "execution_count": 53,
     "metadata": {},
     "output_type": "execute_result"
    }
   ],
   "source": [
    "X = scaler.fit_transform(bst.data)\n",
    "X.shape"
   ]
  },
  {
   "cell_type": "code",
   "execution_count": 54,
   "metadata": {},
   "outputs": [],
   "source": [
    "# ca1_sub = \"Deep\"\n",
    "# region = \"PFC\"\n",
    "# source_cell_type = \"Pyr\"\n",
    "# target_cell_type = \"Pyr\"\n",
    "\n",
    "\n",
    "def get_test_train_data(\n",
    "    ca1_sub=\"Deep\", region=\"PFC\", source_cell_type=\"Pyr\", target_cell_type=\"Pyr\"\n",
    "):\n",
    "    # get index of ca1 cells\n",
    "    ca1_idx = (\n",
    "        cm.brainRegion.str.contains(\"CA1\").values\n",
    "        & (cm.deepSuperficial == ca1_sub)\n",
    "        & (cm.putativeCellType.str.contains(source_cell_type))\n",
    "    )\n",
    "\n",
    "    # get index of target cells\n",
    "    if target_cell_type is not None:\n",
    "        target_idx = (\n",
    "            cm.brainRegion.str.contains(region).values\n",
    "            & cm.putativeCellType.str.contains(target_cell_type).values\n",
    "        )\n",
    "    else:\n",
    "        target_idx = cm.brainRegion.str.contains(region).values\n",
    "\n",
    "    X_train, X_test, y_train, y_test = train_test_split(\n",
    "        X[ca1_idx, :].T,\n",
    "        X[target_idx, :].T,\n",
    "        test_size=0.4,\n",
    "        random_state=42,\n",
    "        shuffle=False,\n",
    "    )\n",
    "    return X_train, X_test, y_train, y_test"
   ]
  },
  {
   "cell_type": "code",
   "execution_count": 55,
   "metadata": {},
   "outputs": [],
   "source": [
    "from sklearn.metrics import mean_squared_error\n",
    "from sklearn.metrics import explained_variance_score\n",
    "# from sklearn.metrics import mean_squared_log_error\n",
    "from sklearn.metrics import mean_absolute_percentage_error\n",
    "\n",
    "def get_rank_curve(X_train, X_test, y_train, y_test):\n",
    "    score = []\n",
    "    mse = []\n",
    "    ev = []\n",
    "    mape = []\n",
    "    # mle = []\n",
    "    for i in range(1,15):\n",
    "        rrr = kernel_reduced_rank_ridge_regression.ReducedRankRegressor()\n",
    "        rrr.rank = i\n",
    "        rrr.reg = 1\n",
    "        rrr.fit(X_train,y_train)\n",
    "        mse.append(mean_squared_error(y_test,rrr.predict(X_test)))\n",
    "        score.append(rrr.score(X_test,y_test))\n",
    "        ev.append(explained_variance_score(y_test,rrr.predict(X_test)))\n",
    "        mape.append(mean_absolute_percentage_error(y_test,rrr.predict(X_test)))\n",
    "        # mle.append(mean_squared_log_error(y_test,rrr.predict(X_test)))\n",
    "\n",
    "    return score, mse, ev, mape\n",
    "\n"
   ]
  },
  {
   "cell_type": "code",
   "execution_count": 56,
   "metadata": {},
   "outputs": [
    {
     "name": "stderr",
     "output_type": "stream",
     "text": [
      "No artists with labels found to put in legend.  Note that artists whose label start with an underscore are ignored when legend() is called with no argument.\n"
     ]
    },
    {
     "data": {
      "image/png": "[encoded data removed]",
      "text/plain": [
       "<Figure size 432x288 with 1 Axes>"
      ]
     },
     "metadata": {
      "image/png": {
       "height": 262,
       "width": 381
      },
      "needs_background": "light"
     },
     "output_type": "display_data"
    }
   ],
   "source": [
    "x = range(1, 15)\n",
    "\n",
    "X_train, X_test, y_train, y_test = get_test_train_data(\n",
    "    ca1_sub=\"Deep\", region=\"PFC\", source_cell_type=\"Pyr\", target_cell_type=\"Pyr\"\n",
    ")\n",
    "score, mse, ev, mape = get_rank_curve(X_train, X_test, y_train, y_test)\n",
    "plt.plot(x, mse,color=\"teal\")\n",
    "plt.axvline(np.argmin(mse)+1,color=\"teal\")\n",
    "\n",
    "X_train, X_test, y_train, y_test = get_test_train_data(\n",
    "    ca1_sub=\"Deep\", region=\"MEC\", source_cell_type=\"Pyr\", target_cell_type=\"Pyr\"\n",
    ")\n",
    "score, mse, ev, mape = get_rank_curve(X_train, X_test, y_train, y_test)\n",
    "plt.plot(x, mse,color=\"red\")\n",
    "plt.axvline(np.argmin(mse)+1,color=\"red\")\n",
    "\n",
    "\n",
    "X_train, X_test, y_train, y_test = get_test_train_data(\n",
    "    ca1_sub=\"Superficial\", region=\"PFC\", source_cell_type=\"Pyr\", target_cell_type=\"Pyr\"\n",
    ")\n",
    "score, mse, ev, mape = get_rank_curve(X_train, X_test, y_train, y_test)\n",
    "plt.plot(x, mse,color=\"teal\",linestyle=\"--\")\n",
    "plt.axvline(np.argmin(mse)+1,color=\"teal\",linestyle=\"--\")\n",
    "\n",
    "\n",
    "X_train, X_test, y_train, y_test = get_test_train_data(\n",
    "    ca1_sub=\"Superficial\", region=\"MEC\", source_cell_type=\"Pyr\", target_cell_type=\"Pyr\"\n",
    ")\n",
    "score, mse, ev, mape = get_rank_curve(X_train, X_test, y_train, y_test)\n",
    "plt.plot(x, mse,color=\"red\",linestyle=\"--\")\n",
    "plt.axvline(np.argmin(mse)+1,color=\"red\",linestyle=\"--\")\n",
    "\n",
    "# plt.axvline(np.log10(16), color=\"grey\", linestyle=\"--\", label=16)\n",
    "plt.xlabel(\"rank\")\n",
    "# plt.ylabel(\"explained variance\")\n",
    "plt.legend()\n",
    "# plt.ylim(0,.5)\n",
    "plt.grid()"
   ]
  },
  {
   "cell_type": "code",
   "execution_count": 57,
   "metadata": {},
   "outputs": [
    {
     "data": {
      "text/plain": [
       "50.06666666666667"
      ]
     },
     "execution_count": 57,
     "metadata": {},
     "output_type": "execute_result"
    }
   ],
   "source": [
    "3004/60"
   ]
  }
 ],
 "metadata": {
  "kernelspec": {
   "display_name": "Python 3.8.10 ('ripple_diversity')",
   "language": "python",
   "name": "python3"
  },
  "language_info": {
   "codemirror_mode": {
    "name": "ipython",
    "version": 3
   },
   "file_extension": ".py",
   "mimetype": "text/x-python",
   "name": "python",
   "nbconvert_exporter": "python",
   "pygments_lexer": "ipython3",
   "version": "3.8.10"
  },
  "orig_nbformat": 4,
  "vscode": {
   "interpreter": {
    "hash": "07484756fddac7bd59393d4118357304c260afb75bd53ff0a49292dc7b401b16"
   }
  }
 },
 "nbformat": 4,
 "nbformat_minor": 2
}
