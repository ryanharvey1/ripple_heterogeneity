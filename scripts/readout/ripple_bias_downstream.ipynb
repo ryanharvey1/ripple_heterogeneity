{
 "cells": [
  {
   "cell_type": "code",
   "execution_count": null,
   "metadata": {},
   "outputs": [],
   "source": []
  },
  {
   "cell_type": "code",
   "execution_count": 1,
   "metadata": {},
   "outputs": [],
   "source": [
    "%reload_ext autoreload\n",
    "%autoreload 2"
   ]
  },
  {
   "cell_type": "code",
   "execution_count": 2,
   "metadata": {},
   "outputs": [
    {
     "name": "stderr",
     "output_type": "stream",
     "text": [
      "c:\\Users\\Cornell\\anaconda3\\envs\\ripple_diversity\\lib\\site-packages\\nelpy\\plotting\\decoding.py:9: MatplotlibDeprecationWarning: \n",
      "The mpl_toolkits.axes_grid module was deprecated in Matplotlib 2.1 and will be removed two minor releases later. Use mpl_toolkits.axes_grid1 and mpl_toolkits.axisartist, which provide the same functionality instead.\n"
     ]
    }
   ],
   "source": [
    "from ripple_heterogeneity.utils import (\n",
    "    functions,\n",
    "    loading,\n",
    "    batch_analysis,\n",
    "    add_new_deep_sup,\n",
    ")\n",
    "from ripple_heterogeneity.replay import replay_run, influence_of_layer_bias_on_replay\n",
    "from ripple_heterogeneity.readout import readout_explained_var\n",
    "import pandas as pd\n",
    "import numpy as np\n",
    "import matplotlib.pyplot as plt\n",
    "import seaborn as sns\n",
    "import nelpy as nel\n",
    "import nelpy.plotting as npl\n",
    "from matplotlib.ticker import AutoMinorLocator\n",
    "from sklearn.cluster import KMeans\n",
    "import os\n",
    "from scipy import stats\n",
    "\n",
    "functions.set_plotting_defaults()\n",
    "%matplotlib inline\n",
    "%config InlineBackend.figure_format = 'retina'\n",
    "fig_save_path = r'Z:\\home\\ryanh\\projects\\ripple_heterogeneity\\figures\\panels'"
   ]
  },
  {
   "cell_type": "code",
   "execution_count": 3,
   "metadata": {},
   "outputs": [],
   "source": [
    "save_path = (\n",
    "    r\"Z:\\home\\ryanh\\projects\\ripple_heterogeneity\\readout_explained_var_ripples_extend_50ms_w_pairwise_corr\"\n",
    ")\n",
    "ev_df, pairwise_corr_df = readout_explained_var.load_results(save_path)\n"
   ]
  },
  {
   "cell_type": "code",
   "execution_count": 4,
   "metadata": {},
   "outputs": [],
   "source": [
    "ripple_df = pd.DataFrame()\n",
    "for basepath in ev_df.basepath.unique():\n",
    "    ripple_df = pd.concat([ripple_df,loading.load_ripples_events(basepath)],ignore_index=True)"
   ]
  },
  {
   "cell_type": "code",
   "execution_count": null,
   "metadata": {},
   "outputs": [],
   "source": [
    "save_path = (\n",
    "    r\"Z:\\home\\ryanh\\projects\\ripple_heterogeneity\\ripple_layer_bias\"\n",
    ")\n",
    "\n",
    "batch_analysis.run(\n",
    "    ev_df,\n",
    "    save_path,\n",
    "    influence_of_layer_bias_on_replay.run,\n",
    "    parallel=True,\n",
    "    overwrite=False,\n",
    "    replay_df=ripple_df,\n",
    "    n_shuffles=1000,\n",
    "    q_perc=95\n",
    ")\n",
    "# load results\n",
    "df_layer_bias = influence_of_layer_bias_on_replay.load_results(save_path)"
   ]
  },
  {
   "cell_type": "code",
   "execution_count": null,
   "metadata": {},
   "outputs": [],
   "source": [
    "print(np.sum(df_layer_bias.pval_deep < 0.05),np.sum(df_layer_bias.pval_sup < 0.05),np.sum(df_layer_bias.pval_middle < 0.05))\n",
    "np.sum(df_layer_bias.pval_deep < 0.05)/df_layer_bias.shape[0],np.sum(df_layer_bias.pval_sup < 0.05)/df_layer_bias.shape[0],np.sum(df_layer_bias.pval_middle < 0.05)/df_layer_bias.shape[0]\n"
   ]
  },
  {
   "cell_type": "code",
   "execution_count": null,
   "metadata": {},
   "outputs": [],
   "source": [
    "sns.boxplot(x=\"sig_unit_bias\",y=\"isns\",data=df_layer_bias,showfliers=False)\n",
    "# sns.stripplot(x=\"sig_unit_bias\",y=\"effective\",data=df_layer_bias)\n",
    "plt.axhline(0,color='k',linestyle='--')\n",
    "# plt.yscale(\"log\")"
   ]
  },
  {
   "cell_type": "code",
   "execution_count": null,
   "metadata": {},
   "outputs": [],
   "source": [
    "df_layer_bias.keys()\n"
   ]
  },
  {
   "cell_type": "code",
   "execution_count": null,
   "metadata": {},
   "outputs": [],
   "source": [
    "plt.hist(df_layer_bias[df_layer_bias.pval_deep < 0.05].duration,100,density=True,alpha=0.5)\n",
    "plt.hist(df_layer_bias[df_layer_bias.pval_sup < 0.05].duration,100,density=True,alpha=0.5)\n",
    "# plt.hist(df_layer_bias[df_layer_bias.pval_middle < 0.05].duration,100,density=True,alpha=0.5)\n",
    "\n",
    "plt.show()"
   ]
  },
  {
   "cell_type": "code",
   "execution_count": null,
   "metadata": {},
   "outputs": [],
   "source": [
    "plt.hist(df_layer_bias.pval_deep,100,density=True)\n",
    "plt.hist(df_layer_bias.pval_sup,100,density=True,alpha=0.5)\n",
    "plt.hist(df_layer_bias.pval_middle,100,density=True,alpha=0.5)\n",
    "# plt.xlim(0,.2)\n",
    "plt.yscale(\"log\")\n",
    "df_layer_bias.keys()"
   ]
  }
 ],
 "metadata": {
  "interpreter": {
   "hash": "07484756fddac7bd59393d4118357304c260afb75bd53ff0a49292dc7b401b16"
  },
  "kernelspec": {
   "display_name": "Python 3.8.10 ('ripple_diversity')",
   "language": "python",
   "name": "python3"
  },
  "language_info": {
   "codemirror_mode": {
    "name": "ipython",
    "version": 3
   },
   "file_extension": ".py",
   "mimetype": "text/x-python",
   "name": "python",
   "nbconvert_exporter": "python",
   "pygments_lexer": "ipython3",
   "version": "3.8.10"
  },
  "orig_nbformat": 4
 },
 "nbformat": 4,
 "nbformat_minor": 2
}
