{
 "cells": [
  {
   "cell_type": "code",
   "execution_count": 1,
   "metadata": {},
   "outputs": [
    {
     "name": "stderr",
     "output_type": "stream",
     "text": [
      "<frozen importlib._bootstrap>:219: RuntimeWarning: scipy._lib.messagestream.MessageStream size changed, may indicate binary incompatibility. Expected 56 from C header, got 64 from PyObject\n"
     ]
    }
   ],
   "source": [
    "%reload_ext autoreload\n",
    "%autoreload 2\n",
    "\n",
    "from ripple_heterogeneity.utils import (\n",
    "    functions,\n",
    "    loading,\n",
    "    batch_analysis,\n",
    "    add_new_deep_sup,\n",
    "    custom_plots,\n",
    "    compress_repeated_epochs\n",
    ")\n",
    "from ripple_heterogeneity.readout import assembly_multi_region, assembly_multi_region_member_ratemap_corr\n",
    "import pandas as pd\n",
    "import numpy as np\n",
    "import matplotlib.pyplot as plt\n",
    "import seaborn as sns\n",
    "from matplotlib.ticker import AutoMinorLocator\n",
    "import os\n",
    "import nelpy as nel\n",
    "from statannot import add_stat_annotation\n",
    "from statannotations.Annotator import Annotator\n",
    "import glob\n",
    "import pickle\n",
    "import itertools\n",
    "from ripple_heterogeneity.place_cells import maps\n",
    "from scipy import stats\n",
    "\n",
    "functions.set_plotting_defaults()\n",
    "%matplotlib inline\n",
    "%config InlineBackend.figure_format = 'retina'\n",
    "fig_save_path = r'Z:\\home\\ryanh\\projects\\ripple_heterogeneity\\figures\\panels'"
   ]
  },
  {
   "cell_type": "code",
   "execution_count": 2,
   "metadata": {},
   "outputs": [],
   "source": [
    "save_path = r\"Z:\\home\\ryanh\\projects\\ripple_heterogeneity\\assembly_multi_region_20ms_dt_sleep_compress_v2\"\n",
    "sessions = glob.glob(save_path + os.sep + \"*.pkl\")\n",
    "sessions_df = pd.DataFrame()\n",
    "sessions_df[\"basepath\"] = sessions"
   ]
  },
  {
   "cell_type": "code",
   "execution_count": null,
   "metadata": {},
   "outputs": [],
   "source": [
    "save_path = r\"Z:\\home\\ryanh\\projects\\ripple_heterogeneity\\assembly_multi_region_member_psth_v1\"\n",
    "\n",
    "batch_analysis.run(\n",
    "    sessions_df,\n",
    "    save_path,\n",
    "    assembly_multi_region_member_ratemap_corr.run,\n",
    "    parallel=True,\n",
    "    skip_if_error=False,\n",
    "    verbose=True,\n",
    ")\n",
    "\n",
    "ccgs, label_df = assembly_multi_region_member_ratemap_corr.load_results(save_path)"
   ]
  }
 ],
 "metadata": {
  "kernelspec": {
   "display_name": "Python 3.8.10 ('ripple_diversity')",
   "language": "python",
   "name": "python3"
  },
  "language_info": {
   "codemirror_mode": {
    "name": "ipython",
    "version": 3
   },
   "file_extension": ".py",
   "mimetype": "text/x-python",
   "name": "python",
   "nbconvert_exporter": "python",
   "pygments_lexer": "ipython3",
   "version": "3.8.10"
  },
  "orig_nbformat": 4,
  "vscode": {
   "interpreter": {
    "hash": "07484756fddac7bd59393d4118357304c260afb75bd53ff0a49292dc7b401b16"
   }
  }
 },
 "nbformat": 4,
 "nbformat_minor": 2
}
