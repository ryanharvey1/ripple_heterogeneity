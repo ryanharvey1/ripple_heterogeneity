{
 "cells": [
  {
   "cell_type": "code",
   "execution_count": 1,
   "metadata": {},
   "outputs": [],
   "source": [
    "%reload_ext autoreload\n",
    "%autoreload 2"
   ]
  },
  {
   "cell_type": "code",
   "execution_count": 2,
   "metadata": {},
   "outputs": [
    {
     "name": "stderr",
     "output_type": "stream",
     "text": [
      "c:\\Users\\Cornell\\anaconda3\\envs\\ripple_diversity\\lib\\site-packages\\nelpy\\plotting\\decoding.py:9: MatplotlibDeprecationWarning: \n",
      "The mpl_toolkits.axes_grid module was deprecated in Matplotlib 2.1 and will be removed two minor releases later. Use mpl_toolkits.axes_grid1 and mpl_toolkits.axisartist, which provide the same functionality instead.\n"
     ]
    }
   ],
   "source": [
    "from ripple_heterogeneity.utils import (\n",
    "    functions,\n",
    "    loading,\n",
    "    batch_analysis,\n",
    "    add_new_deep_sup,\n",
    ")\n",
    "from ripple_heterogeneity.replay import replay_run, influence_of_layer_bias_on_replay\n",
    "from ripple_heterogeneity.readout import readout_explained_var\n",
    "import pandas as pd\n",
    "import numpy as np\n",
    "import matplotlib.pyplot as plt\n",
    "import seaborn as sns\n",
    "import nelpy as nel\n",
    "import nelpy.plotting as npl\n",
    "from matplotlib.ticker import AutoMinorLocator\n",
    "from sklearn.cluster import KMeans\n",
    "import os\n",
    "from scipy import stats\n",
    "\n",
    "functions.set_plotting_defaults()\n",
    "%matplotlib inline\n",
    "%config InlineBackend.figure_format = 'retina'\n",
    "fig_save_path = r'Z:\\home\\ryanh\\projects\\ripple_heterogeneity\\figures\\panels'"
   ]
  },
  {
   "cell_type": "markdown",
   "metadata": {},
   "source": [
    "## get sessions with pfc or mec"
   ]
  },
  {
   "cell_type": "code",
   "execution_count": 3,
   "metadata": {},
   "outputs": [],
   "source": [
    "# from ripple_heterogeneity.readout import readout_explained_var\n",
    "\n",
    "# df = pd.read_csv(r\"Z:\\home\\ryanh\\projects\\ripple_heterogeneity\\sessions.csv\")\n",
    "# cell_metrics = loading.load_all_cell_metrics(df.basepath)\n",
    "\n",
    "# sessions = pd.DataFrame()\n",
    "# sessions[\"basepath\"] = cell_metrics[\n",
    "#     cell_metrics.brainRegion.str.contains(\"PFC|EC1|EC2|EC3|EC4|EC5|MEC\")\n",
    "# ].basepath.unique()"
   ]
  },
  {
   "cell_type": "markdown",
   "metadata": {},
   "source": [
    "# load data"
   ]
  },
  {
   "cell_type": "code",
   "execution_count": 19,
   "metadata": {},
   "outputs": [],
   "source": [
    "save_path = (\n",
    "    r\"Z:\\home\\ryanh\\projects\\ripple_heterogeneity\\readout_explained_var_ripples_extend_50ms_w_pairwise_corr\"\n",
    ")\n",
    "\n",
    "ev_df, pairwise_corr_df = readout_explained_var.load_results(save_path)\n",
    "\n",
    "pairwise_corr_df[\"corrcoef\"] = pairwise_corr_df[\"corr\"] \n",
    "pairwise_corr_df = pairwise_corr_df.drop([\"corr\"], axis=1)\n",
    "\n",
    "pairwise_corr_df.loc[pairwise_corr_df.region == \"EC1|EC2|EC3|EC4|EC5|MEC\", \"region\"] = \"MEC\"\n",
    "pairwise_corr_df = pairwise_corr_df[~np.isnan(pairwise_corr_df['corrcoef'])]\n",
    "pairwise_corr_df.reset_index(drop=True, inplace=True)"
   ]
  },
  {
   "cell_type": "code",
   "execution_count": 20,
   "metadata": {},
   "outputs": [
    {
     "data": {
      "text/html": [
       "<div>\n",
       "<style scoped>\n",
       "    .dataframe tbody tr th:only-of-type {\n",
       "        vertical-align: middle;\n",
       "    }\n",
       "\n",
       "    .dataframe tbody tr th {\n",
       "        vertical-align: top;\n",
       "    }\n",
       "\n",
       "    .dataframe thead th {\n",
       "        text-align: right;\n",
       "    }\n",
       "</style>\n",
       "<table border=\"1\" class=\"dataframe\">\n",
       "  <thead>\n",
       "    <tr style=\"text-align: right;\">\n",
       "      <th></th>\n",
       "      <th>epoch</th>\n",
       "      <th>region</th>\n",
       "      <th>sublayer</th>\n",
       "      <th>basepath</th>\n",
       "      <th>corrcoef</th>\n",
       "    </tr>\n",
       "  </thead>\n",
       "  <tbody>\n",
       "    <tr>\n",
       "      <th>0</th>\n",
       "      <td>pre</td>\n",
       "      <td>MEC</td>\n",
       "      <td>Deep</td>\n",
       "      <td>Z:\\Data\\AYAold\\AYA7\\day19</td>\n",
       "      <td>0.071743</td>\n",
       "    </tr>\n",
       "    <tr>\n",
       "      <th>1</th>\n",
       "      <td>pre</td>\n",
       "      <td>MEC</td>\n",
       "      <td>Deep</td>\n",
       "      <td>Z:\\Data\\AYAold\\AYA7\\day19</td>\n",
       "      <td>0.026452</td>\n",
       "    </tr>\n",
       "    <tr>\n",
       "      <th>2</th>\n",
       "      <td>pre</td>\n",
       "      <td>MEC</td>\n",
       "      <td>Deep</td>\n",
       "      <td>Z:\\Data\\AYAold\\AYA7\\day19</td>\n",
       "      <td>0.049039</td>\n",
       "    </tr>\n",
       "    <tr>\n",
       "      <th>3</th>\n",
       "      <td>pre</td>\n",
       "      <td>MEC</td>\n",
       "      <td>Deep</td>\n",
       "      <td>Z:\\Data\\AYAold\\AYA7\\day19</td>\n",
       "      <td>0.005640</td>\n",
       "    </tr>\n",
       "    <tr>\n",
       "      <th>4</th>\n",
       "      <td>pre</td>\n",
       "      <td>MEC</td>\n",
       "      <td>Deep</td>\n",
       "      <td>Z:\\Data\\AYAold\\AYA7\\day19</td>\n",
       "      <td>0.113637</td>\n",
       "    </tr>\n",
       "    <tr>\n",
       "      <th>...</th>\n",
       "      <td>...</td>\n",
       "      <td>...</td>\n",
       "      <td>...</td>\n",
       "      <td>...</td>\n",
       "      <td>...</td>\n",
       "    </tr>\n",
       "    <tr>\n",
       "      <th>469992</th>\n",
       "      <td>post</td>\n",
       "      <td>PFC</td>\n",
       "      <td>Deep</td>\n",
       "      <td>Z:\\Data\\ORproject\\OR18\\day2</td>\n",
       "      <td>0.228201</td>\n",
       "    </tr>\n",
       "    <tr>\n",
       "      <th>469993</th>\n",
       "      <td>post</td>\n",
       "      <td>PFC</td>\n",
       "      <td>Deep</td>\n",
       "      <td>Z:\\Data\\ORproject\\OR18\\day2</td>\n",
       "      <td>0.030981</td>\n",
       "    </tr>\n",
       "    <tr>\n",
       "      <th>469994</th>\n",
       "      <td>post</td>\n",
       "      <td>PFC</td>\n",
       "      <td>Deep</td>\n",
       "      <td>Z:\\Data\\ORproject\\OR18\\day2</td>\n",
       "      <td>0.090695</td>\n",
       "    </tr>\n",
       "    <tr>\n",
       "      <th>469995</th>\n",
       "      <td>post</td>\n",
       "      <td>PFC</td>\n",
       "      <td>Deep</td>\n",
       "      <td>Z:\\Data\\ORproject\\OR18\\day2</td>\n",
       "      <td>0.217487</td>\n",
       "    </tr>\n",
       "    <tr>\n",
       "      <th>469996</th>\n",
       "      <td>post</td>\n",
       "      <td>PFC</td>\n",
       "      <td>Deep</td>\n",
       "      <td>Z:\\Data\\ORproject\\OR18\\day2</td>\n",
       "      <td>0.124707</td>\n",
       "    </tr>\n",
       "  </tbody>\n",
       "</table>\n",
       "<p>469997 rows × 5 columns</p>\n",
       "</div>"
      ],
      "text/plain": [
       "       epoch region sublayer                     basepath  corrcoef\n",
       "0        pre    MEC     Deep    Z:\\Data\\AYAold\\AYA7\\day19  0.071743\n",
       "1        pre    MEC     Deep    Z:\\Data\\AYAold\\AYA7\\day19  0.026452\n",
       "2        pre    MEC     Deep    Z:\\Data\\AYAold\\AYA7\\day19  0.049039\n",
       "3        pre    MEC     Deep    Z:\\Data\\AYAold\\AYA7\\day19  0.005640\n",
       "4        pre    MEC     Deep    Z:\\Data\\AYAold\\AYA7\\day19  0.113637\n",
       "...      ...    ...      ...                          ...       ...\n",
       "469992  post    PFC     Deep  Z:\\Data\\ORproject\\OR18\\day2  0.228201\n",
       "469993  post    PFC     Deep  Z:\\Data\\ORproject\\OR18\\day2  0.030981\n",
       "469994  post    PFC     Deep  Z:\\Data\\ORproject\\OR18\\day2  0.090695\n",
       "469995  post    PFC     Deep  Z:\\Data\\ORproject\\OR18\\day2  0.217487\n",
       "469996  post    PFC     Deep  Z:\\Data\\ORproject\\OR18\\day2  0.124707\n",
       "\n",
       "[469997 rows x 5 columns]"
      ]
     },
     "execution_count": 20,
     "metadata": {},
     "output_type": "execute_result"
    }
   ],
   "source": [
    "pairwise_corr_df"
   ]
  },
  {
   "cell_type": "code",
   "execution_count": 21,
   "metadata": {},
   "outputs": [],
   "source": [
    "pairwise_corr_df[\"region_sublayer\"] = pairwise_corr_df[\"sublayer\"] + \"_\" + pairwise_corr_df[\"region\"]"
   ]
  },
  {
   "cell_type": "code",
   "execution_count": 22,
   "metadata": {},
   "outputs": [
    {
     "data": {
      "image/png": "[encoded data removed]",
      "text/plain": [
       "<Figure size 432x288 with 1 Axes>"
      ]
     },
     "metadata": {
      "image/png": {
       "height": 262,
       "width": 391
      },
      "needs_background": "light"
     },
     "output_type": "display_data"
    }
   ],
   "source": [
    "sns.boxplot(x=\"epoch\", y=\"corrcoef\",hue=\"region_sublayer\", data=pairwise_corr_df, showfliers=False)\n",
    "# sns.stripplot(x=\"epoch\", y=\"corrcoef\",hue=\"region_sublayer\", data=pairwise_corr_df,dodge=True,color='k',alpha=.2)\n",
    "plt.grid()"
   ]
  },
  {
   "cell_type": "code",
   "execution_count": 25,
   "metadata": {},
   "outputs": [],
   "source": [
    "for basepath in pairwise_corr_df.basepath.unique():\n",
    "    session_idx = pairwise_corr_df.basepath == basepath\n",
    "    for epoch in pairwise_corr_df[session_idx].epoch.unique():\n",
    "        epoch_idx = (pairwise_corr_df.epoch == epoch) & (pairwise_corr_df.basepath == basepath)\n",
    "        pairwise_corr_df.loc[epoch_idx, \"session_idx\"] = np.arange(sum(epoch_idx))"
   ]
  },
  {
   "cell_type": "code",
   "execution_count": 74,
   "metadata": {},
   "outputs": [],
   "source": [
    "pairwise_corr_df[\"r2\"] = pairwise_corr_df[\"corrcoef\"] ** 2"
   ]
  },
  {
   "cell_type": "code",
   "execution_count": 84,
   "metadata": {},
   "outputs": [
    {
     "name": "stdout",
     "output_type": "stream",
     "text": [
      "p-value annotation legend:\n",
      "ns: 5.00e-02 < p <= 1.00e+00\n",
      "*: 1.00e-02 < p <= 5.00e-02\n",
      "**: 1.00e-03 < p <= 1.00e-02\n",
      "***: 1.00e-04 < p <= 1.00e-03\n",
      "****: p <= 1.00e-04\n",
      "\n",
      "PFC_Deep v.s. PFC_Superficial: t-test independent samples with Bonferroni correction, P_val=3.473e-49 stat=1.487e+01\n",
      "MEC_Deep v.s. MEC_Superficial: t-test independent samples with Bonferroni correction, P_val=1.465e-12 stat=-7.323e+00\n",
      "MEC_Superficial v.s. PFC_Deep: t-test independent samples with Bonferroni correction, P_val=7.729e-285 stat=3.626e+01\n",
      "MEC_Deep v.s. PFC_Deep: t-test independent samples with Bonferroni correction, P_val=1.899e-197 stat=3.010e+01\n",
      "MEC_Superficial v.s. PFC_Superficial: t-test independent samples with Bonferroni correction, P_val=0.000e+00 stat=4.259e+01\n",
      "MEC_Deep v.s. PFC_Superficial: t-test independent samples with Bonferroni correction, P_val=2.815e-268 stat=3.519e+01\n"
     ]
    },
    {
     "data": {
      "text/plain": [
       "(<AxesSubplot:xlabel='region', ylabel='r2'>,\n",
       " [<statannot.StatResult.StatResult at 0x2b09e970f10>,\n",
       "  <statannot.StatResult.StatResult at 0x2b095f7f430>,\n",
       "  <statannot.StatResult.StatResult at 0x2b095f7f5b0>,\n",
       "  <statannot.StatResult.StatResult at 0x2b095f7f310>,\n",
       "  <statannot.StatResult.StatResult at 0x2b0a4575af0>,\n",
       "  <statannot.StatResult.StatResult at 0x2b0a4575b80>])"
      ]
     },
     "execution_count": 84,
     "metadata": {},
     "output_type": "execute_result"
    },
    {
     "data": {
      "image/png": "[encoded data removed]",
      "text/plain": [
       "<Figure size 432x288 with 1 Axes>"
      ]
     },
     "metadata": {
      "image/png": {
       "height": 367,
       "width": 389
      },
      "needs_background": "light"
     },
     "output_type": "display_data"
    }
   ],
   "source": [
    "pre_df = pairwise_corr_df[pairwise_corr_df.epoch == \"pre\"]\n",
    "\n",
    "sns.boxplot(\n",
    "    x=\"region\",\n",
    "    y=\"r2\",\n",
    "    hue=\"sublayer\",\n",
    "    data=pre_df,\n",
    "    showfliers=False,\n",
    ")\n",
    "# plt.yscale(\"log\")\n",
    "box_pairs = [\n",
    "    ((\"MEC\", \"Deep\"), (\"MEC\", \"Superficial\")),\n",
    "    ((\"PFC\", \"Deep\"), (\"PFC\", \"Superficial\")),\n",
    "    ((\"PFC\", \"Deep\"), (\"MEC\", \"Deep\")),\n",
    "    ((\"PFC\", \"Superficial\"), (\"MEC\", \"Superficial\")),\n",
    "    ((\"PFC\", \"Superficial\"), (\"MEC\", \"Deep\")),\n",
    "    ((\"PFC\", \"Deep\"), (\"MEC\", \"Superficial\")),\n",
    "\n",
    "]\n",
    "add_stat_annotation(\n",
    "    plt.gca(),\n",
    "    x=\"region\",\n",
    "    y=\"r2\",\n",
    "    hue=\"sublayer\",\n",
    "    data=pre_df,\n",
    "    box_pairs=box_pairs,\n",
    "    test=\"t-test_ind\",\n",
    "    text_format=\"star\",\n",
    "    loc=\"outside\",\n",
    "    verbose=2,\n",
    ")"
   ]
  },
  {
   "cell_type": "code",
   "execution_count": 62,
   "metadata": {},
   "outputs": [
    {
     "data": {
      "text/html": [
       "<div>\n",
       "<style scoped>\n",
       "    .dataframe tbody tr th:only-of-type {\n",
       "        vertical-align: middle;\n",
       "    }\n",
       "\n",
       "    .dataframe tbody tr th {\n",
       "        vertical-align: top;\n",
       "    }\n",
       "\n",
       "    .dataframe thead tr th {\n",
       "        text-align: left;\n",
       "    }\n",
       "</style>\n",
       "<table border=\"1\" class=\"dataframe\">\n",
       "  <thead>\n",
       "    <tr>\n",
       "      <th></th>\n",
       "      <th>basepath</th>\n",
       "      <th>region</th>\n",
       "      <th>sublayer</th>\n",
       "      <th>region_sublayer</th>\n",
       "      <th>session_idx</th>\n",
       "      <th colspan=\"3\" halign=\"left\">corrcoef</th>\n",
       "      <th>corrcoef_pre_post</th>\n",
       "      <th>corrcoef_pre_post_abs</th>\n",
       "      <th>r2_pre_post</th>\n",
       "    </tr>\n",
       "    <tr>\n",
       "      <th>epoch</th>\n",
       "      <th></th>\n",
       "      <th></th>\n",
       "      <th></th>\n",
       "      <th></th>\n",
       "      <th></th>\n",
       "      <th>post</th>\n",
       "      <th>pre</th>\n",
       "      <th>task</th>\n",
       "      <th></th>\n",
       "      <th></th>\n",
       "      <th></th>\n",
       "    </tr>\n",
       "  </thead>\n",
       "  <tbody>\n",
       "    <tr>\n",
       "      <th>0</th>\n",
       "      <td>Z:\\Data\\AYAold\\AYA7\\day19</td>\n",
       "      <td>MEC</td>\n",
       "      <td>Deep</td>\n",
       "      <td>Deep_MEC</td>\n",
       "      <td>0.0</td>\n",
       "      <td>0.115733</td>\n",
       "      <td>0.071743</td>\n",
       "      <td>0.022085</td>\n",
       "      <td>-0.043990</td>\n",
       "      <td>0.043990</td>\n",
       "      <td>0.001935</td>\n",
       "    </tr>\n",
       "    <tr>\n",
       "      <th>1</th>\n",
       "      <td>Z:\\Data\\AYAold\\AYA7\\day19</td>\n",
       "      <td>MEC</td>\n",
       "      <td>Deep</td>\n",
       "      <td>Deep_MEC</td>\n",
       "      <td>1.0</td>\n",
       "      <td>0.063071</td>\n",
       "      <td>0.026452</td>\n",
       "      <td>0.000278</td>\n",
       "      <td>-0.036619</td>\n",
       "      <td>0.036619</td>\n",
       "      <td>0.001341</td>\n",
       "    </tr>\n",
       "    <tr>\n",
       "      <th>2</th>\n",
       "      <td>Z:\\Data\\AYAold\\AYA7\\day19</td>\n",
       "      <td>MEC</td>\n",
       "      <td>Deep</td>\n",
       "      <td>Deep_MEC</td>\n",
       "      <td>2.0</td>\n",
       "      <td>0.086257</td>\n",
       "      <td>0.049039</td>\n",
       "      <td>-0.005033</td>\n",
       "      <td>-0.037219</td>\n",
       "      <td>0.037219</td>\n",
       "      <td>0.001385</td>\n",
       "    </tr>\n",
       "    <tr>\n",
       "      <th>3</th>\n",
       "      <td>Z:\\Data\\AYAold\\AYA7\\day19</td>\n",
       "      <td>MEC</td>\n",
       "      <td>Deep</td>\n",
       "      <td>Deep_MEC</td>\n",
       "      <td>3.0</td>\n",
       "      <td>-0.000826</td>\n",
       "      <td>0.005640</td>\n",
       "      <td>0.015633</td>\n",
       "      <td>0.006465</td>\n",
       "      <td>0.006465</td>\n",
       "      <td>0.000042</td>\n",
       "    </tr>\n",
       "    <tr>\n",
       "      <th>4</th>\n",
       "      <td>Z:\\Data\\AYAold\\AYA7\\day19</td>\n",
       "      <td>MEC</td>\n",
       "      <td>Deep</td>\n",
       "      <td>Deep_MEC</td>\n",
       "      <td>4.0</td>\n",
       "      <td>0.048797</td>\n",
       "      <td>0.113637</td>\n",
       "      <td>-0.015339</td>\n",
       "      <td>0.064840</td>\n",
       "      <td>0.064840</td>\n",
       "      <td>0.004204</td>\n",
       "    </tr>\n",
       "    <tr>\n",
       "      <th>...</th>\n",
       "      <td>...</td>\n",
       "      <td>...</td>\n",
       "      <td>...</td>\n",
       "      <td>...</td>\n",
       "      <td>...</td>\n",
       "      <td>...</td>\n",
       "      <td>...</td>\n",
       "      <td>...</td>\n",
       "      <td>...</td>\n",
       "      <td>...</td>\n",
       "      <td>...</td>\n",
       "    </tr>\n",
       "    <tr>\n",
       "      <th>165404</th>\n",
       "      <td>Z:\\Data\\ORproject\\OR18\\day2</td>\n",
       "      <td>PFC</td>\n",
       "      <td>Deep</td>\n",
       "      <td>Deep_PFC</td>\n",
       "      <td>298.0</td>\n",
       "      <td>0.228201</td>\n",
       "      <td>0.391553</td>\n",
       "      <td>-0.017103</td>\n",
       "      <td>0.163352</td>\n",
       "      <td>0.163352</td>\n",
       "      <td>0.026684</td>\n",
       "    </tr>\n",
       "    <tr>\n",
       "      <th>165405</th>\n",
       "      <td>Z:\\Data\\ORproject\\OR18\\day2</td>\n",
       "      <td>PFC</td>\n",
       "      <td>Deep</td>\n",
       "      <td>Deep_PFC</td>\n",
       "      <td>299.0</td>\n",
       "      <td>0.030981</td>\n",
       "      <td>0.134141</td>\n",
       "      <td>0.005404</td>\n",
       "      <td>0.103160</td>\n",
       "      <td>0.103160</td>\n",
       "      <td>0.010642</td>\n",
       "    </tr>\n",
       "    <tr>\n",
       "      <th>165406</th>\n",
       "      <td>Z:\\Data\\ORproject\\OR18\\day2</td>\n",
       "      <td>PFC</td>\n",
       "      <td>Deep</td>\n",
       "      <td>Deep_PFC</td>\n",
       "      <td>300.0</td>\n",
       "      <td>0.090695</td>\n",
       "      <td>0.160112</td>\n",
       "      <td>0.031985</td>\n",
       "      <td>0.069417</td>\n",
       "      <td>0.069417</td>\n",
       "      <td>0.004819</td>\n",
       "    </tr>\n",
       "    <tr>\n",
       "      <th>165407</th>\n",
       "      <td>Z:\\Data\\ORproject\\OR18\\day2</td>\n",
       "      <td>PFC</td>\n",
       "      <td>Deep</td>\n",
       "      <td>Deep_PFC</td>\n",
       "      <td>301.0</td>\n",
       "      <td>0.217487</td>\n",
       "      <td>0.308370</td>\n",
       "      <td>0.021767</td>\n",
       "      <td>0.090883</td>\n",
       "      <td>0.090883</td>\n",
       "      <td>0.008260</td>\n",
       "    </tr>\n",
       "    <tr>\n",
       "      <th>165408</th>\n",
       "      <td>Z:\\Data\\ORproject\\OR18\\day2</td>\n",
       "      <td>PFC</td>\n",
       "      <td>Deep</td>\n",
       "      <td>Deep_PFC</td>\n",
       "      <td>302.0</td>\n",
       "      <td>0.124707</td>\n",
       "      <td>0.275539</td>\n",
       "      <td>0.057264</td>\n",
       "      <td>0.150832</td>\n",
       "      <td>0.150832</td>\n",
       "      <td>0.022750</td>\n",
       "    </tr>\n",
       "  </tbody>\n",
       "</table>\n",
       "<p>165409 rows × 11 columns</p>\n",
       "</div>"
      ],
      "text/plain": [
       "                           basepath region sublayer region_sublayer  \\\n",
       "epoch                                                                 \n",
       "0         Z:\\Data\\AYAold\\AYA7\\day19    MEC     Deep        Deep_MEC   \n",
       "1         Z:\\Data\\AYAold\\AYA7\\day19    MEC     Deep        Deep_MEC   \n",
       "2         Z:\\Data\\AYAold\\AYA7\\day19    MEC     Deep        Deep_MEC   \n",
       "3         Z:\\Data\\AYAold\\AYA7\\day19    MEC     Deep        Deep_MEC   \n",
       "4         Z:\\Data\\AYAold\\AYA7\\day19    MEC     Deep        Deep_MEC   \n",
       "...                             ...    ...      ...             ...   \n",
       "165404  Z:\\Data\\ORproject\\OR18\\day2    PFC     Deep        Deep_PFC   \n",
       "165405  Z:\\Data\\ORproject\\OR18\\day2    PFC     Deep        Deep_PFC   \n",
       "165406  Z:\\Data\\ORproject\\OR18\\day2    PFC     Deep        Deep_PFC   \n",
       "165407  Z:\\Data\\ORproject\\OR18\\day2    PFC     Deep        Deep_PFC   \n",
       "165408  Z:\\Data\\ORproject\\OR18\\day2    PFC     Deep        Deep_PFC   \n",
       "\n",
       "       session_idx  corrcoef                     corrcoef_pre_post  \\\n",
       "epoch                   post       pre      task                     \n",
       "0              0.0  0.115733  0.071743  0.022085         -0.043990   \n",
       "1              1.0  0.063071  0.026452  0.000278         -0.036619   \n",
       "2              2.0  0.086257  0.049039 -0.005033         -0.037219   \n",
       "3              3.0 -0.000826  0.005640  0.015633          0.006465   \n",
       "4              4.0  0.048797  0.113637 -0.015339          0.064840   \n",
       "...            ...       ...       ...       ...               ...   \n",
       "165404       298.0  0.228201  0.391553 -0.017103          0.163352   \n",
       "165405       299.0  0.030981  0.134141  0.005404          0.103160   \n",
       "165406       300.0  0.090695  0.160112  0.031985          0.069417   \n",
       "165407       301.0  0.217487  0.308370  0.021767          0.090883   \n",
       "165408       302.0  0.124707  0.275539  0.057264          0.150832   \n",
       "\n",
       "       corrcoef_pre_post_abs r2_pre_post  \n",
       "epoch                                     \n",
       "0                   0.043990    0.001935  \n",
       "1                   0.036619    0.001341  \n",
       "2                   0.037219    0.001385  \n",
       "3                   0.006465    0.000042  \n",
       "4                   0.064840    0.004204  \n",
       "...                      ...         ...  \n",
       "165404              0.163352    0.026684  \n",
       "165405              0.103160    0.010642  \n",
       "165406              0.069417    0.004819  \n",
       "165407              0.090883    0.008260  \n",
       "165408              0.150832    0.022750  \n",
       "\n",
       "[165409 rows x 11 columns]"
      ]
     },
     "execution_count": 62,
     "metadata": {},
     "output_type": "execute_result"
    }
   ],
   "source": [
    "df_wide = pd.pivot(\n",
    "    pairwise_corr_df, index=[\"basepath\",\"region\",\"sublayer\",\"region_sublayer\",\"session_idx\"], columns=\"epoch\", values=[\"corrcoef\"]\n",
    ").reset_index()\n",
    "df_wide\n",
    "df_wide[\"corrcoef_pre_post\"] = (df_wide[\"corrcoef\"][\"pre\"] - df_wide[\"corrcoef\"][\"post\"])\n",
    "df_wide[\"corrcoef_pre_post_abs\"] = np.abs(df_wide[\"corrcoef_pre_post\"])\n",
    "df_wide[\"r2_pre_post\"] = df_wide[\"corrcoef_pre_post\"]**2\n",
    "\n",
    "df_wide"
   ]
  },
  {
   "cell_type": "code",
   "execution_count": 67,
   "metadata": {},
   "outputs": [
    {
     "name": "stdout",
     "output_type": "stream",
     "text": [
      "p-value annotation legend:\n",
      "ns: 5.00e-02 < p <= 1.00e+00\n",
      "*: 1.00e-02 < p <= 5.00e-02\n",
      "**: 1.00e-03 < p <= 1.00e-02\n",
      "***: 1.00e-04 < p <= 1.00e-03\n",
      "****: p <= 1.00e-04\n",
      "\n",
      "PFC_Deep v.s. PFC_Superficial: Mann-Whitney-Wilcoxon test two-sided with Bonferroni correction, P_val=8.912e-52 U_stat=5.738e+08\n",
      "MEC_Deep v.s. MEC_Superficial: Mann-Whitney-Wilcoxon test two-sided with Bonferroni correction, P_val=7.522e-01 U_stat=7.121e+08\n"
     ]
    },
    {
     "data": {
      "text/plain": [
       "(<AxesSubplot:xlabel='region', ylabel='r2_pre_post'>,\n",
       " [<statannot.StatResult.StatResult at 0x2b0b41a7d00>,\n",
       "  <statannot.StatResult.StatResult at 0x2b094df9eb0>])"
      ]
     },
     "execution_count": 67,
     "metadata": {},
     "output_type": "execute_result"
    },
    {
     "data": {
      "image/png": "[encoded data removed]",
      "text/plain": [
       "<Figure size 432x288 with 1 Axes>"
      ]
     },
     "metadata": {
      "image/png": {
       "height": 284,
       "width": 395
      },
      "needs_background": "light"
     },
     "output_type": "display_data"
    }
   ],
   "source": [
    "sns.boxplot(\n",
    "    x=\"region\",\n",
    "    y=\"r2_pre_post\",\n",
    "    hue=\"sublayer\",\n",
    "    data=df_wide,\n",
    "    showfliers=False,\n",
    ")\n",
    "# plt.yscale(\"log\")\n",
    "\n",
    "box_pairs = [\n",
    "    ((\"MEC\", \"Deep\"), (\"MEC\", \"Superficial\")),\n",
    "    ((\"PFC\", \"Deep\"), (\"PFC\", \"Superficial\")),\n",
    "]\n",
    "add_stat_annotation(\n",
    "    plt.gca(),\n",
    "    x=\"region\",\n",
    "    y=\"r2_pre_post\",\n",
    "    hue=\"sublayer\",\n",
    "    data=df_wide,\n",
    "    box_pairs=box_pairs,\n",
    "    test=\"Mann-Whitney\",\n",
    "    text_format=\"star\",\n",
    "    loc=\"outside\",\n",
    "    verbose=2,\n",
    ")"
   ]
  },
  {
   "cell_type": "code",
   "execution_count": 48,
   "metadata": {},
   "outputs": [
    {
     "name": "stdout",
     "output_type": "stream",
     "text": [
      "p-value annotation legend:\n",
      "ns: 5.00e-02 < p <= 1.00e+00\n",
      "*: 1.00e-02 < p <= 5.00e-02\n",
      "**: 1.00e-03 < p <= 1.00e-02\n",
      "***: 1.00e-04 < p <= 1.00e-03\n",
      "****: p <= 1.00e-04\n",
      "\n",
      "Deep_MEC v.s. Superficial_MEC: t-test independent samples with Bonferroni correction, P_val=6.641e-07 stat=5.105e+00\n",
      "Deep_PFC v.s. Superficial_PFC: t-test independent samples with Bonferroni correction, P_val=3.159e-42 stat=1.368e+01\n"
     ]
    },
    {
     "data": {
      "text/plain": [
       "(<AxesSubplot:xlabel='region_sublayer', ylabel='corrcoef_pre_post_abs'>,\n",
       " [<statannot.StatResult.StatResult at 0x2b0997ca8e0>,\n",
       "  <statannot.StatResult.StatResult at 0x2b089ba91c0>])"
      ]
     },
     "execution_count": 48,
     "metadata": {},
     "output_type": "execute_result"
    },
    {
     "data": {
      "image/png": "[encoded data removed]",
      "text/plain": [
       "<Figure size 432x288 with 1 Axes>"
      ]
     },
     "metadata": {
      "image/png": {
       "height": 284,
       "width": 390
      },
      "needs_background": "light"
     },
     "output_type": "display_data"
    }
   ],
   "source": [
    "from statannot import add_stat_annotation\n",
    "\n",
    "# df_wide[\"corrcoef_pre_post\"] = (df_wide[\"corrcoef\"][\"pre\"] - df_wide[\"corrcoef\"][\"post\"]) / (df_wide[\"corrcoef\"][\"pre\"] + df_wide[\"corrcoef\"][\"post\"])\n",
    "\n",
    "\n",
    "# df_wide[\"sup_ev_norm\"] = df_wide[\"ev\"][\"Superficial\"] - df_wide[\"rev\"][\"Superficial\"]\n",
    "\n",
    "sns.boxplot(x=\"region_sublayer\", y=\"corrcoef_pre_post_abs\", data=df_wide, showfliers=False)\n",
    "# sns.stripplot(x=\"region_sublayer\", y=\"corrcoef_pre_post\", data=df_wide,dodge=True,color='k',alpha=.2)\n",
    "\n",
    "box_pairs=[(\"Deep_MEC\", \"Superficial_MEC\"), (\"Deep_PFC\", \"Superficial_PFC\")]\n",
    "add_stat_annotation(plt.gca(),x=\"region_sublayer\", y=\"corrcoef_pre_post_abs\", data=df_wide,\n",
    "                    box_pairs=box_pairs,\n",
    "                    test='t-test_ind', text_format='star', loc='outside', verbose=2)"
   ]
  }
 ],
 "metadata": {
  "interpreter": {
   "hash": "07484756fddac7bd59393d4118357304c260afb75bd53ff0a49292dc7b401b16"
  },
  "kernelspec": {
   "display_name": "Python 3.8.10 ('ripple_diversity')",
   "language": "python",
   "name": "python3"
  },
  "language_info": {
   "codemirror_mode": {
    "name": "ipython",
    "version": 3
   },
   "file_extension": ".py",
   "mimetype": "text/x-python",
   "name": "python",
   "nbconvert_exporter": "python",
   "pygments_lexer": "ipython3",
   "version": "3.8.10"
  },
  "orig_nbformat": 4
 },
 "nbformat": 4,
 "nbformat_minor": 2
}
