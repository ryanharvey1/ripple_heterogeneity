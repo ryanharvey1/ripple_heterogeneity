{
 "cells": [
  {
   "cell_type": "code",
   "execution_count": 1,
   "metadata": {},
   "outputs": [
    {
     "name": "stderr",
     "output_type": "stream",
     "text": [
      "<frozen importlib._bootstrap>:219: RuntimeWarning: scipy._lib.messagestream.MessageStream size changed, may indicate binary incompatibility. Expected 56 from C header, got 64 from PyObject\n"
     ]
    }
   ],
   "source": [
    "%reload_ext autoreload\n",
    "%autoreload 2\n",
    "\n",
    "from ripple_heterogeneity.utils import (\n",
    "    functions,\n",
    "    loading,\n",
    "    batch_analysis,\n",
    "    add_new_deep_sup,\n",
    "    custom_plots,\n",
    "    compress_repeated_epochs\n",
    ")\n",
    "from ripple_heterogeneity.assembly import assembly_reactivation,find_sig_assembly\n",
    "from ripple_heterogeneity.readout import assembly_multi_region, assembly_strength_gradual_formation\n",
    "import pandas as pd\n",
    "import numpy as np\n",
    "import matplotlib.pyplot as plt\n",
    "import seaborn as sns\n",
    "import nelpy as nel\n",
    "from matplotlib.ticker import AutoMinorLocator\n",
    "import os\n",
    "from statannot import add_stat_annotation\n",
    "from statannotations.Annotator import Annotator\n",
    "import nelpy.plotting as npl\n",
    "import seaborn.objects as so\n",
    "from statsmodels.stats.proportion import proportions_ztest\n",
    "\n",
    "\n",
    "functions.set_plotting_defaults()\n",
    "%matplotlib inline\n",
    "%config InlineBackend.figure_format = 'retina'\n",
    "fig_save_path = r'Z:\\home\\ryanh\\projects\\ripple_heterogeneity\\figures\\panels'"
   ]
  },
  {
   "cell_type": "code",
   "execution_count": 2,
   "metadata": {},
   "outputs": [
    {
     "data": {
      "text/html": [
       "<div>\n",
       "<style scoped>\n",
       "    .dataframe tbody tr th:only-of-type {\n",
       "        vertical-align: middle;\n",
       "    }\n",
       "\n",
       "    .dataframe tbody tr th {\n",
       "        vertical-align: top;\n",
       "    }\n",
       "\n",
       "    .dataframe thead th {\n",
       "        text-align: right;\n",
       "    }\n",
       "</style>\n",
       "<table border=\"1\" class=\"dataframe\">\n",
       "  <thead>\n",
       "    <tr style=\"text-align: right;\">\n",
       "      <th></th>\n",
       "      <th>basepath</th>\n",
       "    </tr>\n",
       "  </thead>\n",
       "  <tbody>\n",
       "    <tr>\n",
       "      <th>0</th>\n",
       "      <td>Z:\\Data\\AYAold\\AYA10\\day12</td>\n",
       "    </tr>\n",
       "    <tr>\n",
       "      <th>1</th>\n",
       "      <td>Z:\\Data\\AYAold\\AYA7\\day19</td>\n",
       "    </tr>\n",
       "    <tr>\n",
       "      <th>2</th>\n",
       "      <td>Z:\\Data\\AYAold\\AYA7\\day20</td>\n",
       "    </tr>\n",
       "    <tr>\n",
       "      <th>3</th>\n",
       "      <td>Z:\\Data\\AYAold\\AYA7\\day24</td>\n",
       "    </tr>\n",
       "    <tr>\n",
       "      <th>4</th>\n",
       "      <td>Z:\\Data\\AYAold\\AYA7\\day25</td>\n",
       "    </tr>\n",
       "    <tr>\n",
       "      <th>...</th>\n",
       "      <td>...</td>\n",
       "    </tr>\n",
       "    <tr>\n",
       "      <th>114</th>\n",
       "      <td>Z:\\Data\\Kenji\\i01_maze15_MS.001_004</td>\n",
       "    </tr>\n",
       "    <tr>\n",
       "      <th>115</th>\n",
       "      <td>Z:\\Data\\Kenji\\nlx_070329</td>\n",
       "    </tr>\n",
       "    <tr>\n",
       "      <th>116</th>\n",
       "      <td>Z:\\Data\\ORproject\\OR18\\day1</td>\n",
       "    </tr>\n",
       "    <tr>\n",
       "      <th>117</th>\n",
       "      <td>Z:\\Data\\ORproject\\OR18\\day2</td>\n",
       "    </tr>\n",
       "    <tr>\n",
       "      <th>118</th>\n",
       "      <td>Z:\\Data\\ORproject\\OR18\\day3</td>\n",
       "    </tr>\n",
       "  </tbody>\n",
       "</table>\n",
       "<p>119 rows × 1 columns</p>\n",
       "</div>"
      ],
      "text/plain": [
       "                                basepath\n",
       "0             Z:\\Data\\AYAold\\AYA10\\day12\n",
       "1              Z:\\Data\\AYAold\\AYA7\\day19\n",
       "2              Z:\\Data\\AYAold\\AYA7\\day20\n",
       "3              Z:\\Data\\AYAold\\AYA7\\day24\n",
       "4              Z:\\Data\\AYAold\\AYA7\\day25\n",
       "..                                   ...\n",
       "114  Z:\\Data\\Kenji\\i01_maze15_MS.001_004\n",
       "115             Z:\\Data\\Kenji\\nlx_070329\n",
       "116          Z:\\Data\\ORproject\\OR18\\day1\n",
       "117          Z:\\Data\\ORproject\\OR18\\day2\n",
       "118          Z:\\Data\\ORproject\\OR18\\day3\n",
       "\n",
       "[119 rows x 1 columns]"
      ]
     },
     "execution_count": 2,
     "metadata": {},
     "output_type": "execute_result"
    }
   ],
   "source": [
    "df = pd.read_csv(r\"Z:\\home\\ryanh\\projects\\ripple_heterogeneity\\sessions.csv\")\n",
    "\n",
    "region_df = pd.DataFrame()\n",
    "for basepath in df.basepath:\n",
    "    brainRegions = loading.load_brain_regions(basepath)\n",
    "    temp_df = pd.DataFrame()\n",
    "    temp_df[\"brainRegions\"] = brainRegions.keys()\n",
    "    temp_df[\"basepath\"] = basepath\n",
    "    region_df = pd.concat([region_df, temp_df], ignore_index=True)\n",
    "\n",
    "sessions = region_df[region_df.brainRegions.str.contains(\"PFC|EC1|EC2|EC3|EC4|EC5|MEC\")]\n",
    "df_sessions = pd.DataFrame()\n",
    "df_sessions[\"basepath\"] = sessions.basepath.unique()\n",
    "df_sessions"
   ]
  },
  {
   "cell_type": "code",
   "execution_count": null,
   "metadata": {},
   "outputs": [],
   "source": [
    "save_path = r\"Z:\\home\\ryanh\\projects\\ripple_heterogeneity\\assembly_multi_region_members_pairwise_corrs_v1\"\n",
    "\n",
    "batch_analysis.run(\n",
    "    df_sessions,\n",
    "    save_path,\n",
    "    assembly_multi_region_members_pairwise_corrs.run,\n",
    "    parallel=False,\n",
    "    skip_if_error=False,\n",
    "    verbose=False,\n",
    ")\n",
    "label_df = assembly_multi_region_members_pairwise_corrs.load_results(save_path)"
   ]
  }
 ],
 "metadata": {
  "kernelspec": {
   "display_name": "Python 3.8.10 ('ripple_diversity')",
   "language": "python",
   "name": "python3"
  },
  "language_info": {
   "codemirror_mode": {
    "name": "ipython",
    "version": 3
   },
   "file_extension": ".py",
   "mimetype": "text/x-python",
   "name": "python",
   "nbconvert_exporter": "python",
   "pygments_lexer": "ipython3",
   "version": "3.8.10"
  },
  "orig_nbformat": 4,
  "vscode": {
   "interpreter": {
    "hash": "07484756fddac7bd59393d4118357304c260afb75bd53ff0a49292dc7b401b16"
   }
  }
 },
 "nbformat": 4,
 "nbformat_minor": 2
}
