{
 "cells": [
  {
   "cell_type": "code",
   "execution_count": 1,
   "metadata": {},
   "outputs": [
    {
     "name": "stderr",
     "output_type": "stream",
     "text": [
      "<frozen importlib._bootstrap>:219: RuntimeWarning: scipy._lib.messagestream.MessageStream size changed, may indicate binary incompatibility. Expected 56 from C header, got 64 from PyObject\n"
     ]
    }
   ],
   "source": [
    "%reload_ext autoreload\n",
    "%autoreload 2\n",
    "\n",
    "from ripple_heterogeneity.utils import (\n",
    "    functions,\n",
    "    loading,\n",
    "    batch_analysis,\n",
    "    add_new_deep_sup,\n",
    ")\n",
    "import glob\n",
    "import pickle\n",
    "import nelpy.plotting as npl\n",
    "\n",
    "from ripple_heterogeneity.replay import replay_fig\n",
    "from scipy import stats\n",
    "from ripple_heterogeneity.utils import custom_plots\n",
    "from ripple_heterogeneity.replay import wmaze_replay\n",
    "import pandas as pd\n",
    "import numpy as np\n",
    "import matplotlib.pyplot as plt\n",
    "import seaborn as sns\n",
    "import nelpy as nel\n",
    "# import nelpy.plotting as npl\n",
    "from matplotlib.ticker import AutoMinorLocator\n",
    "import os\n",
    "from scipy import stats\n",
    "from statannot import add_stat_annotation\n",
    "from scipy.ndimage import gaussian_filter1d\n",
    "import warnings\n",
    "functions.set_plotting_defaults()\n",
    "%matplotlib inline\n",
    "%config InlineBackend.figure_format = 'retina'\n",
    "fig_save_path = r'Z:\\home\\ryanh\\projects\\ripple_heterogeneity\\figures\\panels'"
   ]
  },
  {
   "cell_type": "code",
   "execution_count": 2,
   "metadata": {},
   "outputs": [
    {
     "data": {
      "text/html": [
       "<div>\n",
       "<style scoped>\n",
       "    .dataframe tbody tr th:only-of-type {\n",
       "        vertical-align: middle;\n",
       "    }\n",
       "\n",
       "    .dataframe tbody tr th {\n",
       "        vertical-align: top;\n",
       "    }\n",
       "\n",
       "    .dataframe thead th {\n",
       "        text-align: right;\n",
       "    }\n",
       "</style>\n",
       "<table border=\"1\" class=\"dataframe\">\n",
       "  <thead>\n",
       "    <tr style=\"text-align: right;\">\n",
       "      <th></th>\n",
       "      <th>basepath</th>\n",
       "    </tr>\n",
       "  </thead>\n",
       "  <tbody>\n",
       "    <tr>\n",
       "      <th>0</th>\n",
       "      <td>Z:\\Data\\AYAold\\AYA7\\day19</td>\n",
       "    </tr>\n",
       "    <tr>\n",
       "      <th>1</th>\n",
       "      <td>Z:\\Data\\AYAold\\AYA7\\day20</td>\n",
       "    </tr>\n",
       "    <tr>\n",
       "      <th>2</th>\n",
       "      <td>Z:\\Data\\AYAold\\AYA7\\day24</td>\n",
       "    </tr>\n",
       "    <tr>\n",
       "      <th>3</th>\n",
       "      <td>Z:\\Data\\AYAold\\AYA7\\day25</td>\n",
       "    </tr>\n",
       "    <tr>\n",
       "      <th>4</th>\n",
       "      <td>Z:\\Data\\AYAold\\AYA7\\day27</td>\n",
       "    </tr>\n",
       "    <tr>\n",
       "      <th>...</th>\n",
       "      <td>...</td>\n",
       "    </tr>\n",
       "    <tr>\n",
       "      <th>105</th>\n",
       "      <td>Z:\\Data\\FujisawaS\\EE\\EE0705fm</td>\n",
       "    </tr>\n",
       "    <tr>\n",
       "      <th>106</th>\n",
       "      <td>Z:\\Data\\FujisawaS\\EE\\EE0706fm</td>\n",
       "    </tr>\n",
       "    <tr>\n",
       "      <th>107</th>\n",
       "      <td>Z:\\Data\\FujisawaS\\EE\\EE0708fm</td>\n",
       "    </tr>\n",
       "    <tr>\n",
       "      <th>108</th>\n",
       "      <td>Z:\\Data\\HMC1\\day12</td>\n",
       "    </tr>\n",
       "    <tr>\n",
       "      <th>109</th>\n",
       "      <td>Z:\\Data\\HMC1\\day13</td>\n",
       "    </tr>\n",
       "  </tbody>\n",
       "</table>\n",
       "<p>110 rows × 1 columns</p>\n",
       "</div>"
      ],
      "text/plain": [
       "                          basepath\n",
       "0        Z:\\Data\\AYAold\\AYA7\\day19\n",
       "1        Z:\\Data\\AYAold\\AYA7\\day20\n",
       "2        Z:\\Data\\AYAold\\AYA7\\day24\n",
       "3        Z:\\Data\\AYAold\\AYA7\\day25\n",
       "4        Z:\\Data\\AYAold\\AYA7\\day27\n",
       "..                             ...\n",
       "105  Z:\\Data\\FujisawaS\\EE\\EE0705fm\n",
       "106  Z:\\Data\\FujisawaS\\EE\\EE0706fm\n",
       "107  Z:\\Data\\FujisawaS\\EE\\EE0708fm\n",
       "108             Z:\\Data\\HMC1\\day12\n",
       "109             Z:\\Data\\HMC1\\day13\n",
       "\n",
       "[110 rows x 1 columns]"
      ]
     },
     "execution_count": 2,
     "metadata": {},
     "output_type": "execute_result"
    }
   ],
   "source": [
    "df = pd.read_csv(r\"Z:\\home\\ryanh\\projects\\ripple_heterogeneity\\sessions.csv\")\n",
    "\n",
    "region_df = pd.DataFrame()\n",
    "for basepath in df.basepath:\n",
    "    brainRegions = loading.load_brain_regions(basepath)\n",
    "    temp_df = pd.DataFrame()\n",
    "    temp_df[\"brainRegions\"] = brainRegions.keys()\n",
    "    temp_df[\"basepath\"] = basepath\n",
    "    region_df = pd.concat([region_df, temp_df], ignore_index=True)\n",
    "\n",
    "sessions = region_df[region_df.brainRegions.str.contains(\"PFC|EC1|EC2|EC3|EC4|EC5|MEC\")]\n",
    "df_sessions = pd.DataFrame()\n",
    "df_sessions[\"basepath\"] = sessions.basepath.unique()\n",
    "df_sessions"
   ]
  },
  {
   "cell_type": "code",
   "execution_count": null,
   "metadata": {},
   "outputs": [],
   "source": [
    "save_path = (\n",
    "    r\"Z:\\home\\ryanh\\projects\\ripple_heterogeneity\\pairwise_ccgs_v1\"\n",
    "    )\n",
    "\n",
    "batch_analysis.run(\n",
    "    sessions,\n",
    "    save_path,\n",
    "    pairwise_ccgs.run,\n",
    "    parallel=True,\n",
    "    overwrite=False,\n",
    "    verbose=True,\n",
    "    skip_if_error=False,\n",
    "    n_shuffles=None\n",
    ")\n",
    "# load results\n",
    "results = pairwise_ccgs.load_results(save_path)"
   ]
  },
  {
   "cell_type": "code",
   "execution_count": 8,
   "metadata": {},
   "outputs": [],
   "source": [
    "basepath = r\"Z:\\Data\\HMC1\\day13\"\n",
    "brainRegions=\"CA1|PFC|EC1|EC2|EC3|EC4|EC5|MEC\"  # brain regions to include\n",
    "\n",
    "# load in spike data\n",
    "st, cm = loading.load_spikes(\n",
    "    basepath, putativeCellType=\"Pyr\", brainRegion=brainRegions\n",
    ")"
   ]
  },
  {
   "cell_type": "code",
   "execution_count": 9,
   "metadata": {},
   "outputs": [],
   "source": [
    "rip_exp_start=0.2\n",
    "rip_exp_stop=0.2\n",
    "ripples_df = loading.load_ripples_events(basepath)\n",
    "ripples = (\n",
    "    nel.EpochArray(np.array([ripples_df.start, ripples_df.stop]).T)\n",
    "    .expand(rip_exp_start, direction=\"start\")\n",
    "    .expand(rip_exp_stop, direction=\"stop\")\n",
    ")"
   ]
  },
  {
   "cell_type": "code",
   "execution_count": 10,
   "metadata": {},
   "outputs": [],
   "source": [
    "ccgs,pairs = functions.pairwise_cross_corr(st[ripples].data,return_index=True)"
   ]
  },
  {
   "cell_type": "code",
   "execution_count": null,
   "metadata": {},
   "outputs": [],
   "source": []
  }
 ],
 "metadata": {
  "kernelspec": {
   "display_name": "Python 3.8.10 ('ripple_diversity')",
   "language": "python",
   "name": "python3"
  },
  "language_info": {
   "codemirror_mode": {
    "name": "ipython",
    "version": 3
   },
   "file_extension": ".py",
   "mimetype": "text/x-python",
   "name": "python",
   "nbconvert_exporter": "python",
   "pygments_lexer": "ipython3",
   "version": "3.8.10"
  },
  "orig_nbformat": 4,
  "vscode": {
   "interpreter": {
    "hash": "07484756fddac7bd59393d4118357304c260afb75bd53ff0a49292dc7b401b16"
   }
  }
 },
 "nbformat": 4,
 "nbformat_minor": 2
}
